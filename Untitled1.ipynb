{
 "cells": [
  {
   "cell_type": "code",
   "execution_count": 1,
   "metadata": {},
   "outputs": [],
   "source": [
    "import h5py"
   ]
  },
  {
   "cell_type": "code",
   "execution_count": 2,
   "metadata": {},
   "outputs": [],
   "source": [
    "file_name = \"threading_try2.h5\""
   ]
  },
  {
   "cell_type": "code",
   "execution_count": 3,
   "metadata": {},
   "outputs": [],
   "source": [
    "f = h5py.File(file_name, \"a\")"
   ]
  },
  {
   "cell_type": "code",
   "execution_count": 4,
   "metadata": {},
   "outputs": [
    {
     "data": {
      "text/plain": [
       "<KeysViewHDF5 ['session001', 'session002', 'session003', 'session004', 'session005', 'session006', 'session007', 'session008', 'session009', 'session010']>"
      ]
     },
     "execution_count": 4,
     "metadata": {},
     "output_type": "execute_result"
    }
   ],
   "source": [
    "f.keys()"
   ]
  },
  {
   "cell_type": "code",
   "execution_count": 6,
   "metadata": {},
   "outputs": [],
   "source": [
    "def printname(name):\n",
    "    print(name)"
   ]
  },
  {
   "cell_type": "code",
   "execution_count": 7,
   "metadata": {},
   "outputs": [
    {
     "name": "stdout",
     "output_type": "stream",
     "text": [
      "session001\n",
      "session001/cal001\n",
      "session001/cal001/ins001\n",
      "session001/cal001/ins001/derived\n",
      "session001/cal001/ins001/derived/absorbance_depth\n",
      "session001/cal001/ins001/derived/absorbance_depth_timestamps\n",
      "session001/cal001/ins001/derived/force_depth\n",
      "session001/cal001/ins001/derived/force_depth_timestamps\n",
      "session001/cal001/ins001/encoder\n",
      "session001/cal001/ins001/encoder/depths\n",
      "session001/cal001/ins001/encoder/timestamps\n",
      "session001/cal001/ins001/load_cell\n",
      "session001/cal001/ins001/load_cell/forces\n",
      "session001/cal001/ins001/load_cell/timestamps\n",
      "session001/cal001/ins001/spectrometer1\n",
      "session001/cal001/ins001/spectrometer1/derived\n",
      "session001/cal001/ins001/spectrometer1/derived/absorbances\n",
      "session001/cal001/ins001/spectrometer1/spectra\n",
      "session001/cal001/ins001/spectrometer1/timestamps\n",
      "session001/cal001/ins001/spectrometer2\n",
      "session001/cal001/ins001/spectrometer2/adc1s\n",
      "session001/cal001/ins001/spectrometer2/adc2s\n",
      "session001/cal001/ins001/spectrometer2/derived\n",
      "session001/cal001/ins001/spectrometer2/derived/absorbances\n",
      "session001/cal001/ins001/spectrometer2/interferograms\n",
      "session001/cal001/ins001/spectrometer2/opds\n",
      "session001/cal001/ins001/spectrometer2/spectra\n",
      "session001/cal001/ins001/spectrometer2/timestamps\n",
      "session001/cal001/ins001/spectrometer2/wavenums\n",
      "session001/cal001/ins002\n",
      "session001/cal001/ins002/derived\n",
      "session001/cal001/ins002/derived/absorbance_depth\n",
      "session001/cal001/ins002/derived/absorbance_depth_timestamps\n",
      "session001/cal001/ins002/derived/force_depth\n",
      "session001/cal001/ins002/derived/force_depth_timestamps\n",
      "session001/cal001/ins002/encoder\n",
      "session001/cal001/ins002/encoder/depths\n",
      "session001/cal001/ins002/encoder/timestamps\n",
      "session001/cal001/ins002/load_cell\n",
      "session001/cal001/ins002/load_cell/forces\n",
      "session001/cal001/ins002/load_cell/timestamps\n",
      "session001/cal001/ins002/spectrometer1\n",
      "session001/cal001/ins002/spectrometer1/derived\n",
      "session001/cal001/ins002/spectrometer1/derived/absorbances\n",
      "session001/cal001/ins002/spectrometer1/spectra\n",
      "session001/cal001/ins002/spectrometer1/timestamps\n",
      "session001/cal001/ins002/spectrometer2\n",
      "session001/cal001/ins002/spectrometer2/adc1s\n",
      "session001/cal001/ins002/spectrometer2/adc2s\n",
      "session001/cal001/ins002/spectrometer2/derived\n",
      "session001/cal001/ins002/spectrometer2/derived/absorbances\n",
      "session001/cal001/ins002/spectrometer2/interferograms\n",
      "session001/cal001/ins002/spectrometer2/opds\n",
      "session001/cal001/ins002/spectrometer2/spectra\n",
      "session001/cal001/ins002/spectrometer2/timestamps\n",
      "session001/cal001/ins002/spectrometer2/wavenums\n",
      "session002\n",
      "session002/cal001\n",
      "session002/cal001/ins001\n",
      "session002/cal001/ins001/derived\n",
      "session002/cal001/ins001/derived/absorbance_depth\n",
      "session002/cal001/ins001/derived/absorbance_depth_timestamps\n",
      "session002/cal001/ins001/derived/force_depth\n",
      "session002/cal001/ins001/derived/force_depth_timestamps\n",
      "session002/cal001/ins001/encoder\n",
      "session002/cal001/ins001/encoder/depths\n",
      "session002/cal001/ins001/encoder/timestamps\n",
      "session002/cal001/ins001/load_cell\n",
      "session002/cal001/ins001/load_cell/forces\n",
      "session002/cal001/ins001/load_cell/timestamps\n",
      "session002/cal001/ins001/spectrometer1\n",
      "session002/cal001/ins001/spectrometer1/derived\n",
      "session002/cal001/ins001/spectrometer1/derived/absorbances\n",
      "session002/cal001/ins001/spectrometer1/spectra\n",
      "session002/cal001/ins001/spectrometer1/timestamps\n",
      "session002/cal001/ins001/spectrometer2\n",
      "session002/cal001/ins001/spectrometer2/adc1s\n",
      "session002/cal001/ins001/spectrometer2/adc2s\n",
      "session002/cal001/ins001/spectrometer2/derived\n",
      "session002/cal001/ins001/spectrometer2/derived/absorbances\n",
      "session002/cal001/ins001/spectrometer2/interferograms\n",
      "session002/cal001/ins001/spectrometer2/opds\n",
      "session002/cal001/ins001/spectrometer2/spectra\n",
      "session002/cal001/ins001/spectrometer2/timestamps\n",
      "session002/cal001/ins001/spectrometer2/wavenums\n",
      "session003\n",
      "session003/cal001\n",
      "session003/cal001/ins001\n",
      "session003/cal001/ins001/derived\n",
      "session003/cal001/ins001/derived/absorbance_depth\n",
      "session003/cal001/ins001/derived/absorbance_depth_timestamps\n",
      "session003/cal001/ins001/derived/force_depth\n",
      "session003/cal001/ins001/derived/force_depth_timestamps\n",
      "session003/cal001/ins001/encoder\n",
      "session003/cal001/ins001/encoder/depths\n",
      "session003/cal001/ins001/encoder/timestamps\n",
      "session003/cal001/ins001/load_cell\n",
      "session003/cal001/ins001/load_cell/forces\n",
      "session003/cal001/ins001/load_cell/timestamps\n",
      "session003/cal001/ins001/spectrometer1\n",
      "session003/cal001/ins001/spectrometer1/derived\n",
      "session003/cal001/ins001/spectrometer1/derived/absorbances\n",
      "session003/cal001/ins001/spectrometer1/spectra\n",
      "session003/cal001/ins001/spectrometer1/timestamps\n",
      "session003/cal001/ins001/spectrometer2\n",
      "session003/cal001/ins001/spectrometer2/adc1s\n",
      "session003/cal001/ins001/spectrometer2/adc2s\n",
      "session003/cal001/ins001/spectrometer2/derived\n",
      "session003/cal001/ins001/spectrometer2/derived/absorbances\n",
      "session003/cal001/ins001/spectrometer2/interferograms\n",
      "session003/cal001/ins001/spectrometer2/opds\n",
      "session003/cal001/ins001/spectrometer2/spectra\n",
      "session003/cal001/ins001/spectrometer2/timestamps\n",
      "session003/cal001/ins001/spectrometer2/wavenums\n",
      "session003/cal001/ins002\n",
      "session003/cal001/ins002/derived\n",
      "session003/cal001/ins002/derived/absorbance_depth\n",
      "session003/cal001/ins002/derived/absorbance_depth_timestamps\n",
      "session003/cal001/ins002/derived/force_depth\n",
      "session003/cal001/ins002/derived/force_depth_timestamps\n",
      "session003/cal001/ins002/encoder\n",
      "session003/cal001/ins002/encoder/depths\n",
      "session003/cal001/ins002/encoder/timestamps\n",
      "session003/cal001/ins002/load_cell\n",
      "session003/cal001/ins002/load_cell/forces\n",
      "session003/cal001/ins002/load_cell/timestamps\n",
      "session003/cal001/ins002/spectrometer1\n",
      "session003/cal001/ins002/spectrometer1/derived\n",
      "session003/cal001/ins002/spectrometer1/derived/absorbances\n",
      "session003/cal001/ins002/spectrometer1/spectra\n",
      "session003/cal001/ins002/spectrometer1/timestamps\n",
      "session003/cal001/ins002/spectrometer2\n",
      "session003/cal001/ins002/spectrometer2/adc1s\n",
      "session003/cal001/ins002/spectrometer2/adc2s\n",
      "session003/cal001/ins002/spectrometer2/derived\n",
      "session003/cal001/ins002/spectrometer2/derived/absorbances\n",
      "session003/cal001/ins002/spectrometer2/interferograms\n",
      "session003/cal001/ins002/spectrometer2/opds\n",
      "session003/cal001/ins002/spectrometer2/spectra\n",
      "session003/cal001/ins002/spectrometer2/timestamps\n",
      "session003/cal001/ins002/spectrometer2/wavenums\n",
      "session003/cal002\n",
      "session003/cal002/ins003\n",
      "session003/cal002/ins003/derived\n",
      "session003/cal002/ins003/derived/absorbance_depth\n",
      "session003/cal002/ins003/derived/absorbance_depth_timestamps\n",
      "session003/cal002/ins003/derived/force_depth\n",
      "session003/cal002/ins003/derived/force_depth_timestamps\n",
      "session003/cal002/ins003/encoder\n",
      "session003/cal002/ins003/encoder/depths\n",
      "session003/cal002/ins003/encoder/timestamps\n",
      "session003/cal002/ins003/load_cell\n",
      "session003/cal002/ins003/load_cell/forces\n",
      "session003/cal002/ins003/load_cell/timestamps\n",
      "session003/cal002/ins003/spectrometer1\n",
      "session003/cal002/ins003/spectrometer1/derived\n",
      "session003/cal002/ins003/spectrometer1/derived/absorbances\n",
      "session003/cal002/ins003/spectrometer1/spectra\n",
      "session003/cal002/ins003/spectrometer1/timestamps\n",
      "session003/cal002/ins003/spectrometer2\n",
      "session003/cal002/ins003/spectrometer2/adc1s\n",
      "session003/cal002/ins003/spectrometer2/adc2s\n",
      "session003/cal002/ins003/spectrometer2/derived\n",
      "session003/cal002/ins003/spectrometer2/derived/absorbances\n",
      "session003/cal002/ins003/spectrometer2/interferograms\n",
      "session003/cal002/ins003/spectrometer2/opds\n",
      "session003/cal002/ins003/spectrometer2/spectra\n",
      "session003/cal002/ins003/spectrometer2/timestamps\n",
      "session003/cal002/ins003/spectrometer2/wavenums\n",
      "session003/cal002/ins004\n",
      "session003/cal002/ins004/derived\n",
      "session003/cal002/ins004/derived/absorbance_depth\n",
      "session003/cal002/ins004/derived/absorbance_depth_timestamps\n",
      "session003/cal002/ins004/derived/force_depth\n",
      "session003/cal002/ins004/derived/force_depth_timestamps\n",
      "session003/cal002/ins004/encoder\n",
      "session003/cal002/ins004/encoder/depths\n",
      "session003/cal002/ins004/encoder/timestamps\n",
      "session003/cal002/ins004/load_cell\n",
      "session003/cal002/ins004/load_cell/forces\n",
      "session003/cal002/ins004/load_cell/timestamps\n",
      "session003/cal002/ins004/spectrometer1\n",
      "session003/cal002/ins004/spectrometer1/derived\n",
      "session003/cal002/ins004/spectrometer1/derived/absorbances\n",
      "session003/cal002/ins004/spectrometer1/spectra\n",
      "session003/cal002/ins004/spectrometer1/timestamps\n",
      "session003/cal002/ins004/spectrometer2\n",
      "session003/cal002/ins004/spectrometer2/adc1s\n",
      "session003/cal002/ins004/spectrometer2/adc2s\n",
      "session003/cal002/ins004/spectrometer2/derived\n",
      "session003/cal002/ins004/spectrometer2/derived/absorbances\n",
      "session003/cal002/ins004/spectrometer2/interferograms\n",
      "session003/cal002/ins004/spectrometer2/opds\n",
      "session003/cal002/ins004/spectrometer2/spectra\n",
      "session003/cal002/ins004/spectrometer2/timestamps\n",
      "session003/cal002/ins004/spectrometer2/wavenums\n",
      "session004\n",
      "session004/cal001\n",
      "session004/cal002\n",
      "session004/cal002/ins001\n",
      "session004/cal002/ins001/derived\n",
      "session004/cal002/ins001/derived/absorbance_depth\n",
      "session004/cal002/ins001/derived/absorbance_depth_timestamps\n",
      "session004/cal002/ins001/derived/force_depth\n",
      "session004/cal002/ins001/derived/force_depth_timestamps\n",
      "session004/cal002/ins001/encoder\n",
      "session004/cal002/ins001/encoder/depths\n",
      "session004/cal002/ins001/encoder/timestamps\n",
      "session004/cal002/ins001/load_cell\n",
      "session004/cal002/ins001/load_cell/forces\n",
      "session004/cal002/ins001/load_cell/timestamps\n",
      "session004/cal002/ins001/spectrometer1\n",
      "session004/cal002/ins001/spectrometer1/derived\n",
      "session004/cal002/ins001/spectrometer1/derived/absorbances\n",
      "session004/cal002/ins001/spectrometer1/spectra\n",
      "session004/cal002/ins001/spectrometer1/timestamps\n",
      "session004/cal002/ins001/spectrometer2\n",
      "session004/cal002/ins001/spectrometer2/adc1s\n",
      "session004/cal002/ins001/spectrometer2/adc2s\n",
      "session004/cal002/ins001/spectrometer2/derived\n",
      "session004/cal002/ins001/spectrometer2/derived/absorbances\n",
      "session004/cal002/ins001/spectrometer2/interferograms\n",
      "session004/cal002/ins001/spectrometer2/opds\n",
      "session004/cal002/ins001/spectrometer2/spectra\n",
      "session004/cal002/ins001/spectrometer2/timestamps\n",
      "session004/cal002/ins001/spectrometer2/wavenums\n",
      "session004/cal002/ins002\n",
      "session004/cal002/ins002/derived\n",
      "session004/cal002/ins002/derived/absorbance_depth\n",
      "session004/cal002/ins002/derived/absorbance_depth_timestamps\n",
      "session004/cal002/ins002/derived/force_depth\n",
      "session004/cal002/ins002/derived/force_depth_timestamps\n",
      "session004/cal002/ins002/encoder\n",
      "session004/cal002/ins002/encoder/depths\n",
      "session004/cal002/ins002/encoder/timestamps\n",
      "session004/cal002/ins002/load_cell\n",
      "session004/cal002/ins002/load_cell/forces\n",
      "session004/cal002/ins002/load_cell/timestamps\n",
      "session004/cal002/ins002/spectrometer1\n",
      "session004/cal002/ins002/spectrometer1/derived\n",
      "session004/cal002/ins002/spectrometer1/derived/absorbances\n",
      "session004/cal002/ins002/spectrometer1/spectra\n",
      "session004/cal002/ins002/spectrometer1/timestamps\n",
      "session004/cal002/ins002/spectrometer2\n",
      "session004/cal002/ins002/spectrometer2/adc1s\n",
      "session004/cal002/ins002/spectrometer2/adc2s\n",
      "session004/cal002/ins002/spectrometer2/derived\n",
      "session004/cal002/ins002/spectrometer2/derived/absorbances\n",
      "session004/cal002/ins002/spectrometer2/interferograms\n",
      "session004/cal002/ins002/spectrometer2/opds\n",
      "session004/cal002/ins002/spectrometer2/spectra\n",
      "session004/cal002/ins002/spectrometer2/timestamps\n",
      "session004/cal002/ins002/spectrometer2/wavenums\n",
      "session005\n",
      "session005/cal001\n",
      "session006\n",
      "session006/cal001\n",
      "session006/cal001/ins001\n",
      "session006/cal001/ins001/derived\n",
      "session006/cal001/ins001/derived/absorbance_depth\n",
      "session006/cal001/ins001/derived/absorbance_depth_timestamps\n",
      "session006/cal001/ins001/derived/force_depth\n",
      "session006/cal001/ins001/derived/force_depth_timestamps\n",
      "session006/cal001/ins001/encoder\n",
      "session006/cal001/ins001/encoder/depths\n",
      "session006/cal001/ins001/encoder/timestamps\n",
      "session006/cal001/ins001/load_cell\n",
      "session006/cal001/ins001/load_cell/forces\n",
      "session006/cal001/ins001/load_cell/timestamps\n",
      "session006/cal001/ins001/spectrometer1\n",
      "session006/cal001/ins001/spectrometer1/derived\n",
      "session006/cal001/ins001/spectrometer1/derived/absorbances\n",
      "session006/cal001/ins001/spectrometer1/spectra\n",
      "session006/cal001/ins001/spectrometer1/timestamps\n",
      "session006/cal001/ins001/spectrometer2\n",
      "session006/cal001/ins001/spectrometer2/adc1s\n",
      "session006/cal001/ins001/spectrometer2/adc2s\n",
      "session006/cal001/ins001/spectrometer2/derived\n",
      "session006/cal001/ins001/spectrometer2/derived/absorbances\n",
      "session006/cal001/ins001/spectrometer2/interferograms\n",
      "session006/cal001/ins001/spectrometer2/opds\n",
      "session006/cal001/ins001/spectrometer2/spectra\n",
      "session006/cal001/ins001/spectrometer2/timestamps\n",
      "session006/cal001/ins001/spectrometer2/wavenums\n",
      "session006/cal001/ins002\n",
      "session006/cal001/ins002/derived\n",
      "session006/cal001/ins002/derived/absorbance_depth\n",
      "session006/cal001/ins002/derived/absorbance_depth_timestamps\n",
      "session006/cal001/ins002/derived/force_depth\n",
      "session006/cal001/ins002/derived/force_depth_timestamps\n",
      "session006/cal001/ins002/encoder\n",
      "session006/cal001/ins002/encoder/depths\n",
      "session006/cal001/ins002/encoder/timestamps\n",
      "session006/cal001/ins002/load_cell\n",
      "session006/cal001/ins002/load_cell/forces\n",
      "session006/cal001/ins002/load_cell/timestamps\n",
      "session006/cal001/ins002/spectrometer1\n",
      "session006/cal001/ins002/spectrometer1/derived\n",
      "session006/cal001/ins002/spectrometer1/derived/absorbances\n",
      "session006/cal001/ins002/spectrometer1/spectra\n",
      "session006/cal001/ins002/spectrometer1/timestamps\n",
      "session006/cal001/ins002/spectrometer2\n",
      "session006/cal001/ins002/spectrometer2/adc1s\n",
      "session006/cal001/ins002/spectrometer2/adc2s\n",
      "session006/cal001/ins002/spectrometer2/derived\n",
      "session006/cal001/ins002/spectrometer2/derived/absorbances\n",
      "session006/cal001/ins002/spectrometer2/interferograms\n",
      "session006/cal001/ins002/spectrometer2/opds\n",
      "session006/cal001/ins002/spectrometer2/spectra\n",
      "session006/cal001/ins002/spectrometer2/timestamps\n",
      "session006/cal001/ins002/spectrometer2/wavenums\n",
      "session007\n",
      "session007/cal001\n",
      "session007/cal001/ins001\n",
      "session007/cal001/ins001/derived\n",
      "session007/cal001/ins001/derived/absorbance_depth\n",
      "session007/cal001/ins001/derived/absorbance_depth_timestamps\n",
      "session007/cal001/ins001/derived/force_depth\n",
      "session007/cal001/ins001/derived/force_depth_timestamps\n",
      "session007/cal001/ins001/encoder\n",
      "session007/cal001/ins001/encoder/depths\n",
      "session007/cal001/ins001/encoder/timestamps\n",
      "session007/cal001/ins001/load_cell\n",
      "session007/cal001/ins001/load_cell/forces\n",
      "session007/cal001/ins001/load_cell/timestamps\n",
      "session007/cal001/ins001/spectrometer1\n",
      "session007/cal001/ins001/spectrometer1/derived\n",
      "session007/cal001/ins001/spectrometer1/derived/absorbances\n",
      "session007/cal001/ins001/spectrometer1/spectra\n",
      "session007/cal001/ins001/spectrometer1/timestamps\n",
      "session007/cal001/ins001/spectrometer2\n",
      "session007/cal001/ins001/spectrometer2/adc1s\n",
      "session007/cal001/ins001/spectrometer2/adc2s\n",
      "session007/cal001/ins001/spectrometer2/derived\n",
      "session007/cal001/ins001/spectrometer2/derived/absorbances\n",
      "session007/cal001/ins001/spectrometer2/interferograms\n",
      "session007/cal001/ins001/spectrometer2/opds\n",
      "session007/cal001/ins001/spectrometer2/spectra\n",
      "session007/cal001/ins001/spectrometer2/timestamps\n",
      "session007/cal001/ins001/spectrometer2/wavenums\n",
      "session007/cal001/ins002\n",
      "session007/cal001/ins002/derived\n",
      "session007/cal001/ins002/derived/absorbance_depth\n",
      "session007/cal001/ins002/derived/absorbance_depth_timestamps\n",
      "session007/cal001/ins002/derived/force_depth\n",
      "session007/cal001/ins002/derived/force_depth_timestamps\n",
      "session007/cal001/ins002/encoder\n",
      "session007/cal001/ins002/encoder/depths\n",
      "session007/cal001/ins002/encoder/timestamps\n",
      "session007/cal001/ins002/load_cell\n",
      "session007/cal001/ins002/load_cell/forces\n",
      "session007/cal001/ins002/load_cell/timestamps\n",
      "session007/cal001/ins002/spectrometer1\n",
      "session007/cal001/ins002/spectrometer1/derived\n",
      "session007/cal001/ins002/spectrometer1/derived/absorbances\n",
      "session007/cal001/ins002/spectrometer1/spectra\n",
      "session007/cal001/ins002/spectrometer1/timestamps\n",
      "session007/cal001/ins002/spectrometer2\n",
      "session007/cal001/ins002/spectrometer2/adc1s\n",
      "session007/cal001/ins002/spectrometer2/adc2s\n",
      "session007/cal001/ins002/spectrometer2/derived\n",
      "session007/cal001/ins002/spectrometer2/derived/absorbances\n",
      "session007/cal001/ins002/spectrometer2/interferograms\n",
      "session007/cal001/ins002/spectrometer2/opds\n",
      "session007/cal001/ins002/spectrometer2/spectra\n",
      "session007/cal001/ins002/spectrometer2/timestamps\n",
      "session007/cal001/ins002/spectrometer2/wavenums\n",
      "session008\n",
      "session008/cal001\n",
      "session008/cal001/ins001\n",
      "session008/cal001/ins001/derived\n",
      "session008/cal001/ins001/derived/absorbance_depth\n",
      "session008/cal001/ins001/derived/absorbance_depth_timestamps\n",
      "session008/cal001/ins001/derived/force_depth\n",
      "session008/cal001/ins001/derived/force_depth_timestamps\n",
      "session008/cal001/ins001/encoder\n",
      "session008/cal001/ins001/encoder/depths\n",
      "session008/cal001/ins001/encoder/timestamps\n",
      "session008/cal001/ins001/load_cell\n",
      "session008/cal001/ins001/load_cell/forces\n",
      "session008/cal001/ins001/load_cell/timestamps\n",
      "session008/cal001/ins001/spectrometer1\n",
      "session008/cal001/ins001/spectrometer1/derived\n",
      "session008/cal001/ins001/spectrometer1/derived/absorbances\n",
      "session008/cal001/ins001/spectrometer1/spectra\n",
      "session008/cal001/ins001/spectrometer1/timestamps\n",
      "session008/cal001/ins001/spectrometer2\n",
      "session008/cal001/ins001/spectrometer2/adc1s\n",
      "session008/cal001/ins001/spectrometer2/adc2s\n",
      "session008/cal001/ins001/spectrometer2/derived\n",
      "session008/cal001/ins001/spectrometer2/derived/absorbances\n",
      "session008/cal001/ins001/spectrometer2/interferograms\n",
      "session008/cal001/ins001/spectrometer2/opds\n",
      "session008/cal001/ins001/spectrometer2/spectra\n",
      "session008/cal001/ins001/spectrometer2/timestamps\n",
      "session008/cal001/ins001/spectrometer2/wavenums\n",
      "session009\n",
      "session009/cal001\n",
      "session009/cal001/ins001\n",
      "session009/cal001/ins001/derived\n",
      "session009/cal001/ins001/derived/absorbance_depth\n",
      "session009/cal001/ins001/derived/absorbance_depth_timestamps\n",
      "session009/cal001/ins001/derived/force_depth\n",
      "session009/cal001/ins001/derived/force_depth_timestamps\n",
      "session009/cal001/ins001/encoder\n",
      "session009/cal001/ins001/encoder/depths\n",
      "session009/cal001/ins001/encoder/timestamps\n",
      "session009/cal001/ins001/load_cell\n",
      "session009/cal001/ins001/load_cell/forces\n",
      "session009/cal001/ins001/load_cell/timestamps\n",
      "session009/cal001/ins001/spectrometer1\n",
      "session009/cal001/ins001/spectrometer1/derived\n",
      "session009/cal001/ins001/spectrometer1/derived/absorbances\n",
      "session009/cal001/ins001/spectrometer1/spectra\n",
      "session009/cal001/ins001/spectrometer1/timestamps\n",
      "session009/cal001/ins001/spectrometer2\n",
      "session009/cal001/ins001/spectrometer2/adc1s\n",
      "session009/cal001/ins001/spectrometer2/adc2s\n",
      "session009/cal001/ins001/spectrometer2/derived\n",
      "session009/cal001/ins001/spectrometer2/derived/absorbances\n",
      "session009/cal001/ins001/spectrometer2/interferograms\n",
      "session009/cal001/ins001/spectrometer2/opds\n",
      "session009/cal001/ins001/spectrometer2/spectra\n",
      "session009/cal001/ins001/spectrometer2/timestamps\n",
      "session009/cal001/ins001/spectrometer2/wavenums\n",
      "session010\n",
      "session010/cal001\n",
      "session010/cal001/ins001\n",
      "session010/cal001/ins001/derived\n",
      "session010/cal001/ins001/derived/absorbance_depth\n",
      "session010/cal001/ins001/derived/absorbance_depth_timestamps\n",
      "session010/cal001/ins001/derived/force_depth\n",
      "session010/cal001/ins001/derived/force_depth_timestamps\n",
      "session010/cal001/ins001/encoder\n",
      "session010/cal001/ins001/encoder/depths\n",
      "session010/cal001/ins001/encoder/timestamps\n",
      "session010/cal001/ins001/load_cell\n",
      "session010/cal001/ins001/load_cell/forces\n",
      "session010/cal001/ins001/load_cell/timestamps\n",
      "session010/cal001/ins001/spectrometer1\n",
      "session010/cal001/ins001/spectrometer1/derived\n",
      "session010/cal001/ins001/spectrometer1/derived/absorbances\n",
      "session010/cal001/ins001/spectrometer1/spectra\n",
      "session010/cal001/ins001/spectrometer1/timestamps\n",
      "session010/cal001/ins001/spectrometer2\n",
      "session010/cal001/ins001/spectrometer2/adc1s\n",
      "session010/cal001/ins001/spectrometer2/adc2s\n",
      "session010/cal001/ins001/spectrometer2/derived\n",
      "session010/cal001/ins001/spectrometer2/derived/absorbances\n",
      "session010/cal001/ins001/spectrometer2/interferograms\n",
      "session010/cal001/ins001/spectrometer2/opds\n",
      "session010/cal001/ins001/spectrometer2/spectra\n",
      "session010/cal001/ins001/spectrometer2/timestamps\n",
      "session010/cal001/ins001/spectrometer2/wavenums\n",
      "session010/cal001/ins002\n",
      "session010/cal001/ins002/derived\n",
      "session010/cal001/ins002/derived/absorbance_depth\n",
      "session010/cal001/ins002/derived/absorbance_depth_timestamps\n",
      "session010/cal001/ins002/derived/force_depth\n",
      "session010/cal001/ins002/derived/force_depth_timestamps\n",
      "session010/cal001/ins002/encoder\n",
      "session010/cal001/ins002/encoder/depths\n",
      "session010/cal001/ins002/encoder/timestamps\n",
      "session010/cal001/ins002/load_cell\n",
      "session010/cal001/ins002/load_cell/forces\n",
      "session010/cal001/ins002/load_cell/timestamps\n",
      "session010/cal001/ins002/spectrometer1\n",
      "session010/cal001/ins002/spectrometer1/derived\n",
      "session010/cal001/ins002/spectrometer1/derived/absorbances\n",
      "session010/cal001/ins002/spectrometer1/spectra\n",
      "session010/cal001/ins002/spectrometer1/timestamps\n",
      "session010/cal001/ins002/spectrometer2\n",
      "session010/cal001/ins002/spectrometer2/adc1s\n",
      "session010/cal001/ins002/spectrometer2/adc2s\n",
      "session010/cal001/ins002/spectrometer2/derived\n",
      "session010/cal001/ins002/spectrometer2/derived/absorbances\n",
      "session010/cal001/ins002/spectrometer2/interferograms\n",
      "session010/cal001/ins002/spectrometer2/opds\n",
      "session010/cal001/ins002/spectrometer2/spectra\n",
      "session010/cal001/ins002/spectrometer2/timestamps\n",
      "session010/cal001/ins002/spectrometer2/wavenums\n",
      "session010/cal001/ins003\n",
      "session010/cal001/ins003/derived\n",
      "session010/cal001/ins003/derived/absorbance_depth\n",
      "session010/cal001/ins003/derived/absorbance_depth_timestamps\n",
      "session010/cal001/ins003/derived/force_depth\n",
      "session010/cal001/ins003/derived/force_depth_timestamps\n",
      "session010/cal001/ins003/encoder\n",
      "session010/cal001/ins003/encoder/depths\n",
      "session010/cal001/ins003/encoder/timestamps\n",
      "session010/cal001/ins003/load_cell\n",
      "session010/cal001/ins003/load_cell/forces\n",
      "session010/cal001/ins003/load_cell/timestamps\n",
      "session010/cal001/ins003/spectrometer1\n",
      "session010/cal001/ins003/spectrometer1/derived\n",
      "session010/cal001/ins003/spectrometer1/derived/absorbances\n",
      "session010/cal001/ins003/spectrometer1/spectra\n",
      "session010/cal001/ins003/spectrometer1/timestamps\n",
      "session010/cal001/ins003/spectrometer2\n",
      "session010/cal001/ins003/spectrometer2/adc1s\n",
      "session010/cal001/ins003/spectrometer2/adc2s\n",
      "session010/cal001/ins003/spectrometer2/derived\n",
      "session010/cal001/ins003/spectrometer2/derived/absorbances\n",
      "session010/cal001/ins003/spectrometer2/interferograms\n",
      "session010/cal001/ins003/spectrometer2/opds\n",
      "session010/cal001/ins003/spectrometer2/spectra\n",
      "session010/cal001/ins003/spectrometer2/timestamps\n",
      "session010/cal001/ins003/spectrometer2/wavenums\n"
     ]
    }
   ],
   "source": [
    "f.visit(printname)"
   ]
  },
  {
   "cell_type": "code",
   "execution_count": 10,
   "metadata": {},
   "outputs": [
    {
     "data": {
      "text/plain": [
       "<KeysViewHDF5 ['ins001', 'ins002', 'ins003']>"
      ]
     },
     "execution_count": 10,
     "metadata": {},
     "output_type": "execute_result"
    }
   ],
   "source": [
    "grp = \"session010/cal001\"\n",
    "f[grp].keys()"
   ]
  },
  {
   "cell_type": "code",
   "execution_count": 11,
   "metadata": {},
   "outputs": [],
   "source": [
    "def print_first_data(dset):\n",
    "    print(dset[0])"
   ]
  },
  {
   "cell_type": "code",
   "execution_count": 12,
   "metadata": {},
   "outputs": [],
   "source": [
    "grp = \"session010/cal001/ins001/encoder\""
   ]
  },
  {
   "cell_type": "code",
   "execution_count": 15,
   "metadata": {},
   "outputs": [
    {
     "name": "stdout",
     "output_type": "stream",
     "text": [
      "depths\n",
      "timestamps\n"
     ]
    }
   ],
   "source": [
    "f[grp].visit(printname)"
   ]
  },
  {
   "cell_type": "code",
   "execution_count": 25,
   "metadata": {},
   "outputs": [],
   "source": [
    "def print_data(name, dset):\n",
    "    print(name, dset[0])"
   ]
  },
  {
   "cell_type": "code",
   "execution_count": 26,
   "metadata": {},
   "outputs": [
    {
     "name": "stdout",
     "output_type": "stream",
     "text": [
      "depths 0.23329872864734177\n",
      "timestamps 1614938506977422\n"
     ]
    }
   ],
   "source": [
    "f[grp].visititems(print_data)"
   ]
  },
  {
   "cell_type": "code",
   "execution_count": 21,
   "metadata": {},
   "outputs": [
    {
     "data": {
      "text/plain": [
       "0.23329872864734177"
      ]
     },
     "execution_count": 21,
     "metadata": {},
     "output_type": "execute_result"
    }
   ],
   "source": [
    "f['session010/cal001/ins001/encoder/depths'][0]"
   ]
  },
  {
   "cell_type": "code",
   "execution_count": 27,
   "metadata": {},
   "outputs": [],
   "source": [
    "depths = f['session010/cal001/ins001/encoder/depths']"
   ]
  },
  {
   "cell_type": "code",
   "execution_count": 28,
   "metadata": {},
   "outputs": [
    {
     "data": {
      "text/plain": [
       "93"
      ]
     },
     "execution_count": 28,
     "metadata": {},
     "output_type": "execute_result"
    }
   ],
   "source": [
    "len(depths)"
   ]
  },
  {
   "cell_type": "code",
   "execution_count": 29,
   "metadata": {},
   "outputs": [
    {
     "data": {
      "text/plain": [
       "h5py._hl.dataset.Dataset"
      ]
     },
     "execution_count": 29,
     "metadata": {},
     "output_type": "execute_result"
    }
   ],
   "source": [
    "type(depths)"
   ]
  },
  {
   "cell_type": "code",
   "execution_count": 30,
   "metadata": {},
   "outputs": [
    {
     "data": {
      "text/plain": [
       "(93,)"
      ]
     },
     "execution_count": 30,
     "metadata": {},
     "output_type": "execute_result"
    }
   ],
   "source": [
    "depths.shape"
   ]
  },
  {
   "cell_type": "code",
   "execution_count": 31,
   "metadata": {},
   "outputs": [
    {
     "data": {
      "text/plain": [
       "dtype('<f8')"
      ]
     },
     "execution_count": 31,
     "metadata": {},
     "output_type": "execute_result"
    }
   ],
   "source": [
    "depths.dtype"
   ]
  },
  {
   "cell_type": "code",
   "execution_count": 32,
   "metadata": {},
   "outputs": [
    {
     "data": {
      "text/plain": [
       "93"
      ]
     },
     "execution_count": 32,
     "metadata": {},
     "output_type": "execute_result"
    }
   ],
   "source": [
    "depths.size"
   ]
  },
  {
   "cell_type": "code",
   "execution_count": 33,
   "metadata": {},
   "outputs": [
    {
     "data": {
      "text/plain": [
       "'/session010/cal001/ins001/encoder/depths'"
      ]
     },
     "execution_count": 33,
     "metadata": {},
     "output_type": "execute_result"
    }
   ],
   "source": [
    "depths.name"
   ]
  },
  {
   "cell_type": "code",
   "execution_count": 34,
   "metadata": {},
   "outputs": [
    {
     "data": {
      "text/plain": [
       "<HDF5 group \"/session010/cal001/ins001/encoder\" (2 members)>"
      ]
     },
     "execution_count": 34,
     "metadata": {},
     "output_type": "execute_result"
    }
   ],
   "source": [
    "depths.parent"
   ]
  },
  {
   "cell_type": "code",
   "execution_count": 35,
   "metadata": {},
   "outputs": [
    {
     "data": {
      "text/plain": [
       "<KeysViewHDF5 ['session001', 'session002', 'session003', 'session004', 'session005', 'session006', 'session007', 'session008', 'session009', 'session010']>"
      ]
     },
     "execution_count": 35,
     "metadata": {},
     "output_type": "execute_result"
    }
   ],
   "source": [
    "f.keys()"
   ]
  },
  {
   "cell_type": "code",
   "execution_count": 38,
   "metadata": {},
   "outputs": [],
   "source": [
    "for key in f.keys():\n",
    "    f[key].keys()"
   ]
  },
  {
   "cell_type": "code",
   "execution_count": 39,
   "metadata": {},
   "outputs": [
    {
     "data": {
      "text/plain": [
       "<KeysViewHDF5 ['cal001']>"
      ]
     },
     "execution_count": 39,
     "metadata": {},
     "output_type": "execute_result"
    }
   ],
   "source": [
    "f['session001'].keys()"
   ]
  },
  {
   "cell_type": "code",
   "execution_count": 51,
   "metadata": {},
   "outputs": [
    {
     "name": "stdout",
     "output_type": "stream",
     "text": [
      "session001/cal001/ins001 0.060149096256498474\n",
      "session001/cal001/ins002 0.18484994987654144\n",
      "session002/cal001/ins001 0.027899731502916095\n",
      "session003/cal001/ins001 0.10160464046488529\n",
      "session003/cal001/ins002 0.29053970804428414\n",
      "session003/cal002/ins001\n",
      "session003/cal002/ins002\n",
      "session004/cal002/ins001 0.005069536381961593\n",
      "session004/cal002/ins002 0.09077845001658212\n",
      "session006/cal001/ins001 0.3489809207267089\n",
      "session006/cal001/ins002 0.1718023431062622\n",
      "session007/cal001/ins001 0.3250713441457467\n",
      "session007/cal001/ins002 0.23863872269236955\n",
      "session008/cal001/ins001 0.0959046589445102\n",
      "session009/cal001/ins001 0.12851032973321105\n",
      "session010/cal001/ins001 0.23329872864734177\n",
      "session010/cal001/ins002 0.1238900851340607\n",
      "session010/cal001/ins003 0.27103628473358166\n"
     ]
    }
   ],
   "source": [
    "for i in range(len(f.keys())):\n",
    "    session = f\"session{i+1:03d}\"\n",
    "    # print(f[session].keys())\n",
    "    for j in range(len(f[session].keys())):\n",
    "        cal = f\"{session}/cal{j+1:03d}\"\n",
    "        # print(cal)\n",
    "        for k in range(len(f[cal].keys())):\n",
    "            ins = f\"{cal}/ins{k+1:03d}\"\n",
    "            # print(ins)\n",
    "            first_depth = f\"{ins}/encoder/depths\"\n",
    "            try: \n",
    "                print(ins, f[first_depth][0])\n",
    "            except:\n",
    "                print(ins)"
   ]
  },
  {
   "cell_type": "code",
   "execution_count": 52,
   "metadata": {},
   "outputs": [],
   "source": [
    "depths = f[\"session001/cal001/ins001/encoder/depths\"][:]\n",
    "timestamps = f[\"session001/cal001/ins001/encoder/timestamps\"][:]\n"
   ]
  },
  {
   "cell_type": "code",
   "execution_count": 54,
   "metadata": {},
   "outputs": [
    {
     "data": {
      "text/plain": [
       "41.2645470286664"
      ]
     },
     "execution_count": 54,
     "metadata": {},
     "output_type": "execute_result"
    }
   ],
   "source": [
    "depths[-1,]"
   ]
  },
  {
   "cell_type": "code",
   "execution_count": 57,
   "metadata": {},
   "outputs": [
    {
     "name": "stdout",
     "output_type": "stream",
     "text": [
      "0 2021-03-04T12:07:27.236879 0.060149096256498474\n",
      "1 2021-03-04T12:07:27.338185 0.08834153409386057\n",
      "2 2021-03-04T12:07:27.438951 0.43877765349505526\n",
      "3 2021-03-04T12:07:27.539614 0.49197342551399326\n",
      "4 2021-03-04T12:07:27.640718 0.8515605474561178\n",
      "5 2021-03-04T12:07:27.741453 0.8517186248805534\n",
      "6 2021-03-04T12:07:27.842181 1.069991992410848\n",
      "7 2021-03-04T12:07:27.943052 1.4583652987266946\n",
      "8 2021-03-04T12:07:28.043836 1.5576221337268825\n",
      "9 2021-03-04T12:07:28.144537 1.7316593586887805\n",
      "10 2021-03-04T12:07:28.245201 1.7658015158322278\n",
      "11 2021-03-04T12:07:28.346134 1.83114856632531\n",
      "12 2021-03-04T12:07:28.447044 1.9518382276208632\n",
      "13 2021-03-04T12:07:28.547764 2.211205218309554\n",
      "14 2021-03-04T12:07:28.648650 2.396628194797776\n",
      "15 2021-03-04T12:07:28.749336 2.4217482915334814\n",
      "16 2021-03-04T12:07:28.850075 2.6398422712197576\n",
      "17 2021-03-04T12:07:28.950939 3.0052400010153555\n",
      "18 2021-03-04T12:07:29.051676 3.2153843512007545\n",
      "19 2021-03-04T12:07:29.152573 3.6019202260328633\n",
      "20 2021-03-04T12:07:29.253349 3.8146740309181664\n",
      "21 2021-03-04T12:07:29.354338 3.859201584542754\n",
      "22 2021-03-04T12:07:29.454531 4.068206351431022\n",
      "23 2021-03-04T12:07:29.554816 4.3146285284258745\n",
      "24 2021-03-04T12:07:29.655938 4.395511936078103\n",
      "25 2021-03-04T12:07:29.757078 4.509871159781336\n",
      "26 2021-03-04T12:07:29.858141 4.510540685800419\n",
      "27 2021-03-04T12:07:29.958811 4.706685560937522\n",
      "28 2021-03-04T12:07:30.059497 4.908703935915393\n",
      "29 2021-03-04T12:07:30.160161 5.135176784860482\n",
      "30 2021-03-04T12:07:30.260825 5.398367629656024\n",
      "31 2021-03-04T12:07:30.361740 5.496261824639864\n",
      "32 2021-03-04T12:07:30.462559 5.73816083928824\n",
      "33 2021-03-04T12:07:30.563226 5.769396770391596\n",
      "34 2021-03-04T12:07:30.663886 5.828925903916339\n",
      "35 2021-03-04T12:07:30.764552 6.062976277868618\n",
      "36 2021-03-04T12:07:30.865214 6.30487599068342\n",
      "37 2021-03-04T12:07:30.966158 6.6513857685505045\n",
      "38 2021-03-04T12:07:31.067063 7.02615410811052\n",
      "39 2021-03-04T12:07:31.167780 7.30038747601673\n",
      "40 2021-03-04T12:07:31.268739 7.354855351265321\n",
      "41 2021-03-04T12:07:31.369472 7.614110263234397\n",
      "42 2021-03-04T12:07:31.470149 7.770883357802116\n",
      "43 2021-03-04T12:07:31.570841 7.979065590670181\n",
      "44 2021-03-04T12:07:31.671505 8.275364575005934\n",
      "45 2021-03-04T12:07:31.772169 8.278040773802486\n",
      "46 2021-03-04T12:07:31.872832 8.652039778136775\n",
      "47 2021-03-04T12:07:31.973590 8.910381726666253\n",
      "48 2021-03-04T12:07:32.074315 9.242959123527653\n",
      "49 2021-03-04T12:07:32.175065 9.506909961370875\n",
      "50 2021-03-04T12:07:32.276065 9.531512457047217\n",
      "51 2021-03-04T12:07:32.377042 9.877284914380065\n",
      "52 2021-03-04T12:07:32.477794 9.966624395585278\n",
      "53 2021-03-04T12:07:32.578904 10.320863154121119\n",
      "54 2021-03-04T12:07:32.679605 10.32924444201386\n",
      "55 2021-03-04T12:07:32.780343 10.68732526234848\n",
      "56 2021-03-04T12:07:32.881168 11.059040648364398\n",
      "57 2021-03-04T12:07:32.981831 11.433554660062134\n",
      "58 2021-03-04T12:07:33.082495 11.815945071720897\n",
      "59 2021-03-04T12:07:33.183236 12.086981960431645\n",
      "60 2021-03-04T12:07:33.284139 12.22695790251049\n",
      "61 2021-03-04T12:07:33.385095 12.30408442651288\n",
      "62 2021-03-04T12:07:33.485952 12.478683108199306\n",
      "63 2021-03-04T12:07:33.586899 12.58206502421179\n",
      "64 2021-03-04T12:07:33.687718 12.90811463928317\n",
      "65 2021-03-04T12:07:33.788382 13.003270423041286\n",
      "66 2021-03-04T12:07:33.889046 13.190363274903474\n",
      "67 2021-03-04T12:07:33.989890 13.279883581343848\n",
      "68 2021-03-04T12:07:34.090990 13.613150258542879\n",
      "69 2021-03-04T12:07:34.191143 13.78188847738221\n",
      "70 2021-03-04T12:07:34.291805 13.823088548708341\n",
      "71 2021-03-04T12:07:34.392743 14.18801992205808\n",
      "72 2021-03-04T12:07:34.493608 14.50323464372194\n",
      "73 2021-03-04T12:07:34.594607 14.780992784451575\n",
      "74 2021-03-04T12:07:34.695527 15.000085164809484\n",
      "75 2021-03-04T12:07:34.796191 15.204406757171823\n",
      "76 2021-03-04T12:07:34.896970 15.217004819689706\n",
      "77 2021-03-04T12:07:34.997731 15.568462776849218\n",
      "78 2021-03-04T12:07:35.098620 15.919607645666781\n",
      "79 2021-03-04T12:07:35.199354 16.04557056816391\n",
      "80 2021-03-04T12:07:35.300074 16.274949519549946\n",
      "81 2021-03-04T12:07:35.400900 16.610471457149114\n",
      "82 2021-03-04T12:07:35.501771 16.84845963970067\n",
      "83 2021-03-04T12:07:35.602694 17.05708011503969\n",
      "84 2021-03-04T12:07:35.702949 17.265080685670394\n",
      "85 2021-03-04T12:07:35.803613 17.281469870789703\n",
      "86 2021-03-04T12:07:35.904594 17.429205579192615\n",
      "87 2021-03-04T12:07:36.005578 17.649738369563586\n",
      "88 2021-03-04T12:07:36.106399 17.980999479565238\n",
      "89 2021-03-04T12:07:36.207184 18.295549214508124\n",
      "90 2021-03-04T12:07:36.307987 18.576143574741064\n",
      "91 2021-03-04T12:07:36.408923 18.600907618227883\n",
      "92 2021-03-04T12:07:36.509709 18.766161508802774\n",
      "93 2021-03-04T12:07:36.610584 18.868930333855747\n",
      "94 2021-03-04T12:07:36.710664 18.959713299429893\n",
      "95 2021-03-04T12:07:36.811429 19.072881286855655\n",
      "96 2021-03-04T12:07:36.912100 19.208563347210436\n",
      "97 2021-03-04T12:07:37.013240 19.494982441275308\n",
      "98 2021-03-04T12:07:37.114069 19.880103498437702\n",
      "99 2021-03-04T12:07:37.214733 20.23444367001021\n",
      "100 2021-03-04T12:07:37.315396 20.2644134242585\n",
      "101 2021-03-04T12:07:37.416218 20.40335638892603\n",
      "102 2021-03-04T12:07:37.517054 20.660006203712136\n",
      "103 2021-03-04T12:07:37.617798 21.023112880938687\n",
      "104 2021-03-04T12:07:37.718695 21.37578056676303\n",
      "105 2021-03-04T12:07:37.819048 21.391480766529888\n",
      "106 2021-03-04T12:07:37.919751 21.58988032170562\n",
      "107 2021-03-04T12:07:38.020639 21.946761627608648\n",
      "108 2021-03-04T12:07:38.121624 22.185981419663204\n",
      "109 2021-03-04T12:07:38.222288 22.513500507032347\n",
      "110 2021-03-04T12:07:38.322952 22.852060885378343\n",
      "111 2021-03-04T12:07:38.423654 23.142342901057585\n",
      "112 2021-03-04T12:07:38.524543 23.450042609597915\n",
      "113 2021-03-04T12:07:38.625270 23.631790510652813\n",
      "114 2021-03-04T12:07:38.725986 23.7129115704006\n",
      "115 2021-03-04T12:07:38.826379 24.072989226938898\n",
      "116 2021-03-04T12:07:38.927042 24.08934144421284\n",
      "117 2021-03-04T12:07:39.027989 24.420952573852333\n",
      "118 2021-03-04T12:07:39.128755 24.508739976813548\n",
      "119 2021-03-04T12:07:39.229538 24.784023343178536\n",
      "120 2021-03-04T12:07:39.330350 25.066498381606564\n",
      "121 2021-03-04T12:07:39.431015 25.38756788835952\n",
      "122 2021-03-04T12:07:39.531679 25.549571275543208\n",
      "123 2021-03-04T12:07:39.632509 25.707193450887058\n",
      "124 2021-03-04T12:07:39.733211 26.062159008636616\n",
      "125 2021-03-04T12:07:39.833382 26.222628811367027\n",
      "126 2021-03-04T12:07:39.934033 26.612544589763388\n",
      "127 2021-03-04T12:07:40.034203 26.620603888927064\n",
      "128 2021-03-04T12:07:40.135132 26.894912797296538\n",
      "129 2021-03-04T12:07:40.235879 27.221849218190332\n",
      "130 2021-03-04T12:07:40.336766 27.35819177330472\n",
      "131 2021-03-04T12:07:40.437512 27.372498086232888\n",
      "132 2021-03-04T12:07:40.538578 27.650749303120865\n",
      "133 2021-03-04T12:07:40.639441 27.762467890801556\n",
      "134 2021-03-04T12:07:40.740379 28.120506692491283\n",
      "135 2021-03-04T12:07:40.841218 28.505694028852837\n",
      "136 2021-03-04T12:07:40.941934 28.74820254824656\n",
      "137 2021-03-04T12:07:41.042700 28.846209356180466\n",
      "138 2021-03-04T12:07:41.143364 29.01307591147842\n",
      "139 2021-03-04T12:07:41.244101 29.381530446715015\n",
      "140 2021-03-04T12:07:41.344836 29.48894492177031\n",
      "141 2021-03-04T12:07:41.445642 29.7616918292132\n",
      "142 2021-03-04T12:07:41.546302 30.05307037879617\n",
      "143 2021-03-04T12:07:41.647111 30.379981287299366\n",
      "144 2021-03-04T12:07:41.747951 30.386897107545984\n",
      "145 2021-03-04T12:07:41.848615 30.620352328196944\n",
      "146 2021-03-04T12:07:41.949280 30.801623295481058\n",
      "147 2021-03-04T12:07:42.050388 30.995422421572556\n",
      "148 2021-03-04T12:07:42.150620 31.018557258081962\n",
      "149 2021-03-04T12:07:42.251336 31.289871587354217\n",
      "150 2021-03-04T12:07:42.352032 31.3485942186384\n",
      "151 2021-03-04T12:07:42.452697 31.657216418879024\n",
      "152 2021-03-04T12:07:42.553360 31.67454426866916\n",
      "153 2021-03-04T12:07:42.654207 31.76186574284883\n",
      "154 2021-03-04T12:07:42.754977 32.07611153354822\n",
      "155 2021-03-04T12:07:42.855767 32.232049174669974\n",
      "156 2021-03-04T12:07:42.956794 32.61240604376867\n",
      "157 2021-03-04T12:07:43.057386 32.905891525071404\n",
      "158 2021-03-04T12:07:43.158050 33.24371119392575\n",
      "159 2021-03-04T12:07:43.258714 33.64249233839\n",
      "160 2021-03-04T12:07:43.359400 33.792200255818415\n",
      "161 2021-03-04T12:07:43.460064 34.186705806409826\n",
      "162 2021-03-04T12:07:43.560728 34.275770577585334\n",
      "163 2021-03-04T12:07:43.661490 34.371163017518924\n",
      "164 2021-03-04T12:07:43.762449 34.588006413035565\n",
      "165 2021-03-04T12:07:43.863182 34.818566265402\n",
      "166 2021-03-04T12:07:43.964028 34.87639722591032\n",
      "167 2021-03-04T12:07:44.064693 35.26243338128734\n",
      "168 2021-03-04T12:07:44.164938 35.39194566320806\n",
      "169 2021-03-04T12:07:44.265688 35.698426373257156\n",
      "170 2021-03-04T12:07:44.366329 35.705500410841736\n",
      "171 2021-03-04T12:07:44.466993 35.97982185102014\n",
      "172 2021-03-04T12:07:44.567658 36.20447041977638\n",
      "173 2021-03-04T12:07:44.668435 36.315694519194935\n",
      "174 2021-03-04T12:07:44.769307 36.411877351070125\n",
      "175 2021-03-04T12:07:44.870037 36.80901922179929\n",
      "176 2021-03-04T12:07:44.970701 36.982513305650066\n",
      "177 2021-03-04T12:07:45.071365 37.05637536457242\n",
      "178 2021-03-04T12:07:45.171828 37.4555440647196\n",
      "179 2021-03-04T12:07:45.272962 37.65873922956716\n",
      "180 2021-03-04T12:07:45.373806 38.00101850876559\n",
      "181 2021-03-04T12:07:45.474621 38.01474902675672\n",
      "182 2021-03-04T12:07:45.575485 38.41314347920348\n",
      "183 2021-03-04T12:07:45.676149 38.57928283187291\n",
      "184 2021-03-04T12:07:45.776994 38.76359829717509\n",
      "185 2021-03-04T12:07:45.877731 38.89192540483986\n",
      "186 2021-03-04T12:07:45.978395 39.1612246741153\n",
      "187 2021-03-04T12:07:46.079070 39.23237051360667\n",
      "188 2021-03-04T12:07:46.179809 39.45915040072371\n",
      "189 2021-03-04T12:07:46.280573 39.81076872423031\n",
      "190 2021-03-04T12:07:46.381207 39.97625448246836\n",
      "191 2021-03-04T12:07:46.481871 40.07051887043491\n",
      "192 2021-03-04T12:07:46.582064 40.385973288321296\n",
      "193 2021-03-04T12:07:46.682728 40.736515559889796\n",
      "194 2021-03-04T12:07:46.783394 40.887203715643274\n",
      "195 2021-03-04T12:07:46.884287 41.2645470286664\n"
     ]
    }
   ],
   "source": [
    "for i in range(depths.shape[0]):\n",
    "    print(i,  timestamps[i].view('<M8[us]'),  depths[i])"
   ]
  },
  {
   "cell_type": "code",
   "execution_count": 60,
   "metadata": {},
   "outputs": [],
   "source": [
    "def list_insertions(f):\n",
    "    insertions = []\n",
    "    for i in range(len(f.keys())):\n",
    "        session = f\"session{i+1:03d}\"\n",
    "        # print(f[session].keys())\n",
    "        for j in range(len(f[session].keys())):\n",
    "            cal = f\"{session}/cal{j+1:03d}\"\n",
    "            # print(cal)\n",
    "            for k in range(len(f[cal].keys())):\n",
    "                ins = f\"{cal}/ins{k+1:03d}\"\n",
    "                insertions.append(ins)\n",
    "                \n",
    "    return insertions"
   ]
  },
  {
   "cell_type": "code",
   "execution_count": 61,
   "metadata": {},
   "outputs": [
    {
     "name": "stdout",
     "output_type": "stream",
     "text": [
      "['session001/cal001/ins001', 'session001/cal001/ins002', 'session002/cal001/ins001', 'session003/cal001/ins001', 'session003/cal001/ins002', 'session003/cal002/ins001', 'session003/cal002/ins002', 'session004/cal002/ins001', 'session004/cal002/ins002', 'session006/cal001/ins001', 'session006/cal001/ins002', 'session007/cal001/ins001', 'session007/cal001/ins002', 'session008/cal001/ins001', 'session009/cal001/ins001', 'session010/cal001/ins001', 'session010/cal001/ins002', 'session010/cal001/ins003']\n"
     ]
    }
   ],
   "source": [
    "insertions = list_insertions(f)\n",
    "print(insertions)"
   ]
  },
  {
   "cell_type": "code",
   "execution_count": 69,
   "metadata": {},
   "outputs": [],
   "source": [
    "def list_insertions_in_session(f, session_number):\n",
    "    session = f\"session{session_number:03d}\"\n",
    "    insertions = []\n",
    "    for i in range(len(f[session].keys())):\n",
    "        cal = f\"{session}/cal{i+1:03d}\"\n",
    "        print(cal)\n",
    "        for j in range(len(f[cal].keys())):\n",
    "            ins = f\"{cal}/ins{j+1:03d}\"\n",
    "            print(ins)\n",
    "            insertions.append(ins)\n",
    "    return insertions"
   ]
  },
  {
   "cell_type": "code",
   "execution_count": 72,
   "metadata": {},
   "outputs": [
    {
     "name": "stdout",
     "output_type": "stream",
     "text": [
      "session004/cal001\n",
      "session004/cal002\n",
      "session004/cal002/ins001\n",
      "session004/cal002/ins002\n",
      "['session004/cal002/ins001', 'session004/cal002/ins002']\n"
     ]
    }
   ],
   "source": [
    "session_insertions = list_insertions_in_session(f, 4)\n",
    "print(session_insertions)"
   ]
  },
  {
   "cell_type": "code",
   "execution_count": null,
   "metadata": {},
   "outputs": [],
   "source": []
  }
 ],
 "metadata": {
  "kernelspec": {
   "display_name": "Python 3",
   "language": "python",
   "name": "python3"
  },
  "language_info": {
   "codemirror_mode": {
    "name": "ipython",
    "version": 3
   },
   "file_extension": ".py",
   "mimetype": "text/x-python",
   "name": "python",
   "nbconvert_exporter": "python",
   "pygments_lexer": "ipython3",
   "version": "3.8.5"
  }
 },
 "nbformat": 4,
 "nbformat_minor": 4
}
