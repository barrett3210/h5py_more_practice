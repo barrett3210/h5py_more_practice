{
 "cells": [
  {
   "cell_type": "code",
   "execution_count": 15,
   "metadata": {},
   "outputs": [],
   "source": [
    "import pandas as pd\n",
    "import numpy as np\n",
    "import h5py\n",
    "import datetime\n",
    "import matplotlib.pyplot as plt\n",
    "from scipy import interpolate\n",
    "file_name = \"connect_two_spectrometers.h5\"\n",
    "h5_file = h5py.File(file_name, \"r\")"
   ]
  },
  {
   "cell_type": "code",
   "execution_count": 2,
   "metadata": {},
   "outputs": [],
   "source": [
    "def create_list_of_datasets_in_h5file(h5_file):\n",
    "    \"\"\"\n",
    "    Returns a list of the paths of all datasets in an h5 file.\n",
    "    Can also be used to list all datasets under a given node (e.g., f['session001']).  In this case,\n",
    "    the 'session001' is not included in the output paths.\n",
    "    This comes from:\n",
    "    https://stackoverflow.com/questions/44883175/how-to-list-all-datasets-in-h5py-file\n",
    "    :param f:\n",
    "    :return:\n",
    "    \"\"\"\n",
    "    keys = []\n",
    "    h5_file.visit(lambda key: keys.append(key) if type(h5_file[key]) is h5py._hl.dataset.Dataset else None)\n",
    "    return keys\n",
    "\n",
    "\n",
    "def create_list_of_groups_in_node(node):\n",
    "    keys = []\n",
    "    node.visit(lambda key: keys.append(key) if type(node[key]) is h5py._hl.group.Group else None)\n",
    "    return keys\n",
    "\n",
    "def create_list_of_items_in_node(item_type, h5_file, node):\n",
    "    keys = []\n",
    "    if item_type == \"group\":\n",
    "        my_type = h5py._hl.group.Group\n",
    "    if item_type == \"dataset\":\n",
    "        my_type = h5py._hl.dataset.Dataset\n",
    "    h5_file[node].visit(lambda key: keys.append(key) if type(h5_file[node][key]) is my_type else None)\n",
    "    return keys\n",
    "\n",
    "def create_list_of_insertions_in_node(h5_file, node):\n",
    "    insertions = []\n",
    "    all_groups = create_list_of_items_in_node(\"group\", h5_file, node)\n",
    "    for group in all_groups:\n",
    "        if group[-6:-3] == 'ins':\n",
    "            insertions.append(group)\n",
    "    return insertions\n",
    "\n",
    "def create_session_insertion_dict(h5_file):\n",
    "    keys = list(h5_file.keys())\n",
    "    key_dict = {}\n",
    "    for key in keys:\n",
    "        # session_number = int(key[-3:])\n",
    "        key_dict[key] = create_list_of_insertions_in_node(h5_file, key)\n",
    "    print(key_dict)\n",
    "    return key_dict\n",
    "\n",
    "def create_list_of_calibrations_in_node(h5_file, node):\n",
    "    calibrations = []\n",
    "    all_groups = create_list_of_items_in_node(\"group\", h5_file, node)\n",
    "    for group in all_groups:\n",
    "        if group[-6:-3] == 'cal':\n",
    "            calibrations.append(group)\n",
    "    return calibrations\n",
    "\n",
    "\n",
    "def create_session_calibration_dict(h5_file):\n",
    "    keys = list(h5_file.keys())\n",
    "    key_dict = {}\n",
    "    for key in keys:\n",
    "        key_dict[key] = create_list_of_calibrations_in_node(h5_file, key)\n",
    "    print(key_dict)\n",
    "    return key_dict\n",
    "\n",
    "def get_wavelengths_vector(h5_file, session, insertion, spectrometer):\n",
    "    if spectrometer == \"spectrometer1\":\n",
    "        vector_attr = \"spec1_wavelengths_vector\"\n",
    "    elif spectrometer == \"spectrometer2\":\n",
    "        vector_attr = \"spec2_wavelengths_vector\"\n",
    "    else:\n",
    "        print(\"spectrometer not specified\")\n",
    "        vector_attr = \"\"\n",
    "\n",
    "    insertion_group = h5_file[f\"{session}/{insertion}\"]\n",
    "    wavelengths_vector = insertion_group.parent.attrs[vector_attr][:]\n",
    "    return wavelengths_vector\n",
    "\n",
    "def get_absorbance_spectra_in_insertion(h5_file, session, insertion):\n",
    "    absorbance_string = \"spectrometer1/derived/absorbances\"\n",
    "    absorbance_spectra = h5_file[f\"{session}/{insertion}/{absorbance_string}\"][:]\n",
    "    print(absorbance_spectra)\n",
    "    return absorbance_spectra\n",
    "\n",
    "def get_absorbance_spectra_and_depth_in_insertion(h5_file, session, insertion):\n",
    "    dset_string = \"derived/absorbance_depth\"\n",
    "    dset = h5_file[f\"{session}/{insertion}/{dset_string}\"]\n",
    "    absorbance_spectra = dset[:, :-2]\n",
    "    depths = dset[:, -1]\n",
    "    forces = dset[:, -2]\n",
    "    print(absorbance_spectra)\n",
    "    return absorbance_spectra, depths, forces\n",
    "\n",
    "def get_current_time():\n",
    "    return np.datetime64(datetime.datetime.now()).astype(np.int64)\n",
    "\n",
    "\n",
    "def timestamp_list_to_pandas_timestamps(timestamp_list):\n",
    "    series = pd.Series(timestamp_list).astype('<M8[us]')\n",
    "    return series\n",
    "\n",
    "def find_zoomed_yvalues(wavelengths_vector, absorbance_spectrum):\n",
    "    \n",
    "    # get min_val, max_val of 1700 to 1800 nm\n",
    "    mid_waves = (wavelengths_vector > 1700) & (wavelengths_vector < 1800)\n",
    "    minval = absorbance_spectrum[mid_waves].min()\n",
    "    maxval = absorbance_spectrum[mid_waves].max()\n",
    "    ymin = minval - (minval * 0.005)\n",
    "    ymax = maxval + (maxval * 0.005)\n",
    "    return ymin, ymax"
   ]
  },
  {
   "cell_type": "code",
   "execution_count": 16,
   "metadata": {},
   "outputs": [
    {
     "data": {
      "text/plain": [
       "['session002/cal001/ins001/derived/absorbance_depth',\n",
       " 'session002/cal001/ins001/derived/absorbance_depth_timestamps',\n",
       " 'session002/cal001/ins001/derived/depth_increment_data',\n",
       " 'session002/cal001/ins001/derived/force_depth',\n",
       " 'session002/cal001/ins001/derived/force_depth_timestamps',\n",
       " 'session002/cal001/ins001/encoder/depths',\n",
       " 'session002/cal001/ins001/encoder/timestamps',\n",
       " 'session002/cal001/ins001/load_cell/forces',\n",
       " 'session002/cal001/ins001/load_cell/timestamps',\n",
       " 'session002/cal001/ins001/spectrometer1/derived/absorbances',\n",
       " 'session002/cal001/ins001/spectrometer1/spectra',\n",
       " 'session002/cal001/ins001/spectrometer1/timestamps',\n",
       " 'session002/cal001/ins002/derived/absorbance_depth',\n",
       " 'session002/cal001/ins002/derived/absorbance_depth_timestamps',\n",
       " 'session002/cal001/ins002/derived/depth_increment_data',\n",
       " 'session002/cal001/ins002/derived/force_depth',\n",
       " 'session002/cal001/ins002/derived/force_depth_timestamps',\n",
       " 'session002/cal001/ins002/encoder/depths',\n",
       " 'session002/cal001/ins002/encoder/timestamps',\n",
       " 'session002/cal001/ins002/load_cell/forces',\n",
       " 'session002/cal001/ins002/load_cell/timestamps',\n",
       " 'session002/cal001/ins002/spectrometer1/derived/absorbances',\n",
       " 'session002/cal001/ins002/spectrometer1/spectra',\n",
       " 'session002/cal001/ins002/spectrometer1/timestamps',\n",
       " 'session004/cal001/ins001/derived/absorbance_depth',\n",
       " 'session004/cal001/ins001/derived/absorbance_depth_timestamps',\n",
       " 'session004/cal001/ins001/derived/depth_increment_data',\n",
       " 'session004/cal001/ins001/derived/force_depth',\n",
       " 'session004/cal001/ins001/derived/force_depth_timestamps',\n",
       " 'session004/cal001/ins001/encoder/depths',\n",
       " 'session004/cal001/ins001/encoder/timestamps',\n",
       " 'session004/cal001/ins001/load_cell/forces',\n",
       " 'session004/cal001/ins001/load_cell/timestamps',\n",
       " 'session004/cal001/ins001/spectrometer1/derived/absorbances',\n",
       " 'session004/cal001/ins001/spectrometer1/spectra',\n",
       " 'session004/cal001/ins001/spectrometer1/timestamps',\n",
       " 'session004/cal001/ins001/spectrometer2/adc1s',\n",
       " 'session004/cal001/ins001/spectrometer2/adc2s',\n",
       " 'session004/cal001/ins001/spectrometer2/derived/absorbances',\n",
       " 'session004/cal001/ins001/spectrometer2/interferograms',\n",
       " 'session004/cal001/ins001/spectrometer2/opds',\n",
       " 'session004/cal001/ins001/spectrometer2/spectra',\n",
       " 'session004/cal001/ins001/spectrometer2/timestamps',\n",
       " 'session004/cal001/ins001/spectrometer2/wavenums',\n",
       " 'session004/cal001/ins002/derived/absorbance_depth',\n",
       " 'session004/cal001/ins002/derived/absorbance_depth_timestamps',\n",
       " 'session004/cal001/ins002/derived/depth_increment_data',\n",
       " 'session004/cal001/ins002/derived/force_depth',\n",
       " 'session004/cal001/ins002/derived/force_depth_timestamps',\n",
       " 'session004/cal001/ins002/encoder/depths',\n",
       " 'session004/cal001/ins002/encoder/timestamps',\n",
       " 'session004/cal001/ins002/load_cell/forces',\n",
       " 'session004/cal001/ins002/load_cell/timestamps',\n",
       " 'session004/cal001/ins002/spectrometer1/derived/absorbances',\n",
       " 'session004/cal001/ins002/spectrometer1/spectra',\n",
       " 'session004/cal001/ins002/spectrometer1/timestamps',\n",
       " 'session004/cal001/ins002/spectrometer2/adc1s',\n",
       " 'session004/cal001/ins002/spectrometer2/adc2s',\n",
       " 'session004/cal001/ins002/spectrometer2/derived/absorbances',\n",
       " 'session004/cal001/ins002/spectrometer2/interferograms',\n",
       " 'session004/cal001/ins002/spectrometer2/opds',\n",
       " 'session004/cal001/ins002/spectrometer2/spectra',\n",
       " 'session004/cal001/ins002/spectrometer2/timestamps',\n",
       " 'session004/cal001/ins002/spectrometer2/wavenums']"
      ]
     },
     "execution_count": 16,
     "metadata": {},
     "output_type": "execute_result"
    }
   ],
   "source": [
    "create_list_of_datasets_in_h5file(h5_file)"
   ]
  },
  {
   "cell_type": "code",
   "execution_count": 6,
   "metadata": {},
   "outputs": [],
   "source": [
    "ftir_spectra = 'session004/cal001/ins002/spectrometer2/spectra'\n",
    "ftir_absorb = 'session004/cal001/ins002/spectrometer2/derived/absorbances'"
   ]
  },
  {
   "cell_type": "code",
   "execution_count": 7,
   "metadata": {},
   "outputs": [
    {
     "data": {
      "text/plain": [
       "array([[0.00173052, 0.00148406, 0.00124098, ..., 0.00098693, 0.0010166 ,\n",
       "        0.00113634],\n",
       "       [0.00075357, 0.00127061, 0.00173332, ..., 0.00118561, 0.00093659,\n",
       "        0.00091264],\n",
       "       [0.00139452, 0.00116346, 0.00093278, ..., 0.00356523, 0.00253399,\n",
       "        0.00129399],\n",
       "       ...,\n",
       "       [0.00086558, 0.00095591, 0.00107095, ..., 0.00128503, 0.00124508,\n",
       "        0.00133519],\n",
       "       [0.00088046, 0.00115543, 0.00142552, ..., 0.00158456, 0.00140961,\n",
       "        0.00122043],\n",
       "       [0.00141326, 0.00083269, 0.00044   , ..., 0.00221144, 0.00165153,\n",
       "        0.00094291]])"
      ]
     },
     "execution_count": 7,
     "metadata": {},
     "output_type": "execute_result"
    }
   ],
   "source": [
    "h5_file[ftir_spectra][:]"
   ]
  },
  {
   "cell_type": "code",
   "execution_count": 8,
   "metadata": {},
   "outputs": [
    {
     "data": {
      "text/plain": [
       "array([[ 0.94980285,  1.01031295,  1.08038121, ...,  0.47206548,\n",
       "         0.36087547,  0.15549243],\n",
       "       [ 1.31085379,  1.07775111,  0.93526682, ...,  0.39240778,\n",
       "         0.39647797,  0.25070104],\n",
       "       [ 1.04355436,  1.11601327,  1.204364  , ..., -0.08573748,\n",
       "        -0.03577651,  0.09907114],\n",
       "       ...,\n",
       "       [ 1.2506705 ,  1.20134982,  1.14437386, ...,  0.35743778,\n",
       "         0.27283048,  0.08545856],\n",
       "       [ 1.24326831,  1.11902232,  1.0201705 , ...,  0.26644071,\n",
       "         0.21892874,  0.12448698],\n",
       "       [ 1.03775805,  1.26128247,  1.5306902 , ...,  0.12167508,\n",
       "         0.15014114,  0.23653201]])"
      ]
     },
     "execution_count": 8,
     "metadata": {},
     "output_type": "execute_result"
    }
   ],
   "source": [
    "h5_file[ftir_absorb][:]"
   ]
  },
  {
   "cell_type": "code",
   "execution_count": 9,
   "metadata": {},
   "outputs": [],
   "source": [
    "attribs = h5_file['session004/cal001'].attrs.keys() "
   ]
  },
  {
   "cell_type": "code",
   "execution_count": 10,
   "metadata": {},
   "outputs": [
    {
     "data": {
      "text/plain": [
       "<KeysViewHDF5 ['calibration_start_time', 'dark_spectrum', 'dark_spectrum2', 'ftir_amplitude', 'ftir_calibration_cycles', 'ftir_calibration_gain', 'ftir_calibration_measure_mode', 'ftir_cycles', 'ftir_direction', 'ftir_frequency', 'ftir_gain', 'ftir_integrate_mode', 'ftir_measure_mode', 'ftir_temperature', 'ftir_wavenums_count', 'ftir_zero_fill', 'spec1_wavelengths_vector', 'spec2_wavelengths_vector', 'vis_capture_mode', 'vis_cycle_time', 'vis_data_count', 'vis_data_transmit', 'vis_exposure_seconds', 'vis_exposure_time', 'vis_gain_mode', 'vis_sensor_gain_mode', 'white_spectrum', 'white_spectrum2']>"
      ]
     },
     "execution_count": 10,
     "metadata": {},
     "output_type": "execute_result"
    }
   ],
   "source": [
    "attribs"
   ]
  },
  {
   "cell_type": "code",
   "execution_count": 11,
   "metadata": {},
   "outputs": [],
   "source": [
    "ftir_waves = h5_file['session004/cal001'].attrs['spec2_wavelengths_vector']"
   ]
  },
  {
   "cell_type": "code",
   "execution_count": 12,
   "metadata": {},
   "outputs": [
    {
     "data": {
      "text/plain": [
       "[<matplotlib.lines.Line2D at 0x7fc3e135d670>]"
      ]
     },
     "execution_count": 12,
     "metadata": {},
     "output_type": "execute_result"
    },
    {
     "data": {
      "image/png": "[encoded data removed]",
      "text/plain": [
       "<Figure size 432x288 with 1 Axes>"
      ]
     },
     "metadata": {
      "needs_background": "light"
     },
     "output_type": "display_data"
    }
   ],
   "source": [
    "plt.plot(ftir_waves, h5_file[ftir_absorb][0])"
   ]
  },
  {
   "cell_type": "code",
   "execution_count": null,
   "metadata": {},
   "outputs": [],
   "source": []
  }
 ],
 "metadata": {
  "kernelspec": {
   "display_name": "Python 3",
   "language": "python",
   "name": "python3"
  },
  "language_info": {
   "codemirror_mode": {
    "name": "ipython",
    "version": 3
   },
   "file_extension": ".py",
   "mimetype": "text/x-python",
   "name": "python",
   "nbconvert_exporter": "python",
   "pygments_lexer": "ipython3",
   "version": "3.8.5"
  }
 },
 "nbformat": 4,
 "nbformat_minor": 4
}
