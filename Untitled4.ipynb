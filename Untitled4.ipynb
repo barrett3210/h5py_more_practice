{
 "cells": [
  {
   "cell_type": "code",
   "execution_count": 1,
   "metadata": {},
   "outputs": [],
   "source": [
    "import pandas as pd\n",
    "import numpy as np\n",
    "import h5py\n",
    "file_name = \"threading_try2.h5\"\n",
    "f = h5py.File(file_name, \"a\")"
   ]
  },
  {
   "cell_type": "code",
   "execution_count": 2,
   "metadata": {},
   "outputs": [],
   "source": [
    "def create_list_of_datasets_in_h5file(h5_file):\n",
    "    \"\"\"\n",
    "    Returns a list of the paths of all datasets in an h5 file.\n",
    "    Can also be used to list all datasets under a given node (e.g., f['session001']).  In this case,\n",
    "    the 'session001' is not included in the output paths.\n",
    "    This comes from:\n",
    "    https://stackoverflow.com/questions/44883175/how-to-list-all-datasets-in-h5py-file\n",
    "    :param f:\n",
    "    :return:\n",
    "    \"\"\"\n",
    "    keys = []\n",
    "    h5_file.visit(lambda key: keys.append(key) if type(h5_file[key]) is h5py._hl.dataset.Dataset else None)\n",
    "    return keys\n",
    "\n",
    "\n",
    "def create_list_of_groups_in_node(node):\n",
    "    keys = []\n",
    "    node.visit(lambda key: keys.append(key) if type(node[key]) is h5py._hl.group.Group else None)\n",
    "    return keys"
   ]
  },
  {
   "cell_type": "code",
   "execution_count": 3,
   "metadata": {},
   "outputs": [],
   "source": [
    "dsets = create_list_of_datasets_in_h5file(f['session001'])"
   ]
  },
  {
   "cell_type": "code",
   "execution_count": 4,
   "metadata": {
    "collapsed": true,
    "jupyter": {
     "outputs_hidden": true
    }
   },
   "outputs": [
    {
     "data": {
      "text/plain": [
       "['cal001/ins001/derived/absorbance_depth',\n",
       " 'cal001/ins001/derived/absorbance_depth_timestamps',\n",
       " 'cal001/ins001/derived/force_depth',\n",
       " 'cal001/ins001/derived/force_depth_timestamps',\n",
       " 'cal001/ins001/encoder/depths',\n",
       " 'cal001/ins001/encoder/timestamps',\n",
       " 'cal001/ins001/load_cell/forces',\n",
       " 'cal001/ins001/load_cell/timestamps',\n",
       " 'cal001/ins001/spectrometer1/derived/absorbances',\n",
       " 'cal001/ins001/spectrometer1/spectra',\n",
       " 'cal001/ins001/spectrometer1/timestamps',\n",
       " 'cal001/ins001/spectrometer2/adc1s',\n",
       " 'cal001/ins001/spectrometer2/adc2s',\n",
       " 'cal001/ins001/spectrometer2/derived/absorbances',\n",
       " 'cal001/ins001/spectrometer2/interferograms',\n",
       " 'cal001/ins001/spectrometer2/opds',\n",
       " 'cal001/ins001/spectrometer2/spectra',\n",
       " 'cal001/ins001/spectrometer2/timestamps',\n",
       " 'cal001/ins001/spectrometer2/wavenums',\n",
       " 'cal001/ins002/derived/absorbance_depth',\n",
       " 'cal001/ins002/derived/absorbance_depth_timestamps',\n",
       " 'cal001/ins002/derived/force_depth',\n",
       " 'cal001/ins002/derived/force_depth_timestamps',\n",
       " 'cal001/ins002/encoder/depths',\n",
       " 'cal001/ins002/encoder/timestamps',\n",
       " 'cal001/ins002/load_cell/forces',\n",
       " 'cal001/ins002/load_cell/timestamps',\n",
       " 'cal001/ins002/spectrometer1/derived/absorbances',\n",
       " 'cal001/ins002/spectrometer1/spectra',\n",
       " 'cal001/ins002/spectrometer1/timestamps',\n",
       " 'cal001/ins002/spectrometer2/adc1s',\n",
       " 'cal001/ins002/spectrometer2/adc2s',\n",
       " 'cal001/ins002/spectrometer2/derived/absorbances',\n",
       " 'cal001/ins002/spectrometer2/interferograms',\n",
       " 'cal001/ins002/spectrometer2/opds',\n",
       " 'cal001/ins002/spectrometer2/spectra',\n",
       " 'cal001/ins002/spectrometer2/timestamps',\n",
       " 'cal001/ins002/spectrometer2/wavenums']"
      ]
     },
     "execution_count": 4,
     "metadata": {},
     "output_type": "execute_result"
    }
   ],
   "source": [
    "dsets"
   ]
  },
  {
   "cell_type": "code",
   "execution_count": 5,
   "metadata": {},
   "outputs": [],
   "source": [
    "groups = create_list_of_groups_in_node(f['session001'])"
   ]
  },
  {
   "cell_type": "code",
   "execution_count": 6,
   "metadata": {},
   "outputs": [
    {
     "data": {
      "text/plain": [
       "['cal001',\n",
       " 'cal001/ins001',\n",
       " 'cal001/ins001/derived',\n",
       " 'cal001/ins001/encoder',\n",
       " 'cal001/ins001/load_cell',\n",
       " 'cal001/ins001/spectrometer1',\n",
       " 'cal001/ins001/spectrometer1/derived',\n",
       " 'cal001/ins001/spectrometer2',\n",
       " 'cal001/ins001/spectrometer2/derived',\n",
       " 'cal001/ins002',\n",
       " 'cal001/ins002/derived',\n",
       " 'cal001/ins002/encoder',\n",
       " 'cal001/ins002/load_cell',\n",
       " 'cal001/ins002/spectrometer1',\n",
       " 'cal001/ins002/spectrometer1/derived',\n",
       " 'cal001/ins002/spectrometer2',\n",
       " 'cal001/ins002/spectrometer2/derived']"
      ]
     },
     "execution_count": 6,
     "metadata": {},
     "output_type": "execute_result"
    }
   ],
   "source": [
    "groups"
   ]
  },
  {
   "cell_type": "code",
   "execution_count": 7,
   "metadata": {},
   "outputs": [],
   "source": [
    "def create_list_of_items_in_node(item_type, h5_file, node):\n",
    "    keys = []\n",
    "    if item_type == \"group\":\n",
    "        my_type = h5py._hl.group.Group\n",
    "    if item_type == \"dataset\":\n",
    "        my_type = h5py._hl.dataset.Dataset\n",
    "    h5_file[node].visit(lambda key: keys.append(key) if type(h5_file[node][key]) is my_type else None)\n",
    "    return keys"
   ]
  },
  {
   "cell_type": "code",
   "execution_count": 8,
   "metadata": {},
   "outputs": [],
   "source": [
    "groups001 = create_list_of_items_in_node(\"group\", f, 'session001')\n",
    "dsets001 = create_list_of_items_in_node(\"dataset\", f, 'session001')"
   ]
  },
  {
   "cell_type": "code",
   "execution_count": 9,
   "metadata": {},
   "outputs": [
    {
     "data": {
      "text/plain": [
       "['cal001',\n",
       " 'cal001/ins001',\n",
       " 'cal001/ins001/derived',\n",
       " 'cal001/ins001/encoder',\n",
       " 'cal001/ins001/load_cell',\n",
       " 'cal001/ins001/spectrometer1',\n",
       " 'cal001/ins001/spectrometer1/derived',\n",
       " 'cal001/ins001/spectrometer2',\n",
       " 'cal001/ins001/spectrometer2/derived',\n",
       " 'cal001/ins002',\n",
       " 'cal001/ins002/derived',\n",
       " 'cal001/ins002/encoder',\n",
       " 'cal001/ins002/load_cell',\n",
       " 'cal001/ins002/spectrometer1',\n",
       " 'cal001/ins002/spectrometer1/derived',\n",
       " 'cal001/ins002/spectrometer2',\n",
       " 'cal001/ins002/spectrometer2/derived']"
      ]
     },
     "execution_count": 9,
     "metadata": {},
     "output_type": "execute_result"
    }
   ],
   "source": [
    "groups001"
   ]
  },
  {
   "cell_type": "code",
   "execution_count": 10,
   "metadata": {},
   "outputs": [
    {
     "data": {
      "text/plain": [
       "['cal001/ins001/derived/absorbance_depth',\n",
       " 'cal001/ins001/derived/absorbance_depth_timestamps',\n",
       " 'cal001/ins001/derived/force_depth',\n",
       " 'cal001/ins001/derived/force_depth_timestamps',\n",
       " 'cal001/ins001/encoder/depths',\n",
       " 'cal001/ins001/encoder/timestamps',\n",
       " 'cal001/ins001/load_cell/forces',\n",
       " 'cal001/ins001/load_cell/timestamps',\n",
       " 'cal001/ins001/spectrometer1/derived/absorbances',\n",
       " 'cal001/ins001/spectrometer1/spectra',\n",
       " 'cal001/ins001/spectrometer1/timestamps',\n",
       " 'cal001/ins001/spectrometer2/adc1s',\n",
       " 'cal001/ins001/spectrometer2/adc2s',\n",
       " 'cal001/ins001/spectrometer2/derived/absorbances',\n",
       " 'cal001/ins001/spectrometer2/interferograms',\n",
       " 'cal001/ins001/spectrometer2/opds',\n",
       " 'cal001/ins001/spectrometer2/spectra',\n",
       " 'cal001/ins001/spectrometer2/timestamps',\n",
       " 'cal001/ins001/spectrometer2/wavenums',\n",
       " 'cal001/ins002/derived/absorbance_depth',\n",
       " 'cal001/ins002/derived/absorbance_depth_timestamps',\n",
       " 'cal001/ins002/derived/force_depth',\n",
       " 'cal001/ins002/derived/force_depth_timestamps',\n",
       " 'cal001/ins002/encoder/depths',\n",
       " 'cal001/ins002/encoder/timestamps',\n",
       " 'cal001/ins002/load_cell/forces',\n",
       " 'cal001/ins002/load_cell/timestamps',\n",
       " 'cal001/ins002/spectrometer1/derived/absorbances',\n",
       " 'cal001/ins002/spectrometer1/spectra',\n",
       " 'cal001/ins002/spectrometer1/timestamps',\n",
       " 'cal001/ins002/spectrometer2/adc1s',\n",
       " 'cal001/ins002/spectrometer2/adc2s',\n",
       " 'cal001/ins002/spectrometer2/derived/absorbances',\n",
       " 'cal001/ins002/spectrometer2/interferograms',\n",
       " 'cal001/ins002/spectrometer2/opds',\n",
       " 'cal001/ins002/spectrometer2/spectra',\n",
       " 'cal001/ins002/spectrometer2/timestamps',\n",
       " 'cal001/ins002/spectrometer2/wavenums']"
      ]
     },
     "execution_count": 10,
     "metadata": {},
     "output_type": "execute_result"
    }
   ],
   "source": [
    "dsets001"
   ]
  },
  {
   "cell_type": "code",
   "execution_count": 11,
   "metadata": {},
   "outputs": [],
   "source": [
    "all_groups = create_list_of_items_in_node(\"group\", f, \"/\")"
   ]
  },
  {
   "cell_type": "code",
   "execution_count": 12,
   "metadata": {},
   "outputs": [
    {
     "data": {
      "text/plain": [
       "['session001',\n",
       " 'session001/cal001',\n",
       " 'session001/cal001/ins001',\n",
       " 'session001/cal001/ins001/derived',\n",
       " 'session001/cal001/ins001/encoder',\n",
       " 'session001/cal001/ins001/load_cell',\n",
       " 'session001/cal001/ins001/spectrometer1',\n",
       " 'session001/cal001/ins001/spectrometer1/derived',\n",
       " 'session001/cal001/ins001/spectrometer2',\n",
       " 'session001/cal001/ins001/spectrometer2/derived',\n",
       " 'session001/cal001/ins002',\n",
       " 'session001/cal001/ins002/derived',\n",
       " 'session001/cal001/ins002/encoder',\n",
       " 'session001/cal001/ins002/load_cell',\n",
       " 'session001/cal001/ins002/spectrometer1',\n",
       " 'session001/cal001/ins002/spectrometer1/derived',\n",
       " 'session001/cal001/ins002/spectrometer2',\n",
       " 'session001/cal001/ins002/spectrometer2/derived',\n",
       " 'session002',\n",
       " 'session002/cal001',\n",
       " 'session002/cal001/ins001',\n",
       " 'session002/cal001/ins001/derived',\n",
       " 'session002/cal001/ins001/encoder',\n",
       " 'session002/cal001/ins001/load_cell',\n",
       " 'session002/cal001/ins001/spectrometer1',\n",
       " 'session002/cal001/ins001/spectrometer1/derived',\n",
       " 'session002/cal001/ins001/spectrometer2',\n",
       " 'session002/cal001/ins001/spectrometer2/derived',\n",
       " 'session003',\n",
       " 'session003/cal001',\n",
       " 'session003/cal001/ins001',\n",
       " 'session003/cal001/ins001/derived',\n",
       " 'session003/cal001/ins001/encoder',\n",
       " 'session003/cal001/ins001/load_cell',\n",
       " 'session003/cal001/ins001/spectrometer1',\n",
       " 'session003/cal001/ins001/spectrometer1/derived',\n",
       " 'session003/cal001/ins001/spectrometer2',\n",
       " 'session003/cal001/ins001/spectrometer2/derived',\n",
       " 'session003/cal001/ins002',\n",
       " 'session003/cal001/ins002/derived',\n",
       " 'session003/cal001/ins002/encoder',\n",
       " 'session003/cal001/ins002/load_cell',\n",
       " 'session003/cal001/ins002/spectrometer1',\n",
       " 'session003/cal001/ins002/spectrometer1/derived',\n",
       " 'session003/cal001/ins002/spectrometer2',\n",
       " 'session003/cal001/ins002/spectrometer2/derived',\n",
       " 'session003/cal002',\n",
       " 'session003/cal002/ins003',\n",
       " 'session003/cal002/ins003/derived',\n",
       " 'session003/cal002/ins003/encoder',\n",
       " 'session003/cal002/ins003/load_cell',\n",
       " 'session003/cal002/ins003/spectrometer1',\n",
       " 'session003/cal002/ins003/spectrometer1/derived',\n",
       " 'session003/cal002/ins003/spectrometer2',\n",
       " 'session003/cal002/ins003/spectrometer2/derived',\n",
       " 'session003/cal002/ins004',\n",
       " 'session003/cal002/ins004/derived',\n",
       " 'session003/cal002/ins004/encoder',\n",
       " 'session003/cal002/ins004/load_cell',\n",
       " 'session003/cal002/ins004/spectrometer1',\n",
       " 'session003/cal002/ins004/spectrometer1/derived',\n",
       " 'session003/cal002/ins004/spectrometer2',\n",
       " 'session003/cal002/ins004/spectrometer2/derived',\n",
       " 'session004',\n",
       " 'session004/cal001',\n",
       " 'session004/cal002',\n",
       " 'session004/cal002/ins001',\n",
       " 'session004/cal002/ins001/derived',\n",
       " 'session004/cal002/ins001/encoder',\n",
       " 'session004/cal002/ins001/load_cell',\n",
       " 'session004/cal002/ins001/spectrometer1',\n",
       " 'session004/cal002/ins001/spectrometer1/derived',\n",
       " 'session004/cal002/ins001/spectrometer2',\n",
       " 'session004/cal002/ins001/spectrometer2/derived',\n",
       " 'session004/cal002/ins002',\n",
       " 'session004/cal002/ins002/derived',\n",
       " 'session004/cal002/ins002/encoder',\n",
       " 'session004/cal002/ins002/load_cell',\n",
       " 'session004/cal002/ins002/spectrometer1',\n",
       " 'session004/cal002/ins002/spectrometer1/derived',\n",
       " 'session004/cal002/ins002/spectrometer2',\n",
       " 'session004/cal002/ins002/spectrometer2/derived',\n",
       " 'session005',\n",
       " 'session005/cal001',\n",
       " 'session006',\n",
       " 'session006/cal001',\n",
       " 'session006/cal001/ins001',\n",
       " 'session006/cal001/ins001/derived',\n",
       " 'session006/cal001/ins001/encoder',\n",
       " 'session006/cal001/ins001/load_cell',\n",
       " 'session006/cal001/ins001/spectrometer1',\n",
       " 'session006/cal001/ins001/spectrometer1/derived',\n",
       " 'session006/cal001/ins001/spectrometer2',\n",
       " 'session006/cal001/ins001/spectrometer2/derived',\n",
       " 'session006/cal001/ins002',\n",
       " 'session006/cal001/ins002/derived',\n",
       " 'session006/cal001/ins002/encoder',\n",
       " 'session006/cal001/ins002/load_cell',\n",
       " 'session006/cal001/ins002/spectrometer1',\n",
       " 'session006/cal001/ins002/spectrometer1/derived',\n",
       " 'session006/cal001/ins002/spectrometer2',\n",
       " 'session006/cal001/ins002/spectrometer2/derived',\n",
       " 'session007',\n",
       " 'session007/cal001',\n",
       " 'session007/cal001/ins001',\n",
       " 'session007/cal001/ins001/derived',\n",
       " 'session007/cal001/ins001/encoder',\n",
       " 'session007/cal001/ins001/load_cell',\n",
       " 'session007/cal001/ins001/spectrometer1',\n",
       " 'session007/cal001/ins001/spectrometer1/derived',\n",
       " 'session007/cal001/ins001/spectrometer2',\n",
       " 'session007/cal001/ins001/spectrometer2/derived',\n",
       " 'session007/cal001/ins002',\n",
       " 'session007/cal001/ins002/derived',\n",
       " 'session007/cal001/ins002/encoder',\n",
       " 'session007/cal001/ins002/load_cell',\n",
       " 'session007/cal001/ins002/spectrometer1',\n",
       " 'session007/cal001/ins002/spectrometer1/derived',\n",
       " 'session007/cal001/ins002/spectrometer2',\n",
       " 'session007/cal001/ins002/spectrometer2/derived',\n",
       " 'session008',\n",
       " 'session008/cal001',\n",
       " 'session008/cal001/ins001',\n",
       " 'session008/cal001/ins001/derived',\n",
       " 'session008/cal001/ins001/encoder',\n",
       " 'session008/cal001/ins001/load_cell',\n",
       " 'session008/cal001/ins001/spectrometer1',\n",
       " 'session008/cal001/ins001/spectrometer1/derived',\n",
       " 'session008/cal001/ins001/spectrometer2',\n",
       " 'session008/cal001/ins001/spectrometer2/derived',\n",
       " 'session009',\n",
       " 'session009/cal001',\n",
       " 'session009/cal001/ins001',\n",
       " 'session009/cal001/ins001/derived',\n",
       " 'session009/cal001/ins001/encoder',\n",
       " 'session009/cal001/ins001/load_cell',\n",
       " 'session009/cal001/ins001/spectrometer1',\n",
       " 'session009/cal001/ins001/spectrometer1/derived',\n",
       " 'session009/cal001/ins001/spectrometer2',\n",
       " 'session009/cal001/ins001/spectrometer2/derived',\n",
       " 'session010',\n",
       " 'session010/cal001',\n",
       " 'session010/cal001/ins001',\n",
       " 'session010/cal001/ins001/derived',\n",
       " 'session010/cal001/ins001/encoder',\n",
       " 'session010/cal001/ins001/load_cell',\n",
       " 'session010/cal001/ins001/spectrometer1',\n",
       " 'session010/cal001/ins001/spectrometer1/derived',\n",
       " 'session010/cal001/ins001/spectrometer2',\n",
       " 'session010/cal001/ins001/spectrometer2/derived',\n",
       " 'session010/cal001/ins002',\n",
       " 'session010/cal001/ins002/derived',\n",
       " 'session010/cal001/ins002/encoder',\n",
       " 'session010/cal001/ins002/load_cell',\n",
       " 'session010/cal001/ins002/spectrometer1',\n",
       " 'session010/cal001/ins002/spectrometer1/derived',\n",
       " 'session010/cal001/ins002/spectrometer2',\n",
       " 'session010/cal001/ins002/spectrometer2/derived',\n",
       " 'session010/cal001/ins003',\n",
       " 'session010/cal001/ins003/derived',\n",
       " 'session010/cal001/ins003/encoder',\n",
       " 'session010/cal001/ins003/load_cell',\n",
       " 'session010/cal001/ins003/spectrometer1',\n",
       " 'session010/cal001/ins003/spectrometer1/derived',\n",
       " 'session010/cal001/ins003/spectrometer2',\n",
       " 'session010/cal001/ins003/spectrometer2/derived']"
      ]
     },
     "execution_count": 12,
     "metadata": {},
     "output_type": "execute_result"
    }
   ],
   "source": [
    "all_groups"
   ]
  },
  {
   "cell_type": "code",
   "execution_count": 13,
   "metadata": {},
   "outputs": [],
   "source": [
    "def create_list_of_insertions_in_node(h5_file, node):\n",
    "    insertions = []\n",
    "    all_groups = create_list_of_items_in_node(\"group\", h5_file, node)\n",
    "    for group in all_groups:\n",
    "        if group[-6:-3] == 'ins':\n",
    "            insertions.append(group)\n",
    "    return insertions\n"
   ]
  },
  {
   "cell_type": "code",
   "execution_count": 14,
   "metadata": {},
   "outputs": [],
   "source": [
    "def create_session_insertion_dict(h5_file):\n",
    "    keys = list(h5_file.keys())\n",
    "    key_dict = {}\n",
    "    for key in keys:\n",
    "        # session_number = int(key[-3:])\n",
    "        key_dict[key] = create_list_of_insertions_in_node(h5_file, key)\n",
    "    print(key_dict)\n",
    "    return key_dict\n"
   ]
  },
  {
   "cell_type": "code",
   "execution_count": 15,
   "metadata": {},
   "outputs": [],
   "source": [
    "keys = list(f.keys())"
   ]
  },
  {
   "cell_type": "code",
   "execution_count": 16,
   "metadata": {},
   "outputs": [
    {
     "data": {
      "text/plain": [
       "['session001',\n",
       " 'session002',\n",
       " 'session003',\n",
       " 'session004',\n",
       " 'session005',\n",
       " 'session006',\n",
       " 'session007',\n",
       " 'session008',\n",
       " 'session009',\n",
       " 'session010']"
      ]
     },
     "execution_count": 16,
     "metadata": {},
     "output_type": "execute_result"
    }
   ],
   "source": [
    "keys"
   ]
  },
  {
   "cell_type": "code",
   "execution_count": 17,
   "metadata": {},
   "outputs": [
    {
     "name": "stdout",
     "output_type": "stream",
     "text": [
      "{'session001': ['cal001/ins001', 'cal001/ins002'], 'session002': ['cal001/ins001'], 'session003': ['cal001/ins001', 'cal001/ins002', 'cal002/ins003', 'cal002/ins004'], 'session004': ['cal002/ins001', 'cal002/ins002'], 'session005': [], 'session006': ['cal001/ins001', 'cal001/ins002'], 'session007': ['cal001/ins001', 'cal001/ins002'], 'session008': ['cal001/ins001'], 'session009': ['cal001/ins001'], 'session010': ['cal001/ins001', 'cal001/ins002', 'cal001/ins003']}\n"
     ]
    }
   ],
   "source": [
    "sess_dict = create_session_insertion_dict(f)"
   ]
  },
  {
   "cell_type": "code",
   "execution_count": 18,
   "metadata": {},
   "outputs": [],
   "source": [
    "def create_list_of_calibrations_in_node(h5_file, node):\n",
    "    calibrations = []\n",
    "    all_groups = create_list_of_items_in_node(\"group\", h5_file, node)\n",
    "    for group in all_groups:\n",
    "        if group[-6:-3] == 'cal':\n",
    "            calibrations.append(group)\n",
    "    return calibrations\n",
    "\n",
    "\n",
    "\n",
    "def create_session_calibration_dict(h5_file):\n",
    "    keys = list(h5_file.keys())\n",
    "    key_dict = {}\n",
    "    for key in keys:\n",
    "        key_dict[key] = create_list_of_calibrations_in_node(h5_file, key)\n",
    "    print(key_dict)\n",
    "    return key_dict\n"
   ]
  },
  {
   "cell_type": "code",
   "execution_count": 19,
   "metadata": {},
   "outputs": [
    {
     "name": "stdout",
     "output_type": "stream",
     "text": [
      "{'session001': ['cal001'], 'session002': ['cal001'], 'session003': ['cal001', 'cal002'], 'session004': ['cal001', 'cal002'], 'session005': ['cal001'], 'session006': ['cal001'], 'session007': ['cal001'], 'session008': ['cal001'], 'session009': ['cal001'], 'session010': ['cal001']}\n"
     ]
    }
   ],
   "source": [
    "cal_dict = create_session_calibration_dict(f)"
   ]
  },
  {
   "cell_type": "code",
   "execution_count": null,
   "metadata": {},
   "outputs": [],
   "source": []
  }
 ],
 "metadata": {
  "kernelspec": {
   "display_name": "Python 3",
   "language": "python",
   "name": "python3"
  },
  "language_info": {
   "codemirror_mode": {
    "name": "ipython",
    "version": 3
   },
   "file_extension": ".py",
   "mimetype": "text/x-python",
   "name": "python",
   "nbconvert_exporter": "python",
   "pygments_lexer": "ipython3",
   "version": "3.8.5"
  }
 },
 "nbformat": 4,
 "nbformat_minor": 4
}
