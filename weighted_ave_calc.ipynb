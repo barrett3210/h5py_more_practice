{
 "cells": [
  {
   "cell_type": "code",
   "execution_count": 1,
   "metadata": {},
   "outputs": [],
   "source": [
    "import pandas as pd\n",
    "import numpy as np\n",
    "import h5py\n",
    "import datetime\n",
    "import matplotlib.pyplot as plt\n",
    "from scipy import interpolate\n",
    "file_name = \"simulation_test2.h5\"\n",
    "f = h5py.File(file_name, \"r\")"
   ]
  },
  {
   "cell_type": "code",
   "execution_count": 2,
   "metadata": {},
   "outputs": [],
   "source": [
    "def create_list_of_datasets_in_h5file(h5_file):\n",
    "    \"\"\"\n",
    "    Returns a list of the paths of all datasets in an h5 file.\n",
    "    Can also be used to list all datasets under a given node (e.g., f['session001']).  In this case,\n",
    "    the 'session001' is not included in the output paths.\n",
    "    This comes from:\n",
    "    https://stackoverflow.com/questions/44883175/how-to-list-all-datasets-in-h5py-file\n",
    "    :param f:\n",
    "    :return:\n",
    "    \"\"\"\n",
    "    keys = []\n",
    "    h5_file.visit(lambda key: keys.append(key) if type(h5_file[key]) is h5py._hl.dataset.Dataset else None)\n",
    "    return keys\n",
    "\n",
    "\n",
    "def create_list_of_groups_in_node(node):\n",
    "    keys = []\n",
    "    node.visit(lambda key: keys.append(key) if type(node[key]) is h5py._hl.group.Group else None)\n",
    "    return keys\n",
    "\n",
    "def create_list_of_items_in_node(item_type, h5_file, node):\n",
    "    keys = []\n",
    "    if item_type == \"group\":\n",
    "        my_type = h5py._hl.group.Group\n",
    "    if item_type == \"dataset\":\n",
    "        my_type = h5py._hl.dataset.Dataset\n",
    "    h5_file[node].visit(lambda key: keys.append(key) if type(h5_file[node][key]) is my_type else None)\n",
    "    return keys\n",
    "\n",
    "def create_list_of_insertions_in_node(h5_file, node):\n",
    "    insertions = []\n",
    "    all_groups = create_list_of_items_in_node(\"group\", h5_file, node)\n",
    "    for group in all_groups:\n",
    "        if group[-6:-3] == 'ins':\n",
    "            insertions.append(group)\n",
    "    return insertions\n",
    "\n",
    "def create_session_insertion_dict(h5_file):\n",
    "    keys = list(h5_file.keys())\n",
    "    key_dict = {}\n",
    "    for key in keys:\n",
    "        # session_number = int(key[-3:])\n",
    "        key_dict[key] = create_list_of_insertions_in_node(h5_file, key)\n",
    "    print(key_dict)\n",
    "    return key_dict\n",
    "\n",
    "def create_list_of_calibrations_in_node(h5_file, node):\n",
    "    calibrations = []\n",
    "    all_groups = create_list_of_items_in_node(\"group\", h5_file, node)\n",
    "    for group in all_groups:\n",
    "        if group[-6:-3] == 'cal':\n",
    "            calibrations.append(group)\n",
    "    return calibrations\n",
    "\n",
    "\n",
    "def create_session_calibration_dict(h5_file):\n",
    "    keys = list(h5_file.keys())\n",
    "    key_dict = {}\n",
    "    for key in keys:\n",
    "        key_dict[key] = create_list_of_calibrations_in_node(h5_file, key)\n",
    "    print(key_dict)\n",
    "    return key_dict\n",
    "\n",
    "def get_wavelengths_vector(h5_file, session, insertion, spectrometer):\n",
    "    if spectrometer == \"spectrometer1\":\n",
    "        vector_attr = \"spec1_wavelengths_vector\"\n",
    "    elif spectrometer == \"spectrometer2\":\n",
    "        vector_attr = \"spec2_wavelengths_vector\"\n",
    "    else:\n",
    "        print(\"spectrometer not specified\")\n",
    "        vector_attr = \"\"\n",
    "\n",
    "    insertion_group = h5_file[f\"{session}/{insertion}\"]\n",
    "    wavelengths_vector = insertion_group.parent.attrs[vector_attr][:]\n",
    "    return wavelengths_vector\n",
    "\n",
    "def get_absorbance_spectra_in_insertion(h5_file, session, insertion):\n",
    "    absorbance_string = \"spectrometer1/derived/absorbances\"\n",
    "    absorbance_spectra = h5_file[f\"{session}/{insertion}/{absorbance_string}\"][:]\n",
    "    print(absorbance_spectra)\n",
    "    return absorbance_spectra\n",
    "\n",
    "def get_absorbance_spectra_and_depth_in_insertion(h5_file, session, insertion):\n",
    "    dset_string = \"derived/absorbance_depth\"\n",
    "    dset = h5_file[f\"{session}/{insertion}/{dset_string}\"]\n",
    "    absorbance_spectra = dset[:, :-2]\n",
    "    depths = dset[:, -1]\n",
    "    forces = dset[:, -2]\n",
    "    print(absorbance_spectra)\n",
    "    return absorbance_spectra, depths, forces\n",
    "\n",
    "def get_current_time():\n",
    "    return np.datetime64(datetime.datetime.now()).astype(np.int64)\n",
    "\n",
    "\n",
    "def timestamp_list_to_pandas_timestamps(timestamp_list):\n",
    "    series = pd.Series(timestamp_list).astype('<M8[us]')\n",
    "    return series\n"
   ]
  },
  {
   "cell_type": "code",
   "execution_count": 3,
   "metadata": {},
   "outputs": [
    {
     "data": {
      "text/plain": [
       "['session001',\n",
       " 'session001/cal001',\n",
       " 'session001/cal001/ins001',\n",
       " 'session001/cal001/ins001/derived',\n",
       " 'session001/cal001/ins001/encoder',\n",
       " 'session001/cal001/ins001/load_cell',\n",
       " 'session001/cal001/ins001/spectrometer1',\n",
       " 'session001/cal001/ins001/spectrometer1/derived',\n",
       " 'session001/cal001/ins002',\n",
       " 'session001/cal001/ins002/derived',\n",
       " 'session001/cal001/ins002/encoder',\n",
       " 'session001/cal001/ins002/load_cell',\n",
       " 'session001/cal001/ins002/spectrometer1',\n",
       " 'session001/cal001/ins002/spectrometer1/derived',\n",
       " 'session001/cal001/ins003',\n",
       " 'session001/cal001/ins003/derived',\n",
       " 'session001/cal001/ins003/encoder',\n",
       " 'session001/cal001/ins003/load_cell',\n",
       " 'session001/cal001/ins003/spectrometer1',\n",
       " 'session001/cal001/ins003/spectrometer1/derived',\n",
       " 'session001/cal002',\n",
       " 'session001/cal002/ins004',\n",
       " 'session001/cal002/ins004/derived',\n",
       " 'session001/cal002/ins004/encoder',\n",
       " 'session001/cal002/ins004/load_cell',\n",
       " 'session001/cal002/ins004/spectrometer1',\n",
       " 'session001/cal002/ins004/spectrometer1/derived',\n",
       " 'session001/cal002/ins005',\n",
       " 'session001/cal002/ins005/derived',\n",
       " 'session001/cal002/ins005/encoder',\n",
       " 'session001/cal002/ins005/load_cell',\n",
       " 'session001/cal002/ins005/spectrometer1',\n",
       " 'session001/cal002/ins005/spectrometer1/derived',\n",
       " 'session002',\n",
       " 'session002/cal001',\n",
       " 'session002/cal001/ins001',\n",
       " 'session002/cal001/ins001/derived',\n",
       " 'session002/cal001/ins001/encoder',\n",
       " 'session002/cal001/ins001/load_cell',\n",
       " 'session002/cal001/ins001/spectrometer1',\n",
       " 'session002/cal001/ins001/spectrometer1/derived',\n",
       " 'session002/cal001/ins002',\n",
       " 'session002/cal001/ins002/derived',\n",
       " 'session002/cal001/ins002/encoder',\n",
       " 'session002/cal001/ins002/load_cell',\n",
       " 'session002/cal001/ins002/spectrometer1',\n",
       " 'session002/cal001/ins002/spectrometer1/derived',\n",
       " 'session003',\n",
       " 'session003/cal001',\n",
       " 'session003/cal001/ins001',\n",
       " 'session003/cal001/ins001/derived',\n",
       " 'session003/cal001/ins001/encoder',\n",
       " 'session003/cal001/ins001/load_cell',\n",
       " 'session003/cal001/ins001/spectrometer1',\n",
       " 'session003/cal001/ins001/spectrometer1/derived',\n",
       " 'session003/cal001/ins002',\n",
       " 'session003/cal001/ins002/derived',\n",
       " 'session003/cal001/ins002/encoder',\n",
       " 'session003/cal001/ins002/load_cell',\n",
       " 'session003/cal001/ins002/spectrometer1',\n",
       " 'session003/cal001/ins002/spectrometer1/derived',\n",
       " 'session004',\n",
       " 'session005',\n",
       " 'session006',\n",
       " 'session006/cal001',\n",
       " 'session006/cal001/ins001',\n",
       " 'session006/cal001/ins001/derived',\n",
       " 'session006/cal001/ins001/encoder',\n",
       " 'session006/cal001/ins001/load_cell',\n",
       " 'session006/cal001/ins001/spectrometer1',\n",
       " 'session006/cal001/ins001/spectrometer1/derived',\n",
       " 'session007',\n",
       " 'session007/cal001',\n",
       " 'session007/cal001/ins001',\n",
       " 'session007/cal001/ins001/derived',\n",
       " 'session007/cal001/ins001/encoder',\n",
       " 'session007/cal001/ins001/load_cell',\n",
       " 'session007/cal001/ins001/spectrometer1',\n",
       " 'session007/cal001/ins001/spectrometer1/derived',\n",
       " 'session008',\n",
       " 'session008/cal001',\n",
       " 'session008/cal001/ins001',\n",
       " 'session008/cal001/ins001/derived',\n",
       " 'session008/cal001/ins001/encoder',\n",
       " 'session008/cal001/ins001/load_cell',\n",
       " 'session008/cal001/ins001/spectrometer1',\n",
       " 'session008/cal001/ins001/spectrometer1/derived',\n",
       " 'session009',\n",
       " 'session009/cal001',\n",
       " 'session009/cal001/ins001',\n",
       " 'session009/cal001/ins001/derived',\n",
       " 'session009/cal001/ins001/encoder',\n",
       " 'session009/cal001/ins001/load_cell',\n",
       " 'session009/cal001/ins001/spectrometer1',\n",
       " 'session009/cal001/ins001/spectrometer1/derived',\n",
       " 'session009/cal001/ins002',\n",
       " 'session009/cal001/ins002/derived',\n",
       " 'session009/cal001/ins002/encoder',\n",
       " 'session009/cal001/ins002/load_cell',\n",
       " 'session009/cal001/ins002/spectrometer1',\n",
       " 'session009/cal001/ins002/spectrometer1/derived',\n",
       " 'session010',\n",
       " 'session010/cal001',\n",
       " 'session010/cal001/ins001',\n",
       " 'session010/cal001/ins001/derived',\n",
       " 'session010/cal001/ins001/encoder',\n",
       " 'session010/cal001/ins001/load_cell',\n",
       " 'session010/cal001/ins001/spectrometer1',\n",
       " 'session010/cal001/ins001/spectrometer1/derived',\n",
       " 'session011',\n",
       " 'session011/cal001',\n",
       " 'session011/cal001/ins001',\n",
       " 'session011/cal001/ins001/derived',\n",
       " 'session011/cal001/ins001/encoder',\n",
       " 'session011/cal001/ins001/load_cell',\n",
       " 'session011/cal001/ins001/spectrometer1',\n",
       " 'session011/cal001/ins001/spectrometer1/derived',\n",
       " 'session012',\n",
       " 'session012/cal001',\n",
       " 'session012/cal001/ins001',\n",
       " 'session012/cal001/ins001/derived',\n",
       " 'session012/cal001/ins001/encoder',\n",
       " 'session012/cal001/ins001/load_cell',\n",
       " 'session012/cal001/ins001/spectrometer1',\n",
       " 'session012/cal001/ins001/spectrometer1/derived',\n",
       " 'session012/cal001/ins002',\n",
       " 'session012/cal001/ins002/derived',\n",
       " 'session012/cal001/ins002/encoder',\n",
       " 'session012/cal001/ins002/load_cell',\n",
       " 'session012/cal001/ins002/spectrometer1',\n",
       " 'session012/cal001/ins002/spectrometer1/derived',\n",
       " 'session012/cal001/ins003',\n",
       " 'session012/cal001/ins003/derived',\n",
       " 'session012/cal001/ins003/encoder',\n",
       " 'session012/cal001/ins003/load_cell',\n",
       " 'session012/cal001/ins003/spectrometer1',\n",
       " 'session012/cal001/ins003/spectrometer1/derived',\n",
       " 'session012/cal001/ins004',\n",
       " 'session012/cal001/ins004/derived',\n",
       " 'session012/cal001/ins004/encoder',\n",
       " 'session012/cal001/ins004/load_cell',\n",
       " 'session012/cal001/ins004/spectrometer1',\n",
       " 'session012/cal001/ins004/spectrometer1/derived']"
      ]
     },
     "execution_count": 3,
     "metadata": {},
     "output_type": "execute_result"
    }
   ],
   "source": [
    "groups = create_list_of_groups_in_node(f)\n",
    "groups"
   ]
  },
  {
   "cell_type": "code",
   "execution_count": 4,
   "metadata": {},
   "outputs": [],
   "source": [
    "insertion = 'session012/cal001/ins003'"
   ]
  },
  {
   "cell_type": "code",
   "execution_count": 5,
   "metadata": {},
   "outputs": [],
   "source": [
    "dsets = create_list_of_datasets_in_h5file(f)"
   ]
  },
  {
   "cell_type": "code",
   "execution_count": 6,
   "metadata": {},
   "outputs": [
    {
     "data": {
      "text/plain": [
       "['session001/cal001/ins001/derived/absorbance_depth',\n",
       " 'session001/cal001/ins001/derived/absorbance_depth_timestamps',\n",
       " 'session001/cal001/ins001/derived/force_depth',\n",
       " 'session001/cal001/ins001/derived/force_depth_timestamps',\n",
       " 'session001/cal001/ins001/encoder/depths',\n",
       " 'session001/cal001/ins001/encoder/timestamps',\n",
       " 'session001/cal001/ins001/load_cell/forces',\n",
       " 'session001/cal001/ins001/load_cell/timestamps',\n",
       " 'session001/cal001/ins001/spectrometer1/derived/absorbances',\n",
       " 'session001/cal001/ins001/spectrometer1/spectra',\n",
       " 'session001/cal001/ins001/spectrometer1/timestamps',\n",
       " 'session001/cal001/ins002/derived/absorbance_depth',\n",
       " 'session001/cal001/ins002/derived/absorbance_depth_timestamps',\n",
       " 'session001/cal001/ins002/derived/force_depth',\n",
       " 'session001/cal001/ins002/derived/force_depth_timestamps',\n",
       " 'session001/cal001/ins002/encoder/depths',\n",
       " 'session001/cal001/ins002/encoder/timestamps',\n",
       " 'session001/cal001/ins002/load_cell/forces',\n",
       " 'session001/cal001/ins002/load_cell/timestamps',\n",
       " 'session001/cal001/ins002/spectrometer1/derived/absorbances',\n",
       " 'session001/cal001/ins002/spectrometer1/spectra',\n",
       " 'session001/cal001/ins002/spectrometer1/timestamps',\n",
       " 'session001/cal001/ins003/derived/absorbance_depth',\n",
       " 'session001/cal001/ins003/derived/absorbance_depth_timestamps',\n",
       " 'session001/cal001/ins003/derived/force_depth',\n",
       " 'session001/cal001/ins003/derived/force_depth_timestamps',\n",
       " 'session001/cal001/ins003/encoder/depths',\n",
       " 'session001/cal001/ins003/encoder/timestamps',\n",
       " 'session001/cal001/ins003/load_cell/forces',\n",
       " 'session001/cal001/ins003/load_cell/timestamps',\n",
       " 'session001/cal001/ins003/spectrometer1/derived/absorbances',\n",
       " 'session001/cal001/ins003/spectrometer1/spectra',\n",
       " 'session001/cal001/ins003/spectrometer1/timestamps',\n",
       " 'session001/cal002/ins004/derived/absorbance_depth',\n",
       " 'session001/cal002/ins004/derived/absorbance_depth_timestamps',\n",
       " 'session001/cal002/ins004/derived/force_depth',\n",
       " 'session001/cal002/ins004/derived/force_depth_timestamps',\n",
       " 'session001/cal002/ins004/encoder/depths',\n",
       " 'session001/cal002/ins004/encoder/timestamps',\n",
       " 'session001/cal002/ins004/load_cell/forces',\n",
       " 'session001/cal002/ins004/load_cell/timestamps',\n",
       " 'session001/cal002/ins004/spectrometer1/derived/absorbances',\n",
       " 'session001/cal002/ins004/spectrometer1/spectra',\n",
       " 'session001/cal002/ins004/spectrometer1/timestamps',\n",
       " 'session001/cal002/ins005/derived/absorbance_depth',\n",
       " 'session001/cal002/ins005/derived/absorbance_depth_timestamps',\n",
       " 'session001/cal002/ins005/derived/force_depth',\n",
       " 'session001/cal002/ins005/derived/force_depth_timestamps',\n",
       " 'session001/cal002/ins005/encoder/depths',\n",
       " 'session001/cal002/ins005/encoder/timestamps',\n",
       " 'session001/cal002/ins005/load_cell/forces',\n",
       " 'session001/cal002/ins005/load_cell/timestamps',\n",
       " 'session001/cal002/ins005/spectrometer1/derived/absorbances',\n",
       " 'session001/cal002/ins005/spectrometer1/spectra',\n",
       " 'session001/cal002/ins005/spectrometer1/timestamps',\n",
       " 'session002/cal001/ins001/derived/absorbance_depth',\n",
       " 'session002/cal001/ins001/derived/absorbance_depth_timestamps',\n",
       " 'session002/cal001/ins001/derived/force_depth',\n",
       " 'session002/cal001/ins001/derived/force_depth_timestamps',\n",
       " 'session002/cal001/ins001/encoder/depths',\n",
       " 'session002/cal001/ins001/encoder/timestamps',\n",
       " 'session002/cal001/ins001/load_cell/forces',\n",
       " 'session002/cal001/ins001/load_cell/timestamps',\n",
       " 'session002/cal001/ins001/spectrometer1/derived/absorbances',\n",
       " 'session002/cal001/ins001/spectrometer1/spectra',\n",
       " 'session002/cal001/ins001/spectrometer1/timestamps',\n",
       " 'session002/cal001/ins002/derived/absorbance_depth',\n",
       " 'session002/cal001/ins002/derived/absorbance_depth_timestamps',\n",
       " 'session002/cal001/ins002/derived/force_depth',\n",
       " 'session002/cal001/ins002/derived/force_depth_timestamps',\n",
       " 'session002/cal001/ins002/encoder/depths',\n",
       " 'session002/cal001/ins002/encoder/timestamps',\n",
       " 'session002/cal001/ins002/load_cell/forces',\n",
       " 'session002/cal001/ins002/load_cell/timestamps',\n",
       " 'session002/cal001/ins002/spectrometer1/derived/absorbances',\n",
       " 'session002/cal001/ins002/spectrometer1/spectra',\n",
       " 'session002/cal001/ins002/spectrometer1/timestamps',\n",
       " 'session003/cal001/ins001/derived/absorbance_depth',\n",
       " 'session003/cal001/ins001/derived/absorbance_depth_timestamps',\n",
       " 'session003/cal001/ins001/derived/force_depth',\n",
       " 'session003/cal001/ins001/derived/force_depth_timestamps',\n",
       " 'session003/cal001/ins001/encoder/depths',\n",
       " 'session003/cal001/ins001/encoder/timestamps',\n",
       " 'session003/cal001/ins001/load_cell/forces',\n",
       " 'session003/cal001/ins001/load_cell/timestamps',\n",
       " 'session003/cal001/ins001/spectrometer1/derived/absorbances',\n",
       " 'session003/cal001/ins001/spectrometer1/spectra',\n",
       " 'session003/cal001/ins001/spectrometer1/timestamps',\n",
       " 'session003/cal001/ins002/derived/absorbance_depth',\n",
       " 'session003/cal001/ins002/derived/absorbance_depth_timestamps',\n",
       " 'session003/cal001/ins002/derived/force_depth',\n",
       " 'session003/cal001/ins002/derived/force_depth_timestamps',\n",
       " 'session003/cal001/ins002/encoder/depths',\n",
       " 'session003/cal001/ins002/encoder/timestamps',\n",
       " 'session003/cal001/ins002/load_cell/forces',\n",
       " 'session003/cal001/ins002/load_cell/timestamps',\n",
       " 'session003/cal001/ins002/spectrometer1/derived/absorbances',\n",
       " 'session003/cal001/ins002/spectrometer1/spectra',\n",
       " 'session003/cal001/ins002/spectrometer1/timestamps',\n",
       " 'session006/cal001/ins001/derived/absorbance_depth',\n",
       " 'session006/cal001/ins001/derived/absorbance_depth_timestamps',\n",
       " 'session006/cal001/ins001/derived/force_depth',\n",
       " 'session006/cal001/ins001/derived/force_depth_timestamps',\n",
       " 'session006/cal001/ins001/encoder/depths',\n",
       " 'session006/cal001/ins001/encoder/timestamps',\n",
       " 'session006/cal001/ins001/load_cell/forces',\n",
       " 'session006/cal001/ins001/load_cell/timestamps',\n",
       " 'session006/cal001/ins001/spectrometer1/derived/absorbances',\n",
       " 'session006/cal001/ins001/spectrometer1/spectra',\n",
       " 'session006/cal001/ins001/spectrometer1/timestamps',\n",
       " 'session007/cal001/ins001/derived/absorbance_depth',\n",
       " 'session007/cal001/ins001/derived/absorbance_depth_timestamps',\n",
       " 'session007/cal001/ins001/derived/force_depth',\n",
       " 'session007/cal001/ins001/derived/force_depth_timestamps',\n",
       " 'session007/cal001/ins001/encoder/depths',\n",
       " 'session007/cal001/ins001/encoder/timestamps',\n",
       " 'session007/cal001/ins001/load_cell/forces',\n",
       " 'session007/cal001/ins001/load_cell/timestamps',\n",
       " 'session007/cal001/ins001/spectrometer1/derived/absorbances',\n",
       " 'session007/cal001/ins001/spectrometer1/spectra',\n",
       " 'session007/cal001/ins001/spectrometer1/timestamps',\n",
       " 'session008/cal001/ins001/derived/absorbance_depth',\n",
       " 'session008/cal001/ins001/derived/absorbance_depth_timestamps',\n",
       " 'session008/cal001/ins001/derived/force_depth',\n",
       " 'session008/cal001/ins001/derived/force_depth_timestamps',\n",
       " 'session008/cal001/ins001/encoder/depths',\n",
       " 'session008/cal001/ins001/encoder/timestamps',\n",
       " 'session008/cal001/ins001/load_cell/forces',\n",
       " 'session008/cal001/ins001/load_cell/timestamps',\n",
       " 'session008/cal001/ins001/spectrometer1/derived/absorbances',\n",
       " 'session008/cal001/ins001/spectrometer1/spectra',\n",
       " 'session008/cal001/ins001/spectrometer1/timestamps',\n",
       " 'session009/cal001/ins001/derived/absorbance_depth',\n",
       " 'session009/cal001/ins001/derived/absorbance_depth_timestamps',\n",
       " 'session009/cal001/ins001/derived/force_depth',\n",
       " 'session009/cal001/ins001/derived/force_depth_timestamps',\n",
       " 'session009/cal001/ins001/encoder/depths',\n",
       " 'session009/cal001/ins001/encoder/timestamps',\n",
       " 'session009/cal001/ins001/load_cell/forces',\n",
       " 'session009/cal001/ins001/load_cell/timestamps',\n",
       " 'session009/cal001/ins001/spectrometer1/derived/absorbances',\n",
       " 'session009/cal001/ins001/spectrometer1/spectra',\n",
       " 'session009/cal001/ins001/spectrometer1/timestamps',\n",
       " 'session009/cal001/ins002/derived/absorbance_depth',\n",
       " 'session009/cal001/ins002/derived/absorbance_depth_timestamps',\n",
       " 'session009/cal001/ins002/derived/force_depth',\n",
       " 'session009/cal001/ins002/derived/force_depth_timestamps',\n",
       " 'session009/cal001/ins002/encoder/depths',\n",
       " 'session009/cal001/ins002/encoder/timestamps',\n",
       " 'session009/cal001/ins002/load_cell/forces',\n",
       " 'session009/cal001/ins002/load_cell/timestamps',\n",
       " 'session009/cal001/ins002/spectrometer1/derived/absorbances',\n",
       " 'session009/cal001/ins002/spectrometer1/spectra',\n",
       " 'session009/cal001/ins002/spectrometer1/timestamps',\n",
       " 'session010/cal001/ins001/derived/absorbance_depth',\n",
       " 'session010/cal001/ins001/derived/absorbance_depth_timestamps',\n",
       " 'session010/cal001/ins001/derived/force_depth',\n",
       " 'session010/cal001/ins001/derived/force_depth_timestamps',\n",
       " 'session010/cal001/ins001/encoder/depths',\n",
       " 'session010/cal001/ins001/encoder/timestamps',\n",
       " 'session010/cal001/ins001/load_cell/forces',\n",
       " 'session010/cal001/ins001/load_cell/timestamps',\n",
       " 'session010/cal001/ins001/spectrometer1/derived/absorbances',\n",
       " 'session010/cal001/ins001/spectrometer1/spectra',\n",
       " 'session010/cal001/ins001/spectrometer1/timestamps',\n",
       " 'session011/cal001/ins001/derived/absorbance_depth',\n",
       " 'session011/cal001/ins001/derived/absorbance_depth_timestamps',\n",
       " 'session011/cal001/ins001/derived/force_depth',\n",
       " 'session011/cal001/ins001/derived/force_depth_timestamps',\n",
       " 'session011/cal001/ins001/encoder/depths',\n",
       " 'session011/cal001/ins001/encoder/timestamps',\n",
       " 'session011/cal001/ins001/load_cell/forces',\n",
       " 'session011/cal001/ins001/load_cell/timestamps',\n",
       " 'session011/cal001/ins001/spectrometer1/derived/absorbances',\n",
       " 'session011/cal001/ins001/spectrometer1/spectra',\n",
       " 'session011/cal001/ins001/spectrometer1/timestamps',\n",
       " 'session012/cal001/ins001/derived/absorbance_depth',\n",
       " 'session012/cal001/ins001/derived/absorbance_depth_timestamps',\n",
       " 'session012/cal001/ins001/derived/force_depth',\n",
       " 'session012/cal001/ins001/derived/force_depth_timestamps',\n",
       " 'session012/cal001/ins001/encoder/depths',\n",
       " 'session012/cal001/ins001/encoder/timestamps',\n",
       " 'session012/cal001/ins001/load_cell/forces',\n",
       " 'session012/cal001/ins001/load_cell/timestamps',\n",
       " 'session012/cal001/ins001/spectrometer1/derived/absorbances',\n",
       " 'session012/cal001/ins001/spectrometer1/spectra',\n",
       " 'session012/cal001/ins001/spectrometer1/timestamps',\n",
       " 'session012/cal001/ins002/derived/absorbance_depth',\n",
       " 'session012/cal001/ins002/derived/absorbance_depth_timestamps',\n",
       " 'session012/cal001/ins002/derived/force_depth',\n",
       " 'session012/cal001/ins002/derived/force_depth_timestamps',\n",
       " 'session012/cal001/ins002/encoder/depths',\n",
       " 'session012/cal001/ins002/encoder/timestamps',\n",
       " 'session012/cal001/ins002/load_cell/forces',\n",
       " 'session012/cal001/ins002/load_cell/timestamps',\n",
       " 'session012/cal001/ins002/spectrometer1/derived/absorbances',\n",
       " 'session012/cal001/ins002/spectrometer1/spectra',\n",
       " 'session012/cal001/ins002/spectrometer1/timestamps',\n",
       " 'session012/cal001/ins003/derived/absorbance_depth',\n",
       " 'session012/cal001/ins003/derived/absorbance_depth_timestamps',\n",
       " 'session012/cal001/ins003/derived/force_depth',\n",
       " 'session012/cal001/ins003/derived/force_depth_timestamps',\n",
       " 'session012/cal001/ins003/encoder/depths',\n",
       " 'session012/cal001/ins003/encoder/timestamps',\n",
       " 'session012/cal001/ins003/load_cell/forces',\n",
       " 'session012/cal001/ins003/load_cell/timestamps',\n",
       " 'session012/cal001/ins003/spectrometer1/derived/absorbances',\n",
       " 'session012/cal001/ins003/spectrometer1/spectra',\n",
       " 'session012/cal001/ins003/spectrometer1/timestamps',\n",
       " 'session012/cal001/ins004/derived/absorbance_depth',\n",
       " 'session012/cal001/ins004/derived/absorbance_depth_timestamps',\n",
       " 'session012/cal001/ins004/derived/force_depth',\n",
       " 'session012/cal001/ins004/derived/force_depth_timestamps',\n",
       " 'session012/cal001/ins004/encoder/depths',\n",
       " 'session012/cal001/ins004/encoder/timestamps',\n",
       " 'session012/cal001/ins004/load_cell/forces',\n",
       " 'session012/cal001/ins004/load_cell/timestamps',\n",
       " 'session012/cal001/ins004/spectrometer1/derived/absorbances',\n",
       " 'session012/cal001/ins004/spectrometer1/spectra',\n",
       " 'session012/cal001/ins004/spectrometer1/timestamps']"
      ]
     },
     "execution_count": 6,
     "metadata": {},
     "output_type": "execute_result"
    }
   ],
   "source": [
    "dsets"
   ]
  },
  {
   "cell_type": "code",
   "execution_count": 7,
   "metadata": {},
   "outputs": [],
   "source": [
    "forces = 'session012/cal001/ins003/load_cell/forces'\n",
    "force_timestamps = 'session012/cal001/ins003/load_cell/timestamps'\n",
    "depths = 'session012/cal001/ins003/encoder/depths'\n",
    "depth_timestamps = 'session012/cal001/ins003/encoder/timestamps'\n",
    "force_depth = 'session012/cal001/ins003/derived/force_depth'\n",
    "force_depth_timestamps = 'session012/cal001/ins003/derived/force_depth_timestamps'"
   ]
  },
  {
   "cell_type": "code",
   "execution_count": 8,
   "metadata": {},
   "outputs": [
    {
     "name": "stdout",
     "output_type": "stream",
     "text": [
      "[29.03639952 44.59432639 50.03308722 57.18437758 28.24391123 66.92099891\n",
      " 61.30141462 35.35176692 36.50895081 67.96905686 36.06301434 47.16921006\n",
      " 49.50661281 60.97937832 66.18823187 55.18490803 50.68878626 70.2930916\n",
      " 36.81851123 48.828937   50.88855765 47.63463325 39.14291858 54.92460536\n",
      " 78.52665892 44.25279792 40.58881471 34.54808736 43.80504902 49.73265713\n",
      " 50.11622226 41.80005453 60.72694916 52.92111244 55.70904996 70.04922733\n",
      " 69.52077824 53.75571115 57.89832857 29.57652527 41.73661567 50.84832362\n",
      " 56.60477145 27.50895558 48.33527745 64.08815095 57.73907769 55.08365969\n",
      " 55.55558208 67.30239137 75.80104558 53.7546155  41.30319049 59.71935205\n",
      " 54.95027841 60.02520865 74.05428648 22.72559107 62.4104803  56.46078439\n",
      " 60.4797313  70.52805545 37.36613492 41.38051747 53.26402307 48.27332609\n",
      " 64.45259334 57.78216544 44.33686664 53.43822676 57.40801943 52.22873994\n",
      " 56.70682361 64.33763003 62.53099505 60.24336558 57.76200295 44.68363074\n",
      " 64.14807149 28.02542686 34.55366819 74.70179546 56.64581284 47.87038231\n",
      " 33.55902992 49.19886615 69.50176325 41.33606119 40.53653187 50.96959953\n",
      " 64.8345375  49.95236415 42.43870444]\n"
     ]
    }
   ],
   "source": [
    "print(f[forces][:])"
   ]
  },
  {
   "cell_type": "code",
   "execution_count": 9,
   "metadata": {},
   "outputs": [
    {
     "name": "stdout",
     "output_type": "stream",
     "text": [
      "[[29.03639952  0.20817084]\n",
      " [44.59432639  1.71897576]\n",
      " [50.03308722  3.00710685]\n",
      " [57.18437758  4.0395378 ]\n",
      " [28.24391123  4.63207915]\n",
      " [66.92099891  5.31877957]\n",
      " [61.30141462  6.42624345]\n",
      " [35.35176692  7.20797875]\n",
      " [36.50895081  8.09628373]\n",
      " [67.96905686  9.19228764]\n",
      " [36.06301434  9.79437677]\n",
      " [47.16921006 11.46285882]\n",
      " [49.50661281 12.9869372 ]\n",
      " [60.97937832 14.05760305]\n",
      " [66.18823187 14.86853539]\n",
      " [55.18490803 16.11810841]\n",
      " [50.68878626 17.31931317]\n",
      " [70.2930916  18.08892355]\n",
      " [36.81851123 19.08876747]\n",
      " [48.828937   20.13852631]\n",
      " [50.88855765 20.90147065]\n",
      " [47.63463325 22.09474473]\n",
      " [39.14291858 23.02013552]\n",
      " [54.92460536 24.19472884]\n",
      " [78.52665892 24.82899315]\n",
      " [44.25279792 25.8640615 ]\n",
      " [40.58881471 26.90221924]\n",
      " [34.54808736 27.85681101]\n",
      " [43.80504902 29.16027283]\n",
      " [49.73265713 30.08048713]\n",
      " [50.11622226 31.47707257]\n",
      " [41.80005453 32.41993202]\n",
      " [60.72694916 33.65176493]\n",
      " [52.92111244 34.6399476 ]\n",
      " [55.70904996 35.85810236]\n",
      " [70.04922733 36.85313467]\n",
      " [69.52077824 38.36064205]\n",
      " [53.75571115 39.36703939]\n",
      " [57.89832857 40.92705594]\n",
      " [29.57652527 42.25618612]\n",
      " [41.73661567 43.13952095]\n",
      " [50.84832362 44.22038111]\n",
      " [56.60477145 45.75940643]\n",
      " [27.50895558 46.56726274]\n",
      " [48.33527745 47.80870499]\n",
      " [64.08815095 48.76540253]\n",
      " [57.73907769 50.07822417]\n",
      " [55.08365969 51.22013996]\n",
      " [55.55558208 51.91809338]\n",
      " [67.30239137 53.03521615]\n",
      " [75.80104558 54.26928688]\n",
      " [53.7546155  55.29312886]\n",
      " [41.30319049 56.68939098]\n",
      " [59.71935205 57.71881115]\n",
      " [54.95027841 58.30546535]\n",
      " [60.02520865 59.11394103]\n",
      " [74.05428648 60.18840782]\n",
      " [22.72559107 61.63613062]\n",
      " [62.4104803  62.72187059]\n",
      " [56.46078439 64.31842478]\n",
      " [60.4797313  65.37397598]\n",
      " [70.52805545 66.12852089]\n",
      " [37.36613492 67.56111512]\n",
      " [41.38051747 67.95776718]\n",
      " [53.26402307 69.05914673]\n",
      " [48.27332609 69.80445681]\n",
      " [64.45259334 70.40548343]\n",
      " [57.78216544 71.96052662]\n",
      " [44.33686664 72.76832615]\n",
      " [53.43822676 73.65067446]\n",
      " [57.40801943 74.35340311]\n",
      " [52.22873994 75.44819845]\n",
      " [56.70682361 76.57238651]\n",
      " [64.33763003 77.39904824]\n",
      " [62.53099505 78.73250395]\n",
      " [60.24336558 79.62759072]\n",
      " [57.76200295 80.5495283 ]\n",
      " [44.68363074 81.73882149]\n",
      " [64.14807149 82.99430192]\n",
      " [28.02542686 83.92771805]\n",
      " [34.55366819 84.734879  ]\n",
      " [74.70179546 85.66300548]\n",
      " [56.64581284 87.05146611]\n",
      " [47.87038231 87.66052041]\n",
      " [33.55902992 88.85511272]\n",
      " [49.19886615 89.84044192]\n",
      " [69.50176325 91.32071937]\n",
      " [41.33606119 92.33230592]\n",
      " [40.53653187 93.75913846]\n",
      " [50.96959953 94.45680687]\n",
      " [64.8345375  95.199589  ]\n",
      " [49.95236415 96.37043903]\n",
      " [42.43870444 97.2771643 ]]\n"
     ]
    }
   ],
   "source": [
    "print(f[force_depth][:])"
   ]
  },
  {
   "cell_type": "code",
   "execution_count": 10,
   "metadata": {},
   "outputs": [],
   "source": [
    "force = f[force_depth][:, 0]"
   ]
  },
  {
   "cell_type": "code",
   "execution_count": 11,
   "metadata": {},
   "outputs": [
    {
     "data": {
      "text/plain": [
       "array([29.03639952, 44.59432639, 50.03308722, 57.18437758, 28.24391123,\n",
       "       66.92099891, 61.30141462, 35.35176692, 36.50895081, 67.96905686,\n",
       "       36.06301434, 47.16921006, 49.50661281, 60.97937832, 66.18823187,\n",
       "       55.18490803, 50.68878626, 70.2930916 , 36.81851123, 48.828937  ,\n",
       "       50.88855765, 47.63463325, 39.14291858, 54.92460536, 78.52665892,\n",
       "       44.25279792, 40.58881471, 34.54808736, 43.80504902, 49.73265713,\n",
       "       50.11622226, 41.80005453, 60.72694916, 52.92111244, 55.70904996,\n",
       "       70.04922733, 69.52077824, 53.75571115, 57.89832857, 29.57652527,\n",
       "       41.73661567, 50.84832362, 56.60477145, 27.50895558, 48.33527745,\n",
       "       64.08815095, 57.73907769, 55.08365969, 55.55558208, 67.30239137,\n",
       "       75.80104558, 53.7546155 , 41.30319049, 59.71935205, 54.95027841,\n",
       "       60.02520865, 74.05428648, 22.72559107, 62.4104803 , 56.46078439,\n",
       "       60.4797313 , 70.52805545, 37.36613492, 41.38051747, 53.26402307,\n",
       "       48.27332609, 64.45259334, 57.78216544, 44.33686664, 53.43822676,\n",
       "       57.40801943, 52.22873994, 56.70682361, 64.33763003, 62.53099505,\n",
       "       60.24336558, 57.76200295, 44.68363074, 64.14807149, 28.02542686,\n",
       "       34.55366819, 74.70179546, 56.64581284, 47.87038231, 33.55902992,\n",
       "       49.19886615, 69.50176325, 41.33606119, 40.53653187, 50.96959953,\n",
       "       64.8345375 , 49.95236415, 42.43870444])"
      ]
     },
     "execution_count": 11,
     "metadata": {},
     "output_type": "execute_result"
    }
   ],
   "source": [
    "force"
   ]
  },
  {
   "cell_type": "code",
   "execution_count": 12,
   "metadata": {},
   "outputs": [],
   "source": [
    "depth = f[force_depth][:, 1]"
   ]
  },
  {
   "cell_type": "code",
   "execution_count": 13,
   "metadata": {},
   "outputs": [
    {
     "data": {
      "text/plain": [
       "array([ 0.20817084,  1.71897576,  3.00710685,  4.0395378 ,  4.63207915,\n",
       "        5.31877957,  6.42624345,  7.20797875,  8.09628373,  9.19228764,\n",
       "        9.79437677, 11.46285882, 12.9869372 , 14.05760305, 14.86853539,\n",
       "       16.11810841, 17.31931317, 18.08892355, 19.08876747, 20.13852631,\n",
       "       20.90147065, 22.09474473, 23.02013552, 24.19472884, 24.82899315,\n",
       "       25.8640615 , 26.90221924, 27.85681101, 29.16027283, 30.08048713,\n",
       "       31.47707257, 32.41993202, 33.65176493, 34.6399476 , 35.85810236,\n",
       "       36.85313467, 38.36064205, 39.36703939, 40.92705594, 42.25618612,\n",
       "       43.13952095, 44.22038111, 45.75940643, 46.56726274, 47.80870499,\n",
       "       48.76540253, 50.07822417, 51.22013996, 51.91809338, 53.03521615,\n",
       "       54.26928688, 55.29312886, 56.68939098, 57.71881115, 58.30546535,\n",
       "       59.11394103, 60.18840782, 61.63613062, 62.72187059, 64.31842478,\n",
       "       65.37397598, 66.12852089, 67.56111512, 67.95776718, 69.05914673,\n",
       "       69.80445681, 70.40548343, 71.96052662, 72.76832615, 73.65067446,\n",
       "       74.35340311, 75.44819845, 76.57238651, 77.39904824, 78.73250395,\n",
       "       79.62759072, 80.5495283 , 81.73882149, 82.99430192, 83.92771805,\n",
       "       84.734879  , 85.66300548, 87.05146611, 87.66052041, 88.85511272,\n",
       "       89.84044192, 91.32071937, 92.33230592, 93.75913846, 94.45680687,\n",
       "       95.199589  , 96.37043903, 97.2771643 ])"
      ]
     },
     "execution_count": 13,
     "metadata": {},
     "output_type": "execute_result"
    }
   ],
   "source": [
    "depth"
   ]
  },
  {
   "cell_type": "code",
   "execution_count": 14,
   "metadata": {},
   "outputs": [
    {
     "data": {
      "text/plain": [
       "[<matplotlib.lines.Line2D at 0x7ff4cec1cf10>]"
      ]
     },
     "execution_count": 14,
     "metadata": {},
     "output_type": "execute_result"
    },
    {
     "data": {
      "image/png": "[encoded data removed]",
      "text/plain": [
       "<Figure size 432x288 with 1 Axes>"
      ]
     },
     "metadata": {
      "needs_background": "light"
     },
     "output_type": "display_data"
    }
   ],
   "source": [
    "plt.plot(force, depth)"
   ]
  },
  {
   "cell_type": "code",
   "execution_count": 15,
   "metadata": {},
   "outputs": [],
   "source": [
    "interp_f = interpolate.interp1d(depth, force, kind='linear', fill_value='extrapolate')"
   ]
  },
  {
   "cell_type": "code",
   "execution_count": 16,
   "metadata": {},
   "outputs": [],
   "source": [
    "regular_depths = np.arange(0.0, 100.0, 5.0)"
   ]
  },
  {
   "cell_type": "code",
   "execution_count": 17,
   "metadata": {},
   "outputs": [
    {
     "data": {
      "text/plain": [
       "array([ 0.,  5., 10., 15., 20., 25., 30., 35., 40., 45., 50., 55., 60.,\n",
       "       65., 70., 75., 80., 85., 90., 95.])"
      ]
     },
     "execution_count": 17,
     "metadata": {},
     "output_type": "execute_result"
    }
   ],
   "source": [
    "regular_depths"
   ]
  },
  {
   "cell_type": "code",
   "execution_count": 18,
   "metadata": {},
   "outputs": [],
   "source": [
    "new_force = interp_f(regular_depths)"
   ]
  },
  {
   "cell_type": "code",
   "execution_count": 19,
   "metadata": {},
   "outputs": [
    {
     "data": {
      "text/plain": [
       "[<matplotlib.lines.Line2D at 0x7ff4cee4edf0>]"
      ]
     },
     "execution_count": 19,
     "metadata": {},
     "output_type": "execute_result"
    },
    {
     "data": {
      "image/png": "[encoded data removed]",
      "text/plain": [
       "<Figure size 432x288 with 1 Axes>"
      ]
     },
     "metadata": {
      "needs_background": "light"
     },
     "output_type": "display_data"
    }
   ],
   "source": [
    "plt.plot(depth, force)\n",
    "plt.plot(regular_depths, new_force)"
   ]
  },
  {
   "cell_type": "code",
   "execution_count": 20,
   "metadata": {},
   "outputs": [],
   "source": [
    "interp_f_slinear = interpolate.interp1d(depth, force, kind='slinear', fill_value='extrapolate')"
   ]
  },
  {
   "cell_type": "code",
   "execution_count": 21,
   "metadata": {},
   "outputs": [],
   "source": [
    "slinear_force = interp_f_slinear(regular_depths)"
   ]
  },
  {
   "cell_type": "code",
   "execution_count": 22,
   "metadata": {},
   "outputs": [
    {
     "data": {
      "text/plain": [
       "[<matplotlib.lines.Line2D at 0x7ff4cef0b280>]"
      ]
     },
     "execution_count": 22,
     "metadata": {},
     "output_type": "execute_result"
    },
    {
     "data": {
      "image/png": "[encoded data removed]",
      "text/plain": [
       "<Figure size 432x288 with 1 Axes>"
      ]
     },
     "metadata": {
      "needs_background": "light"
     },
     "output_type": "display_data"
    }
   ],
   "source": [
    "plt.plot(depth, force)\n",
    "plt.plot(regular_depths, slinear_force, \"-o\")"
   ]
  },
  {
   "cell_type": "code",
   "execution_count": 23,
   "metadata": {},
   "outputs": [],
   "source": [
    "min_depth = 0.0\n",
    "max_depth = 100.0\n",
    "step_size = 5.0"
   ]
  },
  {
   "cell_type": "code",
   "execution_count": 24,
   "metadata": {},
   "outputs": [],
   "source": [
    "bin_centers = np.arange((min_depth + (step_size/2)), max_depth, step_size)"
   ]
  },
  {
   "cell_type": "code",
   "execution_count": 25,
   "metadata": {},
   "outputs": [
    {
     "data": {
      "text/plain": [
       "array([ 2.5,  7.5, 12.5, 17.5, 22.5, 27.5, 32.5, 37.5, 42.5, 47.5, 52.5,\n",
       "       57.5, 62.5, 67.5, 72.5, 77.5, 82.5, 87.5, 92.5, 97.5])"
      ]
     },
     "execution_count": 25,
     "metadata": {},
     "output_type": "execute_result"
    }
   ],
   "source": [
    "bin_centers"
   ]
  },
  {
   "cell_type": "code",
   "execution_count": 26,
   "metadata": {},
   "outputs": [],
   "source": [
    "bin_center = bin_centers[2]\n",
    "bin_min = bin_center - step_size/2\n",
    "bin_max = bin_center + step_size/2\n"
   ]
  },
  {
   "cell_type": "code",
   "execution_count": 27,
   "metadata": {},
   "outputs": [],
   "source": [
    "depths_min = depth - bin_min"
   ]
  },
  {
   "cell_type": "code",
   "execution_count": 28,
   "metadata": {},
   "outputs": [
    {
     "data": {
      "text/plain": [
       "array([-9.79182916, -8.28102424, -6.99289315, -5.9604622 , -5.36792085,\n",
       "       -4.68122043, -3.57375655, -2.79202125, -1.90371627, -0.80771236,\n",
       "       -0.20562323,  1.46285882,  2.9869372 ,  4.05760305,  4.86853539,\n",
       "        6.11810841,  7.31931317,  8.08892355,  9.08876747, 10.13852631,\n",
       "       10.90147065, 12.09474473, 13.02013552, 14.19472884, 14.82899315,\n",
       "       15.8640615 , 16.90221924, 17.85681101, 19.16027283, 20.08048713,\n",
       "       21.47707257, 22.41993202, 23.65176493, 24.6399476 , 25.85810236,\n",
       "       26.85313467, 28.36064205, 29.36703939, 30.92705594, 32.25618612,\n",
       "       33.13952095, 34.22038111, 35.75940643, 36.56726274, 37.80870499,\n",
       "       38.76540253, 40.07822417, 41.22013996, 41.91809338, 43.03521615,\n",
       "       44.26928688, 45.29312886, 46.68939098, 47.71881115, 48.30546535,\n",
       "       49.11394103, 50.18840782, 51.63613062, 52.72187059, 54.31842478,\n",
       "       55.37397598, 56.12852089, 57.56111512, 57.95776718, 59.05914673,\n",
       "       59.80445681, 60.40548343, 61.96052662, 62.76832615, 63.65067446,\n",
       "       64.35340311, 65.44819845, 66.57238651, 67.39904824, 68.73250395,\n",
       "       69.62759072, 70.5495283 , 71.73882149, 72.99430192, 73.92771805,\n",
       "       74.734879  , 75.66300548, 77.05146611, 77.66052041, 78.85511272,\n",
       "       79.84044192, 81.32071937, 82.33230592, 83.75913846, 84.45680687,\n",
       "       85.199589  , 86.37043903, 87.2771643 ])"
      ]
     },
     "execution_count": 28,
     "metadata": {},
     "output_type": "execute_result"
    }
   ],
   "source": [
    "depths_min"
   ]
  },
  {
   "cell_type": "code",
   "execution_count": 29,
   "metadata": {},
   "outputs": [],
   "source": [
    "depths_max = depth - bin_max"
   ]
  },
  {
   "cell_type": "code",
   "execution_count": 30,
   "metadata": {},
   "outputs": [
    {
     "data": {
      "text/plain": [
       "array([-14.79182916, -13.28102424, -11.99289315, -10.9604622 ,\n",
       "       -10.36792085,  -9.68122043,  -8.57375655,  -7.79202125,\n",
       "        -6.90371627,  -5.80771236,  -5.20562323,  -3.53714118,\n",
       "        -2.0130628 ,  -0.94239695,  -0.13146461,   1.11810841,\n",
       "         2.31931317,   3.08892355,   4.08876747,   5.13852631,\n",
       "         5.90147065,   7.09474473,   8.02013552,   9.19472884,\n",
       "         9.82899315,  10.8640615 ,  11.90221924,  12.85681101,\n",
       "        14.16027283,  15.08048713,  16.47707257,  17.41993202,\n",
       "        18.65176493,  19.6399476 ,  20.85810236,  21.85313467,\n",
       "        23.36064205,  24.36703939,  25.92705594,  27.25618612,\n",
       "        28.13952095,  29.22038111,  30.75940643,  31.56726274,\n",
       "        32.80870499,  33.76540253,  35.07822417,  36.22013996,\n",
       "        36.91809338,  38.03521615,  39.26928688,  40.29312886,\n",
       "        41.68939098,  42.71881115,  43.30546535,  44.11394103,\n",
       "        45.18840782,  46.63613062,  47.72187059,  49.31842478,\n",
       "        50.37397598,  51.12852089,  52.56111512,  52.95776718,\n",
       "        54.05914673,  54.80445681,  55.40548343,  56.96052662,\n",
       "        57.76832615,  58.65067446,  59.35340311,  60.44819845,\n",
       "        61.57238651,  62.39904824,  63.73250395,  64.62759072,\n",
       "        65.5495283 ,  66.73882149,  67.99430192,  68.92771805,\n",
       "        69.734879  ,  70.66300548,  72.05146611,  72.66052041,\n",
       "        73.85511272,  74.84044192,  76.32071937,  77.33230592,\n",
       "        78.75913846,  79.45680687,  80.199589  ,  81.37043903,\n",
       "        82.2771643 ])"
      ]
     },
     "execution_count": 30,
     "metadata": {},
     "output_type": "execute_result"
    }
   ],
   "source": [
    "depths_max"
   ]
  },
  {
   "cell_type": "code",
   "execution_count": 31,
   "metadata": {},
   "outputs": [
    {
     "data": {
      "text/plain": [
       "array([ 0.20817084,  1.71897576,  3.00710685,  4.0395378 ,  4.63207915,\n",
       "        5.31877957,  6.42624345,  7.20797875,  8.09628373,  9.19228764,\n",
       "        9.79437677, 11.46285882, 12.9869372 , 14.05760305, 14.86853539,\n",
       "       16.11810841, 17.31931317, 18.08892355, 19.08876747, 20.13852631,\n",
       "       20.90147065, 22.09474473, 23.02013552, 24.19472884, 24.82899315,\n",
       "       25.8640615 , 26.90221924, 27.85681101, 29.16027283, 30.08048713,\n",
       "       31.47707257, 32.41993202, 33.65176493, 34.6399476 , 35.85810236,\n",
       "       36.85313467, 38.36064205, 39.36703939, 40.92705594, 42.25618612,\n",
       "       43.13952095, 44.22038111, 45.75940643, 46.56726274, 47.80870499,\n",
       "       48.76540253, 50.07822417, 51.22013996, 51.91809338, 53.03521615,\n",
       "       54.26928688, 55.29312886, 56.68939098, 57.71881115, 58.30546535,\n",
       "       59.11394103, 60.18840782, 61.63613062, 62.72187059, 64.31842478,\n",
       "       65.37397598, 66.12852089, 67.56111512, 67.95776718, 69.05914673,\n",
       "       69.80445681, 70.40548343, 71.96052662, 72.76832615, 73.65067446,\n",
       "       74.35340311, 75.44819845, 76.57238651, 77.39904824, 78.73250395,\n",
       "       79.62759072, 80.5495283 , 81.73882149, 82.99430192, 83.92771805,\n",
       "       84.734879  , 85.66300548, 87.05146611, 87.66052041, 88.85511272,\n",
       "       89.84044192, 91.32071937, 92.33230592, 93.75913846, 94.45680687,\n",
       "       95.199589  , 96.37043903, 97.2771643 ])"
      ]
     },
     "execution_count": 31,
     "metadata": {},
     "output_type": "execute_result"
    }
   ],
   "source": [
    "depth"
   ]
  },
  {
   "cell_type": "code",
   "execution_count": 32,
   "metadata": {},
   "outputs": [
    {
     "data": {
      "text/plain": [
       "12.5"
      ]
     },
     "execution_count": 32,
     "metadata": {},
     "output_type": "execute_result"
    }
   ],
   "source": [
    "bin_centers[2]"
   ]
  },
  {
   "cell_type": "code",
   "execution_count": 33,
   "metadata": {},
   "outputs": [
    {
     "data": {
      "text/plain": [
       "10.0"
      ]
     },
     "execution_count": 33,
     "metadata": {},
     "output_type": "execute_result"
    }
   ],
   "source": [
    "bin_min"
   ]
  },
  {
   "cell_type": "code",
   "execution_count": 34,
   "metadata": {},
   "outputs": [
    {
     "data": {
      "text/plain": [
       "15.0"
      ]
     },
     "execution_count": 34,
     "metadata": {},
     "output_type": "execute_result"
    }
   ],
   "source": [
    "bin_max"
   ]
  },
  {
   "cell_type": "code",
   "execution_count": 35,
   "metadata": {},
   "outputs": [
    {
     "data": {
      "text/plain": [
       "array([ 0.,  5., 10., 15., 20., 25., 30., 35., 40., 45., 50., 55., 60.,\n",
       "       65., 70., 75., 80., 85., 90., 95.])"
      ]
     },
     "execution_count": 35,
     "metadata": {},
     "output_type": "execute_result"
    }
   ],
   "source": [
    "bin_mins = np.arange(0.0, 95.1, 5.0)\n",
    "bin_mins"
   ]
  },
  {
   "cell_type": "code",
   "execution_count": 36,
   "metadata": {},
   "outputs": [],
   "source": [
    "bin_maxs = np.arange(5.0, 100.1, 5.0)"
   ]
  },
  {
   "cell_type": "code",
   "execution_count": 37,
   "metadata": {},
   "outputs": [
    {
     "data": {
      "text/plain": [
       "array([  5.,  10.,  15.,  20.,  25.,  30.,  35.,  40.,  45.,  50.,  55.,\n",
       "        60.,  65.,  70.,  75.,  80.,  85.,  90.,  95., 100.])"
      ]
     },
     "execution_count": 37,
     "metadata": {},
     "output_type": "execute_result"
    }
   ],
   "source": [
    "bin_maxs"
   ]
  },
  {
   "cell_type": "code",
   "execution_count": 38,
   "metadata": {},
   "outputs": [
    {
     "data": {
      "text/plain": [
       "array([ 2.5,  7.5, 12.5, 17.5, 22.5, 27.5, 32.5, 37.5, 42.5, 47.5, 52.5,\n",
       "       57.5, 62.5, 67.5, 72.5, 77.5, 82.5, 87.5, 92.5, 97.5])"
      ]
     },
     "execution_count": 38,
     "metadata": {},
     "output_type": "execute_result"
    }
   ],
   "source": [
    "bin_centers"
   ]
  },
  {
   "cell_type": "code",
   "execution_count": 39,
   "metadata": {},
   "outputs": [
    {
     "data": {
      "text/plain": [
       "(20,)"
      ]
     },
     "execution_count": 39,
     "metadata": {},
     "output_type": "execute_result"
    }
   ],
   "source": [
    "bin_mins.shape"
   ]
  },
  {
   "cell_type": "code",
   "execution_count": 40,
   "metadata": {},
   "outputs": [
    {
     "data": {
      "text/plain": [
       "(20,)"
      ]
     },
     "execution_count": 40,
     "metadata": {},
     "output_type": "execute_result"
    }
   ],
   "source": [
    "bin_centers.shape"
   ]
  },
  {
   "cell_type": "code",
   "execution_count": 41,
   "metadata": {},
   "outputs": [
    {
     "name": "stdout",
     "output_type": "stream",
     "text": [
      "13\n",
      "5.0\n",
      "[1.4628588209556632, 2.986937198419902, 0.5502039806244348]\n",
      "[47.16921006220804, 49.50661280800933, 60.97937831827479]\n",
      "50.08522701354881\n"
     ]
    }
   ],
   "source": [
    "weights = []\n",
    "bin_forces = []\n",
    "bin_number = 0\n",
    "for i in range(depth.shape[0]):\n",
    "    if depth[i] >= bin_min:\n",
    "        weight = depth[i] - bin_min\n",
    "        weights.append(weight)\n",
    "        if sum(weights) > 5.0:\n",
    "            weights.pop()\n",
    "            weights.append(5.0 - sum(weights))\n",
    "            bin_forces.append(force[i])\n",
    "            if sum(weights) == 5.0:\n",
    "                break\n",
    "        elif sum(weights) < 5.0:\n",
    "            bin_forces.append(force[i])\n",
    "            \n",
    "weighted_average = np.average(bin_forces, weights=weights)        \n",
    "print(i)\n",
    "print(sum(weights))\n",
    "print(weights)\n",
    "print(bin_forces)\n",
    "print(weighted_average)\n",
    "            \n",
    "    \n",
    "    "
   ]
  },
  {
   "cell_type": "code",
   "execution_count": 42,
   "metadata": {},
   "outputs": [
    {
     "name": "stdout",
     "output_type": "stream",
     "text": [
      "[0.2081708449864452, 1.5108049126155796, 1.2881310937687431, 1.032430949917151, 0.5925413533877348, 0.3679208453243463]\n",
      "[29.03639952426846, 44.594326385337126, 50.03308722260136, 57.1843775801388, 28.24391123375987, 66.92099890850687]\n",
      "47.65265434240473\n",
      "[0.3187795683211352, 1.1074638770810985, 0.7817353039525257, 0.888304984830298, 1.0960039045732621, 0.6020891310700538, 0.20562323017162676]\n",
      "[66.92099890850687, 61.30141462243497, 35.35176691734257, 36.50895081057468, 67.96905686205234, 36.06301434332754, 47.16921006220804]\n",
      "51.03910854453673\n",
      "[1.4628588209556632, 1.5240783774642388, 1.0706658527606248, 0.810932334339098, 0.13146461448037527]\n",
      "[47.16921006220804, 49.50661280800933, 60.97937831827479, 66.18823186541535, 55.18490802565238]\n",
      "54.134286251653464\n",
      "[1.1181084080281636, 1.201204763609283, 0.7696103758061952, 0.9998439240248409, 0.9112325285315173]\n",
      "[55.18490802565238, 50.68878625955328, 70.29309159813496, 36.81851123364082, 48.828937004020084]\n",
      "51.599178859597295\n",
      "[0.13852631145655536, 0.7629443354458729, 1.1932740877479162, 0.9253907866922368, 1.1745933141317408, 0.6342643108072572, 0.17100685371842061]\n",
      "[48.828937004020084, 50.88855765168063, 47.63463324588402, 39.14291857910234, 54.924605355670664, 78.52665891978108, 44.252797924274304]\n",
      "52.10823245140405\n",
      "[0.8640615025141081, 1.038157735701379, 0.9545917763925651, 1.3034618195680565, 0.8397271658238914]\n",
      "[44.252797924274304, 40.58881471079879, 34.54808736179741, 43.805049019033945, 49.732657129598216]\n",
      "42.44282464929556\n",
      "[0.08048712983086403, 1.3965854391446015, 0.9428594494193518, 1.2318329095626908, 0.9881826722077562, 0.3600523998347356]\n",
      "[49.732657129598216, 50.11622225677432, 41.80005453178016, 60.72694915626316, 52.92111244432088, 55.70904996144627]\n",
      "52.11307188241917\n",
      "[0.8581023593088943, 0.9950323139972213, 1.5075073769716596, 1.0063973377768605, 0.6329606119453643]\n",
      "[55.70904996144627, 70.04922733232414, 69.52077824330887, 53.75571114794877, 57.89832856994209]\n",
      "62.61107281988298\n",
      "[0.9270559447003208, 1.3291301783511926, 0.8833348241520724, 1.0808601655718704, 0.7796188872245438]\n",
      "[57.89832856994209, 29.57652527067616, 41.736615673471924, 50.848323622849854, 56.60477144753482]\n",
      "45.78870489624016\n",
      "[0.7594064332664345, 0.8078563075731253, 1.2414422484905572, 0.956697544369483, 1.2345974663004]\n",
      "[56.60477144753482, 27.50895558119921, 48.33527745157137, 64.08815095397567, 57.739077685201224]\n",
      "51.56245241005384\n",
      "[0.07822416905478491, 1.1419157938147535, 0.6979534213058827, 1.1171227679425328, 1.2340707286841521, 0.730713119197894]\n",
      "[57.739077685201224, 55.08365968630892, 55.55558207675822, 67.30239136586405, 75.80104557758527, 53.75461549748345]\n",
      "62.84015779562549\n",
      "[0.29312885962112745, 1.396262124902016, 1.0294201656542867, 0.5866541949904374, 0.8084756817319771, 0.8860589731001554]\n",
      "[53.75461549748345, 41.30319048502845, 59.71935205212681, 54.950278408332146, 60.025208654835936, 74.05428647790072]\n",
      "56.25712255940234\n",
      "[0.1884078162049292, 1.447722804996154, 1.0857399710160465, 1.5965541922803368, 0.6815752155025336]\n",
      "[74.05428647790072, 22.725591070058883, 62.41048030029742, 56.46078439438044, 60.47973130362825]\n",
      "49.195700767697836\n",
      "[0.3739759849790545, 0.7545449031614595, 1.4325942302751997, 0.3966520626533452, 1.101379547291529, 0.7453100803847832, 0.19554319125462882]\n",
      "[60.47973130362825, 70.52805545298865, 37.36613492485181, 41.38051746718767, 53.264023068916366, 48.27332609332196, 64.45259334255992]\n",
      "50.60489934359975\n",
      "[0.4054834270741594, 1.5550431971667251, 0.8077995258790764, 0.8823483069173932, 0.7027286539351536, 0.6465968890274922]\n",
      "[64.45259334255992, 57.782165437880636, 44.33686664368867, 53.43822676017878, 57.40801942584659, 52.228739941510696]\n",
      "54.613570290911795\n",
      "[0.4481984468379636, 1.12418806547376, 0.8266617314791347, 1.3334557090536947, 0.8950867669727103, 0.3724092801827368]\n",
      "[52.228739941510696, 56.706823610980265, 64.33763002983235, 62.5309950542686, 60.24336557541892, 57.762002945826076]\n",
      "59.83197774151033\n",
      "[0.549528297725999, 1.1892931961428275, 1.2554804290264485, 0.9334161315400422, 0.8071609457376212, 0.2651209998270616]\n",
      "[57.762002945826076, 44.68363074445058, 64.14807149283988, 28.02542686370784, 34.55366819244526, 74.70179546223014]\n",
      "47.855042644213825\n",
      "[0.6630054806006456, 1.3884606272938953, 0.609054306664035, 1.194592309976997, 0.9853291962180037, 0.1595580792464233]\n",
      "[74.70179546223014, 56.645812836567146, 47.87038231414973, 33.55902991998444, 49.19886614885568, 69.50176324892708]\n",
      "51.397969859023064\n",
      "[1.3207193717966135, 1.0115865476741845, 1.426832536794791, 0.697668410850568, 0.5431931328838431]\n",
      "[69.50176324892708, 41.33606119184766, 40.53653187161757, 50.96959952757823, 64.83453749876105]\n",
      "52.44474523655107\n",
      "[0.1995890049307718, 1.1708500207690804, 0.906725278625828]\n",
      "[64.83453749876105, 49.952364153027936, 42.43870444402832]\n",
      "48.264955380388635\n",
      "[47.65265434240473, 51.03910854453673, 54.134286251653464, 51.599178859597295, 52.10823245140405, 42.44282464929556, 52.11307188241917, 62.61107281988298, 45.78870489624016, 51.56245241005384, 62.84015779562549, 56.25712255940234, 49.195700767697836, 50.60489934359975, 54.613570290911795, 59.83197774151033, 47.855042644213825, 51.397969859023064, 52.44474523655107, 48.264955380388635]\n"
     ]
    }
   ],
   "source": [
    "step = 5.0\n",
    "weighted_force = []\n",
    "\n",
    "for j in range(bin_mins.shape[0]):\n",
    "    bin_number = j\n",
    "    weights = []\n",
    "    bin_forces = []\n",
    "    bin_min = bin_mins[bin_number]\n",
    "    for i in range(depth.shape[0]):    \n",
    "        if depth[i] < bin_min:\n",
    "            pass\n",
    "        if depth[i] >= bin_min:\n",
    "            if i == 0:\n",
    "                weight = depth[i] - bin_min          \n",
    "            elif depth[i-1] <= bin_min:\n",
    "                weight = depth[i] - bin_min\n",
    "            else:\n",
    "                weight = depth[i] - depth[i-1]\n",
    "            weights.append(weight)            \n",
    "            if sum(weights) >= step:\n",
    "                weights.pop()\n",
    "                weights.append(step - sum(weights))\n",
    "                bin_forces.append(force[i])\n",
    "                break\n",
    "            elif sum(weights) < step:\n",
    "                bin_forces.append(force[i])\n",
    "\n",
    "    print(weights)\n",
    "    print(bin_forces)\n",
    "    bin_weighted_average = np.average(bin_forces, weights=weights)\n",
    "    print(bin_weighted_average)\n",
    "    weighted_force.append(bin_weighted_average)\n",
    "print(weighted_force)"
   ]
  },
  {
   "cell_type": "code",
   "execution_count": 43,
   "metadata": {},
   "outputs": [
    {
     "data": {
      "text/plain": [
       "array([29.03639952, 44.59432639, 50.03308722, 57.18437758, 28.24391123,\n",
       "       66.92099891, 61.30141462, 35.35176692, 36.50895081, 67.96905686,\n",
       "       36.06301434, 47.16921006, 49.50661281, 60.97937832, 66.18823187,\n",
       "       55.18490803, 50.68878626, 70.2930916 , 36.81851123, 48.828937  ,\n",
       "       50.88855765, 47.63463325, 39.14291858, 54.92460536, 78.52665892,\n",
       "       44.25279792, 40.58881471, 34.54808736, 43.80504902, 49.73265713,\n",
       "       50.11622226, 41.80005453, 60.72694916, 52.92111244, 55.70904996,\n",
       "       70.04922733, 69.52077824, 53.75571115, 57.89832857, 29.57652527,\n",
       "       41.73661567, 50.84832362, 56.60477145, 27.50895558, 48.33527745,\n",
       "       64.08815095, 57.73907769, 55.08365969, 55.55558208, 67.30239137,\n",
       "       75.80104558, 53.7546155 , 41.30319049, 59.71935205, 54.95027841,\n",
       "       60.02520865, 74.05428648, 22.72559107, 62.4104803 , 56.46078439,\n",
       "       60.4797313 , 70.52805545, 37.36613492, 41.38051747, 53.26402307,\n",
       "       48.27332609, 64.45259334, 57.78216544, 44.33686664, 53.43822676,\n",
       "       57.40801943, 52.22873994, 56.70682361, 64.33763003, 62.53099505,\n",
       "       60.24336558, 57.76200295, 44.68363074, 64.14807149, 28.02542686,\n",
       "       34.55366819, 74.70179546, 56.64581284, 47.87038231, 33.55902992,\n",
       "       49.19886615, 69.50176325, 41.33606119, 40.53653187, 50.96959953,\n",
       "       64.8345375 , 49.95236415, 42.43870444])"
      ]
     },
     "execution_count": 43,
     "metadata": {},
     "output_type": "execute_result"
    }
   ],
   "source": [
    "force"
   ]
  },
  {
   "cell_type": "code",
   "execution_count": 44,
   "metadata": {},
   "outputs": [
    {
     "data": {
      "text/plain": [
       "array([ 0.20817084,  1.71897576,  3.00710685,  4.0395378 ,  4.63207915,\n",
       "        5.31877957,  6.42624345,  7.20797875,  8.09628373,  9.19228764,\n",
       "        9.79437677, 11.46285882, 12.9869372 , 14.05760305, 14.86853539,\n",
       "       16.11810841, 17.31931317, 18.08892355, 19.08876747, 20.13852631,\n",
       "       20.90147065, 22.09474473, 23.02013552, 24.19472884, 24.82899315,\n",
       "       25.8640615 , 26.90221924, 27.85681101, 29.16027283, 30.08048713,\n",
       "       31.47707257, 32.41993202, 33.65176493, 34.6399476 , 35.85810236,\n",
       "       36.85313467, 38.36064205, 39.36703939, 40.92705594, 42.25618612,\n",
       "       43.13952095, 44.22038111, 45.75940643, 46.56726274, 47.80870499,\n",
       "       48.76540253, 50.07822417, 51.22013996, 51.91809338, 53.03521615,\n",
       "       54.26928688, 55.29312886, 56.68939098, 57.71881115, 58.30546535,\n",
       "       59.11394103, 60.18840782, 61.63613062, 62.72187059, 64.31842478,\n",
       "       65.37397598, 66.12852089, 67.56111512, 67.95776718, 69.05914673,\n",
       "       69.80445681, 70.40548343, 71.96052662, 72.76832615, 73.65067446,\n",
       "       74.35340311, 75.44819845, 76.57238651, 77.39904824, 78.73250395,\n",
       "       79.62759072, 80.5495283 , 81.73882149, 82.99430192, 83.92771805,\n",
       "       84.734879  , 85.66300548, 87.05146611, 87.66052041, 88.85511272,\n",
       "       89.84044192, 91.32071937, 92.33230592, 93.75913846, 94.45680687,\n",
       "       95.199589  , 96.37043903, 97.2771643 ])"
      ]
     },
     "execution_count": 44,
     "metadata": {},
     "output_type": "execute_result"
    }
   ],
   "source": [
    "depth"
   ]
  },
  {
   "cell_type": "code",
   "execution_count": 45,
   "metadata": {},
   "outputs": [
    {
     "data": {
      "text/plain": [
       "48.264955380388635"
      ]
     },
     "execution_count": 45,
     "metadata": {},
     "output_type": "execute_result"
    }
   ],
   "source": [
    "bin_weighted_average"
   ]
  },
  {
   "cell_type": "code",
   "execution_count": 46,
   "metadata": {},
   "outputs": [
    {
     "data": {
      "text/plain": [
       "[<matplotlib.lines.Line2D at 0x7ff4cf02cc10>]"
      ]
     },
     "execution_count": 46,
     "metadata": {},
     "output_type": "execute_result"
    },
    {
     "data": {
      "image/png": "[encoded data removed]",
      "text/plain": [
       "<Figure size 432x288 with 1 Axes>"
      ]
     },
     "metadata": {
      "needs_background": "light"
     },
     "output_type": "display_data"
    }
   ],
   "source": [
    "plt.plot(depth, force)\n",
    "plt.plot(bin_centers, weighted_force, \"-o\")"
   ]
  },
  {
   "cell_type": "code",
   "execution_count": 47,
   "metadata": {},
   "outputs": [],
   "source": [
    "absorb_string = 'session012/cal001/ins003/derived/absorbance_depth'"
   ]
  },
  {
   "cell_type": "code",
   "execution_count": 48,
   "metadata": {},
   "outputs": [
    {
     "data": {
      "text/plain": [
       "array([ 0.20817084,  2.63598446,  4.38395732,  5.64479418,  7.24765674,\n",
       "        9.24296437, 11.15246335, 13.68255466, 15.69645544, 17.6474673 ,\n",
       "       19.08876747, 20.90147065, 22.64758332, 24.6440933 , 26.27080448,\n",
       "       28.2176177 , 30.08048713, 32.09185115, 34.20952293, 36.22524898,\n",
       "       38.61003438, 41.15772535, 42.83106477, 45.29170716, 47.21422079,\n",
       "       49.42790932, 51.51423622, 53.03521615, 55.22806467, 57.41845705,\n",
       "       58.72604148, 60.72810734, 63.0645109 , 65.36665788, 67.48522759,\n",
       "       68.71543831, 70.19205888, 71.96052662, 73.65067446, 75.42026676,\n",
       "       77.36244217, 79.2188693 , 80.809298  , 83.22955187, 84.734879  ,\n",
       "       86.49653278, 88.43715241, 90.32605912, 92.54212338, 94.45680687,\n",
       "       96.00391662])"
      ]
     },
     "execution_count": 48,
     "metadata": {},
     "output_type": "execute_result"
    }
   ],
   "source": [
    "f[absorb_string][:, -1]"
   ]
  },
  {
   "cell_type": "code",
   "execution_count": 49,
   "metadata": {},
   "outputs": [
    {
     "data": {
      "text/plain": [
       "array([29.03639952, 50.03308722, 28.24391123, 66.92099891, 35.35176692,\n",
       "       67.96905686, 47.16921006, 60.97937832, 55.18490803, 50.68878626,\n",
       "       36.81851123, 50.88855765, 39.14291858, 78.52665892, 44.25279792,\n",
       "       34.54808736, 49.73265713, 41.80005453, 52.92111244, 55.70904996,\n",
       "       69.52077824, 57.89832857, 41.73661567, 56.60477145, 48.33527745,\n",
       "       64.08815095, 55.08365969, 67.30239137, 53.7546155 , 59.71935205,\n",
       "       54.95027841, 74.05428648, 62.4104803 , 60.4797313 , 37.36613492,\n",
       "       53.26402307, 48.27332609, 57.78216544, 53.43822676, 52.22873994,\n",
       "       64.33763003, 62.53099505, 57.76200295, 64.14807149, 34.55366819,\n",
       "       56.64581284, 33.55902992, 49.19886615, 41.33606119, 50.96959953,\n",
       "       49.95236415])"
      ]
     },
     "execution_count": 49,
     "metadata": {},
     "output_type": "execute_result"
    }
   ],
   "source": [
    "f[absorb_string][:, -2]"
   ]
  },
  {
   "cell_type": "code",
   "execution_count": 50,
   "metadata": {},
   "outputs": [
    {
     "data": {
      "text/plain": [
       "array([0.84194035, 0.8290654 , 0.83331382, 0.83393406, 0.83587999,\n",
       "       0.82618511, 0.82051873, 0.81867325, 0.79953423, 0.81735107,\n",
       "       0.81177894, 0.80652307, 0.80116708, 0.80183809, 0.80851764,\n",
       "       0.80806308, 0.81264008, 0.80861683, 0.78637874, 0.77740149,\n",
       "       0.78344753, 0.80387183, 0.79813974, 0.77954194, 0.81384128,\n",
       "       0.80722892, 0.80105297, 0.80054227, 0.79830985, 0.80708485,\n",
       "       0.78147257, 0.81003175, 0.78980896, 0.82752964, 0.80068438,\n",
       "       0.78503832, 0.79177745, 0.8035451 , 0.84218777, 0.81145697,\n",
       "       0.80858448, 0.82018341, 0.82512919, 0.82667298, 0.82138011,\n",
       "       0.84510197, 0.80214567, 0.82506424, 0.80223332, 0.84657407,\n",
       "       0.83586159, 0.8196996 , 0.82824862, 0.85922447, 0.81669062,\n",
       "       0.85405623, 0.8037689 , 0.81117083, 0.83108483, 0.85256084,\n",
       "       0.83083082, 0.84121114, 0.84067348, 0.82602579, 0.83336386,\n",
       "       0.82124003, 0.8137313 , 0.87541169, 0.83797206, 0.85342623,\n",
       "       0.86775781, 0.87055061, 0.87561316, 0.86437249, 0.85648963,\n",
       "       0.82791747, 0.84272827, 0.84852984, 0.86307688, 0.8402228 ,\n",
       "       0.87980494, 0.85215465, 0.83225748, 0.89551087, 0.88229264,\n",
       "       0.83932771, 0.84502421, 0.85880031, 0.86580978, 0.84652781,\n",
       "       0.86587609, 0.85600072, 0.88853014, 0.84427139, 0.85269389,\n",
       "       0.88740012, 0.87623493, 0.87658859, 0.9045741 , 0.88558391,\n",
       "       0.8389835 , 0.91385107, 0.88884787, 0.84860728, 0.90342398,\n",
       "       0.87049828, 0.88381514, 0.87750836, 0.86970056, 0.85474724,\n",
       "       0.91489904, 0.85618022, 0.87869446, 0.88647554, 0.89088847,\n",
       "       0.88167523, 0.91555421, 0.87278415, 0.88543294, 0.89371045,\n",
       "       0.93020461, 0.86896746, 0.9158265 , 0.89736748, 0.91822929,\n",
       "       0.92596404, 1.00349758, 0.91876179, 1.04331355, 0.99885039,\n",
       "       1.00488008, 1.03255391, 1.05113989, 1.03944785, 1.01846404,\n",
       "       1.03347071, 1.14414325, 1.22539327, 1.1336129 , 1.12662805,\n",
       "       1.10178945, 1.15650012, 1.30880773, 1.2896155 , 1.18091576,\n",
       "       1.20666823, 1.31175639, 1.30898926, 1.23100037, 1.25843073,\n",
       "       1.37953589, 1.25026836, 1.26658251, 1.29222342, 1.31555419,\n",
       "       1.2235187 , 1.28780665, 1.3879207 , 1.21914795, 1.16356428,\n",
       "       1.35837461])"
      ]
     },
     "execution_count": 50,
     "metadata": {},
     "output_type": "execute_result"
    }
   ],
   "source": [
    "f[absorb_string][0, :-2]"
   ]
  },
  {
   "cell_type": "code",
   "execution_count": 51,
   "metadata": {},
   "outputs": [],
   "source": [
    "absorbances = f[absorb_string][:, :-2]"
   ]
  },
  {
   "cell_type": "code",
   "execution_count": 52,
   "metadata": {},
   "outputs": [
    {
     "data": {
      "text/plain": [
       "array([[0.84194035, 0.8290654 , 0.83331382, ..., 1.21914795, 1.16356428,\n",
       "        1.35837461],\n",
       "       [0.84240488, 0.83504382, 0.83149244, ..., 1.2003397 , 1.20634406,\n",
       "        1.37684916],\n",
       "       [0.84373123, 0.8329363 , 0.83171938, ..., 1.21384865, 1.21594736,\n",
       "        1.3348489 ],\n",
       "       ...,\n",
       "       [0.84354403, 0.83239759, 0.83515361, ..., 1.21448484, 1.21320101,\n",
       "        1.35235225],\n",
       "       [0.84084816, 0.83142671, 0.8378247 , ..., 1.23572411, 1.19398532,\n",
       "        1.32789153],\n",
       "       [0.84444666, 0.82868655, 0.83209898, ..., 1.19938113, 1.16906148,\n",
       "        1.38365439]])"
      ]
     },
     "execution_count": 52,
     "metadata": {},
     "output_type": "execute_result"
    }
   ],
   "source": [
    "absorbances"
   ]
  },
  {
   "cell_type": "code",
   "execution_count": 53,
   "metadata": {},
   "outputs": [],
   "source": [
    "absorbance_depths = f[absorb_string][:, -1]"
   ]
  },
  {
   "cell_type": "code",
   "execution_count": 54,
   "metadata": {},
   "outputs": [
    {
     "data": {
      "text/plain": [
       "array([ 0.20817084,  2.63598446,  4.38395732,  5.64479418,  7.24765674,\n",
       "        9.24296437, 11.15246335, 13.68255466, 15.69645544, 17.6474673 ,\n",
       "       19.08876747, 20.90147065, 22.64758332, 24.6440933 , 26.27080448,\n",
       "       28.2176177 , 30.08048713, 32.09185115, 34.20952293, 36.22524898,\n",
       "       38.61003438, 41.15772535, 42.83106477, 45.29170716, 47.21422079,\n",
       "       49.42790932, 51.51423622, 53.03521615, 55.22806467, 57.41845705,\n",
       "       58.72604148, 60.72810734, 63.0645109 , 65.36665788, 67.48522759,\n",
       "       68.71543831, 70.19205888, 71.96052662, 73.65067446, 75.42026676,\n",
       "       77.36244217, 79.2188693 , 80.809298  , 83.22955187, 84.734879  ,\n",
       "       86.49653278, 88.43715241, 90.32605912, 92.54212338, 94.45680687,\n",
       "       96.00391662])"
      ]
     },
     "execution_count": 54,
     "metadata": {},
     "output_type": "execute_result"
    }
   ],
   "source": [
    "absorbance_depths"
   ]
  },
  {
   "cell_type": "code",
   "execution_count": 55,
   "metadata": {},
   "outputs": [
    {
     "data": {
      "text/plain": [
       "(51, 161)"
      ]
     },
     "execution_count": 55,
     "metadata": {},
     "output_type": "execute_result"
    }
   ],
   "source": [
    "absorbances.shape"
   ]
  },
  {
   "cell_type": "code",
   "execution_count": 56,
   "metadata": {},
   "outputs": [
    {
     "data": {
      "text/plain": [
       "(51,)"
      ]
     },
     "execution_count": 56,
     "metadata": {},
     "output_type": "execute_result"
    }
   ],
   "source": [
    "absorbance_depths.shape"
   ]
  },
  {
   "cell_type": "code",
   "execution_count": 63,
   "metadata": {},
   "outputs": [],
   "source": [
    "def calculate_weighted_averages_by_depth_increment(data, depths, step, bin_mins):\n",
    "    \n",
    "    weighted_data = []\n",
    "\n",
    "    for j in range(bin_mins.shape[0]):\n",
    "        bin_number = j\n",
    "        weights = []\n",
    "        bin_data = []\n",
    "        bin_min = bin_mins[bin_number]\n",
    "        for i in range(data.shape[0]):    \n",
    "            if depths[i] < bin_min:\n",
    "                pass\n",
    "            if depths[i] >= bin_min:\n",
    "                if i == 0:\n",
    "                    weight = depths[i] - bin_min          \n",
    "                elif depths[i-1] <= bin_min:\n",
    "                    weight = depths[i] - bin_min\n",
    "                else:\n",
    "                    weight = depths[i] - depths[i-1]\n",
    "                weights.append(weight)            \n",
    "                if sum(weights) >= step:\n",
    "                    weights.pop()\n",
    "                    weights.append(step - sum(weights))\n",
    "                    bin_data.append(data[i])\n",
    "                    break\n",
    "                elif sum(weights) < step:\n",
    "                    bin_data.append(data[i])\n",
    "\n",
    "        # print(weights)\n",
    "        # print(bin_data)\n",
    "        bin_weighted_average = np.average(bin_data, weights=weights, axis=0)\n",
    "        # print(bin_weighted_average)\n",
    "        weighted_data.append(bin_weighted_average)\n",
    "    print(weighted_data)\n",
    "    return weighted_data"
   ]
  },
  {
   "cell_type": "code",
   "execution_count": 64,
   "metadata": {},
   "outputs": [
    {
     "name": "stdout",
     "output_type": "stream",
     "text": [
      "[47.65265434240473, 51.03910854453673, 54.134286251653464, 51.599178859597295, 52.10823245140405, 42.44282464929556, 52.11307188241917, 62.61107281988298, 45.78870489624016, 51.56245241005384, 62.84015779562549, 56.25712255940234, 49.195700767697836, 50.60489934359975, 54.613570290911795, 59.83197774151033, 47.855042644213825, 51.397969859023064, 52.44474523655107, 48.264955380388635]\n"
     ]
    }
   ],
   "source": [
    "weighted_data = calculate_weighted_averages_by_depth_increment(force, depth, 5.0, bin_mins)"
   ]
  },
  {
   "cell_type": "code",
   "execution_count": 59,
   "metadata": {},
   "outputs": [
    {
     "data": {
      "text/plain": [
       "[47.65265434240473,\n",
       " 51.03910854453673,\n",
       " 54.134286251653464,\n",
       " 51.599178859597295,\n",
       " 52.10823245140405,\n",
       " 42.44282464929556,\n",
       " 52.11307188241917,\n",
       " 62.61107281988298,\n",
       " 45.78870489624016,\n",
       " 51.56245241005384,\n",
       " 62.84015779562549,\n",
       " 56.25712255940234,\n",
       " 49.195700767697836,\n",
       " 50.60489934359975,\n",
       " 54.613570290911795,\n",
       " 59.83197774151033,\n",
       " 47.855042644213825,\n",
       " 51.397969859023064,\n",
       " 52.44474523655107,\n",
       " 48.264955380388635]"
      ]
     },
     "execution_count": 59,
     "metadata": {},
     "output_type": "execute_result"
    }
   ],
   "source": [
    "weighted_data"
   ]
  },
  {
   "cell_type": "code",
   "execution_count": 65,
   "metadata": {
    "collapsed": true,
    "jupyter": {
     "outputs_hidden": true
    }
   },
   "outputs": [
    {
     "name": "stdout",
     "output_type": "stream",
     "text": [
      "[array([0.84320213, 0.83326291, 0.83190135, 0.83374413, 0.84033444,\n",
      "       0.82513508, 0.8256238 , 0.82200251, 0.80494589, 0.81890882,\n",
      "       0.80764813, 0.80988704, 0.79645961, 0.80744545, 0.80530395,\n",
      "       0.80962274, 0.80769335, 0.81447327, 0.78198947, 0.77952846,\n",
      "       0.7845375 , 0.80061065, 0.80345236, 0.78320955, 0.81343003,\n",
      "       0.80906162, 0.8005249 , 0.80101217, 0.80219665, 0.8011089 ,\n",
      "       0.78595171, 0.80246053, 0.79359893, 0.82514444, 0.80494815,\n",
      "       0.78960483, 0.79740302, 0.80544252, 0.84440437, 0.81021006,\n",
      "       0.80622551, 0.82209331, 0.82652482, 0.82851003, 0.82284175,\n",
      "       0.84857163, 0.79737334, 0.81739247, 0.79963904, 0.83741798,\n",
      "       0.83060192, 0.81620528, 0.82929685, 0.86479068, 0.81573383,\n",
      "       0.85281469, 0.81446758, 0.81079668, 0.83334264, 0.84298748,\n",
      "       0.82740372, 0.84211976, 0.83360694, 0.81908199, 0.84052653,\n",
      "       0.82655844, 0.81408576, 0.8645727 , 0.84107464, 0.8488161 ,\n",
      "       0.87637522, 0.87010892, 0.86980182, 0.85705382, 0.86215202,\n",
      "       0.83097412, 0.84167963, 0.84603767, 0.85502988, 0.84036952,\n",
      "       0.86473407, 0.8488039 , 0.83463638, 0.88237442, 0.88918857,\n",
      "       0.82853338, 0.84804935, 0.84962085, 0.86438927, 0.83935952,\n",
      "       0.85512424, 0.8669275 , 0.888579  , 0.84599955, 0.85255652,\n",
      "       0.89267055, 0.87628025, 0.88623381, 0.89719363, 0.87761491,\n",
      "       0.83457583, 0.91895014, 0.89067904, 0.85611686, 0.91336241,\n",
      "       0.8628976 , 0.89415535, 0.87720981, 0.87729701, 0.8604904 ,\n",
      "       0.90669945, 0.85565957, 0.87332693, 0.87677245, 0.89847565,\n",
      "       0.8778439 , 0.92202618, 0.86181923, 0.89049608, 0.88602198,\n",
      "       0.92232044, 0.87351034, 0.91203403, 0.91066891, 0.91960628,\n",
      "       0.93871075, 0.99655746, 0.91429752, 1.04009272, 1.02053277,\n",
      "       0.9978005 , 1.01699832, 1.03517682, 1.04732274, 1.01313065,\n",
      "       1.02808215, 1.16012434, 1.21516527, 1.16572528, 1.11836095,\n",
      "       1.11525545, 1.14561513, 1.29869223, 1.28000169, 1.17250281,\n",
      "       1.18761738, 1.32619534, 1.34025152, 1.20273832, 1.24538013,\n",
      "       1.38420464, 1.22033639, 1.27015288, 1.29002977, 1.33530876,\n",
      "       1.20437638, 1.27065594, 1.35932433, 1.20952137, 1.20923595,\n",
      "       1.35588618]), array([0.84019222, 0.83270569, 0.8324477 , 0.83599259, 0.83657563,\n",
      "       0.8245403 , 0.82528336, 0.82306145, 0.80299285, 0.81498379,\n",
      "       0.80560135, 0.80631021, 0.79756788, 0.80645219, 0.80689567,\n",
      "       0.81273223, 0.8097237 , 0.81320934, 0.78301134, 0.77832422,\n",
      "       0.78445795, 0.79932994, 0.80251359, 0.78182737, 0.81241034,\n",
      "       0.80966969, 0.80169557, 0.80174336, 0.8003602 , 0.80627239,\n",
      "       0.78879865, 0.80659006, 0.79470593, 0.82252597, 0.80397242,\n",
      "       0.78953048, 0.79701447, 0.80629907, 0.84195726, 0.8083231 ,\n",
      "       0.80904614, 0.82105019, 0.82677421, 0.83821818, 0.82953875,\n",
      "       0.84534957, 0.79914949, 0.82047386, 0.80002179, 0.84099543,\n",
      "       0.82622619, 0.8227562 , 0.82218394, 0.85839613, 0.82173965,\n",
      "       0.84871914, 0.81225812, 0.81950186, 0.82853586, 0.84727706,\n",
      "       0.83362692, 0.84694519, 0.82866539, 0.82505658, 0.84349677,\n",
      "       0.82867011, 0.80953728, 0.87383658, 0.84389065, 0.8520637 ,\n",
      "       0.87203224, 0.86649824, 0.87617191, 0.86161434, 0.86162686,\n",
      "       0.83909693, 0.83276809, 0.84666888, 0.85510422, 0.83572632,\n",
      "       0.86936044, 0.84723301, 0.8408971 , 0.8952822 , 0.89007356,\n",
      "       0.83565316, 0.85306047, 0.84407658, 0.86045043, 0.84617059,\n",
      "       0.85421185, 0.86045622, 0.88710004, 0.84565329, 0.85814547,\n",
      "       0.90400765, 0.88041457, 0.89043163, 0.89870007, 0.87871288,\n",
      "       0.83107399, 0.91114169, 0.88965336, 0.85274722, 0.91323039,\n",
      "       0.86006239, 0.88929624, 0.87590724, 0.87891362, 0.86069395,\n",
      "       0.90636627, 0.85399447, 0.87992171, 0.88877485, 0.88581173,\n",
      "       0.88654731, 0.91703295, 0.86730723, 0.88593228, 0.89252079,\n",
      "       0.91227977, 0.88046761, 0.91403049, 0.91249891, 0.92082272,\n",
      "       0.925818  , 0.99900675, 0.9177373 , 1.03905317, 1.00647142,\n",
      "       0.98901189, 1.01639749, 1.04167687, 1.04115617, 1.01509501,\n",
      "       1.01857596, 1.16253881, 1.2036216 , 1.14571126, 1.12189226,\n",
      "       1.1190028 , 1.13862728, 1.31738993, 1.27394465, 1.17767575,\n",
      "       1.17973384, 1.33560371, 1.33383963, 1.21965378, 1.22960589,\n",
      "       1.40060959, 1.23422597, 1.27243581, 1.28918632, 1.32670935,\n",
      "       1.22090604, 1.259035  , 1.36659336, 1.23433916, 1.18710789,\n",
      "       1.34098836]), array([0.8418255 , 0.82982735, 0.83462213, 0.83585823, 0.8368379 ,\n",
      "       0.82349596, 0.82525857, 0.82321095, 0.8046758 , 0.8161658 ,\n",
      "       0.80562377, 0.81092074, 0.80086791, 0.80567005, 0.80814968,\n",
      "       0.8125163 , 0.81064861, 0.81177582, 0.78348026, 0.77875166,\n",
      "       0.78230211, 0.79912412, 0.79767025, 0.78102353, 0.80896117,\n",
      "       0.80944003, 0.80009174, 0.8028292 , 0.7981629 , 0.80630686,\n",
      "       0.79040227, 0.8022069 , 0.79422234, 0.82314261, 0.80854321,\n",
      "       0.78773379, 0.79853707, 0.80291372, 0.84828274, 0.80623935,\n",
      "       0.80777394, 0.82053387, 0.82427424, 0.83222377, 0.8262849 ,\n",
      "       0.84637889, 0.79533831, 0.82108732, 0.79551507, 0.84161566,\n",
      "       0.83232494, 0.82198741, 0.81858546, 0.85840715, 0.81632427,\n",
      "       0.84922934, 0.81095751, 0.81598499, 0.83612786, 0.84747758,\n",
      "       0.83337886, 0.84881358, 0.82738811, 0.82350515, 0.83925161,\n",
      "       0.82565282, 0.80994902, 0.8628129 , 0.84059106, 0.85509372,\n",
      "       0.87586218, 0.85695289, 0.87230935, 0.86181957, 0.86217006,\n",
      "       0.83754199, 0.83111577, 0.84814211, 0.85254429, 0.83111821,\n",
      "       0.86094916, 0.84471298, 0.8379023 , 0.89358249, 0.88554459,\n",
      "       0.82762011, 0.85179521, 0.84750926, 0.85749689, 0.84096666,\n",
      "       0.86023824, 0.86124383, 0.88916881, 0.84078218, 0.85400806,\n",
      "       0.892663  , 0.87436165, 0.88426986, 0.88714754, 0.87775076,\n",
      "       0.83896756, 0.91410311, 0.89176121, 0.85862136, 0.90891417,\n",
      "       0.85753939, 0.88316572, 0.87003802, 0.88431493, 0.86590807,\n",
      "       0.9034009 , 0.85552607, 0.86804626, 0.88511641, 0.8838786 ,\n",
      "       0.88902685, 0.91700667, 0.86642059, 0.89078788, 0.88423134,\n",
      "       0.92137479, 0.87459509, 0.91541201, 0.90013009, 0.91615662,\n",
      "       0.93259132, 1.00008034, 0.91343927, 1.04066095, 1.01464233,\n",
      "       0.98895086, 1.02212582, 1.03385842, 1.04158394, 1.01694742,\n",
      "       1.00902785, 1.17236103, 1.21904925, 1.12752769, 1.11931888,\n",
      "       1.11394905, 1.13782743, 1.28289259, 1.29656751, 1.18535784,\n",
      "       1.19182949, 1.30015854, 1.31044212, 1.21064272, 1.24407133,\n",
      "       1.38879727, 1.24253796, 1.26836356, 1.30852556, 1.31073279,\n",
      "       1.22417092, 1.2615248 , 1.33240995, 1.24448333, 1.20003333,\n",
      "       1.34383033]), array([0.84496249, 0.83165389, 0.83612119, 0.83610892, 0.83991115,\n",
      "       0.82462103, 0.82517867, 0.82286337, 0.80259603, 0.81925954,\n",
      "       0.81043907, 0.80914682, 0.79974944, 0.80637967, 0.80836547,\n",
      "       0.80894472, 0.80834347, 0.81311967, 0.78215993, 0.77621079,\n",
      "       0.78458056, 0.79823308, 0.80271873, 0.78471284, 0.80771981,\n",
      "       0.80991048, 0.80336354, 0.80456303, 0.80240476, 0.8029352 ,\n",
      "       0.78706516, 0.80273117, 0.79459698, 0.82611253, 0.80448255,\n",
      "       0.78822573, 0.79872452, 0.80323046, 0.84364224, 0.80786251,\n",
      "       0.81007519, 0.82436169, 0.83122965, 0.83536681, 0.8249883 ,\n",
      "       0.84511932, 0.79881468, 0.82274835, 0.80130698, 0.84068258,\n",
      "       0.83170528, 0.82017954, 0.82200495, 0.85578228, 0.81718834,\n",
      "       0.85232654, 0.81103871, 0.81067326, 0.82861056, 0.85146872,\n",
      "       0.83203466, 0.8464766 , 0.83271915, 0.82086104, 0.84187394,\n",
      "       0.83216405, 0.81031038, 0.86693446, 0.84468153, 0.85121547,\n",
      "       0.87490905, 0.85877849, 0.87339872, 0.85934949, 0.86508364,\n",
      "       0.83447447, 0.84149987, 0.84681177, 0.85301512, 0.83802257,\n",
      "       0.86180104, 0.84403517, 0.83753118, 0.89148681, 0.88906066,\n",
      "       0.8329681 , 0.8480123 , 0.85020755, 0.86386198, 0.8417652 ,\n",
      "       0.86141912, 0.85704249, 0.88534816, 0.8476439 , 0.85723959,\n",
      "       0.8950415 , 0.88153596, 0.88203447, 0.89234954, 0.87312265,\n",
      "       0.83047171, 0.90832496, 0.89051564, 0.85975659, 0.91162674,\n",
      "       0.86362826, 0.8822831 , 0.87408931, 0.88298781, 0.85977401,\n",
      "       0.9041068 , 0.85032465, 0.87028142, 0.88495427, 0.8978441 ,\n",
      "       0.89168527, 0.91104922, 0.86099206, 0.88578669, 0.8855098 ,\n",
      "       0.91415999, 0.87234729, 0.91621588, 0.91039365, 0.91972328,\n",
      "       0.93295966, 1.00578625, 0.9240058 , 1.03840791, 1.01409763,\n",
      "       0.99938385, 1.03112732, 1.03526712, 1.03395528, 1.0122157 ,\n",
      "       1.01789094, 1.18164422, 1.19954027, 1.1528665 , 1.12702459,\n",
      "       1.09944134, 1.14815832, 1.28686428, 1.28591668, 1.19576392,\n",
      "       1.19652174, 1.31648952, 1.31951242, 1.21154991, 1.23733843,\n",
      "       1.38682356, 1.23226127, 1.2762669 , 1.33273719, 1.31467298,\n",
      "       1.23343316, 1.25471428, 1.35926982, 1.23982677, 1.19005958,\n",
      "       1.33203451]), array([0.84495277, 0.83042458, 0.83825888, 0.83523698, 0.83486496,\n",
      "       0.82407778, 0.82086117, 0.82179255, 0.80423525, 0.81877808,\n",
      "       0.8096199 , 0.80768904, 0.79960565, 0.80461387, 0.80344097,\n",
      "       0.81446649, 0.80950438, 0.81400604, 0.78227246, 0.77895973,\n",
      "       0.78460878, 0.80049023, 0.80455418, 0.77964946, 0.81247538,\n",
      "       0.81055809, 0.8049804 , 0.80464519, 0.79802413, 0.80685145,\n",
      "       0.78649185, 0.80242462, 0.79568222, 0.82369226, 0.80171291,\n",
      "       0.79054529, 0.7977092 , 0.80159892, 0.84300724, 0.80706429,\n",
      "       0.80694079, 0.82651325, 0.83080363, 0.83349453, 0.82307761,\n",
      "       0.84671495, 0.79430019, 0.82616598, 0.79699474, 0.83834578,\n",
      "       0.83314751, 0.82617518, 0.8286229 , 0.85451075, 0.81391514,\n",
      "       0.85191747, 0.81087588, 0.81652517, 0.83236304, 0.85146496,\n",
      "       0.83288412, 0.84639109, 0.83530487, 0.82027168, 0.84097937,\n",
      "       0.82795545, 0.81462906, 0.86868093, 0.84579169, 0.85543129,\n",
      "       0.87714067, 0.86218819, 0.87464862, 0.86776944, 0.8654042 ,\n",
      "       0.83636958, 0.8430106 , 0.84801941, 0.85470251, 0.84090962,\n",
      "       0.86679329, 0.84373102, 0.84225761, 0.88990763, 0.88855448,\n",
      "       0.83602636, 0.85020054, 0.85266664, 0.86093196, 0.84048234,\n",
      "       0.85179692, 0.8596609 , 0.88791298, 0.84348453, 0.86207104,\n",
      "       0.8921487 , 0.87506941, 0.88981187, 0.88692043, 0.88215208,\n",
      "       0.83728048, 0.91025129, 0.88267901, 0.85831097, 0.89975951,\n",
      "       0.86432301, 0.88139538, 0.87267822, 0.88300209, 0.85734628,\n",
      "       0.90652605, 0.84856268, 0.87343929, 0.87429515, 0.89344497,\n",
      "       0.88768254, 0.90595029, 0.86347153, 0.89249997, 0.88945509,\n",
      "       0.92215286, 0.87277419, 0.91326346, 0.90145378, 0.91221114,\n",
      "       0.93069555, 0.99351552, 0.91629722, 1.038955  , 1.00394247,\n",
      "       0.99832444, 1.0236603 , 1.04681275, 1.0434885 , 1.01137891,\n",
      "       1.02939421, 1.16983278, 1.21743077, 1.14543899, 1.11225181,\n",
      "       1.11051489, 1.1433358 , 1.33341835, 1.26848222, 1.18423332,\n",
      "       1.18892963, 1.30014417, 1.33115411, 1.22431368, 1.23154672,\n",
      "       1.39204819, 1.21738242, 1.2703602 , 1.33760515, 1.30235863,\n",
      "       1.23876678, 1.26438546, 1.36429842, 1.21924559, 1.17069351,\n",
      "       1.3545115 ]), array([0.8429864 , 0.82995366, 0.83400454, 0.83545596, 0.83733134,\n",
      "       0.8243014 , 0.82312463, 0.82302462, 0.80315098, 0.81728391,\n",
      "       0.80809663, 0.80541395, 0.7981078 , 0.80502274, 0.806471  ,\n",
      "       0.81219334, 0.81140881, 0.81373009, 0.78325267, 0.77783838,\n",
      "       0.78899111, 0.80023033, 0.80383758, 0.78628572, 0.80825642,\n",
      "       0.80786258, 0.8038745 , 0.80271786, 0.80161345, 0.80817645,\n",
      "       0.78591434, 0.80216787, 0.79315355, 0.82688095, 0.80463612,\n",
      "       0.79229634, 0.79866226, 0.80158104, 0.84302   , 0.80568575,\n",
      "       0.80547288, 0.82209991, 0.8307201 , 0.83293903, 0.82168263,\n",
      "       0.84226856, 0.79847441, 0.82417367, 0.80323051, 0.8414625 ,\n",
      "       0.83426817, 0.82278534, 0.82359344, 0.86043537, 0.82092353,\n",
      "       0.84982092, 0.8043031 , 0.81719864, 0.83225508, 0.84761802,\n",
      "       0.83092034, 0.85205675, 0.83373321, 0.82809057, 0.84220522,\n",
      "       0.8282906 , 0.81079315, 0.86987531, 0.8487017 , 0.84991643,\n",
      "       0.87648055, 0.86109849, 0.87694774, 0.86187902, 0.87456743,\n",
      "       0.84178134, 0.83610544, 0.85515706, 0.85565778, 0.83653717,\n",
      "       0.86378513, 0.84452084, 0.84407631, 0.88796435, 0.8960193 ,\n",
      "       0.83092515, 0.84764029, 0.84271897, 0.86764359, 0.84403688,\n",
      "       0.86653572, 0.86054972, 0.88418347, 0.84207733, 0.86216685,\n",
      "       0.89739747, 0.88241016, 0.89136873, 0.89432564, 0.87965996,\n",
      "       0.82802651, 0.90557184, 0.88832761, 0.8537372 , 0.9092379 ,\n",
      "       0.8668764 , 0.88922053, 0.87102777, 0.87672831, 0.85867316,\n",
      "       0.90454347, 0.85089125, 0.87794815, 0.88629183, 0.88709746,\n",
      "       0.88552558, 0.91947917, 0.86624332, 0.88796377, 0.88068464,\n",
      "       0.92330965, 0.87476695, 0.9210293 , 0.90630518, 0.92077838,\n",
      "       0.94250383, 0.9903502 , 0.92323242, 1.03258707, 1.01723946,\n",
      "       0.98158905, 1.02287111, 1.0468505 , 1.04605598, 1.01420525,\n",
      "       1.01798955, 1.16856734, 1.19406958, 1.14930023, 1.11936106,\n",
      "       1.11965718, 1.1278459 , 1.30852865, 1.2949178 , 1.1955625 ,\n",
      "       1.17881513, 1.34728618, 1.3607475 , 1.22698447, 1.24424821,\n",
      "       1.42680581, 1.23351972, 1.26654276, 1.33147729, 1.31392233,\n",
      "       1.22215479, 1.26424643, 1.34410953, 1.2306922 , 1.1873077 ,\n",
      "       1.355166  ]), array([0.84484535, 0.83081144, 0.83449233, 0.83340331, 0.8383104 ,\n",
      "       0.82389607, 0.82307778, 0.82282619, 0.80348734, 0.81479032,\n",
      "       0.80777215, 0.80506697, 0.79967039, 0.80633725, 0.80893591,\n",
      "       0.81082299, 0.81054576, 0.809729  , 0.77840418, 0.77646531,\n",
      "       0.78352818, 0.79991492, 0.80248473, 0.78189767, 0.81176679,\n",
      "       0.8119538 , 0.80144517, 0.80638523, 0.79995345, 0.8061824 ,\n",
      "       0.78948746, 0.80298867, 0.79897238, 0.82897668, 0.80496219,\n",
      "       0.7902424 , 0.80016996, 0.8047538 , 0.84378749, 0.80674847,\n",
      "       0.81034146, 0.82136281, 0.83118114, 0.83222902, 0.81975796,\n",
      "       0.83839814, 0.79720747, 0.82130668, 0.80033715, 0.84237049,\n",
      "       0.82796256, 0.81923341, 0.82550877, 0.86244413, 0.82138864,\n",
      "       0.85472838, 0.81206973, 0.81644635, 0.8322913 , 0.84574744,\n",
      "       0.83073129, 0.85544157, 0.83474224, 0.82464756, 0.83531488,\n",
      "       0.82620862, 0.81167433, 0.86331874, 0.84041324, 0.84997249,\n",
      "       0.87885044, 0.86110393, 0.87209538, 0.86094919, 0.87161304,\n",
      "       0.83758119, 0.84214477, 0.85236397, 0.85435909, 0.83806715,\n",
      "       0.87534623, 0.84047684, 0.84468631, 0.88196981, 0.8962999 ,\n",
      "       0.83931749, 0.8432069 , 0.84716072, 0.8643267 , 0.83846058,\n",
      "       0.85424071, 0.85754068, 0.88908036, 0.84958516, 0.85870526,\n",
      "       0.8982731 , 0.87235072, 0.88645447, 0.88775763, 0.87085349,\n",
      "       0.8317382 , 0.90873809, 0.88389452, 0.85834094, 0.90530622,\n",
      "       0.86127644, 0.89171572, 0.87542611, 0.88129677, 0.86374849,\n",
      "       0.90986856, 0.85050128, 0.87536677, 0.8813529 , 0.88638569,\n",
      "       0.88598697, 0.91468164, 0.85819595, 0.88538257, 0.88428041,\n",
      "       0.92337687, 0.87624512, 0.91590117, 0.90503117, 0.90734615,\n",
      "       0.92755003, 0.98512051, 0.91931079, 1.03069132, 1.00190696,\n",
      "       0.98662212, 1.01776165, 1.03553715, 1.04676762, 1.01312147,\n",
      "       1.01616513, 1.17344746, 1.22524931, 1.13676304, 1.11191897,\n",
      "       1.11515649, 1.15934609, 1.31637197, 1.26395253, 1.18226564,\n",
      "       1.19387929, 1.32164395, 1.3271871 , 1.22888265, 1.228472  ,\n",
      "       1.40356335, 1.21843915, 1.27690032, 1.31783457, 1.33187108,\n",
      "       1.2118664 , 1.26653441, 1.34152061, 1.21512678, 1.17677556,\n",
      "       1.35301428]), array([0.84216173, 0.82801299, 0.83355514, 0.83394856, 0.83688469,\n",
      "       0.82338428, 0.82327096, 0.82202987, 0.80319854, 0.81945577,\n",
      "       0.80530506, 0.80686107, 0.79849034, 0.80604328, 0.80775294,\n",
      "       0.81239817, 0.81275297, 0.81440101, 0.78200372, 0.77664043,\n",
      "       0.7848209 , 0.80149508, 0.80014442, 0.78276817, 0.81037636,\n",
      "       0.81094934, 0.80332581, 0.80736059, 0.79979952, 0.80612109,\n",
      "       0.78958058, 0.80294713, 0.79603561, 0.82709749, 0.8049275 ,\n",
      "       0.78994604, 0.79732586, 0.80426149, 0.84111983, 0.80833649,\n",
      "       0.80994289, 0.82480559, 0.82647151, 0.83451906, 0.82205138,\n",
      "       0.84233214, 0.80219182, 0.82684826, 0.80435115, 0.83960384,\n",
      "       0.83549874, 0.82203096, 0.82628326, 0.85518688, 0.81236867,\n",
      "       0.84849248, 0.80642581, 0.81769596, 0.82662622, 0.85258767,\n",
      "       0.83166964, 0.8503548 , 0.8346142 , 0.81897609, 0.83457994,\n",
      "       0.82990628, 0.80718352, 0.86733407, 0.84797288, 0.84761928,\n",
      "       0.87475174, 0.86496328, 0.8801737 , 0.85946645, 0.8708833 ,\n",
      "       0.8386182 , 0.83955831, 0.84424024, 0.85890383, 0.84182618,\n",
      "       0.8762923 , 0.84032197, 0.84666664, 0.88731565, 0.88590786,\n",
      "       0.83740873, 0.8463925 , 0.84352572, 0.86282876, 0.84206926,\n",
      "       0.86436634, 0.85214992, 0.88056527, 0.84404247, 0.85832819,\n",
      "       0.8991122 , 0.87794587, 0.8837768 , 0.88913885, 0.8799387 ,\n",
      "       0.83077865, 0.91359599, 0.88408047, 0.86054392, 0.90656159,\n",
      "       0.86168066, 0.88626033, 0.87900101, 0.88302736, 0.86297458,\n",
      "       0.90722119, 0.84250431, 0.87699866, 0.87697449, 0.88092048,\n",
      "       0.88709976, 0.91731778, 0.86674612, 0.88674669, 0.88412409,\n",
      "       0.92207408, 0.88377274, 0.91582816, 0.91467802, 0.9194764 ,\n",
      "       0.94183108, 0.99957957, 0.91888334, 1.02932496, 1.0082751 ,\n",
      "       0.99147779, 1.02630562, 1.03894171, 1.0433796 , 1.009704  ,\n",
      "       1.01308634, 1.16580414, 1.21127866, 1.14626714, 1.11630736,\n",
      "       1.11391731, 1.15519214, 1.31083754, 1.26902535, 1.1897153 ,\n",
      "       1.17916897, 1.31307   , 1.33161699, 1.21437686, 1.24845784,\n",
      "       1.39160578, 1.22085015, 1.27355752, 1.31620777, 1.32931006,\n",
      "       1.21643093, 1.24087111, 1.35158782, 1.21994483, 1.19747383,\n",
      "       1.35803969]), array([0.8399424 , 0.82661128, 0.83296894, 0.83560952, 0.83685386,\n",
      "       0.82347591, 0.82350173, 0.8217718 , 0.80104208, 0.82174184,\n",
      "       0.80690237, 0.80882886, 0.79896203, 0.80571745, 0.80564023,\n",
      "       0.81393003, 0.81162692, 0.81672878, 0.78294404, 0.77892246,\n",
      "       0.78588236, 0.80072488, 0.80111496, 0.78477575, 0.80996234,\n",
      "       0.8092581 , 0.80407654, 0.8039291 , 0.79806161, 0.80409512,\n",
      "       0.78651805, 0.80219497, 0.79659603, 0.82488343, 0.80658168,\n",
      "       0.78823626, 0.8008511 , 0.80345676, 0.84153601, 0.80889964,\n",
      "       0.81352806, 0.8220446 , 0.8286696 , 0.83457019, 0.82279311,\n",
      "       0.84477663, 0.80197484, 0.82183898, 0.80573383, 0.842896  ,\n",
      "       0.83448928, 0.82198298, 0.81976605, 0.85688385, 0.8137333 ,\n",
      "       0.84453356, 0.80621165, 0.81957214, 0.82565928, 0.84425342,\n",
      "       0.83514766, 0.85078067, 0.83643581, 0.82467734, 0.8347093 ,\n",
      "       0.82633664, 0.80717004, 0.869533  , 0.84204542, 0.8492681 ,\n",
      "       0.87525532, 0.86462163, 0.87945642, 0.85974413, 0.86309345,\n",
      "       0.83835069, 0.84019593, 0.84224332, 0.85670683, 0.83726941,\n",
      "       0.87262251, 0.8430558 , 0.84405367, 0.87984873, 0.88818995,\n",
      "       0.83111987, 0.85235625, 0.84457506, 0.86322037, 0.8454243 ,\n",
      "       0.86041975, 0.86015496, 0.89169504, 0.84599191, 0.85591841,\n",
      "       0.8969106 , 0.88179038, 0.89375689, 0.88902555, 0.88008735,\n",
      "       0.83214111, 0.90948397, 0.88203126, 0.85702234, 0.90186543,\n",
      "       0.86053082, 0.88830908, 0.88083892, 0.87318441, 0.8665314 ,\n",
      "       0.89710122, 0.84677924, 0.87355966, 0.88022613, 0.88500875,\n",
      "       0.88946928, 0.91437992, 0.86039899, 0.891332  , 0.88409505,\n",
      "       0.92053687, 0.87821468, 0.91867015, 0.91926196, 0.91504726,\n",
      "       0.92880372, 0.99799447, 0.92471836, 1.03862893, 1.01529402,\n",
      "       0.98446088, 1.0166951 , 1.0375583 , 1.04072291, 1.00906953,\n",
      "       1.02150441, 1.17515419, 1.22053103, 1.15974888, 1.11225959,\n",
      "       1.11421338, 1.13159906, 1.2976561 , 1.27299484, 1.18991482,\n",
      "       1.17889617, 1.30065849, 1.33324932, 1.21851028, 1.24880117,\n",
      "       1.42701955, 1.22618834, 1.27493061, 1.31931648, 1.31614092,\n",
      "       1.23259354, 1.24547292, 1.34847682, 1.22053454, 1.17924084,\n",
      "       1.3511132 ]), array([0.8421999 , 0.83144854, 0.83582832, 0.83455132, 0.83729487,\n",
      "       0.82632916, 0.82346944, 0.8206057 , 0.80269556, 0.81932596,\n",
      "       0.80791625, 0.80819994, 0.80034978, 0.80510288, 0.80629398,\n",
      "       0.80998757, 0.81029068, 0.81021677, 0.78173762, 0.77645995,\n",
      "       0.78426492, 0.80253602, 0.80212971, 0.78326658, 0.81588337,\n",
      "       0.80841445, 0.80072486, 0.80488805, 0.80304177, 0.80428904,\n",
      "       0.78388034, 0.80397428, 0.79671061, 0.82642345, 0.80897444,\n",
      "       0.79155799, 0.79842316, 0.80390888, 0.8444801 , 0.80895419,\n",
      "       0.81112787, 0.82616132, 0.82888484, 0.83399466, 0.82661169,\n",
      "       0.84492944, 0.7976949 , 0.82197982, 0.79856053, 0.84135284,\n",
      "       0.8306352 , 0.82416903, 0.82352623, 0.85594169, 0.81923091,\n",
      "       0.84834767, 0.80659863, 0.81820885, 0.83467471, 0.84424415,\n",
      "       0.83879064, 0.84877066, 0.82869916, 0.82067742, 0.84423091,\n",
      "       0.82827107, 0.80626611, 0.86688498, 0.84824113, 0.85893848,\n",
      "       0.87592425, 0.86573966, 0.87545924, 0.85512661, 0.86222858,\n",
      "       0.83225007, 0.8337434 , 0.85358873, 0.85190528, 0.83831189,\n",
      "       0.8690494 , 0.8353761 , 0.8367284 , 0.89025134, 0.88957176,\n",
      "       0.83857563, 0.85161687, 0.85472983, 0.85956801, 0.84127509,\n",
      "       0.86177062, 0.85645988, 0.885301  , 0.83961158, 0.85689591,\n",
      "       0.89487333, 0.88891145, 0.89250454, 0.88838146, 0.87254073,\n",
      "       0.83174031, 0.91998955, 0.88582749, 0.85819925, 0.90054857,\n",
      "       0.85549159, 0.8816625 , 0.87643306, 0.87740364, 0.8625442 ,\n",
      "       0.90582288, 0.8500936 , 0.87817344, 0.8883322 , 0.88136702,\n",
      "       0.88620237, 0.91487927, 0.85770821, 0.88287182, 0.88386084,\n",
      "       0.92784063, 0.88168741, 0.91837028, 0.91059042, 0.9195001 ,\n",
      "       0.93066803, 0.99428756, 0.9224235 , 1.0358842 , 1.00455207,\n",
      "       0.99493146, 1.02277637, 1.04968876, 1.03126953, 1.02069148,\n",
      "       1.01870015, 1.18539516, 1.22469949, 1.14786492, 1.1098566 ,\n",
      "       1.12635613, 1.14403783, 1.29052098, 1.28011126, 1.18347399,\n",
      "       1.19234543, 1.31663684, 1.31250439, 1.22245466, 1.25844798,\n",
      "       1.40912186, 1.22467598, 1.27122038, 1.34342032, 1.31647314,\n",
      "       1.21180089, 1.25772583, 1.36066366, 1.20966148, 1.19478544,\n",
      "       1.39101421]), array([0.84339484, 0.82915511, 0.83484843, 0.83652052, 0.83842233,\n",
      "       0.82487108, 0.82499514, 0.82033604, 0.80557266, 0.81736964,\n",
      "       0.80793054, 0.80634414, 0.80048251, 0.80402407, 0.80823254,\n",
      "       0.81208503, 0.81108698, 0.81519227, 0.78074836, 0.78120659,\n",
      "       0.78396282, 0.80295102, 0.80517877, 0.77990344, 0.8138687 ,\n",
      "       0.81050736, 0.80103303, 0.80624037, 0.79997802, 0.80254417,\n",
      "       0.78607976, 0.80670121, 0.79347668, 0.82555049, 0.80620296,\n",
      "       0.78907454, 0.79897454, 0.80616576, 0.84591147, 0.80227813,\n",
      "       0.8067276 , 0.82825817, 0.8297235 , 0.83477531, 0.82416176,\n",
      "       0.84738892, 0.79857528, 0.82297807, 0.7989806 , 0.84050872,\n",
      "       0.83390376, 0.81885079, 0.82553806, 0.85891396, 0.82138204,\n",
      "       0.85024438, 0.81322763, 0.81444392, 0.83282843, 0.84728212,\n",
      "       0.82924218, 0.84507477, 0.83957215, 0.8271479 , 0.83884277,\n",
      "       0.83267511, 0.80979087, 0.86785102, 0.84029065, 0.84705074,\n",
      "       0.87602851, 0.86110239, 0.87085503, 0.86549536, 0.86855117,\n",
      "       0.83336731, 0.8375585 , 0.84441616, 0.86197083, 0.83989496,\n",
      "       0.86881599, 0.84276367, 0.83956796, 0.89506666, 0.89017083,\n",
      "       0.83464259, 0.85272947, 0.85105591, 0.85560212, 0.83937515,\n",
      "       0.8558219 , 0.86034916, 0.88372719, 0.84226059, 0.85802407,\n",
      "       0.89820162, 0.88425989, 0.89380835, 0.89469308, 0.88320977,\n",
      "       0.83529312, 0.91517514, 0.88094673, 0.86191387, 0.90761329,\n",
      "       0.85739058, 0.89483929, 0.87640355, 0.88193239, 0.86543847,\n",
      "       0.91145628, 0.85693174, 0.878874  , 0.87861318, 0.88462511,\n",
      "       0.8798553 , 0.91289583, 0.85872932, 0.88984204, 0.88697088,\n",
      "       0.9161939 , 0.87993562, 0.92142175, 0.90815057, 0.92256301,\n",
      "       0.93583027, 0.98831829, 0.91862893, 1.0455165 , 1.0039656 ,\n",
      "       0.98488014, 1.01586937, 1.04803636, 1.03815175, 1.00200166,\n",
      "       1.00777527, 1.16374767, 1.21965878, 1.14051939, 1.11312806,\n",
      "       1.1016934 , 1.14308145, 1.30884899, 1.28814286, 1.17163442,\n",
      "       1.18184149, 1.32287669, 1.32244698, 1.20722796, 1.25233354,\n",
      "       1.42431457, 1.2419857 , 1.26300499, 1.31459794, 1.33157571,\n",
      "       1.21908213, 1.26759714, 1.34679946, 1.23740455, 1.19065877,\n",
      "       1.35309746]), array([0.84101041, 0.83265064, 0.83547796, 0.83859762, 0.83731689,\n",
      "       0.82608337, 0.8216778 , 0.82291689, 0.80466218, 0.81911045,\n",
      "       0.80613716, 0.80850296, 0.80035421, 0.80416899, 0.80957259,\n",
      "       0.8099133 , 0.81072604, 0.81476304, 0.78211094, 0.77972608,\n",
      "       0.78492493, 0.79945061, 0.80154535, 0.78048713, 0.81182139,\n",
      "       0.80865734, 0.80192143, 0.80570561, 0.80219912, 0.80608967,\n",
      "       0.78878534, 0.80259851, 0.79828859, 0.82205681, 0.80707673,\n",
      "       0.78960192, 0.79759024, 0.80420763, 0.84530765, 0.80242682,\n",
      "       0.80924646, 0.82766726, 0.82512974, 0.83454494, 0.82221588,\n",
      "       0.84785141, 0.80216275, 0.82422764, 0.80063623, 0.84395804,\n",
      "       0.82890297, 0.82015484, 0.82172509, 0.86204693, 0.81568281,\n",
      "       0.84671847, 0.81201586, 0.81483983, 0.8318864 , 0.84724774,\n",
      "       0.83692344, 0.85005503, 0.83699814, 0.82647287, 0.83790525,\n",
      "       0.82639949, 0.8068894 , 0.86896532, 0.84488112, 0.84976672,\n",
      "       0.87413799, 0.86860132, 0.8734817 , 0.86304631, 0.86762934,\n",
      "       0.83832804, 0.83209088, 0.84728008, 0.85768119, 0.84485699,\n",
      "       0.86419858, 0.83817082, 0.84375052, 0.88089107, 0.89227423,\n",
      "       0.83257942, 0.85327685, 0.84553514, 0.8644869 , 0.84392979,\n",
      "       0.86216311, 0.85932651, 0.8799596 , 0.85158429, 0.86041497,\n",
      "       0.89825855, 0.88289787, 0.8809912 , 0.89391349, 0.88041308,\n",
      "       0.8323298 , 0.90991097, 0.88853937, 0.8586006 , 0.90392133,\n",
      "       0.86430865, 0.89211923, 0.87428919, 0.88223642, 0.85576675,\n",
      "       0.90797262, 0.84872567, 0.87636146, 0.89008834, 0.88557314,\n",
      "       0.87799126, 0.91219986, 0.86505545, 0.88754982, 0.88779987,\n",
      "       0.92202978, 0.87342012, 0.92305634, 0.90854103, 0.91882664,\n",
      "       0.94125829, 0.99093045, 0.91837537, 1.04610743, 1.01227091,\n",
      "       0.99289641, 1.02060474, 1.02952229, 1.04991185, 1.00912859,\n",
      "       1.02410867, 1.17482095, 1.21616038, 1.14386994, 1.10799642,\n",
      "       1.09839829, 1.13599092, 1.32250926, 1.29033746, 1.18338622,\n",
      "       1.17632795, 1.3157309 , 1.35998975, 1.23364009, 1.23440859,\n",
      "       1.39727955, 1.2152308 , 1.27528705, 1.30439806, 1.30996297,\n",
      "       1.20672037, 1.25995643, 1.35860232, 1.23281305, 1.19397749,\n",
      "       1.35532081]), array([0.84405573, 0.83112914, 0.83428105, 0.83618111, 0.83801061,\n",
      "       0.82517333, 0.82118997, 0.82422192, 0.80426324, 0.81606267,\n",
      "       0.80943947, 0.80707192, 0.79688484, 0.80490486, 0.80591164,\n",
      "       0.81359454, 0.80993216, 0.81615079, 0.7833568 , 0.7804366 ,\n",
      "       0.78250907, 0.79907956, 0.79993462, 0.78144275, 0.81056874,\n",
      "       0.80666424, 0.79731271, 0.800898  , 0.800609  , 0.80360134,\n",
      "       0.78884752, 0.80611183, 0.79421444, 0.82895975, 0.80356359,\n",
      "       0.78650118, 0.79856102, 0.80038006, 0.84528979, 0.80834177,\n",
      "       0.80924566, 0.82374945, 0.82966915, 0.83326004, 0.82818692,\n",
      "       0.848179  , 0.80177018, 0.81898712, 0.79567221, 0.83706933,\n",
      "       0.83440277, 0.82376414, 0.81908255, 0.86249944, 0.81691581,\n",
      "       0.85465755, 0.81214737, 0.81817114, 0.82569   , 0.84920939,\n",
      "       0.832365  , 0.85246515, 0.83242074, 0.82477437, 0.83970513,\n",
      "       0.82943701, 0.80916535, 0.86303913, 0.84838369, 0.84848977,\n",
      "       0.87843669, 0.8637332 , 0.86638757, 0.86111718, 0.85892097,\n",
      "       0.83108971, 0.83454986, 0.8429978 , 0.85217149, 0.83987608,\n",
      "       0.86851029, 0.83703371, 0.83597887, 0.89485312, 0.88921705,\n",
      "       0.83428241, 0.85388376, 0.84416514, 0.86391978, 0.84489142,\n",
      "       0.86303383, 0.86082298, 0.8782745 , 0.85090874, 0.85389079,\n",
      "       0.89017524, 0.87905946, 0.89080311, 0.89056371, 0.87462789,\n",
      "       0.83109966, 0.91215459, 0.88425076, 0.85015929, 0.90459461,\n",
      "       0.86149685, 0.882457  , 0.87591086, 0.87355434, 0.86067272,\n",
      "       0.90544497, 0.85008013, 0.8740822 , 0.88079816, 0.89109926,\n",
      "       0.88466062, 0.90491977, 0.86959297, 0.88856067, 0.89116948,\n",
      "       0.91727902, 0.8770175 , 0.92071292, 0.90600386, 0.91207602,\n",
      "       0.92916343, 1.00085204, 0.91579637, 1.04224466, 1.02227412,\n",
      "       0.97949901, 1.02539139, 1.04293777, 1.03838405, 1.00902317,\n",
      "       1.02015774, 1.19139616, 1.20813192, 1.15726121, 1.11463098,\n",
      "       1.11815352, 1.14002217, 1.32632701, 1.29682777, 1.1689597 ,\n",
      "       1.17711872, 1.32288093, 1.35542878, 1.21728577, 1.23466573,\n",
      "       1.40224149, 1.22254787, 1.27824347, 1.3321407 , 1.28905303,\n",
      "       1.22440355, 1.2540559 , 1.34893288, 1.24098722, 1.19026729,\n",
      "       1.34132941]), array([0.84340141, 0.82861105, 0.83408102, 0.83637608, 0.83737888,\n",
      "       0.82487719, 0.82301154, 0.82087406, 0.80235658, 0.8165163 ,\n",
      "       0.81061626, 0.80744454, 0.79876399, 0.80572811, 0.80974615,\n",
      "       0.81509064, 0.81004614, 0.81514293, 0.78464425, 0.77819025,\n",
      "       0.78459045, 0.80185887, 0.80014077, 0.7801565 , 0.81035237,\n",
      "       0.80922827, 0.80151793, 0.80575196, 0.80243601, 0.80473772,\n",
      "       0.78400693, 0.80468895, 0.79136883, 0.82951737, 0.80787691,\n",
      "       0.78821187, 0.80095342, 0.80304596, 0.84836327, 0.80586324,\n",
      "       0.81266902, 0.82705166, 0.83099622, 0.83725206, 0.82279667,\n",
      "       0.84397294, 0.79830856, 0.82155033, 0.80057033, 0.83909722,\n",
      "       0.82791226, 0.82350448, 0.82752482, 0.85884795, 0.81347127,\n",
      "       0.84994234, 0.81204498, 0.81247394, 0.83296016, 0.85008309,\n",
      "       0.82972239, 0.84796375, 0.8359458 , 0.81947599, 0.83824638,\n",
      "       0.83474939, 0.81222625, 0.86680817, 0.84335415, 0.85660857,\n",
      "       0.87076515, 0.86752516, 0.87339031, 0.85873554, 0.86585425,\n",
      "       0.84007114, 0.83759364, 0.84387753, 0.85467298, 0.84467677,\n",
      "       0.86604646, 0.84279303, 0.84326042, 0.88523353, 0.88848117,\n",
      "       0.84006581, 0.84763208, 0.85237403, 0.86042808, 0.84394964,\n",
      "       0.8531653 , 0.86603007, 0.88880632, 0.84772148, 0.86054894,\n",
      "       0.8912766 , 0.87936012, 0.88975808, 0.88894301, 0.87745707,\n",
      "       0.83129747, 0.91220473, 0.88438822, 0.8601695 , 0.90292193,\n",
      "       0.86492945, 0.87998403, 0.87506238, 0.87685735, 0.86673722,\n",
      "       0.90236919, 0.84832259, 0.87490738, 0.8754357 , 0.89284225,\n",
      "       0.87866303, 0.92092781, 0.86335726, 0.88403376, 0.89076196,\n",
      "       0.92251859, 0.88154987, 0.92735627, 0.91801036, 0.91763279,\n",
      "       0.93347062, 0.99999432, 0.91578033, 1.04416047, 1.01071882,\n",
      "       0.98771593, 1.02652741, 1.04803441, 1.03770484, 1.0041423 ,\n",
      "       1.01828793, 1.16423645, 1.21856625, 1.15779254, 1.11419849,\n",
      "       1.10711811, 1.14501748, 1.31184474, 1.29527222, 1.2024851 ,\n",
      "       1.17998734, 1.29216454, 1.32519313, 1.21462508, 1.23009155,\n",
      "       1.382573  , 1.22812996, 1.2646995 , 1.32594008, 1.30618935,\n",
      "       1.23510442, 1.25517008, 1.36818131, 1.22358581, 1.17873635,\n",
      "       1.36620766]), array([0.84341482, 0.83274919, 0.83511748, 0.83395574, 0.83573795,\n",
      "       0.82422163, 0.82120777, 0.82284313, 0.80259095, 0.81864918,\n",
      "       0.80655638, 0.8063346 , 0.79985321, 0.80659889, 0.8079356 ,\n",
      "       0.81135985, 0.81054249, 0.80928941, 0.78177524, 0.77730407,\n",
      "       0.78463681, 0.80154909, 0.80231488, 0.7830413 , 0.81200657,\n",
      "       0.80785723, 0.80343201, 0.80443755, 0.80272202, 0.80197271,\n",
      "       0.78889426, 0.80597799, 0.79676993, 0.82234201, 0.805092  ,\n",
      "       0.78678272, 0.79968015, 0.80161788, 0.84534058, 0.80393164,\n",
      "       0.80712128, 0.82742483, 0.8311053 , 0.83499478, 0.82208186,\n",
      "       0.84719941, 0.80314924, 0.81971031, 0.79932312, 0.83966528,\n",
      "       0.83081466, 0.82306562, 0.8233352 , 0.86071775, 0.81969759,\n",
      "       0.85482088, 0.80961672, 0.81469138, 0.83268813, 0.84617793,\n",
      "       0.83174421, 0.84616923, 0.83352688, 0.81984881, 0.83754132,\n",
      "       0.831933  , 0.8073737 , 0.87193446, 0.84321022, 0.84998879,\n",
      "       0.87191842, 0.86612027, 0.86903509, 0.8645901 , 0.8603076 ,\n",
      "       0.84346262, 0.83869601, 0.84916894, 0.8554513 , 0.83239355,\n",
      "       0.87218277, 0.83440093, 0.83956   , 0.89476489, 0.88867137,\n",
      "       0.8355721 , 0.8463704 , 0.8542826 , 0.86142104, 0.83465733,\n",
      "       0.8571904 , 0.85857782, 0.88285999, 0.84740971, 0.86094359,\n",
      "       0.89316081, 0.87648568, 0.87856098, 0.89364089, 0.87510055,\n",
      "       0.82955979, 0.90965884, 0.88821898, 0.86185688, 0.90142816,\n",
      "       0.85594896, 0.8768891 , 0.87316907, 0.87434802, 0.86236781,\n",
      "       0.90321701, 0.8477017 , 0.86970852, 0.88614326, 0.88749858,\n",
      "       0.88065833, 0.91896859, 0.86649146, 0.88284476, 0.88869612,\n",
      "       0.92424242, 0.87657473, 0.91743503, 0.91180115, 0.91184126,\n",
      "       0.9401437 , 0.9910808 , 0.92146989, 1.03570871, 1.02106054,\n",
      "       0.98126679, 1.01799181, 1.03892128, 1.03695901, 1.01208285,\n",
      "       1.00764488, 1.1826898 , 1.20176603, 1.14436125, 1.11452696,\n",
      "       1.12197259, 1.15413297, 1.30452275, 1.28530604, 1.17102976,\n",
      "       1.17762869, 1.33378201, 1.35201637, 1.21297485, 1.24982306,\n",
      "       1.39261285, 1.22898599, 1.27337232, 1.29940519, 1.32574546,\n",
      "       1.24209156, 1.26462605, 1.37675449, 1.23269692, 1.19921052,\n",
      "       1.35900749]), array([0.84392388, 0.82965496, 0.83640533, 0.83313258, 0.83607895,\n",
      "       0.82449222, 0.82274529, 0.82235528, 0.80260345, 0.81780658,\n",
      "       0.80887575, 0.80841635, 0.80108291, 0.80609972, 0.80963692,\n",
      "       0.81100698, 0.81088999, 0.8136754 , 0.78352981, 0.78120643,\n",
      "       0.78433561, 0.80389056, 0.80281458, 0.78071569, 0.81167967,\n",
      "       0.807843  , 0.80227733, 0.80156222, 0.8037631 , 0.80550403,\n",
      "       0.79020032, 0.8020179 , 0.79742965, 0.82737879, 0.80413667,\n",
      "       0.79139605, 0.79658908, 0.80018718, 0.84358986, 0.80550881,\n",
      "       0.80655284, 0.81961404, 0.83155263, 0.830813  , 0.82786974,\n",
      "       0.84743435, 0.79915436, 0.82393806, 0.80026596, 0.83863697,\n",
      "       0.8347225 , 0.81674415, 0.82231657, 0.85966277, 0.82191804,\n",
      "       0.85172423, 0.81282605, 0.81547244, 0.83410142, 0.84948573,\n",
      "       0.82665509, 0.85135366, 0.8343092 , 0.82091684, 0.8382957 ,\n",
      "       0.82424257, 0.80767736, 0.87256668, 0.84368085, 0.85577315,\n",
      "       0.88029144, 0.86415771, 0.87496709, 0.86287902, 0.865332  ,\n",
      "       0.83722049, 0.83267029, 0.84507656, 0.85376252, 0.84117627,\n",
      "       0.86519896, 0.8369293 , 0.84272223, 0.88561995, 0.89110276,\n",
      "       0.83047426, 0.85244316, 0.85128461, 0.85827873, 0.84393585,\n",
      "       0.85689965, 0.85554769, 0.87827218, 0.84944941, 0.86391468,\n",
      "       0.89647736, 0.88011956, 0.88474343, 0.89751935, 0.87457819,\n",
      "       0.82454782, 0.90580527, 0.87999358, 0.86178165, 0.90843446,\n",
      "       0.85295186, 0.88762242, 0.87300122, 0.87327829, 0.86647789,\n",
      "       0.90368352, 0.84787121, 0.87614893, 0.88640507, 0.8862402 ,\n",
      "       0.88277056, 0.91695776, 0.86373443, 0.8889009 , 0.88745915,\n",
      "       0.92136556, 0.88154748, 0.92963805, 0.91261763, 0.92220766,\n",
      "       0.93660634, 0.99861856, 0.91691352, 1.0375211 , 1.00919078,\n",
      "       0.9794679 , 1.02039002, 1.05034999, 1.04676733, 1.0021525 ,\n",
      "       1.02082476, 1.17852076, 1.22878765, 1.15496113, 1.11434784,\n",
      "       1.10235071, 1.13874331, 1.29755753, 1.258172  , 1.18805063,\n",
      "       1.1869471 , 1.32631056, 1.33098777, 1.22170214, 1.23784277,\n",
      "       1.42270403, 1.2229279 , 1.26573117, 1.31763152, 1.30945389,\n",
      "       1.22349977, 1.250529  , 1.34465136, 1.21397306, 1.19928544,\n",
      "       1.35240534]), array([0.84269566, 0.83000129, 0.83527327, 0.83330941, 0.83847882,\n",
      "       0.82545175, 0.82364352, 0.82530616, 0.8032939 , 0.81807329,\n",
      "       0.80878807, 0.81012737, 0.80180288, 0.80486338, 0.80843697,\n",
      "       0.80916788, 0.81047961, 0.81146446, 0.78237917, 0.77889438,\n",
      "       0.78416377, 0.80061597, 0.80195803, 0.78051414, 0.80784818,\n",
      "       0.80950878, 0.80251371, 0.80551007, 0.80083909, 0.80565545,\n",
      "       0.7851779 , 0.80561169, 0.79623176, 0.82717951, 0.80369839,\n",
      "       0.79044567, 0.79822922, 0.80339974, 0.84130018, 0.8055001 ,\n",
      "       0.81203891, 0.82075224, 0.83043373, 0.83290263, 0.82855925,\n",
      "       0.8405763 , 0.79613082, 0.81851419, 0.80337647, 0.84156034,\n",
      "       0.83140691, 0.81838441, 0.82231245, 0.86243157, 0.82077651,\n",
      "       0.85078042, 0.80987016, 0.81727988, 0.83024263, 0.84515691,\n",
      "       0.83047324, 0.84408078, 0.82802936, 0.81879449, 0.84341898,\n",
      "       0.82866127, 0.81034488, 0.86829585, 0.83839598, 0.84939095,\n",
      "       0.87524899, 0.86283591, 0.87266643, 0.86148413, 0.85943132,\n",
      "       0.83721455, 0.83890053, 0.84506857, 0.85193125, 0.84171222,\n",
      "       0.86562766, 0.83632647, 0.83539438, 0.88328895, 0.892112  ,\n",
      "       0.83132916, 0.85295263, 0.8462806 , 0.86146973, 0.84525521,\n",
      "       0.86369739, 0.85723255, 0.87698835, 0.84749997, 0.85739541,\n",
      "       0.90087741, 0.87335316, 0.88427292, 0.90011689, 0.88265046,\n",
      "       0.82975286, 0.91726003, 0.88082318, 0.86247827, 0.90983432,\n",
      "       0.86043939, 0.89615122, 0.8760675 , 0.88149609, 0.86326925,\n",
      "       0.90314359, 0.84474728, 0.87880118, 0.87441085, 0.89207129,\n",
      "       0.89401981, 0.91643952, 0.8590191 , 0.88371668, 0.89198825,\n",
      "       0.9163101 , 0.88009031, 0.91261119, 0.91882618, 0.91417463,\n",
      "       0.94247227, 1.00068153, 0.91745425, 1.03739269, 1.00498527,\n",
      "       0.98172835, 1.03246021, 1.03858804, 1.04836564, 1.00612505,\n",
      "       1.02665463, 1.17212872, 1.1952406 , 1.15910224, 1.12233948,\n",
      "       1.10924679, 1.1401856 , 1.32041107, 1.26786831, 1.20027628,\n",
      "       1.18575243, 1.31910246, 1.33734589, 1.2083612 , 1.24319928,\n",
      "       1.4029729 , 1.23035096, 1.25548703, 1.30626   , 1.31878199,\n",
      "       1.24955419, 1.27034561, 1.35973755, 1.21481999, 1.20540507,\n",
      "       1.35700039]), array([0.84382592, 0.82807597, 0.83459377, 0.83772748, 0.83321072,\n",
      "       0.82187156, 0.82104821, 0.8196547 , 0.80211519, 0.81772573,\n",
      "       0.80764435, 0.80667366, 0.7986737 , 0.80107397, 0.80904664,\n",
      "       0.81091784, 0.80980017, 0.81205025, 0.78178004, 0.77912022,\n",
      "       0.78313193, 0.80063411, 0.8024483 , 0.78190356, 0.80998768,\n",
      "       0.80884394, 0.80248956, 0.80054258, 0.80143168, 0.80293401,\n",
      "       0.78712106, 0.80766993, 0.79292719, 0.82511731, 0.80357436,\n",
      "       0.7900707 , 0.79624085, 0.80154827, 0.84889515, 0.80315482,\n",
      "       0.81039042, 0.81997889, 0.82976068, 0.83097461, 0.82424192,\n",
      "       0.84329676, 0.79563073, 0.82172229, 0.80292081, 0.83784183,\n",
      "       0.83111128, 0.81894147, 0.81896115, 0.8623909 , 0.81980806,\n",
      "       0.85506056, 0.8147261 , 0.81499234, 0.83006706, 0.84925534,\n",
      "       0.83183056, 0.84365565, 0.83798681, 0.82269616, 0.84550001,\n",
      "       0.82648578, 0.81322448, 0.86984663, 0.84110009, 0.85132491,\n",
      "       0.8747832 , 0.8659497 , 0.87460137, 0.85991149, 0.86530628,\n",
      "       0.83419336, 0.83272171, 0.84567783, 0.85959447, 0.84051406,\n",
      "       0.86512523, 0.84036448, 0.83470677, 0.8943289 , 0.88414298,\n",
      "       0.83246678, 0.8501243 , 0.8466305 , 0.86408694, 0.8459182 ,\n",
      "       0.85637205, 0.8602786 , 0.88349088, 0.8488008 , 0.85971515,\n",
      "       0.89035648, 0.87467948, 0.88384588, 0.89966965, 0.87959732,\n",
      "       0.8364414 , 0.91632729, 0.88357533, 0.85781476, 0.90145664,\n",
      "       0.85521877, 0.88476619, 0.87317668, 0.87832583, 0.85972192,\n",
      "       0.90043445, 0.85551703, 0.87583484, 0.8831526 , 0.88724084,\n",
      "       0.89276426, 0.91223395, 0.86287896, 0.88293074, 0.89400637,\n",
      "       0.92788579, 0.88080167, 0.91225576, 0.91087891, 0.91421193,\n",
      "       0.92630156, 0.99331084, 0.92192728, 1.03355904, 1.01081641,\n",
      "       0.98123593, 1.02393803, 1.0349436 , 1.05184347, 1.01950529,\n",
      "       1.01942397, 1.16127206, 1.2185767 , 1.1461242 , 1.11223084,\n",
      "       1.11646551, 1.14235298, 1.31889709, 1.29694437, 1.17610641,\n",
      "       1.18539212, 1.30912767, 1.33131415, 1.21588063, 1.24082175,\n",
      "       1.38802743, 1.23774512, 1.27224165, 1.31794306, 1.30417953,\n",
      "       1.21580673, 1.26978456, 1.36444413, 1.22763743, 1.18753708,\n",
      "       1.37210411]), array([0.84264218, 0.83138039, 0.83562795, 0.83468536, 0.83627379,\n",
      "       0.82406139, 0.82387275, 0.82464189, 0.80121364, 0.81626987,\n",
      "       0.80828113, 0.80597299, 0.80096662, 0.80779249, 0.80915776,\n",
      "       0.81389148, 0.80845581, 0.81562082, 0.78107419, 0.77962301,\n",
      "       0.78474389, 0.79796637, 0.79988733, 0.78268052, 0.8114628 ,\n",
      "       0.80513588, 0.80133931, 0.80531883, 0.80073266, 0.80673112,\n",
      "       0.78834605, 0.80567645, 0.79524913, 0.82806971, 0.8038246 ,\n",
      "       0.78718633, 0.79747906, 0.80039617, 0.84188214, 0.80745724,\n",
      "       0.80905026, 0.82323341, 0.83332741, 0.83619522, 0.82103722,\n",
      "       0.83954666, 0.79886714, 0.82463931, 0.79778455, 0.845116  ,\n",
      "       0.82704299, 0.82442051, 0.82345126, 0.86059365, 0.8177276 ,\n",
      "       0.85338846, 0.81251641, 0.81056003, 0.83650522, 0.84596905,\n",
      "       0.83115525, 0.85001799, 0.83878799, 0.82693078, 0.83888755,\n",
      "       0.8322777 , 0.81404704, 0.8688735 , 0.84018134, 0.85947218,\n",
      "       0.86673781, 0.86227506, 0.87378637, 0.86151485, 0.86877713,\n",
      "       0.84154716, 0.8351286 , 0.85509367, 0.85869315, 0.84266492,\n",
      "       0.87452647, 0.83835494, 0.83761773, 0.88445331, 0.88648797,\n",
      "       0.83404492, 0.84892876, 0.8533205 , 0.8584175 , 0.84230948,\n",
      "       0.85554709, 0.86271446, 0.88030163, 0.84685826, 0.8531702 ,\n",
      "       0.89561079, 0.88481017, 0.89122091, 0.89473022, 0.87594304,\n",
      "       0.83307264, 0.90598026, 0.88020628, 0.86435763, 0.91179792,\n",
      "       0.86734345, 0.87901996, 0.87301099, 0.88033613, 0.86108486,\n",
      "       0.8979245 , 0.85244945, 0.87569689, 0.8735126 , 0.88337009,\n",
      "       0.88412868, 0.90975888, 0.86431768, 0.88905882, 0.88929041,\n",
      "       0.92525365, 0.88293277, 0.91984279, 0.91571618, 0.91597851,\n",
      "       0.93525942, 1.00016593, 0.92235066, 1.03769231, 1.0022663 ,\n",
      "       0.99491488, 1.03494392, 1.02929297, 1.04032844, 1.00930026,\n",
      "       1.01368957, 1.16673895, 1.22284265, 1.15706565, 1.11715253,\n",
      "       1.12151412, 1.13774495, 1.29621817, 1.28650842, 1.19271252,\n",
      "       1.1867482 , 1.31528299, 1.34731864, 1.21792771, 1.23482674,\n",
      "       1.4070975 , 1.2263663 , 1.27755911, 1.33162067, 1.29527911,\n",
      "       1.22441685, 1.26686043, 1.37260236, 1.2222952 , 1.19977144,\n",
      "       1.3457    ]), array([0.84444666, 0.82868655, 0.83209898, 0.83831467, 0.83670987,\n",
      "       0.82390822, 0.81931189, 0.82667623, 0.80419054, 0.81960432,\n",
      "       0.80968534, 0.80580349, 0.79901504, 0.80567051, 0.81002345,\n",
      "       0.81256291, 0.81459554, 0.81631838, 0.783279  , 0.77849291,\n",
      "       0.78525413, 0.79777712, 0.79739236, 0.77802934, 0.81253558,\n",
      "       0.80536901, 0.79767201, 0.80839484, 0.7990869 , 0.79947504,\n",
      "       0.78313488, 0.80560529, 0.79427828, 0.83047028, 0.80569325,\n",
      "       0.78850002, 0.79392874, 0.80432574, 0.83719795, 0.81047244,\n",
      "       0.80941053, 0.82520477, 0.83305619, 0.83902788, 0.82620577,\n",
      "       0.83721582, 0.80017045, 0.82819978, 0.79641243, 0.84569082,\n",
      "       0.83329664, 0.81485889, 0.82103489, 0.86234327, 0.81146907,\n",
      "       0.84504421, 0.81644305, 0.8117407 , 0.82912978, 0.83927366,\n",
      "       0.83618799, 0.84732271, 0.83434316, 0.81928244, 0.84518579,\n",
      "       0.82238899, 0.80302906, 0.87189917, 0.83927423, 0.85989714,\n",
      "       0.86642442, 0.85341339, 0.86479036, 0.8571784 , 0.87118286,\n",
      "       0.82889983, 0.8365006 , 0.855936  , 0.85207466, 0.84491747,\n",
      "       0.87816636, 0.8433923 , 0.84707026, 0.88313902, 0.89012953,\n",
      "       0.84143504, 0.84340404, 0.85601511, 0.85782555, 0.83277281,\n",
      "       0.86456524, 0.86262898, 0.88610265, 0.85344433, 0.85106588,\n",
      "       0.897352  , 0.8793454 , 0.89451114, 0.88266957, 0.88889027,\n",
      "       0.83640137, 0.90696462, 0.88993654, 0.86684118, 0.9032123 ,\n",
      "       0.87153583, 0.88115565, 0.88079811, 0.8835247 , 0.86010108,\n",
      "       0.89230873, 0.84081048, 0.88193603, 0.87168953, 0.89153595,\n",
      "       0.88051335, 0.9050034 , 0.87155559, 0.88708771, 0.89079758,\n",
      "       0.9227534 , 0.88032575, 0.93052897, 0.89867867, 0.92261826,\n",
      "       0.92452495, 0.99731559, 0.9322551 , 1.02459151, 1.01647131,\n",
      "       0.98715999, 1.0265741 , 1.04900906, 1.04847111, 1.00774073,\n",
      "       1.00607921, 1.19064602, 1.23717   , 1.149646  , 1.10833902,\n",
      "       1.11378215, 1.11956791, 1.33343204, 1.31290206, 1.19844686,\n",
      "       1.19510145, 1.34924407, 1.34695557, 1.21799612, 1.24333874,\n",
      "       1.43358455, 1.23139264, 1.25688317, 1.31330592, 1.33515135,\n",
      "       1.24594604, 1.29365304, 1.35372477, 1.19938113, 1.16906148,\n",
      "       1.38365439])]\n"
     ]
    }
   ],
   "source": [
    "weighted_absorb = calculate_weighted_averages_by_depth_increment(absorbances, absorbance_depths, 5.0, bin_mins)"
   ]
  },
  {
   "cell_type": "code",
   "execution_count": 67,
   "metadata": {},
   "outputs": [
    {
     "data": {
      "text/plain": [
       "(161,)"
      ]
     },
     "execution_count": 67,
     "metadata": {},
     "output_type": "execute_result"
    }
   ],
   "source": [
    "weighted_absorb[0].shape"
   ]
  },
  {
   "cell_type": "code",
   "execution_count": 84,
   "metadata": {},
   "outputs": [],
   "source": [
    "def calculate_number_of_steps(depth_min, depth_max, depth_increment):\n",
    "    depth_range = depth_max - depth_min\n",
    "    number_of_steps = int(depth_range // depth_increment)\n",
    "    remainder = depth_increment % depth_range\n",
    "    return number_of_steps, remainder"
   ]
  },
  {
   "cell_type": "code",
   "execution_count": 93,
   "metadata": {},
   "outputs": [],
   "source": [
    "def calculate_depth_bins(depth_min=0.0, depth_max=100.0, depth_increment=5.0):    \n",
    "    bin_mins = np.arange(depth_min, depth_max, depth_increment)\n",
    "    bin_centers = bin_mins + depth_increment/2.0\n",
    "    return bin_mins, bin_centers"
   ]
  },
  {
   "cell_type": "code",
   "execution_count": 94,
   "metadata": {},
   "outputs": [],
   "source": [
    "bin_mins, bin_centers = calculate_depth_bins()"
   ]
  },
  {
   "cell_type": "code",
   "execution_count": 95,
   "metadata": {},
   "outputs": [
    {
     "data": {
      "text/plain": [
       "array([ 0.,  5., 10., 15., 20., 25., 30., 35., 40., 45., 50., 55., 60.,\n",
       "       65., 70., 75., 80., 85., 90., 95.])"
      ]
     },
     "execution_count": 95,
     "metadata": {},
     "output_type": "execute_result"
    }
   ],
   "source": [
    "bin_mins"
   ]
  },
  {
   "cell_type": "code",
   "execution_count": 96,
   "metadata": {},
   "outputs": [
    {
     "data": {
      "text/plain": [
       "array([ 2.5,  7.5, 12.5, 17.5, 22.5, 27.5, 32.5, 37.5, 42.5, 47.5, 52.5,\n",
       "       57.5, 62.5, 67.5, 72.5, 77.5, 82.5, 87.5, 92.5, 97.5])"
      ]
     },
     "execution_count": 96,
     "metadata": {},
     "output_type": "execute_result"
    }
   ],
   "source": [
    "bin_centers"
   ]
  },
  {
   "cell_type": "code",
   "execution_count": 97,
   "metadata": {},
   "outputs": [],
   "source": [
    "bin_mins2, bin_centers2 = calculate_depth_bins(0.0, 110.0, 11.0)"
   ]
  },
  {
   "cell_type": "code",
   "execution_count": 98,
   "metadata": {},
   "outputs": [
    {
     "data": {
      "text/plain": [
       "array([ 0., 11., 22., 33., 44., 55., 66., 77., 88., 99.])"
      ]
     },
     "execution_count": 98,
     "metadata": {},
     "output_type": "execute_result"
    }
   ],
   "source": [
    "bin_mins2"
   ]
  },
  {
   "cell_type": "code",
   "execution_count": 99,
   "metadata": {},
   "outputs": [
    {
     "data": {
      "text/plain": [
       "array([  5.5,  16.5,  27.5,  38.5,  49.5,  60.5,  71.5,  82.5,  93.5,\n",
       "       104.5])"
      ]
     },
     "execution_count": 99,
     "metadata": {},
     "output_type": "execute_result"
    }
   ],
   "source": [
    "bin_centers2"
   ]
  },
  {
   "cell_type": "code",
   "execution_count": 134,
   "metadata": {},
   "outputs": [],
   "source": [
    "def calculate_weighted_averages_by_depth_increment(data, depths, depth_min=0.0, depth_max=100.0, depth_increment=5.0):\n",
    "    bin_mins, bin_centers = calculate_depth_bins(depth_min, depth_max, depth_increment)    \n",
    "    weighted_data = []\n",
    "    for j in range(bin_mins.shape[0]):\n",
    "        bin_number = j\n",
    "        weights = []\n",
    "        bin_data = []\n",
    "        bin_min = bin_mins[bin_number]\n",
    "        # sets data for depth increment to zero when bin is outside data range\n",
    "        if bin_min > depths.max():\n",
    "            bin_data.append(0.0)\n",
    "            weights.append(depth_increment)            \n",
    "        else:\n",
    "            for i in range(data.shape[0]):            \n",
    "                if depths[i] < bin_min:                    \n",
    "                    pass\n",
    "                if depths[i] >= bin_min:                    \n",
    "                    if i == 0:\n",
    "                        weight = depths[i] - bin_min          \n",
    "                    elif depths[i-1] <= bin_min:\n",
    "                        weight = depths[i] - bin_min\n",
    "                    else:                \n",
    "                        weight = depths[i] - depths[i-1]\n",
    "                    weights.append(weight)\n",
    "                    # gets rid of the portion of the data that is outside the depth increment\n",
    "                    if sum(weights) >= depth_increment:\n",
    "                        weights.pop()\n",
    "                        weights.append(depth_increment - sum(weights))\n",
    "                        bin_data.append(data[i])\n",
    "                        break\n",
    "                    elif sum(weights) < depth_increment:\n",
    "                        bin_data.append(data[i])         \n",
    "        bin_weighted_average = np.average(bin_data, weights=weights, axis=0)        \n",
    "        weighted_data.append(bin_weighted_average)\n",
    "    return weighted_data, bin_mins, bin_centers"
   ]
  },
  {
   "cell_type": "code",
   "execution_count": 140,
   "metadata": {},
   "outputs": [],
   "source": [
    "weighted_data2, bin_mins2, bin_centers2 = calculate_weighted_averages_by_depth_increment(force, depth, 0.0, 110.0, 10.0)"
   ]
  },
  {
   "cell_type": "code",
   "execution_count": 141,
   "metadata": {},
   "outputs": [
    {
     "data": {
      "text/plain": [
       "array([  0.,  10.,  20.,  30.,  40.,  50.,  60.,  70.,  80.,  90., 100.])"
      ]
     },
     "execution_count": 141,
     "metadata": {},
     "output_type": "execute_result"
    }
   ],
   "source": [
    "bin_mins2"
   ]
  },
  {
   "cell_type": "code",
   "execution_count": 142,
   "metadata": {},
   "outputs": [
    {
     "data": {
      "text/plain": [
       "array([  5.,  15.,  25.,  35.,  45.,  55.,  65.,  75.,  85.,  95., 105.])"
      ]
     },
     "execution_count": 142,
     "metadata": {},
     "output_type": "execute_result"
    }
   ],
   "source": [
    "bin_centers2"
   ]
  },
  {
   "cell_type": "code",
   "execution_count": 143,
   "metadata": {},
   "outputs": [
    {
     "data": {
      "text/plain": [
       "[47.65265434240473,\n",
       " 51.03910854453673,\n",
       " 54.134286251653464,\n",
       " 51.599178859597295,\n",
       " 52.10823245140405,\n",
       " 42.44282464929556,\n",
       " 52.11307188241917,\n",
       " 62.61107281988298,\n",
       " 45.78870489624016,\n",
       " 51.56245241005384,\n",
       " 62.84015779562549,\n",
       " 56.25712255940234,\n",
       " 49.195700767697836,\n",
       " 50.60489934359975,\n",
       " 54.613570290911795,\n",
       " 59.83197774151033,\n",
       " 47.855042644213825,\n",
       " 51.397969859023064,\n",
       " 52.44474523655107,\n",
       " 48.264955380388635]"
      ]
     },
     "execution_count": 143,
     "metadata": {},
     "output_type": "execute_result"
    }
   ],
   "source": [
    "weighted_data"
   ]
  },
  {
   "cell_type": "code",
   "execution_count": 144,
   "metadata": {},
   "outputs": [
    {
     "data": {
      "text/plain": [
       "[49.34588144347073,\n",
       " 52.86673255562539,\n",
       " 47.27552855034981,\n",
       " 57.36207235115106,\n",
       " 48.675578653147,\n",
       " 59.54864017751392,\n",
       " 49.90030005564879,\n",
       " 57.222774016211055,\n",
       " 49.626506251618444,\n",
       " 51.13680881214219,\n",
       " 0.0]"
      ]
     },
     "execution_count": 144,
     "metadata": {},
     "output_type": "execute_result"
    }
   ],
   "source": [
    "weighted_data2"
   ]
  },
  {
   "cell_type": "code",
   "execution_count": 127,
   "metadata": {},
   "outputs": [
    {
     "data": {
      "text/plain": [
       "97.27716430432568"
      ]
     },
     "execution_count": 127,
     "metadata": {},
     "output_type": "execute_result"
    }
   ],
   "source": [
    "depth.max()"
   ]
  },
  {
   "cell_type": "code",
   "execution_count": null,
   "metadata": {},
   "outputs": [],
   "source": []
  }
 ],
 "metadata": {
  "kernelspec": {
   "display_name": "Python 3",
   "language": "python",
   "name": "python3"
  },
  "language_info": {
   "codemirror_mode": {
    "name": "ipython",
    "version": 3
   },
   "file_extension": ".py",
   "mimetype": "text/x-python",
   "name": "python",
   "nbconvert_exporter": "python",
   "pygments_lexer": "ipython3",
   "version": "3.8.5"
  }
 },
 "nbformat": 4,
 "nbformat_minor": 4
}
