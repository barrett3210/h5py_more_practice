{
 "cells": [
  {
   "cell_type": "code",
   "execution_count": null,
   "metadata": {},
   "outputs": [],
   "source": []
  },
  {
   "cell_type": "code",
   "execution_count": 1,
   "metadata": {},
   "outputs": [],
   "source": [
    "import h5py\n",
    "file_name = \"threading_try2.h5\"\n",
    "f = h5py.File(file_name, \"a\")"
   ]
  },
  {
   "cell_type": "code",
   "execution_count": 6,
   "metadata": {},
   "outputs": [],
   "source": [
    "class H5ls:\n",
    "    def __init__(self):\n",
    "        self.names = []\n",
    "    \n",
    "    def __call__(self, name, h5obj):\n",
    "        if hasattr(h5obj, 'dtype') and not name in self.names:\n",
    "            self.names += [name]"
   ]
  },
  {
   "cell_type": "code",
   "execution_count": 7,
   "metadata": {},
   "outputs": [],
   "source": [
    "h5ls = H5ls()"
   ]
  },
  {
   "cell_type": "code",
   "execution_count": 8,
   "metadata": {},
   "outputs": [],
   "source": [
    "f.visititems(h5ls)"
   ]
  },
  {
   "cell_type": "code",
   "execution_count": 9,
   "metadata": {
    "collapsed": true,
    "jupyter": {
     "outputs_hidden": true
    }
   },
   "outputs": [
    {
     "data": {
      "text/plain": [
       "['session001/cal001/ins001/derived/absorbance_depth',\n",
       " 'session001/cal001/ins001/derived/absorbance_depth_timestamps',\n",
       " 'session001/cal001/ins001/derived/force_depth',\n",
       " 'session001/cal001/ins001/derived/force_depth_timestamps',\n",
       " 'session001/cal001/ins001/encoder/depths',\n",
       " 'session001/cal001/ins001/encoder/timestamps',\n",
       " 'session001/cal001/ins001/load_cell/forces',\n",
       " 'session001/cal001/ins001/load_cell/timestamps',\n",
       " 'session001/cal001/ins001/spectrometer1/derived/absorbances',\n",
       " 'session001/cal001/ins001/spectrometer1/spectra',\n",
       " 'session001/cal001/ins001/spectrometer1/timestamps',\n",
       " 'session001/cal001/ins001/spectrometer2/adc1s',\n",
       " 'session001/cal001/ins001/spectrometer2/adc2s',\n",
       " 'session001/cal001/ins001/spectrometer2/derived/absorbances',\n",
       " 'session001/cal001/ins001/spectrometer2/interferograms',\n",
       " 'session001/cal001/ins001/spectrometer2/opds',\n",
       " 'session001/cal001/ins001/spectrometer2/spectra',\n",
       " 'session001/cal001/ins001/spectrometer2/timestamps',\n",
       " 'session001/cal001/ins001/spectrometer2/wavenums',\n",
       " 'session001/cal001/ins002/derived/absorbance_depth',\n",
       " 'session001/cal001/ins002/derived/absorbance_depth_timestamps',\n",
       " 'session001/cal001/ins002/derived/force_depth',\n",
       " 'session001/cal001/ins002/derived/force_depth_timestamps',\n",
       " 'session001/cal001/ins002/encoder/depths',\n",
       " 'session001/cal001/ins002/encoder/timestamps',\n",
       " 'session001/cal001/ins002/load_cell/forces',\n",
       " 'session001/cal001/ins002/load_cell/timestamps',\n",
       " 'session001/cal001/ins002/spectrometer1/derived/absorbances',\n",
       " 'session001/cal001/ins002/spectrometer1/spectra',\n",
       " 'session001/cal001/ins002/spectrometer1/timestamps',\n",
       " 'session001/cal001/ins002/spectrometer2/adc1s',\n",
       " 'session001/cal001/ins002/spectrometer2/adc2s',\n",
       " 'session001/cal001/ins002/spectrometer2/derived/absorbances',\n",
       " 'session001/cal001/ins002/spectrometer2/interferograms',\n",
       " 'session001/cal001/ins002/spectrometer2/opds',\n",
       " 'session001/cal001/ins002/spectrometer2/spectra',\n",
       " 'session001/cal001/ins002/spectrometer2/timestamps',\n",
       " 'session001/cal001/ins002/spectrometer2/wavenums',\n",
       " 'session002/cal001/ins001/derived/absorbance_depth',\n",
       " 'session002/cal001/ins001/derived/absorbance_depth_timestamps',\n",
       " 'session002/cal001/ins001/derived/force_depth',\n",
       " 'session002/cal001/ins001/derived/force_depth_timestamps',\n",
       " 'session002/cal001/ins001/encoder/depths',\n",
       " 'session002/cal001/ins001/encoder/timestamps',\n",
       " 'session002/cal001/ins001/load_cell/forces',\n",
       " 'session002/cal001/ins001/load_cell/timestamps',\n",
       " 'session002/cal001/ins001/spectrometer1/derived/absorbances',\n",
       " 'session002/cal001/ins001/spectrometer1/spectra',\n",
       " 'session002/cal001/ins001/spectrometer1/timestamps',\n",
       " 'session002/cal001/ins001/spectrometer2/adc1s',\n",
       " 'session002/cal001/ins001/spectrometer2/adc2s',\n",
       " 'session002/cal001/ins001/spectrometer2/derived/absorbances',\n",
       " 'session002/cal001/ins001/spectrometer2/interferograms',\n",
       " 'session002/cal001/ins001/spectrometer2/opds',\n",
       " 'session002/cal001/ins001/spectrometer2/spectra',\n",
       " 'session002/cal001/ins001/spectrometer2/timestamps',\n",
       " 'session002/cal001/ins001/spectrometer2/wavenums',\n",
       " 'session003/cal001/ins001/derived/absorbance_depth',\n",
       " 'session003/cal001/ins001/derived/absorbance_depth_timestamps',\n",
       " 'session003/cal001/ins001/derived/force_depth',\n",
       " 'session003/cal001/ins001/derived/force_depth_timestamps',\n",
       " 'session003/cal001/ins001/encoder/depths',\n",
       " 'session003/cal001/ins001/encoder/timestamps',\n",
       " 'session003/cal001/ins001/load_cell/forces',\n",
       " 'session003/cal001/ins001/load_cell/timestamps',\n",
       " 'session003/cal001/ins001/spectrometer1/derived/absorbances',\n",
       " 'session003/cal001/ins001/spectrometer1/spectra',\n",
       " 'session003/cal001/ins001/spectrometer1/timestamps',\n",
       " 'session003/cal001/ins001/spectrometer2/adc1s',\n",
       " 'session003/cal001/ins001/spectrometer2/adc2s',\n",
       " 'session003/cal001/ins001/spectrometer2/derived/absorbances',\n",
       " 'session003/cal001/ins001/spectrometer2/interferograms',\n",
       " 'session003/cal001/ins001/spectrometer2/opds',\n",
       " 'session003/cal001/ins001/spectrometer2/spectra',\n",
       " 'session003/cal001/ins001/spectrometer2/timestamps',\n",
       " 'session003/cal001/ins001/spectrometer2/wavenums',\n",
       " 'session003/cal001/ins002/derived/absorbance_depth',\n",
       " 'session003/cal001/ins002/derived/absorbance_depth_timestamps',\n",
       " 'session003/cal001/ins002/derived/force_depth',\n",
       " 'session003/cal001/ins002/derived/force_depth_timestamps',\n",
       " 'session003/cal001/ins002/encoder/depths',\n",
       " 'session003/cal001/ins002/encoder/timestamps',\n",
       " 'session003/cal001/ins002/load_cell/forces',\n",
       " 'session003/cal001/ins002/load_cell/timestamps',\n",
       " 'session003/cal001/ins002/spectrometer1/derived/absorbances',\n",
       " 'session003/cal001/ins002/spectrometer1/spectra',\n",
       " 'session003/cal001/ins002/spectrometer1/timestamps',\n",
       " 'session003/cal001/ins002/spectrometer2/adc1s',\n",
       " 'session003/cal001/ins002/spectrometer2/adc2s',\n",
       " 'session003/cal001/ins002/spectrometer2/derived/absorbances',\n",
       " 'session003/cal001/ins002/spectrometer2/interferograms',\n",
       " 'session003/cal001/ins002/spectrometer2/opds',\n",
       " 'session003/cal001/ins002/spectrometer2/spectra',\n",
       " 'session003/cal001/ins002/spectrometer2/timestamps',\n",
       " 'session003/cal001/ins002/spectrometer2/wavenums',\n",
       " 'session003/cal002/ins003/derived/absorbance_depth',\n",
       " 'session003/cal002/ins003/derived/absorbance_depth_timestamps',\n",
       " 'session003/cal002/ins003/derived/force_depth',\n",
       " 'session003/cal002/ins003/derived/force_depth_timestamps',\n",
       " 'session003/cal002/ins003/encoder/depths',\n",
       " 'session003/cal002/ins003/encoder/timestamps',\n",
       " 'session003/cal002/ins003/load_cell/forces',\n",
       " 'session003/cal002/ins003/load_cell/timestamps',\n",
       " 'session003/cal002/ins003/spectrometer1/derived/absorbances',\n",
       " 'session003/cal002/ins003/spectrometer1/spectra',\n",
       " 'session003/cal002/ins003/spectrometer1/timestamps',\n",
       " 'session003/cal002/ins003/spectrometer2/adc1s',\n",
       " 'session003/cal002/ins003/spectrometer2/adc2s',\n",
       " 'session003/cal002/ins003/spectrometer2/derived/absorbances',\n",
       " 'session003/cal002/ins003/spectrometer2/interferograms',\n",
       " 'session003/cal002/ins003/spectrometer2/opds',\n",
       " 'session003/cal002/ins003/spectrometer2/spectra',\n",
       " 'session003/cal002/ins003/spectrometer2/timestamps',\n",
       " 'session003/cal002/ins003/spectrometer2/wavenums',\n",
       " 'session003/cal002/ins004/derived/absorbance_depth',\n",
       " 'session003/cal002/ins004/derived/absorbance_depth_timestamps',\n",
       " 'session003/cal002/ins004/derived/force_depth',\n",
       " 'session003/cal002/ins004/derived/force_depth_timestamps',\n",
       " 'session003/cal002/ins004/encoder/depths',\n",
       " 'session003/cal002/ins004/encoder/timestamps',\n",
       " 'session003/cal002/ins004/load_cell/forces',\n",
       " 'session003/cal002/ins004/load_cell/timestamps',\n",
       " 'session003/cal002/ins004/spectrometer1/derived/absorbances',\n",
       " 'session003/cal002/ins004/spectrometer1/spectra',\n",
       " 'session003/cal002/ins004/spectrometer1/timestamps',\n",
       " 'session003/cal002/ins004/spectrometer2/adc1s',\n",
       " 'session003/cal002/ins004/spectrometer2/adc2s',\n",
       " 'session003/cal002/ins004/spectrometer2/derived/absorbances',\n",
       " 'session003/cal002/ins004/spectrometer2/interferograms',\n",
       " 'session003/cal002/ins004/spectrometer2/opds',\n",
       " 'session003/cal002/ins004/spectrometer2/spectra',\n",
       " 'session003/cal002/ins004/spectrometer2/timestamps',\n",
       " 'session003/cal002/ins004/spectrometer2/wavenums',\n",
       " 'session004/cal002/ins001/derived/absorbance_depth',\n",
       " 'session004/cal002/ins001/derived/absorbance_depth_timestamps',\n",
       " 'session004/cal002/ins001/derived/force_depth',\n",
       " 'session004/cal002/ins001/derived/force_depth_timestamps',\n",
       " 'session004/cal002/ins001/encoder/depths',\n",
       " 'session004/cal002/ins001/encoder/timestamps',\n",
       " 'session004/cal002/ins001/load_cell/forces',\n",
       " 'session004/cal002/ins001/load_cell/timestamps',\n",
       " 'session004/cal002/ins001/spectrometer1/derived/absorbances',\n",
       " 'session004/cal002/ins001/spectrometer1/spectra',\n",
       " 'session004/cal002/ins001/spectrometer1/timestamps',\n",
       " 'session004/cal002/ins001/spectrometer2/adc1s',\n",
       " 'session004/cal002/ins001/spectrometer2/adc2s',\n",
       " 'session004/cal002/ins001/spectrometer2/derived/absorbances',\n",
       " 'session004/cal002/ins001/spectrometer2/interferograms',\n",
       " 'session004/cal002/ins001/spectrometer2/opds',\n",
       " 'session004/cal002/ins001/spectrometer2/spectra',\n",
       " 'session004/cal002/ins001/spectrometer2/timestamps',\n",
       " 'session004/cal002/ins001/spectrometer2/wavenums',\n",
       " 'session004/cal002/ins002/derived/absorbance_depth',\n",
       " 'session004/cal002/ins002/derived/absorbance_depth_timestamps',\n",
       " 'session004/cal002/ins002/derived/force_depth',\n",
       " 'session004/cal002/ins002/derived/force_depth_timestamps',\n",
       " 'session004/cal002/ins002/encoder/depths',\n",
       " 'session004/cal002/ins002/encoder/timestamps',\n",
       " 'session004/cal002/ins002/load_cell/forces',\n",
       " 'session004/cal002/ins002/load_cell/timestamps',\n",
       " 'session004/cal002/ins002/spectrometer1/derived/absorbances',\n",
       " 'session004/cal002/ins002/spectrometer1/spectra',\n",
       " 'session004/cal002/ins002/spectrometer1/timestamps',\n",
       " 'session004/cal002/ins002/spectrometer2/adc1s',\n",
       " 'session004/cal002/ins002/spectrometer2/adc2s',\n",
       " 'session004/cal002/ins002/spectrometer2/derived/absorbances',\n",
       " 'session004/cal002/ins002/spectrometer2/interferograms',\n",
       " 'session004/cal002/ins002/spectrometer2/opds',\n",
       " 'session004/cal002/ins002/spectrometer2/spectra',\n",
       " 'session004/cal002/ins002/spectrometer2/timestamps',\n",
       " 'session004/cal002/ins002/spectrometer2/wavenums',\n",
       " 'session006/cal001/ins001/derived/absorbance_depth',\n",
       " 'session006/cal001/ins001/derived/absorbance_depth_timestamps',\n",
       " 'session006/cal001/ins001/derived/force_depth',\n",
       " 'session006/cal001/ins001/derived/force_depth_timestamps',\n",
       " 'session006/cal001/ins001/encoder/depths',\n",
       " 'session006/cal001/ins001/encoder/timestamps',\n",
       " 'session006/cal001/ins001/load_cell/forces',\n",
       " 'session006/cal001/ins001/load_cell/timestamps',\n",
       " 'session006/cal001/ins001/spectrometer1/derived/absorbances',\n",
       " 'session006/cal001/ins001/spectrometer1/spectra',\n",
       " 'session006/cal001/ins001/spectrometer1/timestamps',\n",
       " 'session006/cal001/ins001/spectrometer2/adc1s',\n",
       " 'session006/cal001/ins001/spectrometer2/adc2s',\n",
       " 'session006/cal001/ins001/spectrometer2/derived/absorbances',\n",
       " 'session006/cal001/ins001/spectrometer2/interferograms',\n",
       " 'session006/cal001/ins001/spectrometer2/opds',\n",
       " 'session006/cal001/ins001/spectrometer2/spectra',\n",
       " 'session006/cal001/ins001/spectrometer2/timestamps',\n",
       " 'session006/cal001/ins001/spectrometer2/wavenums',\n",
       " 'session006/cal001/ins002/derived/absorbance_depth',\n",
       " 'session006/cal001/ins002/derived/absorbance_depth_timestamps',\n",
       " 'session006/cal001/ins002/derived/force_depth',\n",
       " 'session006/cal001/ins002/derived/force_depth_timestamps',\n",
       " 'session006/cal001/ins002/encoder/depths',\n",
       " 'session006/cal001/ins002/encoder/timestamps',\n",
       " 'session006/cal001/ins002/load_cell/forces',\n",
       " 'session006/cal001/ins002/load_cell/timestamps',\n",
       " 'session006/cal001/ins002/spectrometer1/derived/absorbances',\n",
       " 'session006/cal001/ins002/spectrometer1/spectra',\n",
       " 'session006/cal001/ins002/spectrometer1/timestamps',\n",
       " 'session006/cal001/ins002/spectrometer2/adc1s',\n",
       " 'session006/cal001/ins002/spectrometer2/adc2s',\n",
       " 'session006/cal001/ins002/spectrometer2/derived/absorbances',\n",
       " 'session006/cal001/ins002/spectrometer2/interferograms',\n",
       " 'session006/cal001/ins002/spectrometer2/opds',\n",
       " 'session006/cal001/ins002/spectrometer2/spectra',\n",
       " 'session006/cal001/ins002/spectrometer2/timestamps',\n",
       " 'session006/cal001/ins002/spectrometer2/wavenums',\n",
       " 'session007/cal001/ins001/derived/absorbance_depth',\n",
       " 'session007/cal001/ins001/derived/absorbance_depth_timestamps',\n",
       " 'session007/cal001/ins001/derived/force_depth',\n",
       " 'session007/cal001/ins001/derived/force_depth_timestamps',\n",
       " 'session007/cal001/ins001/encoder/depths',\n",
       " 'session007/cal001/ins001/encoder/timestamps',\n",
       " 'session007/cal001/ins001/load_cell/forces',\n",
       " 'session007/cal001/ins001/load_cell/timestamps',\n",
       " 'session007/cal001/ins001/spectrometer1/derived/absorbances',\n",
       " 'session007/cal001/ins001/spectrometer1/spectra',\n",
       " 'session007/cal001/ins001/spectrometer1/timestamps',\n",
       " 'session007/cal001/ins001/spectrometer2/adc1s',\n",
       " 'session007/cal001/ins001/spectrometer2/adc2s',\n",
       " 'session007/cal001/ins001/spectrometer2/derived/absorbances',\n",
       " 'session007/cal001/ins001/spectrometer2/interferograms',\n",
       " 'session007/cal001/ins001/spectrometer2/opds',\n",
       " 'session007/cal001/ins001/spectrometer2/spectra',\n",
       " 'session007/cal001/ins001/spectrometer2/timestamps',\n",
       " 'session007/cal001/ins001/spectrometer2/wavenums',\n",
       " 'session007/cal001/ins002/derived/absorbance_depth',\n",
       " 'session007/cal001/ins002/derived/absorbance_depth_timestamps',\n",
       " 'session007/cal001/ins002/derived/force_depth',\n",
       " 'session007/cal001/ins002/derived/force_depth_timestamps',\n",
       " 'session007/cal001/ins002/encoder/depths',\n",
       " 'session007/cal001/ins002/encoder/timestamps',\n",
       " 'session007/cal001/ins002/load_cell/forces',\n",
       " 'session007/cal001/ins002/load_cell/timestamps',\n",
       " 'session007/cal001/ins002/spectrometer1/derived/absorbances',\n",
       " 'session007/cal001/ins002/spectrometer1/spectra',\n",
       " 'session007/cal001/ins002/spectrometer1/timestamps',\n",
       " 'session007/cal001/ins002/spectrometer2/adc1s',\n",
       " 'session007/cal001/ins002/spectrometer2/adc2s',\n",
       " 'session007/cal001/ins002/spectrometer2/derived/absorbances',\n",
       " 'session007/cal001/ins002/spectrometer2/interferograms',\n",
       " 'session007/cal001/ins002/spectrometer2/opds',\n",
       " 'session007/cal001/ins002/spectrometer2/spectra',\n",
       " 'session007/cal001/ins002/spectrometer2/timestamps',\n",
       " 'session007/cal001/ins002/spectrometer2/wavenums',\n",
       " 'session008/cal001/ins001/derived/absorbance_depth',\n",
       " 'session008/cal001/ins001/derived/absorbance_depth_timestamps',\n",
       " 'session008/cal001/ins001/derived/force_depth',\n",
       " 'session008/cal001/ins001/derived/force_depth_timestamps',\n",
       " 'session008/cal001/ins001/encoder/depths',\n",
       " 'session008/cal001/ins001/encoder/timestamps',\n",
       " 'session008/cal001/ins001/load_cell/forces',\n",
       " 'session008/cal001/ins001/load_cell/timestamps',\n",
       " 'session008/cal001/ins001/spectrometer1/derived/absorbances',\n",
       " 'session008/cal001/ins001/spectrometer1/spectra',\n",
       " 'session008/cal001/ins001/spectrometer1/timestamps',\n",
       " 'session008/cal001/ins001/spectrometer2/adc1s',\n",
       " 'session008/cal001/ins001/spectrometer2/adc2s',\n",
       " 'session008/cal001/ins001/spectrometer2/derived/absorbances',\n",
       " 'session008/cal001/ins001/spectrometer2/interferograms',\n",
       " 'session008/cal001/ins001/spectrometer2/opds',\n",
       " 'session008/cal001/ins001/spectrometer2/spectra',\n",
       " 'session008/cal001/ins001/spectrometer2/timestamps',\n",
       " 'session008/cal001/ins001/spectrometer2/wavenums',\n",
       " 'session009/cal001/ins001/derived/absorbance_depth',\n",
       " 'session009/cal001/ins001/derived/absorbance_depth_timestamps',\n",
       " 'session009/cal001/ins001/derived/force_depth',\n",
       " 'session009/cal001/ins001/derived/force_depth_timestamps',\n",
       " 'session009/cal001/ins001/encoder/depths',\n",
       " 'session009/cal001/ins001/encoder/timestamps',\n",
       " 'session009/cal001/ins001/load_cell/forces',\n",
       " 'session009/cal001/ins001/load_cell/timestamps',\n",
       " 'session009/cal001/ins001/spectrometer1/derived/absorbances',\n",
       " 'session009/cal001/ins001/spectrometer1/spectra',\n",
       " 'session009/cal001/ins001/spectrometer1/timestamps',\n",
       " 'session009/cal001/ins001/spectrometer2/adc1s',\n",
       " 'session009/cal001/ins001/spectrometer2/adc2s',\n",
       " 'session009/cal001/ins001/spectrometer2/derived/absorbances',\n",
       " 'session009/cal001/ins001/spectrometer2/interferograms',\n",
       " 'session009/cal001/ins001/spectrometer2/opds',\n",
       " 'session009/cal001/ins001/spectrometer2/spectra',\n",
       " 'session009/cal001/ins001/spectrometer2/timestamps',\n",
       " 'session009/cal001/ins001/spectrometer2/wavenums',\n",
       " 'session010/cal001/ins001/derived/absorbance_depth',\n",
       " 'session010/cal001/ins001/derived/absorbance_depth_timestamps',\n",
       " 'session010/cal001/ins001/derived/force_depth',\n",
       " 'session010/cal001/ins001/derived/force_depth_timestamps',\n",
       " 'session010/cal001/ins001/encoder/depths',\n",
       " 'session010/cal001/ins001/encoder/timestamps',\n",
       " 'session010/cal001/ins001/load_cell/forces',\n",
       " 'session010/cal001/ins001/load_cell/timestamps',\n",
       " 'session010/cal001/ins001/spectrometer1/derived/absorbances',\n",
       " 'session010/cal001/ins001/spectrometer1/spectra',\n",
       " 'session010/cal001/ins001/spectrometer1/timestamps',\n",
       " 'session010/cal001/ins001/spectrometer2/adc1s',\n",
       " 'session010/cal001/ins001/spectrometer2/adc2s',\n",
       " 'session010/cal001/ins001/spectrometer2/derived/absorbances',\n",
       " 'session010/cal001/ins001/spectrometer2/interferograms',\n",
       " 'session010/cal001/ins001/spectrometer2/opds',\n",
       " 'session010/cal001/ins001/spectrometer2/spectra',\n",
       " 'session010/cal001/ins001/spectrometer2/timestamps',\n",
       " 'session010/cal001/ins001/spectrometer2/wavenums',\n",
       " 'session010/cal001/ins002/derived/absorbance_depth',\n",
       " 'session010/cal001/ins002/derived/absorbance_depth_timestamps',\n",
       " 'session010/cal001/ins002/derived/force_depth',\n",
       " 'session010/cal001/ins002/derived/force_depth_timestamps',\n",
       " 'session010/cal001/ins002/encoder/depths',\n",
       " 'session010/cal001/ins002/encoder/timestamps',\n",
       " 'session010/cal001/ins002/load_cell/forces',\n",
       " 'session010/cal001/ins002/load_cell/timestamps',\n",
       " 'session010/cal001/ins002/spectrometer1/derived/absorbances',\n",
       " 'session010/cal001/ins002/spectrometer1/spectra',\n",
       " 'session010/cal001/ins002/spectrometer1/timestamps',\n",
       " 'session010/cal001/ins002/spectrometer2/adc1s',\n",
       " 'session010/cal001/ins002/spectrometer2/adc2s',\n",
       " 'session010/cal001/ins002/spectrometer2/derived/absorbances',\n",
       " 'session010/cal001/ins002/spectrometer2/interferograms',\n",
       " 'session010/cal001/ins002/spectrometer2/opds',\n",
       " 'session010/cal001/ins002/spectrometer2/spectra',\n",
       " 'session010/cal001/ins002/spectrometer2/timestamps',\n",
       " 'session010/cal001/ins002/spectrometer2/wavenums',\n",
       " 'session010/cal001/ins003/derived/absorbance_depth',\n",
       " 'session010/cal001/ins003/derived/absorbance_depth_timestamps',\n",
       " 'session010/cal001/ins003/derived/force_depth',\n",
       " 'session010/cal001/ins003/derived/force_depth_timestamps',\n",
       " 'session010/cal001/ins003/encoder/depths',\n",
       " 'session010/cal001/ins003/encoder/timestamps',\n",
       " 'session010/cal001/ins003/load_cell/forces',\n",
       " 'session010/cal001/ins003/load_cell/timestamps',\n",
       " 'session010/cal001/ins003/spectrometer1/derived/absorbances',\n",
       " 'session010/cal001/ins003/spectrometer1/spectra',\n",
       " 'session010/cal001/ins003/spectrometer1/timestamps',\n",
       " 'session010/cal001/ins003/spectrometer2/adc1s',\n",
       " 'session010/cal001/ins003/spectrometer2/adc2s',\n",
       " 'session010/cal001/ins003/spectrometer2/derived/absorbances',\n",
       " 'session010/cal001/ins003/spectrometer2/interferograms',\n",
       " 'session010/cal001/ins003/spectrometer2/opds',\n",
       " 'session010/cal001/ins003/spectrometer2/spectra',\n",
       " 'session010/cal001/ins003/spectrometer2/timestamps',\n",
       " 'session010/cal001/ins003/spectrometer2/wavenums']"
      ]
     },
     "execution_count": 9,
     "metadata": {},
     "output_type": "execute_result"
    }
   ],
   "source": [
    "h5ls.names"
   ]
  },
  {
   "cell_type": "code",
   "execution_count": 10,
   "metadata": {},
   "outputs": [],
   "source": [
    "import matplotlib.pyplot as plt\n",
    "import numpy as np\n",
    "import pandas as pd"
   ]
  },
  {
   "cell_type": "code",
   "execution_count": 11,
   "metadata": {},
   "outputs": [],
   "source": [
    "df = f[h5ls.names[0]]"
   ]
  },
  {
   "cell_type": "code",
   "execution_count": 12,
   "metadata": {},
   "outputs": [
    {
     "data": {
      "text/plain": [
       "<HDF5 dataset \"absorbance_depth\": shape (20, 514), type \"<f8\">"
      ]
     },
     "execution_count": 12,
     "metadata": {},
     "output_type": "execute_result"
    }
   ],
   "source": [
    "df"
   ]
  },
  {
   "cell_type": "code",
   "execution_count": 13,
   "metadata": {},
   "outputs": [
    {
     "data": {
      "text/plain": [
       "array([[-1.63502132e-01, -1.20178715e+00,             nan, ...,\n",
       "                    nan,  4.05266709e+01,  6.01490963e-02],\n",
       "       [ 0.00000000e+00, -6.51831608e-01,             nan, ...,\n",
       "                    nan,  2.40052220e+01,  1.76580152e+00],\n",
       "       [-2.06697406e-01,  1.54406804e+00,  2.82006758e-01, ...,\n",
       "                    nan,  5.32217022e+01,  3.85920158e+00],\n",
       "       ...,\n",
       "       [-2.15174400e-02,             nan,  1.72862289e-01, ...,\n",
       "         6.19093331e-01,  5.64630715e+01,  3.64118774e+01],\n",
       "       [ 1.05613601e-01,             nan,  8.26074803e-01, ...,\n",
       "                    nan,  3.63148860e+01,  3.88919254e+01],\n",
       "       [            nan,  3.13619123e-01, -3.75322322e-01, ...,\n",
       "         2.17692790e-01,  4.01066963e+01,  4.12645470e+01]])"
      ]
     },
     "execution_count": 13,
     "metadata": {},
     "output_type": "execute_result"
    }
   ],
   "source": [
    "df[:]"
   ]
  },
  {
   "cell_type": "code",
   "execution_count": 14,
   "metadata": {},
   "outputs": [
    {
     "data": {
      "text/plain": [
       "array([ 0.0601491 ,  1.76580152,  3.85920158,  5.49626182,  7.61411026,\n",
       "        9.87728491, 12.47868311, 14.50323464, 16.84845964, 18.76616151,\n",
       "       21.02311288, 23.63179051, 25.70719345, 27.76246789, 30.38689711,\n",
       "       32.07611153, 34.58800641, 36.41187735, 38.8919254 , 41.26454703])"
      ]
     },
     "execution_count": 14,
     "metadata": {},
     "output_type": "execute_result"
    }
   ],
   "source": [
    "df[:, -1]"
   ]
  },
  {
   "cell_type": "code",
   "execution_count": 15,
   "metadata": {},
   "outputs": [],
   "source": [
    "depths = df[:, -1]\n",
    "absorb0 = df[:, 0]"
   ]
  },
  {
   "cell_type": "code",
   "execution_count": 16,
   "metadata": {},
   "outputs": [
    {
     "data": {
      "text/plain": [
       "[<matplotlib.lines.Line2D at 0x7f9a859e7f70>]"
      ]
     },
     "execution_count": 16,
     "metadata": {},
     "output_type": "execute_result"
    },
    {
     "data": {
      "image/png": "[encoded data removed]",
      "text/plain": [
       "<Figure size 432x288 with 1 Axes>"
      ]
     },
     "metadata": {
      "needs_background": "light"
     },
     "output_type": "display_data"
    }
   ],
   "source": [
    "plt.plot(absorb0, depths)"
   ]
  },
  {
   "cell_type": "code",
   "execution_count": 21,
   "metadata": {},
   "outputs": [],
   "source": [
    "blah = f['session002'].visititems(h5ls)"
   ]
  },
  {
   "cell_type": "code",
   "execution_count": 22,
   "metadata": {},
   "outputs": [],
   "source": [
    "blah"
   ]
  },
  {
   "cell_type": "code",
   "execution_count": 25,
   "metadata": {},
   "outputs": [],
   "source": [
    "blah = H5ls()"
   ]
  },
  {
   "cell_type": "code",
   "execution_count": 26,
   "metadata": {},
   "outputs": [],
   "source": [
    "f['session002'].visititems(blah)"
   ]
  },
  {
   "cell_type": "code",
   "execution_count": 27,
   "metadata": {
    "collapsed": true,
    "jupyter": {
     "outputs_hidden": true
    }
   },
   "outputs": [
    {
     "data": {
      "text/plain": [
       "['cal001/ins001/derived/absorbance_depth',\n",
       " 'cal001/ins001/derived/absorbance_depth_timestamps',\n",
       " 'cal001/ins001/derived/force_depth',\n",
       " 'cal001/ins001/derived/force_depth_timestamps',\n",
       " 'cal001/ins001/encoder/depths',\n",
       " 'cal001/ins001/encoder/timestamps',\n",
       " 'cal001/ins001/load_cell/forces',\n",
       " 'cal001/ins001/load_cell/timestamps',\n",
       " 'cal001/ins001/spectrometer1/derived/absorbances',\n",
       " 'cal001/ins001/spectrometer1/spectra',\n",
       " 'cal001/ins001/spectrometer1/timestamps',\n",
       " 'cal001/ins001/spectrometer2/adc1s',\n",
       " 'cal001/ins001/spectrometer2/adc2s',\n",
       " 'cal001/ins001/spectrometer2/derived/absorbances',\n",
       " 'cal001/ins001/spectrometer2/interferograms',\n",
       " 'cal001/ins001/spectrometer2/opds',\n",
       " 'cal001/ins001/spectrometer2/spectra',\n",
       " 'cal001/ins001/spectrometer2/timestamps',\n",
       " 'cal001/ins001/spectrometer2/wavenums']"
      ]
     },
     "execution_count": 27,
     "metadata": {},
     "output_type": "execute_result"
    }
   ],
   "source": [
    "blah.names"
   ]
  },
  {
   "cell_type": "code",
   "execution_count": 41,
   "metadata": {},
   "outputs": [],
   "source": [
    "absorbances = f['session002/cal001/ins001/spectrometer1/derived/absorbances'][-1, :]\n",
    "wavelengths = f['session002/cal001'].attrs['spec1_wavelengths_vector']"
   ]
  },
  {
   "cell_type": "code",
   "execution_count": 42,
   "metadata": {
    "collapsed": true,
    "jupyter": {
     "outputs_hidden": true
    }
   },
   "outputs": [
    {
     "data": {
      "text/plain": [
       "array([        nan,         nan,         nan,         nan,         nan,\n",
       "               nan, -0.86148846, -0.59251467, -0.33724217,  0.25707509,\n",
       "               nan,         nan,         nan, -0.77613596,  0.04830468,\n",
       "               nan, -0.96255462,         nan, -1.59040907,         nan,\n",
       "       -1.88344303,         nan,         nan,         nan,         nan,\n",
       "       -0.79269286, -0.64998354,         nan,         nan,         nan,\n",
       "               nan,         nan,         nan,         nan, -2.99166901,\n",
       "               nan,         nan,         nan,         nan,         nan,\n",
       "               nan,         nan,         nan,         nan,         nan,\n",
       "               nan,         nan,         nan,         nan, -1.47098271,\n",
       "               nan,         nan,         nan, -1.16960913,         nan,\n",
       "               nan, -0.14989202,         nan, -0.89751488, -0.58034074,\n",
       "               nan, -0.71301849, -0.98602488,         nan,         nan,\n",
       "       -0.21790827,         nan, -0.80904146,         nan, -0.61862909,\n",
       "               nan, -0.94372275,         nan,         nan, -0.14574724,\n",
       "       -1.26717173,         nan, -0.48097482, -0.73675857, -0.82666368,\n",
       "               nan,         nan, -0.46150449,         nan,         nan,\n",
       "       -0.08089613, -0.17609126,         nan,         nan,         nan,\n",
       "       -0.68445185,  0.06341039, -0.2703095 ,  0.34727518, -1.97003678,\n",
       "        0.32753755,         nan,         nan, -0.71663321, -0.02274313,\n",
       "       -0.33287736, -0.06775178,  1.70472233,         nan, -0.08884239,\n",
       "               nan,  0.51797645,         nan,  0.23281888, -0.25342275,\n",
       "       -2.56820172,         nan,  0.03661411, -0.88869217, -0.05635372,\n",
       "       -0.20299341,         nan, -1.8893017 , -0.15064414,         nan,\n",
       "       -0.57568258, -1.35218252,         nan,         nan,         nan,\n",
       "               nan,         nan,  0.05340159,         nan, -1.23624927,\n",
       "               nan,  0.79135271, -0.34101752, -0.21474841,         nan,\n",
       "               nan, -0.21162958, -0.03038263, -0.11787688,         nan,\n",
       "       -0.57295761,         nan,         nan, -0.85657786,         nan,\n",
       "       -1.41039375,         nan,         nan, -0.38890877, -0.30103   ,\n",
       "               nan,         nan,         nan,         nan, -1.68124124,\n",
       "               nan,         nan, -0.82062427, -0.18389496,         nan,\n",
       "               nan,  0.14929808, -0.65059627,         nan,         nan,\n",
       "               nan,         nan,         nan,         nan,         nan,\n",
       "               nan,         nan,         nan,         nan,         nan,\n",
       "               nan,         nan,         nan,         nan, -0.53664403,\n",
       "               nan,         nan,         nan,         nan, -0.64208911,\n",
       "               nan,         nan,         nan,         nan,  1.48000694,\n",
       "               nan,  0.9063677 ,         nan, -0.5289934 ,  0.90677568,\n",
       "       -0.7732328 ,         nan,         nan,  0.15520769, -0.59423465,\n",
       "               nan, -1.46143075,         nan,  0.61661871,         nan,\n",
       "               nan, -0.96406542,  1.24303805,  0.01542036,         nan,\n",
       "        1.15381486,         nan,         nan, -0.45312098, -0.51653857,\n",
       "        0.60643947,  0.61695155,  0.69897   ,         nan,         nan,\n",
       "       -0.14811414,         nan,  1.49136169, -0.20757906,         nan,\n",
       "               nan, -0.36797679,         nan,         nan,         nan,\n",
       "               nan, -0.2999746 ,         nan, -0.04575749,         nan,\n",
       "               nan,         nan,         nan, -0.4699029 ,         nan,\n",
       "       -0.2787536 , -0.22967409,         nan,  0.32861352,  0.45547933,\n",
       "       -1.10139061,         nan,         nan,         nan,         nan,\n",
       "              -inf,  0.95677485,         nan,         nan,         nan,\n",
       "       -0.3834705 ,  0.31317889, -0.67106994,         nan,         nan,\n",
       "       -1.59476075,         nan,         nan, -0.07444774,         nan,\n",
       "               nan, -0.31057531,  2.20682588, -2.14612804,         nan,\n",
       "               nan,         nan, -2.52048353,         nan, -0.54308213,\n",
       "               nan,         nan,         nan,         nan, -1.99011677,\n",
       "       -0.6856804 ,         nan,         nan,         nan,         nan,\n",
       "               nan,         nan,         nan,         nan,         nan,\n",
       "       -0.45863785, -0.36619323, -0.50912342,  0.63202321, -0.53162322,\n",
       "               nan,         nan,         nan,         nan,         nan,\n",
       "               nan, -0.47135802,         nan,         nan,         nan,\n",
       "       -0.58087069, -1.4758606 ,         nan,         nan,         nan,\n",
       "               nan, -0.93785209,         nan,         nan,         nan,\n",
       "               nan,         nan,         nan,         nan,         nan,\n",
       "               nan,         nan,         nan,         nan,  0.26472875,\n",
       "               nan,         nan, -1.09191807,         nan,         nan,\n",
       "               nan, -0.94896548, -1.0151892 , -0.88336953,         nan,\n",
       "               nan,         nan,         nan, -0.39113122, -1.17385838,\n",
       "       -0.30305468, -1.1356626 ,         nan,         nan, -0.35265076,\n",
       "       -0.39553394, -0.18011626, -0.02996322,         nan,         nan,\n",
       "       -1.38874382, -0.58303675, -0.27192761,         nan,  0.01598811,\n",
       "       -0.37122994,         nan, -0.33039274,  0.24987747,         nan,\n",
       "        0.697118  ,         nan, -0.35011543, -0.24536422,  0.32451109,\n",
       "       -0.51830162,         nan,         nan,         nan, -0.44195684,\n",
       "               nan,         nan, -0.32543498, -1.27247454,  0.15490196,\n",
       "       -0.72874639, -0.84790902,         nan, -0.15560756,  0.07999377,\n",
       "       -0.14806254,         nan,         nan, -0.02815858, -0.49485002,\n",
       "               nan,  0.57403127, -0.57892019,         nan,         nan,\n",
       "       -0.29762375, -0.73085915, -0.07066827,  1.87506126, -1.90308999,\n",
       "               nan,         nan,         nan,  0.23723599,         nan,\n",
       "               nan,         nan, -0.10219561, -0.63182754,         nan,\n",
       "               nan,         nan,         nan, -0.96398046,         nan,\n",
       "       -0.88161487,         nan, -0.17675178, -0.38893876, -0.18778451,\n",
       "               nan,         nan,         nan,         nan,         nan,\n",
       "       -0.97624641,         nan, -1.06069784,         nan, -1.83758844,\n",
       "               nan, -0.60576665,         nan,         nan,         nan,\n",
       "               nan, -1.00191179,         nan, -0.93348729, -2.01048841,\n",
       "               nan,         nan,         nan,         nan,         nan,\n",
       "               nan,         nan,         nan,         nan,         nan,\n",
       "               nan,         nan,         nan,         nan, -1.0819563 ,\n",
       "               nan,         nan,         nan,         nan,         nan,\n",
       "       -1.93365598,         nan,         nan,         nan,         nan,\n",
       "               nan,         nan,         nan, -1.76342799,         nan,\n",
       "               nan,         nan,         nan,         nan,         nan,\n",
       "               nan,         nan,         nan,         nan,         nan,\n",
       "               nan,         nan,         nan,         nan,         nan,\n",
       "               nan, -0.68945686,         nan,         nan,         nan,\n",
       "       -0.17030829,         nan, -0.17199411,         nan,         nan,\n",
       "               nan,         nan, -0.24253335, -0.11850463,         nan,\n",
       "        0.46375729,  0.75696195,         nan,  0.30642503,         nan,\n",
       "               nan, -0.53711918,         nan,         nan,         nan,\n",
       "       -0.94287289,  0.00582954,         nan,         nan,         nan,\n",
       "               nan,         nan])"
      ]
     },
     "execution_count": 42,
     "metadata": {},
     "output_type": "execute_result"
    }
   ],
   "source": [
    "absorbances"
   ]
  },
  {
   "cell_type": "code",
   "execution_count": 43,
   "metadata": {},
   "outputs": [
    {
     "data": {
      "text/plain": [
       "[<matplotlib.lines.Line2D at 0x7f9a85e98340>]"
      ]
     },
     "execution_count": 43,
     "metadata": {},
     "output_type": "execute_result"
    },
    {
     "data": {
      "image/png": "[encoded data removed]",
      "text/plain": [
       "<Figure size 432x288 with 1 Axes>"
      ]
     },
     "metadata": {
      "needs_background": "light"
     },
     "output_type": "display_data"
    }
   ],
   "source": [
    "plt.plot(wavelengths, absorbances)"
   ]
  },
  {
   "cell_type": "code",
   "execution_count": 45,
   "metadata": {},
   "outputs": [],
   "source": [
    "def get_dataset_keys(f):\n",
    "    keys = []\n",
    "    f.visit(lambda key : keys.append(key) if type(f[key]) is h5py._hl.dataset.Dataset else None)\n",
    "    return keys"
   ]
  },
  {
   "cell_type": "code",
   "execution_count": 48,
   "metadata": {},
   "outputs": [],
   "source": [
    "k = get_dataset_keys(f['session001'])"
   ]
  },
  {
   "cell_type": "code",
   "execution_count": 49,
   "metadata": {},
   "outputs": [
    {
     "data": {
      "text/plain": [
       "['cal001/ins001/derived/absorbance_depth',\n",
       " 'cal001/ins001/derived/absorbance_depth_timestamps',\n",
       " 'cal001/ins001/derived/force_depth',\n",
       " 'cal001/ins001/derived/force_depth_timestamps',\n",
       " 'cal001/ins001/encoder/depths',\n",
       " 'cal001/ins001/encoder/timestamps',\n",
       " 'cal001/ins001/load_cell/forces',\n",
       " 'cal001/ins001/load_cell/timestamps',\n",
       " 'cal001/ins001/spectrometer1/derived/absorbances',\n",
       " 'cal001/ins001/spectrometer1/spectra',\n",
       " 'cal001/ins001/spectrometer1/timestamps',\n",
       " 'cal001/ins001/spectrometer2/adc1s',\n",
       " 'cal001/ins001/spectrometer2/adc2s',\n",
       " 'cal001/ins001/spectrometer2/derived/absorbances',\n",
       " 'cal001/ins001/spectrometer2/interferograms',\n",
       " 'cal001/ins001/spectrometer2/opds',\n",
       " 'cal001/ins001/spectrometer2/spectra',\n",
       " 'cal001/ins001/spectrometer2/timestamps',\n",
       " 'cal001/ins001/spectrometer2/wavenums',\n",
       " 'cal001/ins002/derived/absorbance_depth',\n",
       " 'cal001/ins002/derived/absorbance_depth_timestamps',\n",
       " 'cal001/ins002/derived/force_depth',\n",
       " 'cal001/ins002/derived/force_depth_timestamps',\n",
       " 'cal001/ins002/encoder/depths',\n",
       " 'cal001/ins002/encoder/timestamps',\n",
       " 'cal001/ins002/load_cell/forces',\n",
       " 'cal001/ins002/load_cell/timestamps',\n",
       " 'cal001/ins002/spectrometer1/derived/absorbances',\n",
       " 'cal001/ins002/spectrometer1/spectra',\n",
       " 'cal001/ins002/spectrometer1/timestamps',\n",
       " 'cal001/ins002/spectrometer2/adc1s',\n",
       " 'cal001/ins002/spectrometer2/adc2s',\n",
       " 'cal001/ins002/spectrometer2/derived/absorbances',\n",
       " 'cal001/ins002/spectrometer2/interferograms',\n",
       " 'cal001/ins002/spectrometer2/opds',\n",
       " 'cal001/ins002/spectrometer2/spectra',\n",
       " 'cal001/ins002/spectrometer2/timestamps',\n",
       " 'cal001/ins002/spectrometer2/wavenums']"
      ]
     },
     "execution_count": 49,
     "metadata": {},
     "output_type": "execute_result"
    }
   ],
   "source": [
    "k"
   ]
  },
  {
   "cell_type": "code",
   "execution_count": 50,
   "metadata": {},
   "outputs": [
    {
     "data": {
      "text/plain": [
       "h5py._hl.group.Group"
      ]
     },
     "execution_count": 50,
     "metadata": {},
     "output_type": "execute_result"
    }
   ],
   "source": [
    "type(f['session001/cal001/ins001'])"
   ]
  },
  {
   "cell_type": "code",
   "execution_count": 51,
   "metadata": {},
   "outputs": [],
   "source": [
    "def get_groups(f):\n",
    "    keys = []\n",
    "    f.visit(lambda key : keys.append(key) if type(f[key]) is h5py._hl.group.Group else None)\n",
    "    return keys"
   ]
  },
  {
   "cell_type": "code",
   "execution_count": 52,
   "metadata": {},
   "outputs": [],
   "source": [
    "g = get_groups(f)"
   ]
  },
  {
   "cell_type": "code",
   "execution_count": 53,
   "metadata": {
    "collapsed": true,
    "jupyter": {
     "outputs_hidden": true
    }
   },
   "outputs": [
    {
     "data": {
      "text/plain": [
       "['session001',\n",
       " 'session001/cal001',\n",
       " 'session001/cal001/ins001',\n",
       " 'session001/cal001/ins001/derived',\n",
       " 'session001/cal001/ins001/encoder',\n",
       " 'session001/cal001/ins001/load_cell',\n",
       " 'session001/cal001/ins001/spectrometer1',\n",
       " 'session001/cal001/ins001/spectrometer1/derived',\n",
       " 'session001/cal001/ins001/spectrometer2',\n",
       " 'session001/cal001/ins001/spectrometer2/derived',\n",
       " 'session001/cal001/ins002',\n",
       " 'session001/cal001/ins002/derived',\n",
       " 'session001/cal001/ins002/encoder',\n",
       " 'session001/cal001/ins002/load_cell',\n",
       " 'session001/cal001/ins002/spectrometer1',\n",
       " 'session001/cal001/ins002/spectrometer1/derived',\n",
       " 'session001/cal001/ins002/spectrometer2',\n",
       " 'session001/cal001/ins002/spectrometer2/derived',\n",
       " 'session002',\n",
       " 'session002/cal001',\n",
       " 'session002/cal001/ins001',\n",
       " 'session002/cal001/ins001/derived',\n",
       " 'session002/cal001/ins001/encoder',\n",
       " 'session002/cal001/ins001/load_cell',\n",
       " 'session002/cal001/ins001/spectrometer1',\n",
       " 'session002/cal001/ins001/spectrometer1/derived',\n",
       " 'session002/cal001/ins001/spectrometer2',\n",
       " 'session002/cal001/ins001/spectrometer2/derived',\n",
       " 'session003',\n",
       " 'session003/cal001',\n",
       " 'session003/cal001/ins001',\n",
       " 'session003/cal001/ins001/derived',\n",
       " 'session003/cal001/ins001/encoder',\n",
       " 'session003/cal001/ins001/load_cell',\n",
       " 'session003/cal001/ins001/spectrometer1',\n",
       " 'session003/cal001/ins001/spectrometer1/derived',\n",
       " 'session003/cal001/ins001/spectrometer2',\n",
       " 'session003/cal001/ins001/spectrometer2/derived',\n",
       " 'session003/cal001/ins002',\n",
       " 'session003/cal001/ins002/derived',\n",
       " 'session003/cal001/ins002/encoder',\n",
       " 'session003/cal001/ins002/load_cell',\n",
       " 'session003/cal001/ins002/spectrometer1',\n",
       " 'session003/cal001/ins002/spectrometer1/derived',\n",
       " 'session003/cal001/ins002/spectrometer2',\n",
       " 'session003/cal001/ins002/spectrometer2/derived',\n",
       " 'session003/cal002',\n",
       " 'session003/cal002/ins003',\n",
       " 'session003/cal002/ins003/derived',\n",
       " 'session003/cal002/ins003/encoder',\n",
       " 'session003/cal002/ins003/load_cell',\n",
       " 'session003/cal002/ins003/spectrometer1',\n",
       " 'session003/cal002/ins003/spectrometer1/derived',\n",
       " 'session003/cal002/ins003/spectrometer2',\n",
       " 'session003/cal002/ins003/spectrometer2/derived',\n",
       " 'session003/cal002/ins004',\n",
       " 'session003/cal002/ins004/derived',\n",
       " 'session003/cal002/ins004/encoder',\n",
       " 'session003/cal002/ins004/load_cell',\n",
       " 'session003/cal002/ins004/spectrometer1',\n",
       " 'session003/cal002/ins004/spectrometer1/derived',\n",
       " 'session003/cal002/ins004/spectrometer2',\n",
       " 'session003/cal002/ins004/spectrometer2/derived',\n",
       " 'session004',\n",
       " 'session004/cal001',\n",
       " 'session004/cal002',\n",
       " 'session004/cal002/ins001',\n",
       " 'session004/cal002/ins001/derived',\n",
       " 'session004/cal002/ins001/encoder',\n",
       " 'session004/cal002/ins001/load_cell',\n",
       " 'session004/cal002/ins001/spectrometer1',\n",
       " 'session004/cal002/ins001/spectrometer1/derived',\n",
       " 'session004/cal002/ins001/spectrometer2',\n",
       " 'session004/cal002/ins001/spectrometer2/derived',\n",
       " 'session004/cal002/ins002',\n",
       " 'session004/cal002/ins002/derived',\n",
       " 'session004/cal002/ins002/encoder',\n",
       " 'session004/cal002/ins002/load_cell',\n",
       " 'session004/cal002/ins002/spectrometer1',\n",
       " 'session004/cal002/ins002/spectrometer1/derived',\n",
       " 'session004/cal002/ins002/spectrometer2',\n",
       " 'session004/cal002/ins002/spectrometer2/derived',\n",
       " 'session005',\n",
       " 'session005/cal001',\n",
       " 'session006',\n",
       " 'session006/cal001',\n",
       " 'session006/cal001/ins001',\n",
       " 'session006/cal001/ins001/derived',\n",
       " 'session006/cal001/ins001/encoder',\n",
       " 'session006/cal001/ins001/load_cell',\n",
       " 'session006/cal001/ins001/spectrometer1',\n",
       " 'session006/cal001/ins001/spectrometer1/derived',\n",
       " 'session006/cal001/ins001/spectrometer2',\n",
       " 'session006/cal001/ins001/spectrometer2/derived',\n",
       " 'session006/cal001/ins002',\n",
       " 'session006/cal001/ins002/derived',\n",
       " 'session006/cal001/ins002/encoder',\n",
       " 'session006/cal001/ins002/load_cell',\n",
       " 'session006/cal001/ins002/spectrometer1',\n",
       " 'session006/cal001/ins002/spectrometer1/derived',\n",
       " 'session006/cal001/ins002/spectrometer2',\n",
       " 'session006/cal001/ins002/spectrometer2/derived',\n",
       " 'session007',\n",
       " 'session007/cal001',\n",
       " 'session007/cal001/ins001',\n",
       " 'session007/cal001/ins001/derived',\n",
       " 'session007/cal001/ins001/encoder',\n",
       " 'session007/cal001/ins001/load_cell',\n",
       " 'session007/cal001/ins001/spectrometer1',\n",
       " 'session007/cal001/ins001/spectrometer1/derived',\n",
       " 'session007/cal001/ins001/spectrometer2',\n",
       " 'session007/cal001/ins001/spectrometer2/derived',\n",
       " 'session007/cal001/ins002',\n",
       " 'session007/cal001/ins002/derived',\n",
       " 'session007/cal001/ins002/encoder',\n",
       " 'session007/cal001/ins002/load_cell',\n",
       " 'session007/cal001/ins002/spectrometer1',\n",
       " 'session007/cal001/ins002/spectrometer1/derived',\n",
       " 'session007/cal001/ins002/spectrometer2',\n",
       " 'session007/cal001/ins002/spectrometer2/derived',\n",
       " 'session008',\n",
       " 'session008/cal001',\n",
       " 'session008/cal001/ins001',\n",
       " 'session008/cal001/ins001/derived',\n",
       " 'session008/cal001/ins001/encoder',\n",
       " 'session008/cal001/ins001/load_cell',\n",
       " 'session008/cal001/ins001/spectrometer1',\n",
       " 'session008/cal001/ins001/spectrometer1/derived',\n",
       " 'session008/cal001/ins001/spectrometer2',\n",
       " 'session008/cal001/ins001/spectrometer2/derived',\n",
       " 'session009',\n",
       " 'session009/cal001',\n",
       " 'session009/cal001/ins001',\n",
       " 'session009/cal001/ins001/derived',\n",
       " 'session009/cal001/ins001/encoder',\n",
       " 'session009/cal001/ins001/load_cell',\n",
       " 'session009/cal001/ins001/spectrometer1',\n",
       " 'session009/cal001/ins001/spectrometer1/derived',\n",
       " 'session009/cal001/ins001/spectrometer2',\n",
       " 'session009/cal001/ins001/spectrometer2/derived',\n",
       " 'session010',\n",
       " 'session010/cal001',\n",
       " 'session010/cal001/ins001',\n",
       " 'session010/cal001/ins001/derived',\n",
       " 'session010/cal001/ins001/encoder',\n",
       " 'session010/cal001/ins001/load_cell',\n",
       " 'session010/cal001/ins001/spectrometer1',\n",
       " 'session010/cal001/ins001/spectrometer1/derived',\n",
       " 'session010/cal001/ins001/spectrometer2',\n",
       " 'session010/cal001/ins001/spectrometer2/derived',\n",
       " 'session010/cal001/ins002',\n",
       " 'session010/cal001/ins002/derived',\n",
       " 'session010/cal001/ins002/encoder',\n",
       " 'session010/cal001/ins002/load_cell',\n",
       " 'session010/cal001/ins002/spectrometer1',\n",
       " 'session010/cal001/ins002/spectrometer1/derived',\n",
       " 'session010/cal001/ins002/spectrometer2',\n",
       " 'session010/cal001/ins002/spectrometer2/derived',\n",
       " 'session010/cal001/ins003',\n",
       " 'session010/cal001/ins003/derived',\n",
       " 'session010/cal001/ins003/encoder',\n",
       " 'session010/cal001/ins003/load_cell',\n",
       " 'session010/cal001/ins003/spectrometer1',\n",
       " 'session010/cal001/ins003/spectrometer1/derived',\n",
       " 'session010/cal001/ins003/spectrometer2',\n",
       " 'session010/cal001/ins003/spectrometer2/derived']"
      ]
     },
     "execution_count": 53,
     "metadata": {},
     "output_type": "execute_result"
    }
   ],
   "source": [
    "g"
   ]
  },
  {
   "cell_type": "code",
   "execution_count": 68,
   "metadata": {},
   "outputs": [],
   "source": [
    "def create_list_of_sessions(f):\n",
    "    sessions = []\n",
    "    all_groups = get_groups(f)\n",
    "    for group in all_groups:\n",
    "        if (len(group) == 10) and (group[:7] == 'session'):\n",
    "            sessions.append(group)\n",
    "    return sessions\n",
    "        "
   ]
  },
  {
   "cell_type": "code",
   "execution_count": 69,
   "metadata": {},
   "outputs": [],
   "source": [
    "sess = create_list_of_sessions(f)"
   ]
  },
  {
   "cell_type": "code",
   "execution_count": 70,
   "metadata": {},
   "outputs": [
    {
     "data": {
      "text/plain": [
       "['session001',\n",
       " 'session002',\n",
       " 'session003',\n",
       " 'session004',\n",
       " 'session005',\n",
       " 'session006',\n",
       " 'session007',\n",
       " 'session008',\n",
       " 'session009',\n",
       " 'session010']"
      ]
     },
     "execution_count": 70,
     "metadata": {},
     "output_type": "execute_result"
    }
   ],
   "source": [
    "sess"
   ]
  },
  {
   "cell_type": "code",
   "execution_count": 71,
   "metadata": {},
   "outputs": [],
   "source": [
    "def create_list_of_calibrations(f):\n",
    "    calibrations = []\n",
    "    all_groups = get_groups(f)\n",
    "    for group in all_groups:\n",
    "        if (len(group) == 17) and 'cal' in group:\n",
    "            calibrations.append(group)\n",
    "    return calibrations"
   ]
  },
  {
   "cell_type": "code",
   "execution_count": 72,
   "metadata": {},
   "outputs": [],
   "source": [
    "cal = create_list_of_calibrations(f)"
   ]
  },
  {
   "cell_type": "code",
   "execution_count": 73,
   "metadata": {},
   "outputs": [
    {
     "data": {
      "text/plain": [
       "['session001/cal001',\n",
       " 'session002/cal001',\n",
       " 'session003/cal001',\n",
       " 'session003/cal002',\n",
       " 'session004/cal001',\n",
       " 'session004/cal002',\n",
       " 'session005/cal001',\n",
       " 'session006/cal001',\n",
       " 'session007/cal001',\n",
       " 'session008/cal001',\n",
       " 'session009/cal001',\n",
       " 'session010/cal001']"
      ]
     },
     "execution_count": 73,
     "metadata": {},
     "output_type": "execute_result"
    }
   ],
   "source": [
    "cal"
   ]
  },
  {
   "cell_type": "code",
   "execution_count": 74,
   "metadata": {},
   "outputs": [],
   "source": [
    "def create_list_of_insertions(f):\n",
    "    insertions = []\n",
    "    all_groups = get_groups(f)\n",
    "    for group in all_groups:\n",
    "        if (len(group) == 24) and ('ins' in group):\n",
    "            insertions.append(group)\n",
    "    return insertions"
   ]
  },
  {
   "cell_type": "code",
   "execution_count": 75,
   "metadata": {},
   "outputs": [],
   "source": [
    "ins = create_list_of_insertions(f)"
   ]
  },
  {
   "cell_type": "code",
   "execution_count": 76,
   "metadata": {},
   "outputs": [
    {
     "data": {
      "text/plain": [
       "['session001/cal001/ins001',\n",
       " 'session001/cal001/ins002',\n",
       " 'session002/cal001/ins001',\n",
       " 'session003/cal001/ins001',\n",
       " 'session003/cal001/ins002',\n",
       " 'session003/cal002/ins003',\n",
       " 'session003/cal002/ins004',\n",
       " 'session004/cal002/ins001',\n",
       " 'session004/cal002/ins002',\n",
       " 'session006/cal001/ins001',\n",
       " 'session006/cal001/ins002',\n",
       " 'session007/cal001/ins001',\n",
       " 'session007/cal001/ins002',\n",
       " 'session008/cal001/ins001',\n",
       " 'session009/cal001/ins001',\n",
       " 'session010/cal001/ins001',\n",
       " 'session010/cal001/ins002',\n",
       " 'session010/cal001/ins003']"
      ]
     },
     "execution_count": 76,
     "metadata": {},
     "output_type": "execute_result"
    }
   ],
   "source": [
    "ins"
   ]
  },
  {
   "cell_type": "code",
   "execution_count": 77,
   "metadata": {},
   "outputs": [],
   "source": [
    "ins2 = create_list_of_insertions(f['session002'])"
   ]
  },
  {
   "cell_type": "code",
   "execution_count": 78,
   "metadata": {},
   "outputs": [
    {
     "data": {
      "text/plain": [
       "[]"
      ]
     },
     "execution_count": 78,
     "metadata": {},
     "output_type": "execute_result"
    }
   ],
   "source": [
    "ins2"
   ]
  },
  {
   "cell_type": "code",
   "execution_count": 79,
   "metadata": {},
   "outputs": [],
   "source": [
    "def create_list_of_insertions_in_session(f, session_number):\n",
    "    session = f\"session{session_number:03d}\"\n",
    "    insertions = []\n",
    "    for i in range(len(f[session].keys())):\n",
    "        cal = f\"{session}/cal{i + 1:03d}\"\n",
    "        print(cal)\n",
    "        for j in range(len(f[cal].keys())):\n",
    "            ins = f\"{cal}/ins{j + 1:03d}\"\n",
    "            print(ins)\n",
    "            insertions.append(ins)\n",
    "    return insertions"
   ]
  },
  {
   "cell_type": "code",
   "execution_count": 80,
   "metadata": {},
   "outputs": [
    {
     "name": "stdout",
     "output_type": "stream",
     "text": [
      "session003/cal001\n",
      "session003/cal001/ins001\n",
      "session003/cal001/ins002\n",
      "session003/cal002\n",
      "session003/cal002/ins001\n",
      "session003/cal002/ins002\n"
     ]
    }
   ],
   "source": [
    "inserts = create_list_of_insertions_in_session(f, 3)"
   ]
  },
  {
   "cell_type": "code",
   "execution_count": 81,
   "metadata": {},
   "outputs": [
    {
     "data": {
      "text/plain": [
       "['session003/cal001/ins001',\n",
       " 'session003/cal001/ins002',\n",
       " 'session003/cal002/ins001',\n",
       " 'session003/cal002/ins002']"
      ]
     },
     "execution_count": 81,
     "metadata": {},
     "output_type": "execute_result"
    }
   ],
   "source": [
    "inserts"
   ]
  },
  {
   "cell_type": "code",
   "execution_count": 84,
   "metadata": {},
   "outputs": [],
   "source": [
    "def create_list_of_groups_in_h5file(f):\n",
    "    keys = []\n",
    "    f.visit(lambda key : keys.append(key) if type(f[key]) is h5py._hl.group.Group else None)\n",
    "    return keys"
   ]
  },
  {
   "cell_type": "code",
   "execution_count": 90,
   "metadata": {},
   "outputs": [],
   "source": [
    "def create_list_of_insertions_in_h5file(f):\n",
    "    insertions = []\n",
    "    all_groups = create_list_of_groups_in_h5file(f)\n",
    "    for group in all_groups:\n",
    "        if group[-6:-3] == 'ins':\n",
    "            insertions.append(group)\n",
    "    return insertions"
   ]
  },
  {
   "cell_type": "code",
   "execution_count": 93,
   "metadata": {},
   "outputs": [],
   "source": [
    "inserts = create_list_of_insertions_in_h5file(f['session003/cal001'])"
   ]
  },
  {
   "cell_type": "code",
   "execution_count": 94,
   "metadata": {},
   "outputs": [
    {
     "data": {
      "text/plain": [
       "['ins001', 'ins002']"
      ]
     },
     "execution_count": 94,
     "metadata": {},
     "output_type": "execute_result"
    }
   ],
   "source": [
    "inserts"
   ]
  },
  {
   "cell_type": "code",
   "execution_count": 88,
   "metadata": {},
   "outputs": [],
   "source": [
    "string = 'session003/cal001/ins001'"
   ]
  },
  {
   "cell_type": "code",
   "execution_count": 96,
   "metadata": {},
   "outputs": [
    {
     "data": {
      "text/plain": [
       "'cal'"
      ]
     },
     "execution_count": 96,
     "metadata": {},
     "output_type": "execute_result"
    }
   ],
   "source": [
    "string[-13:-10]"
   ]
  },
  {
   "cell_type": "code",
   "execution_count": 101,
   "metadata": {},
   "outputs": [],
   "source": [
    "def create_list_of_calibrations_in_session(session_number):\n",
    "    session = f\"session{session_number:03d}\"\n",
    "    calibrations = []\n",
    "    all_groups = create_list_of_groups_in_h5file(f[session])\n",
    "    for group in all_groups:\n",
    "        if (len(group) == 6) and 'cal' in group:\n",
    "            calibrations.append(group)\n",
    "    return calibrations"
   ]
  },
  {
   "cell_type": "code",
   "execution_count": 102,
   "metadata": {},
   "outputs": [],
   "source": [
    "blah = create_list_of_calibrations_in_session(4)"
   ]
  },
  {
   "cell_type": "code",
   "execution_count": 103,
   "metadata": {},
   "outputs": [
    {
     "data": {
      "text/plain": [
       "['cal001', 'cal002']"
      ]
     },
     "execution_count": 103,
     "metadata": {},
     "output_type": "execute_result"
    }
   ],
   "source": [
    "blah"
   ]
  },
  {
   "cell_type": "code",
   "execution_count": 104,
   "metadata": {},
   "outputs": [
    {
     "data": {
      "text/plain": [
       "<KeysViewHDF5 ['session001', 'session002', 'session003', 'session004', 'session005', 'session006', 'session007', 'session008', 'session009', 'session010']>"
      ]
     },
     "execution_count": 104,
     "metadata": {},
     "output_type": "execute_result"
    }
   ],
   "source": [
    "f.keys()"
   ]
  },
  {
   "cell_type": "code",
   "execution_count": 107,
   "metadata": {},
   "outputs": [
    {
     "data": {
      "text/plain": [
       "['session001',\n",
       " 'session002',\n",
       " 'session003',\n",
       " 'session004',\n",
       " 'session005',\n",
       " 'session006',\n",
       " 'session007',\n",
       " 'session008',\n",
       " 'session009',\n",
       " 'session010']"
      ]
     },
     "execution_count": 107,
     "metadata": {},
     "output_type": "execute_result"
    }
   ],
   "source": [
    "list(f.keys())"
   ]
  },
  {
   "cell_type": "code",
   "execution_count": 117,
   "metadata": {},
   "outputs": [
    {
     "name": "stdout",
     "output_type": "stream",
     "text": [
      "session001/cal001\n",
      "session001/cal001/ins001\n",
      "session001/cal001/ins002\n",
      "session002/cal001\n",
      "session002/cal001/ins001\n",
      "session003/cal001\n",
      "session003/cal001/ins001\n",
      "session003/cal001/ins002\n",
      "session003/cal002\n",
      "session003/cal002/ins001\n",
      "session003/cal002/ins002\n",
      "session004/cal001\n",
      "session004/cal002\n",
      "session004/cal002/ins001\n",
      "session004/cal002/ins002\n",
      "session005/cal001\n",
      "session006/cal001\n",
      "session006/cal001/ins001\n",
      "session006/cal001/ins002\n",
      "session007/cal001\n",
      "session007/cal001/ins001\n",
      "session007/cal001/ins002\n",
      "session008/cal001\n",
      "session008/cal001/ins001\n",
      "session009/cal001\n",
      "session009/cal001/ins001\n",
      "session010/cal001\n",
      "session010/cal001/ins001\n",
      "session010/cal001/ins002\n",
      "session010/cal001/ins003\n"
     ]
    },
    {
     "data": {
      "text/plain": [
       "{'session001': ['session001/cal001/ins001', 'session001/cal001/ins002'],\n",
       " 'session002': ['session002/cal001/ins001'],\n",
       " 'session003': ['session003/cal001/ins001',\n",
       "  'session003/cal001/ins002',\n",
       "  'session003/cal002/ins001',\n",
       "  'session003/cal002/ins002'],\n",
       " 'session004': ['session004/cal002/ins001', 'session004/cal002/ins002'],\n",
       " 'session005': [],\n",
       " 'session006': ['session006/cal001/ins001', 'session006/cal001/ins002'],\n",
       " 'session007': ['session007/cal001/ins001', 'session007/cal001/ins002'],\n",
       " 'session008': ['session008/cal001/ins001'],\n",
       " 'session009': ['session009/cal001/ins001'],\n",
       " 'session010': ['session010/cal001/ins001',\n",
       "  'session010/cal001/ins002',\n",
       "  'session010/cal001/ins003']}"
      ]
     },
     "execution_count": 117,
     "metadata": {},
     "output_type": "execute_result"
    }
   ],
   "source": [
    "keys = list(f.keys())\n",
    "key_dict = {}\n",
    "for key in keys:\n",
    "    session_number = int(key[-3:])\n",
    "    key_dict[key] = create_list_of_insertions_in_session(f, session_number)\n",
    "key_dict\n",
    "    "
   ]
  },
  {
   "cell_type": "code",
   "execution_count": 115,
   "metadata": {},
   "outputs": [
    {
     "data": {
      "text/plain": [
       "1"
      ]
     },
     "execution_count": 115,
     "metadata": {},
     "output_type": "execute_result"
    }
   ],
   "source": [
    "int('session001'[-3:])"
   ]
  },
  {
   "cell_type": "code",
   "execution_count": 118,
   "metadata": {},
   "outputs": [],
   "source": [
    "f.close()"
   ]
  },
  {
   "cell_type": "code",
   "execution_count": null,
   "metadata": {},
   "outputs": [],
   "source": []
  }
 ],
 "metadata": {
  "kernelspec": {
   "display_name": "Python 3",
   "language": "python",
   "name": "python3"
  },
  "language_info": {
   "codemirror_mode": {
    "name": "ipython",
    "version": 3
   },
   "file_extension": ".py",
   "mimetype": "text/x-python",
   "name": "python",
   "nbconvert_exporter": "python",
   "pygments_lexer": "ipython3",
   "version": "3.8.5"
  }
 },
 "nbformat": 4,
 "nbformat_minor": 4
}
