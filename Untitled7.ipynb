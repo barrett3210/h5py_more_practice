{
 "cells": [
  {
   "cell_type": "code",
   "execution_count": 1,
   "metadata": {},
   "outputs": [],
   "source": [
    "import pandas as pd\n",
    "import numpy as np\n",
    "import h5py\n",
    "import datetime\n",
    "import matplotlib.pyplot as plt\n",
    "from scipy import interpolate\n",
    "file_name = \"more/connect_two_spectrometers.h5\"\n",
    "h5_file = h5py.File(file_name, \"r\")"
   ]
  },
  {
   "cell_type": "code",
   "execution_count": 2,
   "metadata": {},
   "outputs": [],
   "source": [
    "def create_list_of_datasets_in_h5file(h5_file):\n",
    "    \"\"\"\n",
    "    Returns a list of the paths of all datasets in an h5 file.\n",
    "    Can also be used to list all datasets under a given node (e.g., f['session001']).  In this case,\n",
    "    the 'session001' is not included in the output paths.\n",
    "    This comes from:\n",
    "    https://stackoverflow.com/questions/44883175/how-to-list-all-datasets-in-h5py-file\n",
    "    :param f:\n",
    "    :return:\n",
    "    \"\"\"\n",
    "    keys = []\n",
    "    h5_file.visit(lambda key: keys.append(key) if type(h5_file[key]) is h5py._hl.dataset.Dataset else None)\n",
    "    return keys\n",
    "\n",
    "\n",
    "def create_list_of_groups_in_node(node):\n",
    "    keys = []\n",
    "    node.visit(lambda key: keys.append(key) if type(node[key]) is h5py._hl.group.Group else None)\n",
    "    return keys\n",
    "\n",
    "def create_list_of_items_in_node(item_type, h5_file, node):\n",
    "    keys = []\n",
    "    if item_type == \"group\":\n",
    "        my_type = h5py._hl.group.Group\n",
    "    if item_type == \"dataset\":\n",
    "        my_type = h5py._hl.dataset.Dataset\n",
    "    h5_file[node].visit(lambda key: keys.append(key) if type(h5_file[node][key]) is my_type else None)\n",
    "    return keys\n",
    "\n",
    "def create_list_of_insertions_in_node(h5_file, node):\n",
    "    insertions = []\n",
    "    all_groups = create_list_of_items_in_node(\"group\", h5_file, node)\n",
    "    for group in all_groups:\n",
    "        if group[-6:-3] == 'ins':\n",
    "            insertions.append(group)\n",
    "    return insertions\n",
    "\n",
    "def create_session_insertion_dict(h5_file):\n",
    "    keys = list(h5_file.keys())\n",
    "    key_dict = {}\n",
    "    for key in keys:\n",
    "        # session_number = int(key[-3:])\n",
    "        key_dict[key] = create_list_of_insertions_in_node(h5_file, key)\n",
    "    print(key_dict)\n",
    "    return key_dict\n",
    "\n",
    "def create_list_of_calibrations_in_node(h5_file, node):\n",
    "    calibrations = []\n",
    "    all_groups = create_list_of_items_in_node(\"group\", h5_file, node)\n",
    "    for group in all_groups:\n",
    "        if group[-6:-3] == 'cal':\n",
    "            calibrations.append(group)\n",
    "    return calibrations\n",
    "\n",
    "\n",
    "def create_session_calibration_dict(h5_file):\n",
    "    keys = list(h5_file.keys())\n",
    "    key_dict = {}\n",
    "    for key in keys:\n",
    "        key_dict[key] = create_list_of_calibrations_in_node(h5_file, key)\n",
    "    print(key_dict)\n",
    "    return key_dict\n",
    "\n",
    "def get_wavelengths_vector(h5_file, session, insertion, spectrometer):\n",
    "    if spectrometer == \"spectrometer1\":\n",
    "        vector_attr = \"spec1_wavelengths_vector\"\n",
    "    elif spectrometer == \"spectrometer2\":\n",
    "        vector_attr = \"spec2_wavelengths_vector\"\n",
    "    else:\n",
    "        print(\"spectrometer not specified\")\n",
    "        vector_attr = \"\"\n",
    "\n",
    "    insertion_group = h5_file[f\"{session}/{insertion}\"]\n",
    "    wavelengths_vector = insertion_group.parent.attrs[vector_attr][:]\n",
    "    return wavelengths_vector\n",
    "\n",
    "def get_absorbance_spectra_in_insertion(h5_file, session, insertion):\n",
    "    absorbance_string = \"spectrometer1/derived/absorbances\"\n",
    "    absorbance_spectra = h5_file[f\"{session}/{insertion}/{absorbance_string}\"][:]\n",
    "    print(absorbance_spectra)\n",
    "    return absorbance_spectra\n",
    "\n",
    "def get_absorbance_spectra_and_depth_in_insertion(h5_file, session, insertion):\n",
    "    dset_string = \"derived/absorbance_depth\"\n",
    "    dset = h5_file[f\"{session}/{insertion}/{dset_string}\"]\n",
    "    absorbance_spectra = dset[:, :-2]\n",
    "    depths = dset[:, -1]\n",
    "    forces = dset[:, -2]\n",
    "    print(absorbance_spectra)\n",
    "    return absorbance_spectra, depths, forces\n",
    "\n",
    "def get_current_time():\n",
    "    return np.datetime64(datetime.datetime.now()).astype(np.int64)\n",
    "\n",
    "\n",
    "def timestamp_list_to_pandas_timestamps(timestamp_list):\n",
    "    series = pd.Series(timestamp_list).astype('<M8[us]')\n",
    "    return series\n",
    "\n",
    "def find_zoomed_yvalues(wavelengths_vector, absorbance_spectrum):\n",
    "    \n",
    "    # get min_val, max_val of 1700 to 1800 nm\n",
    "    mid_waves = (wavelengths_vector > 1700) & (wavelengths_vector < 1800)\n",
    "    minval = absorbance_spectrum[mid_waves].min()\n",
    "    maxval = absorbance_spectrum[mid_waves].max()\n",
    "    ymin = minval - (minval * 0.005)\n",
    "    ymax = maxval + (maxval * 0.005)\n",
    "    return ymin, ymax"
   ]
  },
  {
   "cell_type": "code",
   "execution_count": 3,
   "metadata": {},
   "outputs": [
    {
     "data": {
      "text/plain": [
       "['session002/cal001/ins001/derived/absorbance_depth',\n",
       " 'session002/cal001/ins001/derived/absorbance_depth_timestamps',\n",
       " 'session002/cal001/ins001/derived/depth_increment_data',\n",
       " 'session002/cal001/ins001/derived/force_depth',\n",
       " 'session002/cal001/ins001/derived/force_depth_timestamps',\n",
       " 'session002/cal001/ins001/encoder/depths',\n",
       " 'session002/cal001/ins001/encoder/timestamps',\n",
       " 'session002/cal001/ins001/load_cell/forces',\n",
       " 'session002/cal001/ins001/load_cell/timestamps',\n",
       " 'session002/cal001/ins001/spectrometer1/derived/absorbances',\n",
       " 'session002/cal001/ins001/spectrometer1/spectra',\n",
       " 'session002/cal001/ins001/spectrometer1/timestamps',\n",
       " 'session002/cal001/ins002/derived/absorbance_depth',\n",
       " 'session002/cal001/ins002/derived/absorbance_depth_timestamps',\n",
       " 'session002/cal001/ins002/derived/depth_increment_data',\n",
       " 'session002/cal001/ins002/derived/force_depth',\n",
       " 'session002/cal001/ins002/derived/force_depth_timestamps',\n",
       " 'session002/cal001/ins002/encoder/depths',\n",
       " 'session002/cal001/ins002/encoder/timestamps',\n",
       " 'session002/cal001/ins002/load_cell/forces',\n",
       " 'session002/cal001/ins002/load_cell/timestamps',\n",
       " 'session002/cal001/ins002/spectrometer1/derived/absorbances',\n",
       " 'session002/cal001/ins002/spectrometer1/spectra',\n",
       " 'session002/cal001/ins002/spectrometer1/timestamps',\n",
       " 'session004/cal001/ins001/derived/absorbance_depth',\n",
       " 'session004/cal001/ins001/derived/absorbance_depth_timestamps',\n",
       " 'session004/cal001/ins001/derived/depth_increment_data',\n",
       " 'session004/cal001/ins001/derived/force_depth',\n",
       " 'session004/cal001/ins001/derived/force_depth_timestamps',\n",
       " 'session004/cal001/ins001/encoder/depths',\n",
       " 'session004/cal001/ins001/encoder/timestamps',\n",
       " 'session004/cal001/ins001/load_cell/forces',\n",
       " 'session004/cal001/ins001/load_cell/timestamps',\n",
       " 'session004/cal001/ins001/spectrometer1/derived/absorbances',\n",
       " 'session004/cal001/ins001/spectrometer1/spectra',\n",
       " 'session004/cal001/ins001/spectrometer1/timestamps',\n",
       " 'session004/cal001/ins001/spectrometer2/adc1s',\n",
       " 'session004/cal001/ins001/spectrometer2/adc2s',\n",
       " 'session004/cal001/ins001/spectrometer2/derived/absorbances',\n",
       " 'session004/cal001/ins001/spectrometer2/interferograms',\n",
       " 'session004/cal001/ins001/spectrometer2/opds',\n",
       " 'session004/cal001/ins001/spectrometer2/spectra',\n",
       " 'session004/cal001/ins001/spectrometer2/timestamps',\n",
       " 'session004/cal001/ins001/spectrometer2/wavenums',\n",
       " 'session004/cal001/ins002/derived/absorbance_depth',\n",
       " 'session004/cal001/ins002/derived/absorbance_depth_timestamps',\n",
       " 'session004/cal001/ins002/derived/depth_increment_data',\n",
       " 'session004/cal001/ins002/derived/force_depth',\n",
       " 'session004/cal001/ins002/derived/force_depth_timestamps',\n",
       " 'session004/cal001/ins002/encoder/depths',\n",
       " 'session004/cal001/ins002/encoder/timestamps',\n",
       " 'session004/cal001/ins002/load_cell/forces',\n",
       " 'session004/cal001/ins002/load_cell/timestamps',\n",
       " 'session004/cal001/ins002/spectrometer1/derived/absorbances',\n",
       " 'session004/cal001/ins002/spectrometer1/spectra',\n",
       " 'session004/cal001/ins002/spectrometer1/timestamps',\n",
       " 'session004/cal001/ins002/spectrometer2/adc1s',\n",
       " 'session004/cal001/ins002/spectrometer2/adc2s',\n",
       " 'session004/cal001/ins002/spectrometer2/derived/absorbances',\n",
       " 'session004/cal001/ins002/spectrometer2/interferograms',\n",
       " 'session004/cal001/ins002/spectrometer2/opds',\n",
       " 'session004/cal001/ins002/spectrometer2/spectra',\n",
       " 'session004/cal001/ins002/spectrometer2/timestamps',\n",
       " 'session004/cal001/ins002/spectrometer2/wavenums',\n",
       " 'session006/cal001/ins001/derived/absorbance_depth',\n",
       " 'session006/cal001/ins001/derived/absorbance_depth_timestamps',\n",
       " 'session006/cal001/ins001/derived/depth_increment_data',\n",
       " 'session006/cal001/ins001/derived/force_depth',\n",
       " 'session006/cal001/ins001/derived/force_depth_timestamps',\n",
       " 'session006/cal001/ins001/encoder/depths',\n",
       " 'session006/cal001/ins001/encoder/timestamps',\n",
       " 'session006/cal001/ins001/load_cell/forces',\n",
       " 'session006/cal001/ins001/load_cell/timestamps',\n",
       " 'session006/cal001/ins001/spectrometer1/derived/absorbances',\n",
       " 'session006/cal001/ins001/spectrometer1/spectra',\n",
       " 'session006/cal001/ins001/spectrometer1/timestamps',\n",
       " 'session006/cal001/ins001/spectrometer2/adc1s',\n",
       " 'session006/cal001/ins001/spectrometer2/adc2s',\n",
       " 'session006/cal001/ins001/spectrometer2/derived/absorbances',\n",
       " 'session006/cal001/ins001/spectrometer2/interferograms',\n",
       " 'session006/cal001/ins001/spectrometer2/opds',\n",
       " 'session006/cal001/ins001/spectrometer2/spectra',\n",
       " 'session006/cal001/ins001/spectrometer2/timestamps',\n",
       " 'session006/cal001/ins001/spectrometer2/wavenums',\n",
       " 'session006/cal001/ins002/derived/absorbance_depth',\n",
       " 'session006/cal001/ins002/derived/absorbance_depth_timestamps',\n",
       " 'session006/cal001/ins002/derived/depth_increment_data',\n",
       " 'session006/cal001/ins002/derived/force_depth',\n",
       " 'session006/cal001/ins002/derived/force_depth_timestamps',\n",
       " 'session006/cal001/ins002/encoder/depths',\n",
       " 'session006/cal001/ins002/encoder/timestamps',\n",
       " 'session006/cal001/ins002/load_cell/forces',\n",
       " 'session006/cal001/ins002/load_cell/timestamps',\n",
       " 'session006/cal001/ins002/spectrometer1/derived/absorbances',\n",
       " 'session006/cal001/ins002/spectrometer1/spectra',\n",
       " 'session006/cal001/ins002/spectrometer1/timestamps',\n",
       " 'session006/cal001/ins002/spectrometer2/adc1s',\n",
       " 'session006/cal001/ins002/spectrometer2/adc2s',\n",
       " 'session006/cal001/ins002/spectrometer2/derived/absorbances',\n",
       " 'session006/cal001/ins002/spectrometer2/interferograms',\n",
       " 'session006/cal001/ins002/spectrometer2/opds',\n",
       " 'session006/cal001/ins002/spectrometer2/spectra',\n",
       " 'session006/cal001/ins002/spectrometer2/timestamps',\n",
       " 'session006/cal001/ins002/spectrometer2/wavenums']"
      ]
     },
     "execution_count": 3,
     "metadata": {},
     "output_type": "execute_result"
    }
   ],
   "source": [
    "create_list_of_datasets_in_h5file(h5_file)"
   ]
  },
  {
   "cell_type": "code",
   "execution_count": 4,
   "metadata": {},
   "outputs": [
    {
     "data": {
      "text/plain": [
       "<KeysViewHDF5 ['calibration_start_time', 'dark_spectrum', 'dark_spectrum2', 'ftir_amplitude', 'ftir_calibration_cycles', 'ftir_calibration_gain', 'ftir_calibration_measure_mode', 'ftir_cycles', 'ftir_direction', 'ftir_frequency', 'ftir_gain', 'ftir_integrate_mode', 'ftir_measure_mode', 'ftir_temperature', 'ftir_wavenums_count', 'ftir_zero_fill', 'spec1_wavelengths_vector', 'spec2_wavelengths_vector', 'vis_capture_mode', 'vis_cycle_time', 'vis_data_count', 'vis_data_transmit', 'vis_exposure_seconds', 'vis_exposure_time', 'vis_gain_mode', 'vis_sensor_gain_mode', 'white_spectrum', 'white_spectrum2']>"
      ]
     },
     "execution_count": 4,
     "metadata": {},
     "output_type": "execute_result"
    }
   ],
   "source": [
    "h5_file['session006/cal001'].attrs.keys()"
   ]
  },
  {
   "cell_type": "code",
   "execution_count": 5,
   "metadata": {
    "collapsed": true,
    "jupyter": {
     "outputs_hidden": true
    }
   },
   "outputs": [
    {
     "data": {
      "text/plain": [
       "array([0., 0., 0., 0., 0., 0., 0., 0., 0., 0., 0., 0., 0., 0., 0., 0., 0.,\n",
       "       0., 0., 0., 0., 0., 0., 0., 0., 0., 0., 0., 0., 0., 0., 0., 0., 0.,\n",
       "       0., 0., 0., 0., 0., 0., 0., 0., 0., 0., 0., 0., 0., 0., 0., 0., 0.,\n",
       "       0., 0., 0., 0., 0., 0., 0., 0., 0., 0., 0., 0., 0., 0., 0., 0., 0.,\n",
       "       0., 0., 0., 0., 0., 0., 0., 0., 0., 0., 0., 0., 0., 0., 0., 0., 0.,\n",
       "       0., 0., 0., 0., 0., 0., 0., 0., 0., 0., 0., 0., 0., 0., 0., 0., 0.,\n",
       "       0., 0., 0., 0., 0., 0., 0., 0., 0., 0., 0., 0., 0., 0., 0., 0., 0.,\n",
       "       0., 0., 0., 0., 0., 0., 0., 0., 0., 0., 0., 0., 0., 0., 0., 0., 0.,\n",
       "       0., 0., 0., 0., 0., 0., 0., 0., 0., 0., 0., 0., 0., 0., 0., 0., 0.,\n",
       "       0., 0., 0., 0., 0., 0., 0., 0., 0., 0., 0., 0., 0., 0., 0., 0., 0.,\n",
       "       0., 0., 0., 0., 0., 0., 0., 0., 0., 0., 0., 0., 0., 0., 0., 0., 0.,\n",
       "       0., 0., 0., 0., 0., 0., 0., 0., 0., 0., 0., 0., 0., 0., 0., 0., 0.,\n",
       "       0., 0., 0., 0., 0., 0., 0., 0., 0., 0., 0., 0., 0., 0., 0., 0., 0.,\n",
       "       0., 0., 0., 0., 0., 0., 0., 0., 0., 0., 0., 0., 0., 0., 0., 0., 0.,\n",
       "       0., 0., 0., 0., 0., 0., 0., 0., 0., 0., 0., 0., 0., 0., 0., 0., 0.,\n",
       "       0., 0., 0., 0., 0., 0., 0., 0., 0., 0., 0., 0., 0., 0., 0., 0., 0.,\n",
       "       0., 0., 0., 0., 0., 0., 0., 0., 0., 0., 0., 0., 0., 0., 0., 0., 0.,\n",
       "       0., 0., 0., 0., 0., 0., 0., 0., 0., 0., 0., 0., 0., 0., 0., 0., 0.,\n",
       "       0., 0., 0., 0., 0., 0., 0., 0., 0., 0., 0., 0., 0., 0., 0., 0., 0.,\n",
       "       0., 0., 0., 0., 0., 0., 0., 0., 0., 0., 0., 0., 0., 0., 0., 0., 0.,\n",
       "       0., 0., 0., 0., 0., 0., 0., 0., 0., 0., 0., 0., 0., 0., 0., 0., 0.,\n",
       "       0., 0., 0., 0., 0., 0., 0., 0., 0., 0., 0., 0., 0., 0., 0., 0., 0.,\n",
       "       0., 0., 0., 0., 0., 0., 0., 0., 0., 0., 0., 0., 0., 0., 0., 0., 0.,\n",
       "       0., 0., 0., 0., 0., 0., 0., 0., 0., 0., 0., 0., 0., 0., 0., 0., 0.,\n",
       "       0., 0., 0., 0., 0., 0., 0., 0., 0., 0., 0., 0., 0., 0., 0., 0., 0.,\n",
       "       0., 0., 0., 0., 0., 0., 0., 0., 0., 0., 0., 0., 0., 0., 0., 0., 0.,\n",
       "       0., 0., 0., 0., 0., 0., 0., 0., 0., 0., 0., 0., 0., 0., 0., 0., 0.,\n",
       "       0., 0., 0., 0., 0., 0., 0., 0., 0., 0., 0., 0., 0., 0., 0., 0., 0.,\n",
       "       0., 0., 0., 0., 0., 0., 0., 0., 0., 0., 0., 0., 0., 0., 0., 0., 0.,\n",
       "       0., 0., 0., 0., 0., 0., 0., 0., 0., 0., 0., 0., 0., 0., 0., 0., 0.,\n",
       "       0., 0., 0., 0., 0., 0., 0., 0., 0., 0., 0., 0., 0., 0., 0., 0., 0.,\n",
       "       0., 0., 0., 0., 0., 0., 0., 0., 0., 0., 0., 0., 0., 0., 0., 0., 0.,\n",
       "       0., 0., 0., 0., 0., 0., 0., 0., 0., 0., 0., 0., 0., 0., 0., 0., 0.,\n",
       "       0., 0., 0., 0., 0., 0., 0., 0., 0., 0., 0., 0., 0., 0., 0., 0., 0.,\n",
       "       0., 0., 0., 0., 0., 0., 0., 0., 0., 0., 0., 0., 0., 0., 0., 0., 0.,\n",
       "       0., 0., 0., 0., 0., 0., 0., 0., 0., 0., 0., 0., 0., 0., 0., 0., 0.,\n",
       "       0., 0., 0., 0., 0., 0., 0., 0., 0., 0., 0., 0., 0., 0., 0., 0., 0.,\n",
       "       0., 0., 0., 0., 0., 0., 0., 0., 0., 0., 0., 0., 0., 0., 0., 0., 0.,\n",
       "       0., 0., 0., 0., 0., 0., 0., 0., 0., 0., 0., 0., 0., 0., 0., 0., 0.,\n",
       "       0., 0., 0., 0., 0., 0., 0., 0., 0., 0., 0., 0., 0., 0., 0., 0., 0.,\n",
       "       0., 0., 0., 0., 0., 0., 0., 0., 0., 0., 0., 0., 0., 0., 0., 0., 0.,\n",
       "       0., 0., 0.])"
      ]
     },
     "execution_count": 5,
     "metadata": {},
     "output_type": "execute_result"
    }
   ],
   "source": [
    "h5_file['session006/cal001'].attrs['dark_spectrum2'][:]"
   ]
  },
  {
   "cell_type": "code",
   "execution_count": 7,
   "metadata": {
    "collapsed": true,
    "jupyter": {
     "outputs_hidden": true
    }
   },
   "outputs": [
    {
     "data": {
      "text/plain": [
       "array([3959.5 , 4018.25, 3984.25, 3974.25, 4001.75, 4002.25, 4022.5 ,\n",
       "       4042.25, 3926.75, 3977.75, 3933.25, 4041.25, 3960.  , 4062.75,\n",
       "       3954.25, 4028.5 , 3938.  , 4006.75, 3921.5 , 3968.5 , 3936.  ,\n",
       "       4053.25, 3954.75, 3952.75, 3976.  , 3999.75, 4062.  , 4011.5 ,\n",
       "       3952.  , 4020.25, 3959.25, 4004.25, 4031.75, 3981.  , 3915.5 ,\n",
       "       3956.75, 3936.25, 3976.5 , 3989.  , 3993.75, 3918.  , 4035.5 ,\n",
       "       4047.75, 4018.25, 3963.  , 3980.25, 3955.75, 4063.5 , 3946.75,\n",
       "       4019.5 , 4027.  , 4031.75, 4058.75, 4085.25, 4091.  , 4047.25,\n",
       "       3998.75, 3981.5 , 3945.75, 3994.75, 3977.75, 4000.5 , 3919.5 ,\n",
       "       3981.  , 3970.25, 3969.25, 3984.  , 4021.  , 4054.5 , 4011.5 ,\n",
       "       4050.75, 3967.  , 4060.  , 4086.  , 4003.  , 4097.25, 4044.75,\n",
       "       4057.75, 4085.75, 4160.25, 3973.25, 4063.5 , 4036.  , 4146.5 ,\n",
       "       4059.5 , 4090.25, 4008.  , 4090.5 , 4012.25, 4072.25, 3959.75,\n",
       "       4029.  , 3964.75, 4082.5 , 3969.25, 4003.  , 3917.75, 4024.75,\n",
       "       3986.5 , 4013.5 , 4038.  , 4023.75, 4068.75, 4109.5 , 4044.25,\n",
       "       4123.  , 4020.  , 4136.25, 4037.5 , 4045.75, 4021.5 , 4055.25,\n",
       "       3944.25, 4032.5 , 4012.  , 3989.  , 4019.  , 4041.75, 4002.25,\n",
       "       4020.75, 3963.25, 3975.25, 3903.5 , 3980.25, 3922.5 , 3998.  ,\n",
       "       3939.5 , 4048.  , 3966.75, 3923.25, 4024.75, 3994.5 , 3959.75,\n",
       "       3981.25, 3963.75, 3977.75, 3980.  , 3949.5 , 3911.75, 3892.75,\n",
       "       3882.  , 4024.25, 3956.75, 3884.25, 3882.75, 3922.25, 3880.  ,\n",
       "       3926.75, 3959.25, 3915.5 , 3868.  , 3932.  , 3912.75, 3920.5 ,\n",
       "       4004.25, 4033.5 , 3984.25, 4015.75, 3946.75, 3958.25, 3956.75,\n",
       "       4008.  , 3910.  , 3919.75, 3911.  , 3896.5 , 3890.5 , 3964.  ,\n",
       "       3933.75, 3973.25, 3874.5 , 3987.75, 3940.  , 3985.  , 4010.75,\n",
       "       4003.75, 3998.25, 4047.5 , 3957.25, 4023.5 , 3988.25, 3974.75,\n",
       "       4000.25, 4104.25, 3979.  , 3997.  , 3995.  , 4004.5 , 3977.  ,\n",
       "       4042.  , 3959.5 , 3932.5 , 3947.  , 3988.75, 3986.25, 3958.25,\n",
       "       3939.25, 3981.75, 3982.25, 3972.25, 3960.5 , 3948.25, 4035.  ,\n",
       "       4016.25, 3948.  , 4073.5 , 4018.5 , 4109.  , 3970.  , 4076.  ,\n",
       "       3938.5 , 4010.75, 4005.  , 4055.25, 4002.  , 4049.  , 3966.25,\n",
       "       4010.75, 3998.25, 4089.  , 3985.25, 3984.5 , 4074.5 , 4032.25,\n",
       "       3983.  , 4011.5 , 4010.75, 4041.5 , 4027.5 , 3976.75, 3980.5 ,\n",
       "       4019.5 , 3994.25, 4042.25, 3987.  , 4027.75, 3975.5 , 3981.5 ,\n",
       "       4013.25, 4126.5 , 3966.75, 4004.25, 4008.  , 3989.  , 3929.75,\n",
       "       3993.25, 3918.5 , 3995.25, 3924.75, 4033.25, 3889.5 , 3948.5 ,\n",
       "       3911.75, 3945.  , 3936.25, 3950.25, 3933.5 , 3933.5 , 3916.25,\n",
       "       3950.5 , 3889.75, 3942.  , 3926.75, 3999.5 , 3933.75, 3929.25,\n",
       "       3900.5 , 3905.  , 3873.75, 3964.75, 3915.25, 3886.75, 3858.25,\n",
       "       3931.25, 3964.25, 3849.75, 3844.  , 3828.75, 3865.5 , 3916.5 ,\n",
       "       3890.75, 3953.5 , 3859.25, 3943.25, 3882.5 , 3900.  , 3913.5 ,\n",
       "       3832.  , 3851.5 , 3909.  , 3914.  , 3934.  , 3889.5 , 3927.75,\n",
       "       3857.75, 3886.75, 3923.75, 3855.  , 3876.25, 3861.25, 3882.25,\n",
       "       3871.  , 3876.5 , 3887.75, 3843.5 , 3907.5 , 3883.25, 3900.5 ,\n",
       "       3884.25, 3906.  , 3857.25, 3912.75, 3921.  , 3940.75, 3906.  ,\n",
       "       3998.5 , 3905.  , 3925.75, 3972.75, 3937.75, 3871.75, 3957.75,\n",
       "       3884.75, 3935.25, 3878.5 , 3835.75, 3869.  , 3880.  , 3886.75,\n",
       "       3928.75, 3831.  , 3952.25, 3930.  , 3919.25, 3868.  , 3983.5 ,\n",
       "       3924.  , 3951.  , 4001.  , 3916.75, 3906.75, 3959.25, 3904.  ,\n",
       "       3870.  , 3919.25, 3961.25, 3895.5 , 3964.25, 3908.  , 3910.5 ,\n",
       "       3916.  , 3892.25, 3892.75, 3971.75, 3896.5 , 3923.  , 3880.  ,\n",
       "       4010.5 , 3945.  , 3948.5 , 3901.75, 4026.75, 3902.  , 3971.25,\n",
       "       3988.  , 4016.25, 4024.75, 4014.25, 3912.  , 3913.25, 3979.5 ,\n",
       "       3927.75, 3962.  , 3915.  , 3936.75, 4009.75, 3932.25, 3885.25,\n",
       "       3900.25, 3945.75, 3904.  , 3910.75, 3935.5 , 3920.75, 3892.25,\n",
       "       3895.  , 3964.5 , 4006.5 , 3912.75, 3992.5 , 3845.  , 3896.75,\n",
       "       3969.  , 3994.5 , 3938.75, 3986.75, 3933.75, 3945.25, 3922.25,\n",
       "       3870.25, 3849.5 , 3887.25, 3889.  , 3824.75, 3836.5 , 3907.  ,\n",
       "       3831.  , 3859.25, 3781.  , 3878.75, 3791.5 , 3859.  , 3784.  ,\n",
       "       3850.25, 3884.25, 3862.25, 3834.5 , 3931.5 , 3905.  , 3849.25,\n",
       "       3843.5 , 3847.75, 3861.  , 3971.25, 3848.5 , 3870.5 , 3821.75,\n",
       "       3846.25, 3804.5 , 3877.25, 3786.  , 3888.  , 3743.75, 3829.25,\n",
       "       3826.5 , 3868.5 , 3766.75, 3786.  , 3927.5 , 3847.  , 3819.75,\n",
       "       3818.25, 3872.25, 3895.5 , 3897.25, 3887.25, 3873.25, 3913.  ,\n",
       "       3816.  , 3957.25, 3842.5 , 3860.  , 3813.25, 3821.25, 3856.75,\n",
       "       3885.5 , 3878.5 , 3843.  , 3800.25, 3893.25, 3877.5 , 3846.5 ,\n",
       "       3842.75, 3893.  , 3874.25, 3963.25, 3894.  , 3913.5 , 3896.75,\n",
       "       3933.  , 3889.  , 3930.  , 3832.  , 3869.25, 3835.5 , 3930.  ,\n",
       "       3863.  , 3896.25, 3861.5 , 3911.  , 3924.25, 3944.75, 3844.25,\n",
       "       3888.75, 3910.5 , 3891.75, 3897.5 , 3912.5 , 3883.75, 3926.25,\n",
       "       3963.75, 3874.25, 3934.  , 3904.5 , 3873.  , 3984.25, 3823.75,\n",
       "       3874.  , 3911.5 , 3974.75, 3895.  , 3910.5 , 3881.25, 3911.75,\n",
       "       3909.  , 3921.  , 3852.  , 3909.5 , 3880.5 , 3875.25, 3863.  ,\n",
       "       4097.75])"
      ]
     },
     "execution_count": 7,
     "metadata": {},
     "output_type": "execute_result"
    }
   ],
   "source": [
    "h5_file['session006/cal001/ins001'].parent.attrs['dark_spectrum']"
   ]
  },
  {
   "cell_type": "code",
   "execution_count": 10,
   "metadata": {},
   "outputs": [
    {
     "data": {
      "text/plain": [
       "array([1, 2, 3, 4, 5, 6])"
      ]
     },
     "execution_count": 10,
     "metadata": {},
     "output_type": "execute_result"
    }
   ],
   "source": [
    "a1 = np.array([1, 2, 3])\n",
    "a2 = np.array([4, 5, 6])\n",
    "np.concatenate([a1, a2])"
   ]
  },
  {
   "cell_type": "code",
   "execution_count": 14,
   "metadata": {},
   "outputs": [
    {
     "data": {
      "text/plain": [
       "['encoder',\n",
       " 'encoder_host',\n",
       " 'encoder_tags',\n",
       " 'field_workers',\n",
       " 'load_cell',\n",
       " 'load_cell_port',\n",
       " 'load_cell_repetitions',\n",
       " 'session_date',\n",
       " 'session_location',\n",
       " 'session_name',\n",
       " 'session_notes',\n",
       " 'session_number',\n",
       " 'spectrometer1',\n",
       " 'spectrometer2']"
      ]
     },
     "execution_count": 14,
     "metadata": {},
     "output_type": "execute_result"
    }
   ],
   "source": [
    "list(h5_file['session001'].attrs)"
   ]
  },
  {
   "cell_type": "code",
   "execution_count": 15,
   "metadata": {},
   "outputs": [
    {
     "data": {
      "text/plain": [
       "'None'"
      ]
     },
     "execution_count": 15,
     "metadata": {},
     "output_type": "execute_result"
    }
   ],
   "source": [
    "h5_file['session001'].attrs['spectrometer2']"
   ]
  },
  {
   "cell_type": "code",
   "execution_count": 16,
   "metadata": {},
   "outputs": [
    {
     "data": {
      "text/plain": [
       "3"
      ]
     },
     "execution_count": 16,
     "metadata": {},
     "output_type": "execute_result"
    }
   ],
   "source": [
    "a1.max()"
   ]
  },
  {
   "cell_type": "code",
   "execution_count": null,
   "metadata": {},
   "outputs": [],
   "source": []
  }
 ],
 "metadata": {
  "kernelspec": {
   "display_name": "Python 3",
   "language": "python",
   "name": "python3"
  },
  "language_info": {
   "codemirror_mode": {
    "name": "ipython",
    "version": 3
   },
   "file_extension": ".py",
   "mimetype": "text/x-python",
   "name": "python",
   "nbconvert_exporter": "python",
   "pygments_lexer": "ipython3",
   "version": "3.8.5"
  }
 },
 "nbformat": 4,
 "nbformat_minor": 4
}
