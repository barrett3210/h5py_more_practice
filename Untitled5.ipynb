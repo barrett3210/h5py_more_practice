{
 "cells": [
  {
   "cell_type": "code",
   "execution_count": 63,
   "metadata": {},
   "outputs": [],
   "source": [
    "import pandas as pd\n",
    "import numpy as np\n",
    "import h5py\n",
    "import datetime\n",
    "import matplotlib.pyplot as plt\n",
    "file_name = \"simulation_test.h5\"\n",
    "f = h5py.File(file_name, \"a\")"
   ]
  },
  {
   "cell_type": "code",
   "execution_count": 51,
   "metadata": {},
   "outputs": [],
   "source": [
    "def create_list_of_datasets_in_h5file(h5_file):\n",
    "    \"\"\"\n",
    "    Returns a list of the paths of all datasets in an h5 file.\n",
    "    Can also be used to list all datasets under a given node (e.g., f['session001']).  In this case,\n",
    "    the 'session001' is not included in the output paths.\n",
    "    This comes from:\n",
    "    https://stackoverflow.com/questions/44883175/how-to-list-all-datasets-in-h5py-file\n",
    "    :param f:\n",
    "    :return:\n",
    "    \"\"\"\n",
    "    keys = []\n",
    "    h5_file.visit(lambda key: keys.append(key) if type(h5_file[key]) is h5py._hl.dataset.Dataset else None)\n",
    "    return keys\n",
    "\n",
    "\n",
    "def create_list_of_groups_in_node(node):\n",
    "    keys = []\n",
    "    node.visit(lambda key: keys.append(key) if type(node[key]) is h5py._hl.group.Group else None)\n",
    "    return keys\n",
    "\n",
    "def create_list_of_items_in_node(item_type, h5_file, node):\n",
    "    keys = []\n",
    "    if item_type == \"group\":\n",
    "        my_type = h5py._hl.group.Group\n",
    "    if item_type == \"dataset\":\n",
    "        my_type = h5py._hl.dataset.Dataset\n",
    "    h5_file[node].visit(lambda key: keys.append(key) if type(h5_file[node][key]) is my_type else None)\n",
    "    return keys\n",
    "\n",
    "def create_list_of_insertions_in_node(h5_file, node):\n",
    "    insertions = []\n",
    "    all_groups = create_list_of_items_in_node(\"group\", h5_file, node)\n",
    "    for group in all_groups:\n",
    "        if group[-6:-3] == 'ins':\n",
    "            insertions.append(group)\n",
    "    return insertions\n",
    "\n",
    "def create_session_insertion_dict(h5_file):\n",
    "    keys = list(h5_file.keys())\n",
    "    key_dict = {}\n",
    "    for key in keys:\n",
    "        # session_number = int(key[-3:])\n",
    "        key_dict[key] = create_list_of_insertions_in_node(h5_file, key)\n",
    "    print(key_dict)\n",
    "    return key_dict\n",
    "\n",
    "def create_list_of_calibrations_in_node(h5_file, node):\n",
    "    calibrations = []\n",
    "    all_groups = create_list_of_items_in_node(\"group\", h5_file, node)\n",
    "    for group in all_groups:\n",
    "        if group[-6:-3] == 'cal':\n",
    "            calibrations.append(group)\n",
    "    return calibrations\n",
    "\n",
    "\n",
    "def create_session_calibration_dict(h5_file):\n",
    "    keys = list(h5_file.keys())\n",
    "    key_dict = {}\n",
    "    for key in keys:\n",
    "        key_dict[key] = create_list_of_calibrations_in_node(h5_file, key)\n",
    "    print(key_dict)\n",
    "    return key_dict\n",
    "\n",
    "def get_wavelengths_vector(h5_file, session, insertion, spectrometer):\n",
    "    if spectrometer == \"spectrometer1\":\n",
    "        vector_attr = \"spec1_wavelengths_vector\"\n",
    "    elif spectrometer == \"spectrometer2\":\n",
    "        vector_attr = \"spec2_wavelengths_vector\"\n",
    "    else:\n",
    "        print(\"spectrometer not specified\")\n",
    "        vector_attr = \"\"\n",
    "\n",
    "    insertion_group = h5_file[f\"{session}/{insertion}\"]\n",
    "    wavelengths_vector = insertion_group.parent.attrs[vector_attr][:]\n",
    "    return wavelengths_vector\n",
    "\n",
    "def get_absorbance_spectra_in_insertion(h5_file, session, insertion):\n",
    "    absorbance_string = \"spectrometer1/derived/absorbances\"\n",
    "    absorbance_spectra = h5_file[f\"{session}/{insertion}/{absorbance_string}\"][:]\n",
    "    print(absorbance_spectra)\n",
    "    return absorbance_spectra\n",
    "\n",
    "def get_absorbance_spectra_and_depth_in_insertion(h5_file, session, insertion):\n",
    "    dset_string = \"derived/absorbance_depth\"\n",
    "    dset = h5_file[f\"{session}/{insertion}/{dset_string}\"]\n",
    "    absorbance_spectra = dset[:, :-2]\n",
    "    depths = dset[:, -1]\n",
    "    forces = dset[:, -2]\n",
    "    print(absorbance_spectra)\n",
    "    return absorbance_spectra, depths, forces\n",
    "\n",
    "\n"
   ]
  },
  {
   "cell_type": "code",
   "execution_count": 3,
   "metadata": {},
   "outputs": [],
   "source": [
    "groups = create_list_of_groups_in_node(f)"
   ]
  },
  {
   "cell_type": "code",
   "execution_count": 4,
   "metadata": {
    "collapsed": true,
    "jupyter": {
     "outputs_hidden": true
    }
   },
   "outputs": [
    {
     "data": {
      "text/plain": [
       "['session001',\n",
       " 'session001/cal001',\n",
       " 'session001/cal001/ins001',\n",
       " 'session001/cal001/ins001/derived',\n",
       " 'session002',\n",
       " 'session002/cal001',\n",
       " 'session002/cal001/ins001',\n",
       " 'session002/cal001/ins001/derived',\n",
       " 'session003',\n",
       " 'session003/cal001',\n",
       " 'session003/cal001/ins001',\n",
       " 'session003/cal001/ins001/derived',\n",
       " 'session004',\n",
       " 'session004/cal001',\n",
       " 'session004/cal001/ins001',\n",
       " 'session004/cal001/ins001/derived',\n",
       " 'session005',\n",
       " 'session005/cal001',\n",
       " 'session005/cal001/ins001',\n",
       " 'session005/cal001/ins001/derived',\n",
       " 'session006',\n",
       " 'session006/cal001',\n",
       " 'session006/cal001/ins001',\n",
       " 'session006/cal001/ins001/derived',\n",
       " 'session007',\n",
       " 'session007/cal001',\n",
       " 'session007/cal001/ins001',\n",
       " 'session007/cal001/ins001/derived',\n",
       " 'session008',\n",
       " 'session008/cal001',\n",
       " 'session008/cal001/ins001',\n",
       " 'session008/cal001/ins001/derived',\n",
       " 'session009',\n",
       " 'session009/cal001',\n",
       " 'session009/cal001/ins001',\n",
       " 'session009/cal001/ins001/derived',\n",
       " 'session009/cal001/ins001/encoder',\n",
       " 'session009/cal001/ins001/load_cell',\n",
       " 'session009/cal001/ins001/spectrometer1',\n",
       " 'session009/cal001/ins001/spectrometer1/derived',\n",
       " 'session009/cal001/ins002',\n",
       " 'session009/cal001/ins002/derived',\n",
       " 'session009/cal001/ins002/encoder',\n",
       " 'session009/cal001/ins002/load_cell',\n",
       " 'session009/cal001/ins002/spectrometer1',\n",
       " 'session009/cal001/ins002/spectrometer1/derived',\n",
       " 'session009/cal001/ins003',\n",
       " 'session009/cal001/ins003/derived',\n",
       " 'session009/cal001/ins003/encoder',\n",
       " 'session009/cal001/ins003/load_cell',\n",
       " 'session009/cal001/ins003/spectrometer1',\n",
       " 'session009/cal001/ins003/spectrometer1/derived',\n",
       " 'session010',\n",
       " 'session010/cal001',\n",
       " 'session010/cal001/ins001',\n",
       " 'session010/cal001/ins001/derived',\n",
       " 'session010/cal001/ins001/encoder',\n",
       " 'session010/cal001/ins001/load_cell',\n",
       " 'session010/cal001/ins001/spectrometer1',\n",
       " 'session010/cal001/ins001/spectrometer1/derived',\n",
       " 'session011',\n",
       " 'session011/cal001',\n",
       " 'session011/cal001/ins001',\n",
       " 'session011/cal001/ins001/derived',\n",
       " 'session011/cal001/ins001/encoder',\n",
       " 'session011/cal001/ins001/load_cell',\n",
       " 'session011/cal001/ins001/spectrometer1',\n",
       " 'session011/cal001/ins001/spectrometer1/derived',\n",
       " 'session012',\n",
       " 'session012/cal001',\n",
       " 'session012/cal001/ins001',\n",
       " 'session012/cal001/ins001/derived',\n",
       " 'session012/cal001/ins001/encoder',\n",
       " 'session012/cal001/ins001/load_cell',\n",
       " 'session012/cal001/ins001/spectrometer1',\n",
       " 'session012/cal001/ins001/spectrometer1/derived',\n",
       " 'session012/cal001/ins002',\n",
       " 'session012/cal001/ins002/derived',\n",
       " 'session012/cal001/ins002/encoder',\n",
       " 'session012/cal001/ins002/load_cell',\n",
       " 'session012/cal001/ins002/spectrometer1',\n",
       " 'session012/cal001/ins002/spectrometer1/derived',\n",
       " 'session012/cal001/ins003',\n",
       " 'session012/cal001/ins003/derived',\n",
       " 'session012/cal001/ins003/encoder',\n",
       " 'session012/cal001/ins003/load_cell',\n",
       " 'session012/cal001/ins003/spectrometer1',\n",
       " 'session012/cal001/ins003/spectrometer1/derived',\n",
       " 'session012/cal001/ins004',\n",
       " 'session012/cal001/ins004/derived',\n",
       " 'session012/cal001/ins004/encoder',\n",
       " 'session012/cal001/ins004/load_cell',\n",
       " 'session012/cal001/ins004/spectrometer1',\n",
       " 'session012/cal001/ins004/spectrometer1/derived',\n",
       " 'session013',\n",
       " 'session013/cal001',\n",
       " 'session013/cal001/ins001',\n",
       " 'session013/cal001/ins001/derived',\n",
       " 'session013/cal001/ins001/encoder',\n",
       " 'session013/cal001/ins001/load_cell',\n",
       " 'session013/cal001/ins001/spectrometer1',\n",
       " 'session013/cal001/ins001/spectrometer1/derived',\n",
       " 'session013/cal001/ins002',\n",
       " 'session013/cal001/ins002/derived',\n",
       " 'session013/cal001/ins002/encoder',\n",
       " 'session013/cal001/ins002/load_cell',\n",
       " 'session013/cal001/ins002/spectrometer1',\n",
       " 'session013/cal001/ins002/spectrometer1/derived',\n",
       " 'session014',\n",
       " 'session014/cal001',\n",
       " 'session014/cal001/ins001',\n",
       " 'session014/cal001/ins001/derived',\n",
       " 'session014/cal001/ins001/encoder',\n",
       " 'session014/cal001/ins001/load_cell',\n",
       " 'session014/cal001/ins001/spectrometer1',\n",
       " 'session014/cal001/ins001/spectrometer1/derived',\n",
       " 'session014/cal001/ins002',\n",
       " 'session014/cal001/ins002/derived',\n",
       " 'session014/cal001/ins002/encoder',\n",
       " 'session014/cal001/ins002/load_cell',\n",
       " 'session014/cal001/ins002/spectrometer1',\n",
       " 'session014/cal001/ins002/spectrometer1/derived',\n",
       " 'session015',\n",
       " 'session016',\n",
       " 'session016/cal001',\n",
       " 'session016/cal001/ins001',\n",
       " 'session016/cal001/ins001/derived',\n",
       " 'session016/cal001/ins001/encoder',\n",
       " 'session016/cal001/ins001/load_cell',\n",
       " 'session016/cal001/ins001/spectrometer1',\n",
       " 'session016/cal001/ins001/spectrometer1/derived',\n",
       " 'session016/cal001/ins002',\n",
       " 'session016/cal001/ins002/derived',\n",
       " 'session016/cal001/ins002/encoder',\n",
       " 'session016/cal001/ins002/load_cell',\n",
       " 'session016/cal001/ins002/spectrometer1',\n",
       " 'session016/cal001/ins002/spectrometer1/derived',\n",
       " 'session017',\n",
       " 'session017/cal001',\n",
       " 'session017/cal001/ins001',\n",
       " 'session017/cal001/ins001/derived',\n",
       " 'session017/cal001/ins001/encoder',\n",
       " 'session017/cal001/ins001/load_cell',\n",
       " 'session017/cal001/ins001/spectrometer1',\n",
       " 'session017/cal001/ins001/spectrometer1/derived',\n",
       " 'session018',\n",
       " 'session018/cal001',\n",
       " 'session018/cal001/ins001',\n",
       " 'session018/cal001/ins001/derived',\n",
       " 'session018/cal001/ins001/encoder',\n",
       " 'session018/cal001/ins001/load_cell',\n",
       " 'session018/cal001/ins001/spectrometer1',\n",
       " 'session018/cal001/ins001/spectrometer1/derived',\n",
       " 'session019',\n",
       " 'session019/cal001',\n",
       " 'session019/cal001/ins001',\n",
       " 'session019/cal001/ins001/derived',\n",
       " 'session019/cal001/ins001/encoder',\n",
       " 'session019/cal001/ins001/load_cell',\n",
       " 'session019/cal001/ins001/spectrometer1',\n",
       " 'session019/cal001/ins001/spectrometer1/derived',\n",
       " 'session019/cal001/ins002',\n",
       " 'session019/cal001/ins002/derived',\n",
       " 'session019/cal001/ins002/encoder',\n",
       " 'session019/cal001/ins002/load_cell',\n",
       " 'session019/cal001/ins002/spectrometer1',\n",
       " 'session019/cal001/ins002/spectrometer1/derived',\n",
       " 'session020',\n",
       " 'session020/cal001',\n",
       " 'session020/cal001/ins001',\n",
       " 'session020/cal001/ins001/derived',\n",
       " 'session020/cal001/ins001/encoder',\n",
       " 'session020/cal001/ins001/load_cell',\n",
       " 'session020/cal001/ins001/spectrometer1',\n",
       " 'session020/cal001/ins001/spectrometer1/derived',\n",
       " 'session021',\n",
       " 'session021/cal001',\n",
       " 'session021/cal001/ins001',\n",
       " 'session021/cal001/ins001/derived',\n",
       " 'session021/cal001/ins001/encoder',\n",
       " 'session021/cal001/ins001/load_cell',\n",
       " 'session021/cal001/ins001/spectrometer1',\n",
       " 'session021/cal001/ins001/spectrometer1/derived',\n",
       " 'session021/cal001/ins002',\n",
       " 'session021/cal001/ins002/derived',\n",
       " 'session021/cal001/ins002/encoder',\n",
       " 'session021/cal001/ins002/load_cell',\n",
       " 'session021/cal001/ins002/spectrometer1',\n",
       " 'session021/cal001/ins002/spectrometer1/derived',\n",
       " 'session022',\n",
       " 'session022/cal001',\n",
       " 'session022/cal001/ins001',\n",
       " 'session022/cal001/ins001/derived',\n",
       " 'session022/cal001/ins001/encoder',\n",
       " 'session022/cal001/ins001/load_cell',\n",
       " 'session022/cal001/ins001/spectrometer1',\n",
       " 'session022/cal001/ins001/spectrometer1/derived',\n",
       " 'session022/cal001/ins002',\n",
       " 'session022/cal001/ins002/derived',\n",
       " 'session022/cal001/ins002/encoder',\n",
       " 'session022/cal001/ins002/load_cell',\n",
       " 'session022/cal001/ins002/spectrometer1',\n",
       " 'session022/cal001/ins002/spectrometer1/derived',\n",
       " 'session023',\n",
       " 'session023/cal001',\n",
       " 'session023/cal001/ins001',\n",
       " 'session023/cal001/ins001/derived',\n",
       " 'session023/cal001/ins001/encoder',\n",
       " 'session023/cal001/ins001/load_cell',\n",
       " 'session023/cal001/ins001/spectrometer1',\n",
       " 'session023/cal001/ins001/spectrometer1/derived',\n",
       " 'session024',\n",
       " 'session024/cal001',\n",
       " 'session024/cal001/ins001',\n",
       " 'session024/cal001/ins001/derived',\n",
       " 'session024/cal001/ins001/encoder',\n",
       " 'session024/cal001/ins001/load_cell',\n",
       " 'session024/cal001/ins001/spectrometer1',\n",
       " 'session024/cal001/ins001/spectrometer1/derived',\n",
       " 'session024/cal001/ins002',\n",
       " 'session024/cal001/ins002/derived',\n",
       " 'session024/cal001/ins002/encoder',\n",
       " 'session024/cal001/ins002/load_cell',\n",
       " 'session024/cal001/ins002/spectrometer1',\n",
       " 'session024/cal001/ins002/spectrometer1/derived',\n",
       " 'session025',\n",
       " 'session025/cal001',\n",
       " 'session025/cal001/ins001',\n",
       " 'session025/cal001/ins001/derived',\n",
       " 'session025/cal001/ins001/encoder',\n",
       " 'session025/cal001/ins001/load_cell',\n",
       " 'session025/cal001/ins001/spectrometer1',\n",
       " 'session025/cal001/ins001/spectrometer1/derived',\n",
       " 'session025/cal001/ins002',\n",
       " 'session025/cal001/ins002/derived',\n",
       " 'session025/cal001/ins002/encoder',\n",
       " 'session025/cal001/ins002/load_cell',\n",
       " 'session025/cal001/ins002/spectrometer1',\n",
       " 'session025/cal001/ins002/spectrometer1/derived',\n",
       " 'session025/cal001/ins003',\n",
       " 'session025/cal001/ins003/derived',\n",
       " 'session025/cal001/ins003/encoder',\n",
       " 'session025/cal001/ins003/load_cell',\n",
       " 'session025/cal001/ins003/spectrometer1',\n",
       " 'session025/cal001/ins003/spectrometer1/derived',\n",
       " 'session026',\n",
       " 'session026/cal001',\n",
       " 'session026/cal001/ins001',\n",
       " 'session026/cal001/ins001/derived',\n",
       " 'session026/cal001/ins001/encoder',\n",
       " 'session026/cal001/ins001/load_cell',\n",
       " 'session026/cal001/ins001/spectrometer1',\n",
       " 'session026/cal001/ins001/spectrometer1/derived',\n",
       " 'session026/cal001/ins002',\n",
       " 'session026/cal001/ins002/derived',\n",
       " 'session026/cal001/ins002/encoder',\n",
       " 'session026/cal001/ins002/load_cell',\n",
       " 'session026/cal001/ins002/spectrometer1',\n",
       " 'session026/cal001/ins002/spectrometer1/derived',\n",
       " 'session027',\n",
       " 'session027/cal001',\n",
       " 'session027/cal001/ins001',\n",
       " 'session027/cal001/ins001/derived',\n",
       " 'session027/cal001/ins001/encoder',\n",
       " 'session027/cal001/ins001/load_cell',\n",
       " 'session027/cal001/ins001/spectrometer1',\n",
       " 'session027/cal001/ins001/spectrometer1/derived',\n",
       " 'session027/cal001/ins002',\n",
       " 'session027/cal001/ins002/derived',\n",
       " 'session027/cal001/ins002/encoder',\n",
       " 'session027/cal001/ins002/load_cell',\n",
       " 'session027/cal001/ins002/spectrometer1',\n",
       " 'session027/cal001/ins002/spectrometer1/derived',\n",
       " 'session028',\n",
       " 'session028/cal001',\n",
       " 'session028/cal001/ins001',\n",
       " 'session028/cal001/ins001/derived',\n",
       " 'session028/cal001/ins001/encoder',\n",
       " 'session028/cal001/ins001/load_cell',\n",
       " 'session028/cal001/ins001/spectrometer1',\n",
       " 'session028/cal001/ins001/spectrometer1/derived',\n",
       " 'session028/cal001/ins002',\n",
       " 'session028/cal001/ins002/derived',\n",
       " 'session028/cal001/ins002/encoder',\n",
       " 'session028/cal001/ins002/load_cell',\n",
       " 'session028/cal001/ins002/spectrometer1',\n",
       " 'session028/cal001/ins002/spectrometer1/derived']"
      ]
     },
     "execution_count": 4,
     "metadata": {},
     "output_type": "execute_result"
    }
   ],
   "source": [
    "groups"
   ]
  },
  {
   "cell_type": "code",
   "execution_count": 5,
   "metadata": {},
   "outputs": [],
   "source": [
    "session = 'session028'\n",
    "insertion = 'cal001/ins001'"
   ]
  },
  {
   "cell_type": "code",
   "execution_count": 7,
   "metadata": {},
   "outputs": [],
   "source": [
    "wavelengths = get_wavelengths_vector(f, session, insertion, \"spectrometer1\")"
   ]
  },
  {
   "cell_type": "code",
   "execution_count": 8,
   "metadata": {},
   "outputs": [
    {
     "data": {
      "text/plain": [
       "array([1550. , 1552.5, 1555. , 1557.5, 1560. , 1562.5, 1565. , 1567.5,\n",
       "       1570. , 1572.5, 1575. , 1577.5, 1580. , 1582.5, 1585. , 1587.5,\n",
       "       1590. , 1592.5, 1595. , 1597.5, 1600. , 1602.5, 1605. , 1607.5,\n",
       "       1610. , 1612.5, 1615. , 1617.5, 1620. , 1622.5, 1625. , 1627.5,\n",
       "       1630. , 1632.5, 1635. , 1637.5, 1640. , 1642.5, 1645. , 1647.5,\n",
       "       1650. , 1652.5, 1655. , 1657.5, 1660. , 1662.5, 1665. , 1667.5,\n",
       "       1670. , 1672.5, 1675. , 1677.5, 1680. , 1682.5, 1685. , 1687.5,\n",
       "       1690. , 1692.5, 1695. , 1697.5, 1700. , 1702.5, 1705. , 1707.5,\n",
       "       1710. , 1712.5, 1715. , 1717.5, 1720. , 1722.5, 1725. , 1727.5,\n",
       "       1730. , 1732.5, 1735. , 1737.5, 1740. , 1742.5, 1745. , 1747.5,\n",
       "       1750. , 1752.5, 1755. , 1757.5, 1760. , 1762.5, 1765. , 1767.5,\n",
       "       1770. , 1772.5, 1775. , 1777.5, 1780. , 1782.5, 1785. , 1787.5,\n",
       "       1790. , 1792.5, 1795. , 1797.5, 1800. , 1802.5, 1805. , 1807.5,\n",
       "       1810. , 1812.5, 1815. , 1817.5, 1820. , 1822.5, 1825. , 1827.5,\n",
       "       1830. , 1832.5, 1835. , 1837.5, 1840. , 1842.5, 1845. , 1847.5,\n",
       "       1850. , 1852.5, 1855. , 1857.5, 1860. , 1862.5, 1865. , 1867.5,\n",
       "       1870. , 1872.5, 1875. , 1877.5, 1880. , 1882.5, 1885. , 1887.5,\n",
       "       1890. , 1892.5, 1895. , 1897.5, 1900. , 1902.5, 1905. , 1907.5,\n",
       "       1910. , 1912.5, 1915. , 1917.5, 1920. , 1922.5, 1925. , 1927.5,\n",
       "       1930. , 1932.5, 1935. , 1937.5, 1940. , 1942.5, 1945. , 1947.5,\n",
       "       1950. ])"
      ]
     },
     "execution_count": 8,
     "metadata": {},
     "output_type": "execute_result"
    }
   ],
   "source": [
    "wavelengths"
   ]
  },
  {
   "cell_type": "code",
   "execution_count": 9,
   "metadata": {},
   "outputs": [],
   "source": [
    "dsets = create_list_of_items_in_node(\"dataset\", f, f\"{session}/{insertion}\")"
   ]
  },
  {
   "cell_type": "code",
   "execution_count": 10,
   "metadata": {},
   "outputs": [
    {
     "data": {
      "text/plain": [
       "['derived/absorbance_depth',\n",
       " 'derived/absorbance_depth_timestamps',\n",
       " 'derived/force_depth',\n",
       " 'derived/force_depth_timestamps',\n",
       " 'encoder/depths',\n",
       " 'encoder/timestamps',\n",
       " 'load_cell/forces',\n",
       " 'load_cell/timestamps',\n",
       " 'spectrometer1/derived/absorbances',\n",
       " 'spectrometer1/spectra',\n",
       " 'spectrometer1/timestamps']"
      ]
     },
     "execution_count": 10,
     "metadata": {},
     "output_type": "execute_result"
    }
   ],
   "source": [
    "dsets"
   ]
  },
  {
   "cell_type": "code",
   "execution_count": 11,
   "metadata": {},
   "outputs": [],
   "source": [
    "absorb = f[f\"{session}/{insertion}/spectrometer1/derived/absorbances\"][:]"
   ]
  },
  {
   "cell_type": "code",
   "execution_count": 12,
   "metadata": {},
   "outputs": [
    {
     "data": {
      "text/plain": [
       "array([[0.83809108, 0.83171127, 0.83481021, ..., 1.23758077, 1.18137789,\n",
       "        1.35455938],\n",
       "       [0.83924311, 0.82749086, 0.83964402, ..., 1.21788686, 1.18733652,\n",
       "        1.38885866],\n",
       "       [0.84462508, 0.83417766, 0.83622046, ..., 1.25005842, 1.19923077,\n",
       "        1.3375898 ],\n",
       "       ...,\n",
       "       [0.84400042, 0.82822635, 0.83632999, ..., 1.19882711, 1.20665172,\n",
       "        1.38198632],\n",
       "       [0.84044144, 0.83240162, 0.83114144, ..., 1.2212524 , 1.21079558,\n",
       "        1.32152187],\n",
       "       [0.8470347 , 0.83356951, 0.83396316, ..., 1.20276679, 1.21627733,\n",
       "        1.38240755]])"
      ]
     },
     "execution_count": 12,
     "metadata": {},
     "output_type": "execute_result"
    }
   ],
   "source": [
    "absorb"
   ]
  },
  {
   "cell_type": "code",
   "execution_count": 13,
   "metadata": {},
   "outputs": [],
   "source": [
    "absorb1 = absorb[0, :]"
   ]
  },
  {
   "cell_type": "code",
   "execution_count": 14,
   "metadata": {
    "collapsed": true,
    "jupyter": {
     "outputs_hidden": true
    }
   },
   "outputs": [
    {
     "data": {
      "text/plain": [
       "array([0.83809108, 0.83171127, 0.83481021, 0.83924367, 0.84133989,\n",
       "       0.8221621 , 0.82530118, 0.82413026, 0.80067691, 0.81889514,\n",
       "       0.80746001, 0.8090746 , 0.80292265, 0.80097905, 0.80860914,\n",
       "       0.80723976, 0.8152283 , 0.81405113, 0.78291023, 0.78293971,\n",
       "       0.78306396, 0.80167413, 0.79806341, 0.78625557, 0.8135065 ,\n",
       "       0.80886739, 0.80528136, 0.80119698, 0.79886073, 0.80197324,\n",
       "       0.78947585, 0.80414895, 0.79383305, 0.8234179 , 0.80526423,\n",
       "       0.79330288, 0.79729621, 0.80559713, 0.83995975, 0.81036311,\n",
       "       0.80962684, 0.82536731, 0.8246867 , 0.8374892 , 0.82482835,\n",
       "       0.84171047, 0.80454201, 0.81770949, 0.80698568, 0.83757778,\n",
       "       0.83472148, 0.82280127, 0.82996879, 0.86643507, 0.81604155,\n",
       "       0.85264684, 0.81334779, 0.81980206, 0.82795799, 0.8432869 ,\n",
       "       0.82872029, 0.84080345, 0.84084993, 0.8256619 , 0.84232773,\n",
       "       0.82224854, 0.80220556, 0.86114991, 0.84895551, 0.84474081,\n",
       "       0.87799632, 0.86738554, 0.88157994, 0.85703552, 0.86387942,\n",
       "       0.8451549 , 0.84080585, 0.83949965, 0.85899958, 0.82922908,\n",
       "       0.87878824, 0.8495363 , 0.83344722, 0.89524974, 0.8792902 ,\n",
       "       0.82566317, 0.84542155, 0.84741814, 0.8523722 , 0.84279041,\n",
       "       0.85135741, 0.84991701, 0.88143128, 0.84908566, 0.85878856,\n",
       "       0.90099691, 0.8786335 , 0.89012926, 0.89669656, 0.88851369,\n",
       "       0.83823111, 0.92238497, 0.89589526, 0.86760618, 0.90720856,\n",
       "       0.85322989, 0.88139749, 0.87934912, 0.86888546, 0.86656663,\n",
       "       0.91455858, 0.85808703, 0.88225417, 0.880357  , 0.89450247,\n",
       "       0.87528452, 0.92644343, 0.87352027, 0.89864832, 0.88573591,\n",
       "       0.92860679, 0.86609291, 0.93298784, 0.90712049, 0.91801999,\n",
       "       0.91823672, 0.99600252, 0.92467681, 1.02635775, 1.00651775,\n",
       "       1.00604386, 1.032631  , 1.04341445, 1.04060899, 0.99954191,\n",
       "       1.02921548, 1.15529489, 1.19513624, 1.13712384, 1.1174971 ,\n",
       "       1.11354182, 1.1204819 , 1.33925684, 1.30389841, 1.2059873 ,\n",
       "       1.20865311, 1.33726349, 1.37260961, 1.21537306, 1.23320499,\n",
       "       1.41505705, 1.25370055, 1.29814207, 1.32790871, 1.30313311,\n",
       "       1.21016236, 1.23570918, 1.39551397, 1.23758077, 1.18137789,\n",
       "       1.35455938])"
      ]
     },
     "execution_count": 14,
     "metadata": {},
     "output_type": "execute_result"
    }
   ],
   "source": [
    "absorb1"
   ]
  },
  {
   "cell_type": "code",
   "execution_count": 17,
   "metadata": {},
   "outputs": [
    {
     "data": {
      "text/plain": [
       "[<matplotlib.lines.Line2D at 0x7fcdc3ab5670>]"
      ]
     },
     "execution_count": 17,
     "metadata": {},
     "output_type": "execute_result"
    },
    {
     "data": {
      "image/png": "[encoded data removed]",
      "text/plain": [
       "<Figure size 432x288 with 1 Axes>"
      ]
     },
     "metadata": {
      "needs_background": "light"
     },
     "output_type": "display_data"
    }
   ],
   "source": [
    "plt.plot(wavelengths, absorb1)"
   ]
  },
  {
   "cell_type": "code",
   "execution_count": 21,
   "metadata": {},
   "outputs": [],
   "source": [
    "mid_waves = (wavelengths > 1700) & (wavelengths < 1850) "
   ]
  },
  {
   "cell_type": "code",
   "execution_count": 25,
   "metadata": {},
   "outputs": [
    {
     "data": {
      "text/plain": [
       "(59,)"
      ]
     },
     "execution_count": 25,
     "metadata": {},
     "output_type": "execute_result"
    }
   ],
   "source": [
    "absorb1[mid_waves].shape"
   ]
  },
  {
   "cell_type": "code",
   "execution_count": 27,
   "metadata": {},
   "outputs": [
    {
     "data": {
      "text/plain": [
       "0.8022055605335058"
      ]
     },
     "execution_count": 27,
     "metadata": {},
     "output_type": "execute_result"
    }
   ],
   "source": [
    "absorb1[mid_waves].min()"
   ]
  },
  {
   "cell_type": "code",
   "execution_count": 29,
   "metadata": {},
   "outputs": [
    {
     "data": {
      "text/plain": [
       "0.7941835049281707"
      ]
     },
     "execution_count": 29,
     "metadata": {},
     "output_type": "execute_result"
    }
   ],
   "source": [
    "ymin = absorb1[mid_waves].min() - (absorb1[mid_waves].min() * 0.01)\n",
    "ymin"
   ]
  },
  {
   "cell_type": "code",
   "execution_count": 32,
   "metadata": {},
   "outputs": [
    {
     "data": {
      "text/plain": [
       "0.9727656064826016"
      ]
     },
     "execution_count": 32,
     "metadata": {},
     "output_type": "execute_result"
    }
   ],
   "source": [
    "ymax = absorb1[mid_waves].max() + (absorb1[mid_waves].max() * 0.05)\n",
    "ymax"
   ]
  },
  {
   "cell_type": "code",
   "execution_count": 33,
   "metadata": {},
   "outputs": [
    {
     "data": {
      "text/plain": [
       "[<matplotlib.lines.Line2D at 0x7fcdc3d6e1c0>]"
      ]
     },
     "execution_count": 33,
     "metadata": {},
     "output_type": "execute_result"
    },
    {
     "data": {
      "image/png": "[encoded data removed]",
      "text/plain": [
       "<Figure size 432x288 with 1 Axes>"
      ]
     },
     "metadata": {
      "needs_background": "light"
     },
     "output_type": "display_data"
    }
   ],
   "source": [
    "fig, ax = plt.subplots()\n",
    "ax.set_ylim(ymin, ymax)\n",
    "ax.plot(wavelengths, absorb1)"
   ]
  },
  {
   "cell_type": "code",
   "execution_count": 35,
   "metadata": {},
   "outputs": [],
   "source": [
    "absorb_depth = f[f\"{session}/{insertion}/derived/absorbance_depth\"][:]"
   ]
  },
  {
   "cell_type": "code",
   "execution_count": 36,
   "metadata": {},
   "outputs": [
    {
     "data": {
      "text/plain": [
       "array([[8.38091079e-01, 8.31711272e-01, 8.34810211e-01, ...,\n",
       "        1.35455938e+00, 5.52282316e+01, 3.76772527e-02],\n",
       "       [8.39243111e-01, 8.27490858e-01, 8.39644023e-01, ...,\n",
       "        1.38885866e+00, 3.37203657e+01, 1.82388369e+00],\n",
       "       [8.44625078e-01, 8.34177663e-01, 8.36220459e-01, ...,\n",
       "        1.33758980e+00, 5.35047140e+01, 3.58053928e+00],\n",
       "       ...,\n",
       "       [8.44000420e-01, 8.28226346e-01, 8.36329994e-01, ...,\n",
       "        1.38198632e+00, 6.73838809e+01, 1.36236860e+01],\n",
       "       [8.40441435e-01, 8.32401621e-01, 8.31141439e-01, ...,\n",
       "        1.32152187e+00, 6.07194794e+01, 1.55817772e+01],\n",
       "       [8.47034704e-01, 8.33569507e-01, 8.33963155e-01, ...,\n",
       "        1.38240755e+00, 2.90202308e+01, 1.71768917e+01]])"
      ]
     },
     "execution_count": 36,
     "metadata": {},
     "output_type": "execute_result"
    }
   ],
   "source": [
    "absorb_depth"
   ]
  },
  {
   "cell_type": "code",
   "execution_count": 37,
   "metadata": {},
   "outputs": [
    {
     "data": {
      "text/plain": [
       "0.03767725268976361"
      ]
     },
     "execution_count": 37,
     "metadata": {},
     "output_type": "execute_result"
    }
   ],
   "source": [
    "absorb_depth[0, -1]"
   ]
  },
  {
   "cell_type": "code",
   "execution_count": 38,
   "metadata": {},
   "outputs": [
    {
     "data": {
      "text/plain": [
       "array([ 0.03767725,  1.82388369,  3.58053928,  4.78278572,  7.13965184,\n",
       "        9.22901353, 11.39831608, 13.623686  , 15.58177719, 17.17689168])"
      ]
     },
     "execution_count": 38,
     "metadata": {},
     "output_type": "execute_result"
    }
   ],
   "source": [
    "absorb_depth[:, -1]"
   ]
  },
  {
   "cell_type": "code",
   "execution_count": 40,
   "metadata": {},
   "outputs": [
    {
     "data": {
      "text/plain": [
       "(10, 161)"
      ]
     },
     "execution_count": 40,
     "metadata": {},
     "output_type": "execute_result"
    }
   ],
   "source": [
    "absorb.shape"
   ]
  },
  {
   "cell_type": "code",
   "execution_count": 41,
   "metadata": {},
   "outputs": [
    {
     "data": {
      "text/plain": [
       "(10, 163)"
      ]
     },
     "execution_count": 41,
     "metadata": {},
     "output_type": "execute_result"
    }
   ],
   "source": [
    "absorb_depth.shape"
   ]
  },
  {
   "cell_type": "code",
   "execution_count": 50,
   "metadata": {},
   "outputs": [
    {
     "name": "stdout",
     "output_type": "stream",
     "text": [
      "[[0.83809108 0.83171127 0.83481021 ... 1.23758077 1.18137789 1.35455938]\n",
      " [0.83924311 0.82749086 0.83964402 ... 1.21788686 1.18733652 1.38885866]\n",
      " [0.84462508 0.83417766 0.83622046 ... 1.25005842 1.19923077 1.3375898 ]\n",
      " ...\n",
      " [0.84400042 0.82822635 0.83632999 ... 1.19882711 1.20665172 1.38198632]\n",
      " [0.84044144 0.83240162 0.83114144 ... 1.2212524  1.21079558 1.32152187]\n",
      " [0.8470347  0.83356951 0.83396316 ... 1.20276679 1.21627733 1.38240755]]\n"
     ]
    }
   ],
   "source": [
    "dset_string = \"derived/absorbance_depth\"\n",
    "dset = f[f\"{session}/{insertion}/{dset_string}\"]\n",
    "absorbance_spectra = dset[:, :-2]\n",
    "depth = dset[:, -1]\n",
    "force = dset[:, -2]\n",
    "print(absorbance_spectra)\n"
   ]
  },
  {
   "cell_type": "code",
   "execution_count": 48,
   "metadata": {},
   "outputs": [
    {
     "data": {
      "text/plain": [
       "array([ 0.03767725,  1.82388369,  3.58053928,  4.78278572,  7.13965184,\n",
       "        9.22901353, 11.39831608, 13.623686  , 15.58177719, 17.17689168])"
      ]
     },
     "execution_count": 48,
     "metadata": {},
     "output_type": "execute_result"
    }
   ],
   "source": [
    "depth"
   ]
  },
  {
   "cell_type": "code",
   "execution_count": 49,
   "metadata": {},
   "outputs": [
    {
     "data": {
      "text/plain": [
       "array([55.22823157, 33.72036567, 53.50471404, 24.20946812, 64.94684204,\n",
       "       38.57735493, 36.96849225, 67.38388091, 60.71947939, 29.02023082])"
      ]
     },
     "execution_count": 49,
     "metadata": {},
     "output_type": "execute_result"
    }
   ],
   "source": [
    "force"
   ]
  },
  {
   "cell_type": "code",
   "execution_count": 52,
   "metadata": {},
   "outputs": [],
   "source": [
    "flipped_depths = np.flip(depth)"
   ]
  },
  {
   "cell_type": "code",
   "execution_count": 53,
   "metadata": {},
   "outputs": [
    {
     "data": {
      "text/plain": [
       "array([17.17689168, 15.58177719, 13.623686  , 11.39831608,  9.22901353,\n",
       "        7.13965184,  4.78278572,  3.58053928,  1.82388369,  0.03767725])"
      ]
     },
     "execution_count": 53,
     "metadata": {},
     "output_type": "execute_result"
    }
   ],
   "source": [
    "flipped_depths"
   ]
  },
  {
   "cell_type": "code",
   "execution_count": 54,
   "metadata": {},
   "outputs": [],
   "source": [
    "depths_strings = [f\"{x:0.2f} cm\" for x in depth]"
   ]
  },
  {
   "cell_type": "code",
   "execution_count": 55,
   "metadata": {},
   "outputs": [
    {
     "data": {
      "text/plain": [
       "['0.04 cm',\n",
       " '1.82 cm',\n",
       " '3.58 cm',\n",
       " '4.78 cm',\n",
       " '7.14 cm',\n",
       " '9.23 cm',\n",
       " '11.40 cm',\n",
       " '13.62 cm',\n",
       " '15.58 cm',\n",
       " '17.18 cm']"
      ]
     },
     "execution_count": 55,
     "metadata": {},
     "output_type": "execute_result"
    }
   ],
   "source": [
    "depths_strings"
   ]
  },
  {
   "cell_type": "code",
   "execution_count": 56,
   "metadata": {},
   "outputs": [
    {
     "data": {
      "text/plain": [
       "<HDF5 dataset \"absorbance_depth\": shape (10, 163), type \"<f8\">"
      ]
     },
     "execution_count": 56,
     "metadata": {},
     "output_type": "execute_result"
    }
   ],
   "source": [
    "dset"
   ]
  },
  {
   "cell_type": "code",
   "execution_count": 57,
   "metadata": {},
   "outputs": [],
   "source": [
    "\n",
    "dset_string = \"derived/absorbance_depth_timestamps\"\n",
    "dset_timestamps = f[f\"{session}/{insertion}/{dset_string}\"]"
   ]
  },
  {
   "cell_type": "code",
   "execution_count": 58,
   "metadata": {},
   "outputs": [
    {
     "data": {
      "text/plain": [
       "<HDF5 dataset \"absorbance_depth_timestamps\": shape (10,), type \"<i8\">"
      ]
     },
     "execution_count": 58,
     "metadata": {},
     "output_type": "execute_result"
    }
   ],
   "source": [
    "dset_timestamps"
   ]
  },
  {
   "cell_type": "code",
   "execution_count": 60,
   "metadata": {},
   "outputs": [
    {
     "data": {
      "text/plain": [
       "array([1615813872411757000, 1615813873438816000, 1615813874464170000,\n",
       "       1615813875489542000, 1615813876517770000, 1615813877542526000,\n",
       "       1615813878566082000, 1615813879586060000, 1615813880603319000,\n",
       "       1615813881629937000])"
      ]
     },
     "execution_count": 60,
     "metadata": {},
     "output_type": "execute_result"
    }
   ],
   "source": [
    "dset_timestamps[:]"
   ]
  },
  {
   "cell_type": "code",
   "execution_count": 61,
   "metadata": {},
   "outputs": [],
   "source": [
    "def get_current_time():\n",
    "    return np.datetime64(datetime.datetime.now()).astype(np.int64)\n",
    "\n",
    "\n",
    "def timestamp_list_to_pandas_timestamps(timestamp_list):\n",
    "    series = pd.Series(timestamp_list).astype('<M8[us]')\n",
    "    return series\n"
   ]
  },
  {
   "cell_type": "code",
   "execution_count": 64,
   "metadata": {},
   "outputs": [],
   "source": [
    "my_time = get_current_time()"
   ]
  },
  {
   "cell_type": "code",
   "execution_count": 65,
   "metadata": {},
   "outputs": [
    {
     "data": {
      "text/plain": [
       "1615888924848313"
      ]
     },
     "execution_count": 65,
     "metadata": {},
     "output_type": "execute_result"
    }
   ],
   "source": [
    "my_time"
   ]
  },
  {
   "cell_type": "code",
   "execution_count": 67,
   "metadata": {},
   "outputs": [],
   "source": [
    "my_time2 = get_current_time()"
   ]
  },
  {
   "cell_type": "code",
   "execution_count": 68,
   "metadata": {},
   "outputs": [],
   "source": [
    "my_list = [my_time, my_time2]"
   ]
  },
  {
   "cell_type": "code",
   "execution_count": 69,
   "metadata": {},
   "outputs": [],
   "source": [
    "pd_list = timestamp_list_to_pandas_timestamps(my_list)"
   ]
  },
  {
   "cell_type": "code",
   "execution_count": 70,
   "metadata": {},
   "outputs": [
    {
     "data": {
      "text/plain": [
       "0   2021-03-16 10:02:04.848313\n",
       "1   2021-03-16 10:02:37.702008\n",
       "dtype: datetime64[ns]"
      ]
     },
     "execution_count": 70,
     "metadata": {},
     "output_type": "execute_result"
    }
   ],
   "source": [
    "pd_list"
   ]
  },
  {
   "cell_type": "code",
   "execution_count": 72,
   "metadata": {},
   "outputs": [
    {
     "data": {
      "text/plain": [
       "array([1615888924848313000, 1615888957702008000])"
      ]
     },
     "execution_count": 72,
     "metadata": {},
     "output_type": "execute_result"
    }
   ],
   "source": [
    "pd_list.values.astype(np.int64)"
   ]
  },
  {
   "cell_type": "code",
   "execution_count": 73,
   "metadata": {},
   "outputs": [
    {
     "data": {
      "text/plain": [
       "array(['2021-03-16T10:02:04.848313000', '2021-03-16T10:02:37.702008000'],\n",
       "      dtype='datetime64[ns]')"
      ]
     },
     "execution_count": 73,
     "metadata": {},
     "output_type": "execute_result"
    }
   ],
   "source": [
    "pd_list.values"
   ]
  },
  {
   "cell_type": "code",
   "execution_count": 74,
   "metadata": {},
   "outputs": [
    {
     "data": {
      "text/plain": [
       "array(['2021-03-16T10:02:04.848313000', '2021-03-16T10:02:37.702008000'],\n",
       "      dtype='datetime64[ns]')"
      ]
     },
     "execution_count": 74,
     "metadata": {},
     "output_type": "execute_result"
    }
   ],
   "source": [
    "pd_list.to_numpy()"
   ]
  },
  {
   "cell_type": "code",
   "execution_count": 79,
   "metadata": {},
   "outputs": [
    {
     "data": {
      "text/plain": [
       "pandas.core.series.Series"
      ]
     },
     "execution_count": 79,
     "metadata": {},
     "output_type": "execute_result"
    }
   ],
   "source": [
    "type(pd_list)"
   ]
  },
  {
   "cell_type": "code",
   "execution_count": 80,
   "metadata": {},
   "outputs": [
    {
     "data": {
      "text/plain": [
       "array([1.61588892e+15, 1.61588896e+15])"
      ]
     },
     "execution_count": 80,
     "metadata": {},
     "output_type": "execute_result"
    }
   ],
   "source": [
    "pd_list.values.astype(np.int64)/1000"
   ]
  },
  {
   "cell_type": "code",
   "execution_count": 83,
   "metadata": {},
   "outputs": [
    {
     "ename": "AttributeError",
     "evalue": "'Timestamp' object has no attribute 'values'",
     "output_type": "error",
     "traceback": [
      "\u001b[0;31m---------------------------------------------------------------------------\u001b[0m",
      "\u001b[0;31mAttributeError\u001b[0m                            Traceback (most recent call last)",
      "\u001b[0;32m<ipython-input-83-9d4d364df1b6>\u001b[0m in \u001b[0;36m<module>\u001b[0;34m\u001b[0m\n\u001b[0;32m----> 1\u001b[0;31m \u001b[0mpd_list\u001b[0m\u001b[0;34m[\u001b[0m\u001b[0;36m0\u001b[0m\u001b[0;34m]\u001b[0m\u001b[0;34m.\u001b[0m\u001b[0mvalues\u001b[0m\u001b[0;34m.\u001b[0m\u001b[0mastype\u001b[0m\u001b[0;34m(\u001b[0m\u001b[0mnp\u001b[0m\u001b[0;34m.\u001b[0m\u001b[0mint64\u001b[0m\u001b[0;34m)\u001b[0m\u001b[0;34m/\u001b[0m\u001b[0;36m1000\u001b[0m\u001b[0;34m\u001b[0m\u001b[0;34m\u001b[0m\u001b[0m\n\u001b[0m",
      "\u001b[0;31mAttributeError\u001b[0m: 'Timestamp' object has no attribute 'values'"
     ]
    }
   ],
   "source": [
    "pd_list[0].values.astype(np.int64)/1000"
   ]
  },
  {
   "cell_type": "code",
   "execution_count": 89,
   "metadata": {},
   "outputs": [
    {
     "data": {
      "text/plain": [
       "array(['2021-03-16T10:02:04.848313000', '2021-03-16T10:02:37.702008000'],\n",
       "      dtype='datetime64[ns]')"
      ]
     },
     "execution_count": 89,
     "metadata": {},
     "output_type": "execute_result"
    }
   ],
   "source": [
    "pd_list.values"
   ]
  },
  {
   "cell_type": "code",
   "execution_count": 92,
   "metadata": {},
   "outputs": [
    {
     "data": {
      "text/plain": [
       "array([1615888924848313, 1615888957702008])"
      ]
     },
     "execution_count": 92,
     "metadata": {},
     "output_type": "execute_result"
    }
   ],
   "source": [
    "pd_list.values.astype('<M8[us]').astype(np.int64)"
   ]
  },
  {
   "cell_type": "code",
   "execution_count": 94,
   "metadata": {},
   "outputs": [],
   "source": [
    "attrib_dict = {'session_name': \"hi\",\n",
    "              'session_location': \"here\",\n",
    "              'session_date': \"today\"}"
   ]
  },
  {
   "cell_type": "code",
   "execution_count": 96,
   "metadata": {},
   "outputs": [
    {
     "name": "stdout",
     "output_type": "stream",
     "text": [
      "session_name hi\n",
      "session_location here\n",
      "session_date today\n"
     ]
    }
   ],
   "source": [
    "for key, attribute in attrib_dict.items():\n",
    "    print(key, attribute)"
   ]
  },
  {
   "cell_type": "code",
   "execution_count": 97,
   "metadata": {},
   "outputs": [],
   "source": [
    "f.close()"
   ]
  },
  {
   "cell_type": "code",
   "execution_count": null,
   "metadata": {},
   "outputs": [],
   "source": []
  }
 ],
 "metadata": {
  "kernelspec": {
   "display_name": "Python 3",
   "language": "python",
   "name": "python3"
  },
  "language_info": {
   "codemirror_mode": {
    "name": "ipython",
    "version": 3
   },
   "file_extension": ".py",
   "mimetype": "text/x-python",
   "name": "python",
   "nbconvert_exporter": "python",
   "pygments_lexer": "ipython3",
   "version": "3.8.5"
  }
 },
 "nbformat": 4,
 "nbformat_minor": 4
}
